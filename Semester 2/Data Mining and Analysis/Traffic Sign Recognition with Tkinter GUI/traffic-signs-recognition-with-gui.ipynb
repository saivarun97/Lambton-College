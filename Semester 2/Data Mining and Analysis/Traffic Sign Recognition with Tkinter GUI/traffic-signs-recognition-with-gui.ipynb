{
 "cells": [
  {
   "cell_type": "markdown",
   "metadata": {},
   "source": [
    "# 2022S CBD 3335 2 [B121] Data Mining and Analysis - Assignment 2"
   ]
  },
  {
   "cell_type": "markdown",
   "metadata": {},
   "source": [
    "## Group Members\n",
    "\n",
    "##### Bhanu Prakash Mahadevuni C0850515 \n",
    "##### Deeksha Naikap C0835440\n",
    "##### Pramod Reddy Gurrala C0850493\n",
    "##### Sai Varun Kollipara C0828403"
   ]
  },
  {
   "cell_type": "markdown",
   "metadata": {},
   "source": [
    "### Dataset"
   ]
  },
  {
   "cell_type": "markdown",
   "metadata": {},
   "source": [
    "The dataset contains more than 50,000 images of different traffic signs. It is further classified into 43 different classes."
   ]
  },
  {
   "cell_type": "markdown",
   "metadata": {},
   "source": [
    "# Libraries"
   ]
  },
  {
   "cell_type": "code",
   "execution_count": 1,
   "metadata": {
    "_cell_guid": "b1076dfc-b9ad-4769-8c92-a6c4dae69d19",
    "_uuid": "8f2839f25d086af736a60e9eeb907d3b93b6e0e5",
    "execution": {
     "iopub.execute_input": "2022-08-08T03:33:34.862017Z",
     "iopub.status.busy": "2022-08-08T03:33:34.861726Z",
     "iopub.status.idle": "2022-08-08T03:33:40.052963Z",
     "shell.execute_reply": "2022-08-08T03:33:40.052179Z",
     "shell.execute_reply.started": "2022-08-08T03:33:34.861988Z"
    },
    "scrolled": true
   },
   "outputs": [],
   "source": [
    "import numpy as np\n",
    "import pandas as pd\n",
    "import matplotlib.pyplot as plt\n",
    "\n",
    "import os\n",
    "\n",
    "from PIL import Image "
   ]
  },
  {
   "cell_type": "code",
   "execution_count": 2,
   "metadata": {
    "execution": {
     "iopub.execute_input": "2022-08-08T03:35:27.210406Z",
     "iopub.status.busy": "2022-08-08T03:35:27.210030Z",
     "iopub.status.idle": "2022-08-08T03:35:27.214049Z",
     "shell.execute_reply": "2022-08-08T03:35:27.213192Z",
     "shell.execute_reply.started": "2022-08-08T03:35:27.210377Z"
    }
   },
   "outputs": [],
   "source": [
    "import tensorflow as tf\n",
    "from tensorflow.keras.utils import to_categorical"
   ]
  },
  {
   "cell_type": "code",
   "execution_count": 3,
   "metadata": {},
   "outputs": [],
   "source": [
    "from sklearn.model_selection import train_test_split\n",
    "from sklearn.metrics import accuracy_score"
   ]
  },
  {
   "cell_type": "code",
   "execution_count": 4,
   "metadata": {},
   "outputs": [],
   "source": [
    "from keras.models import Sequential, load_model\n",
    "from keras.layers import Conv2D, MaxPool2D, Dense, Flatten, Dropout"
   ]
  },
  {
   "cell_type": "markdown",
   "metadata": {},
   "source": [
    "# Load data"
   ]
  },
  {
   "cell_type": "code",
   "execution_count": 7,
   "metadata": {
    "_cell_guid": "79c7e3d0-c299-4dcb-8224-4455121ee9b0",
    "_uuid": "d629ff2d2480ee46fbb7e2d37f6b5fab8052498a",
    "execution": {
     "iopub.execute_input": "2022-08-08T03:36:25.049405Z",
     "iopub.status.busy": "2022-08-08T03:36:25.049033Z",
     "iopub.status.idle": "2022-08-08T03:40:58.592769Z",
     "shell.execute_reply": "2022-08-08T03:40:58.591942Z",
     "shell.execute_reply.started": "2022-08-08T03:36:25.049371Z"
    }
   },
   "outputs": [],
   "source": [
    "# List to store image data\n",
    "data = []\n",
    "\n",
    "# List to store image labels (classes)\n",
    "labels = []\n",
    "\n",
    "# Number of classes\n",
    "classes = 43\n",
    "\n",
    "# Current path of the dataset\n",
    "current_path = './'"
   ]
  },
  {
   "cell_type": "code",
   "execution_count": 8,
   "metadata": {},
   "outputs": [],
   "source": [
    "# Iterates between 0 and 42 (43 classes)\n",
    "for i in range(classes):\n",
    "    \n",
    "    # Path of each image\n",
    "    path = os.path.join(current_path, 'train', str(i))\n",
    "    images = os.listdir(path)\n",
    "    \n",
    "    # Iterates between each image\n",
    "    for a in images:\n",
    "        # Try to load the images\n",
    "        try:\n",
    "            # Open the image\n",
    "            image = Image.open(path + '/' + a)\n",
    "            # Resizes the image to 30x30\n",
    "            image = image.resize((30, 30))\n",
    "            # Turns the image into an array\n",
    "            image = np.array(image)\n",
    "            # Append the image to \"data\" list\n",
    "            data.append(image)\n",
    "            # Append the label to \"labels\" list\n",
    "            labels.append(i)\n",
    "        # If it doesn't work, shows an error message\n",
    "        except:\n",
    "            print('Error loading images!')"
   ]
  },
  {
   "cell_type": "code",
   "execution_count": 9,
   "metadata": {},
   "outputs": [],
   "source": [
    "# Turns lists into array\n",
    "data = np.array(data)\n",
    "labels = np.array(labels)"
   ]
  },
  {
   "cell_type": "code",
   "execution_count": 10,
   "metadata": {
    "execution": {
     "iopub.execute_input": "2022-08-08T03:40:58.594832Z",
     "iopub.status.busy": "2022-08-08T03:40:58.594508Z",
     "iopub.status.idle": "2022-08-08T03:40:58.600310Z",
     "shell.execute_reply": "2022-08-08T03:40:58.599411Z",
     "shell.execute_reply.started": "2022-08-08T03:40:58.594799Z"
    }
   },
   "outputs": [
    {
     "name": "stdout",
     "output_type": "stream",
     "text": [
      "Data Shape:  (39209, 30, 30, 3)\n",
      "Labels Shape (39209,)\n"
     ]
    }
   ],
   "source": [
    "# Printing the shape of the data and labels\n",
    "print('Data Shape: ', data.shape)\n",
    "print('Labels Shape', labels.shape)"
   ]
  },
  {
   "cell_type": "markdown",
   "metadata": {},
   "source": [
    "# Split the data"
   ]
  },
  {
   "cell_type": "code",
   "execution_count": 11,
   "metadata": {
    "execution": {
     "iopub.execute_input": "2022-08-08T03:40:58.602140Z",
     "iopub.status.busy": "2022-08-08T03:40:58.601607Z",
     "iopub.status.idle": "2022-08-08T03:40:58.654649Z",
     "shell.execute_reply": "2022-08-08T03:40:58.653921Z",
     "shell.execute_reply.started": "2022-08-08T03:40:58.602097Z"
    }
   },
   "outputs": [
    {
     "name": "stdout",
     "output_type": "stream",
     "text": [
      "(31367, 30, 30, 3) | (7842, 30, 30, 3) | (31367,) | (7842,)\n"
     ]
    }
   ],
   "source": [
    "# 80% to Train and 20% to Test\n",
    "X_train, X_test, y_train, y_test = train_test_split(data, labels, test_size = 0.2, random_state=42)\n",
    "\n",
    "print(X_train.shape,'|', X_test.shape,'|',y_train.shape,'|',y_test.shape)"
   ]
  },
  {
   "cell_type": "code",
   "execution_count": 12,
   "metadata": {},
   "outputs": [],
   "source": [
    "# Use \"to_categorical\" method to convert the labels present in y_train and y_test into one-hot encoding\n",
    "y_train = to_categorical(y_train, 43)\n",
    "y_test = to_categorical(y_test, 43)"
   ]
  },
  {
   "cell_type": "markdown",
   "metadata": {},
   "source": [
    "# Modeling"
   ]
  },
  {
   "cell_type": "markdown",
   "metadata": {},
   "source": [
    "The architecture of our model is:\n",
    "\n",
    "- **2** Conv2D layer (filter=32, kernel_size=(5,5), activation=”relu”)\n",
    "- MaxPool2D layer ( pool_size=(2,2))\n",
    "- Dropout layer (rate=0.25)\n",
    "- **2** Conv2D layer (filter=64, kernel_size=(3,3), activation=”relu”)\n",
    "- MaxPool2D layer ( pool_size=(2,2))\n",
    "- Dropout layer (rate=0.25)\n",
    "- Flatten layer to squeeze the layers into 1 dimension\n",
    "- Dense Fully connected layer (256 nodes, activation=”relu”)\n",
    "- Dropout layer (rate=0.5)\n",
    "- Dense layer (43 nodes, activation=”softmax”)"
   ]
  },
  {
   "cell_type": "code",
   "execution_count": 13,
   "metadata": {
    "execution": {
     "iopub.execute_input": "2022-08-08T03:40:58.657468Z",
     "iopub.status.busy": "2022-08-08T03:40:58.656926Z",
     "iopub.status.idle": "2022-08-08T03:41:01.289993Z",
     "shell.execute_reply": "2022-08-08T03:41:01.289121Z",
     "shell.execute_reply.started": "2022-08-08T03:40:58.657429Z"
    }
   },
   "outputs": [],
   "source": [
    "model = Sequential()\n",
    "\n",
    "model.add(Conv2D(32, kernel_size=(5, 5), activation='relu', input_shape=X_train.shape[1:]))\n",
    "model.add(Conv2D(32, kernel_size=(5, 5), activation='relu'))\n",
    "model.add(MaxPool2D(2,2))\n",
    "model.add(Dropout(0.25))\n",
    "\n",
    "model.add(Conv2D(64, kernel_size=(3, 3), activation='relu'))\n",
    "model.add(Conv2D(64, kernel_size=(3, 3), activation='relu'))\n",
    "model.add(MaxPool2D(2, 2))\n",
    "model.add(Dropout(0.25))\n",
    "\n",
    "model.add(Flatten())\n",
    "model.add(Dropout(0.5))\n",
    "\n",
    "model.add(Dense(43, activation='softmax'))"
   ]
  },
  {
   "cell_type": "markdown",
   "metadata": {},
   "source": [
    "### Compile the model"
   ]
  },
  {
   "cell_type": "code",
   "execution_count": 14,
   "metadata": {
    "execution": {
     "iopub.execute_input": "2022-08-08T03:41:01.294093Z",
     "iopub.status.busy": "2022-08-08T03:41:01.293824Z",
     "iopub.status.idle": "2022-08-08T03:41:01.308297Z",
     "shell.execute_reply": "2022-08-08T03:41:01.307567Z",
     "shell.execute_reply.started": "2022-08-08T03:41:01.294057Z"
    }
   },
   "outputs": [],
   "source": [
    "model.compile(optimizer='adam', loss='categorical_crossentropy', metrics=['accuracy'])"
   ]
  },
  {
   "cell_type": "markdown",
   "metadata": {},
   "source": [
    "### Train and validate the model"
   ]
  },
  {
   "cell_type": "code",
   "execution_count": 15,
   "metadata": {
    "execution": {
     "iopub.execute_input": "2022-08-08T03:41:06.402171Z",
     "iopub.status.busy": "2022-08-08T03:41:06.401838Z",
     "iopub.status.idle": "2022-08-08T03:41:46.446450Z",
     "shell.execute_reply": "2022-08-08T03:41:46.445608Z",
     "shell.execute_reply.started": "2022-08-08T03:41:06.402138Z"
    }
   },
   "outputs": [
    {
     "name": "stdout",
     "output_type": "stream",
     "text": [
      "Epoch 1/15\n",
      "491/491 [==============================] - 30s 61ms/step - loss: 2.5440 - accuracy: 0.3905 - val_loss: 0.9465 - val_accuracy: 0.8166\n",
      "Epoch 2/15\n",
      "491/491 [==============================] - 33s 67ms/step - loss: 1.1097 - accuracy: 0.6879 - val_loss: 0.4938 - val_accuracy: 0.8965\n",
      "Epoch 3/15\n",
      "491/491 [==============================] - 32s 64ms/step - loss: 0.8417 - accuracy: 0.7580 - val_loss: 0.3823 - val_accuracy: 0.9110\n",
      "Epoch 4/15\n",
      "491/491 [==============================] - 34s 68ms/step - loss: 0.6986 - accuracy: 0.7946 - val_loss: 0.2857 - val_accuracy: 0.9288\n",
      "Epoch 5/15\n",
      "491/491 [==============================] - 33s 67ms/step - loss: 0.5464 - accuracy: 0.8395 - val_loss: 0.2033 - val_accuracy: 0.9522\n",
      "Epoch 6/15\n",
      "491/491 [==============================] - 33s 68ms/step - loss: 0.4219 - accuracy: 0.8772 - val_loss: 0.1720 - val_accuracy: 0.9517\n",
      "Epoch 7/15\n",
      "491/491 [==============================] - 33s 67ms/step - loss: 0.3720 - accuracy: 0.8908 - val_loss: 0.1380 - val_accuracy: 0.9672\n",
      "Epoch 8/15\n",
      "491/491 [==============================] - 32s 66ms/step - loss: 0.3399 - accuracy: 0.8986 - val_loss: 0.1231 - val_accuracy: 0.9675\n",
      "Epoch 9/15\n",
      "491/491 [==============================] - 32s 66ms/step - loss: 0.2925 - accuracy: 0.9149 - val_loss: 0.0891 - val_accuracy: 0.9770\n",
      "Epoch 10/15\n",
      "491/491 [==============================] - 32s 65ms/step - loss: 0.2583 - accuracy: 0.9260 - val_loss: 0.0794 - val_accuracy: 0.9776\n",
      "Epoch 11/15\n",
      "491/491 [==============================] - 46s 94ms/step - loss: 0.2461 - accuracy: 0.9284 - val_loss: 0.0774 - val_accuracy: 0.9790\n",
      "Epoch 12/15\n",
      "491/491 [==============================] - 51s 104ms/step - loss: 0.2337 - accuracy: 0.9330 - val_loss: 0.1049 - val_accuracy: 0.9731\n",
      "Epoch 13/15\n",
      "491/491 [==============================] - 53s 109ms/step - loss: 0.2029 - accuracy: 0.9422 - val_loss: 0.0560 - val_accuracy: 0.9841\n",
      "Epoch 14/15\n",
      "491/491 [==============================] - 53s 108ms/step - loss: 0.2057 - accuracy: 0.9410 - val_loss: 0.0653 - val_accuracy: 0.9820\n",
      "Epoch 15/15\n",
      "491/491 [==============================] - 53s 108ms/step - loss: 0.1802 - accuracy: 0.9477 - val_loss: 0.0802 - val_accuracy: 0.9769\n"
     ]
    }
   ],
   "source": [
    "history = model.fit(X_train, y_train, batch_size=64, epochs=15, validation_data=(X_test, y_test))"
   ]
  },
  {
   "cell_type": "markdown",
   "metadata": {},
   "source": [
    "# Plot results"
   ]
  },
  {
   "cell_type": "code",
   "execution_count": 16,
   "metadata": {
    "execution": {
     "iopub.execute_input": "2022-08-08T03:41:46.450916Z",
     "iopub.status.busy": "2022-08-08T03:41:46.450422Z",
     "iopub.status.idle": "2022-08-08T03:41:46.870947Z",
     "shell.execute_reply": "2022-08-08T03:41:46.870074Z",
     "shell.execute_reply.started": "2022-08-08T03:41:46.450872Z"
    }
   },
   "outputs": [
    {
     "data": {
      "image/png": "[encoded data removed]",
      "text/plain": [
       "<Figure size 720x360 with 2 Axes>"
      ]
     },
     "metadata": {
      "needs_background": "light"
     },
     "output_type": "display_data"
    }
   ],
   "source": [
    "# Figure size\n",
    "plt.figure(figsize=(10, 5))\n",
    "\n",
    "plt.subplot(1, 2, 1)\n",
    "# Plot train and validation accuracy\n",
    "plt.plot(history.history['accuracy'], label='train accuracy')\n",
    "plt.plot(history.history['val_accuracy'], label='validation accuracy')\n",
    "plt.title('Accuracy')\n",
    "plt.xlabel('Epochs')\n",
    "plt.ylabel('Accuracy')\n",
    "plt.legend()\n",
    "\n",
    "\n",
    "plt.subplot(1, 2, 2)\n",
    "# Plot loss and validation loss\n",
    "plt.plot(history.history['loss'], label='train loss')\n",
    "plt.plot(history.history['val_loss'], label='validation loss')\n",
    "plt.title('Loss')\n",
    "plt.xlabel('Epochs')\n",
    "plt.ylabel('Loss')\n",
    "plt.legend()\n",
    "\n",
    "plt.tight_layout()\n",
    "plt.show()"
   ]
  },
  {
   "cell_type": "markdown",
   "metadata": {},
   "source": [
    "# Test model with test dataset"
   ]
  },
  {
   "cell_type": "markdown",
   "metadata": {},
   "source": [
    "### Read test data"
   ]
  },
  {
   "cell_type": "code",
   "execution_count": 17,
   "metadata": {
    "execution": {
     "iopub.execute_input": "2022-08-08T03:42:22.876234Z",
     "iopub.status.busy": "2022-08-08T03:42:22.875878Z",
     "iopub.status.idle": "2022-08-08T03:42:22.918603Z",
     "shell.execute_reply": "2022-08-08T03:42:22.917883Z",
     "shell.execute_reply.started": "2022-08-08T03:42:22.876202Z"
    }
   },
   "outputs": [
    {
     "data": {
      "text/html": [
       "<div>\n",
       "<style scoped>\n",
       "    .dataframe tbody tr th:only-of-type {\n",
       "        vertical-align: middle;\n",
       "    }\n",
       "\n",
       "    .dataframe tbody tr th {\n",
       "        vertical-align: top;\n",
       "    }\n",
       "\n",
       "    .dataframe thead th {\n",
       "        text-align: right;\n",
       "    }\n",
       "</style>\n",
       "<table border=\"1\" class=\"dataframe\">\n",
       "  <thead>\n",
       "    <tr style=\"text-align: right;\">\n",
       "      <th></th>\n",
       "      <th>Width</th>\n",
       "      <th>Height</th>\n",
       "      <th>Roi.X1</th>\n",
       "      <th>Roi.Y1</th>\n",
       "      <th>Roi.X2</th>\n",
       "      <th>Roi.Y2</th>\n",
       "      <th>ClassId</th>\n",
       "      <th>Path</th>\n",
       "    </tr>\n",
       "  </thead>\n",
       "  <tbody>\n",
       "    <tr>\n",
       "      <th>0</th>\n",
       "      <td>53</td>\n",
       "      <td>54</td>\n",
       "      <td>6</td>\n",
       "      <td>5</td>\n",
       "      <td>48</td>\n",
       "      <td>49</td>\n",
       "      <td>16</td>\n",
       "      <td>Test/00000.png</td>\n",
       "    </tr>\n",
       "    <tr>\n",
       "      <th>1</th>\n",
       "      <td>42</td>\n",
       "      <td>45</td>\n",
       "      <td>5</td>\n",
       "      <td>5</td>\n",
       "      <td>36</td>\n",
       "      <td>40</td>\n",
       "      <td>1</td>\n",
       "      <td>Test/00001.png</td>\n",
       "    </tr>\n",
       "    <tr>\n",
       "      <th>2</th>\n",
       "      <td>48</td>\n",
       "      <td>52</td>\n",
       "      <td>6</td>\n",
       "      <td>6</td>\n",
       "      <td>43</td>\n",
       "      <td>47</td>\n",
       "      <td>38</td>\n",
       "      <td>Test/00002.png</td>\n",
       "    </tr>\n",
       "    <tr>\n",
       "      <th>3</th>\n",
       "      <td>27</td>\n",
       "      <td>29</td>\n",
       "      <td>5</td>\n",
       "      <td>5</td>\n",
       "      <td>22</td>\n",
       "      <td>24</td>\n",
       "      <td>33</td>\n",
       "      <td>Test/00003.png</td>\n",
       "    </tr>\n",
       "    <tr>\n",
       "      <th>4</th>\n",
       "      <td>60</td>\n",
       "      <td>57</td>\n",
       "      <td>5</td>\n",
       "      <td>5</td>\n",
       "      <td>55</td>\n",
       "      <td>52</td>\n",
       "      <td>11</td>\n",
       "      <td>Test/00004.png</td>\n",
       "    </tr>\n",
       "  </tbody>\n",
       "</table>\n",
       "</div>"
      ],
      "text/plain": [
       "   Width  Height  Roi.X1  Roi.Y1  Roi.X2  Roi.Y2  ClassId            Path\n",
       "0     53      54       6       5      48      49       16  Test/00000.png\n",
       "1     42      45       5       5      36      40        1  Test/00001.png\n",
       "2     48      52       6       6      43      47       38  Test/00002.png\n",
       "3     27      29       5       5      22      24       33  Test/00003.png\n",
       "4     60      57       5       5      55      52       11  Test/00004.png"
      ]
     },
     "execution_count": 17,
     "metadata": {},
     "output_type": "execute_result"
    }
   ],
   "source": [
    "y_test = pd.read_csv('./Test.csv')\n",
    "y_test.head()"
   ]
  },
  {
   "cell_type": "markdown",
   "metadata": {},
   "source": [
    "Our dataset contains a **test-data** folder and in a **test.csv** file, we have the details related to the image path and their respective class labels."
   ]
  },
  {
   "cell_type": "markdown",
   "metadata": {},
   "source": [
    "### Evaluate"
   ]
  },
  {
   "cell_type": "code",
   "execution_count": 25,
   "metadata": {
    "execution": {
     "iopub.execute_input": "2022-08-08T03:42:37.677889Z",
     "iopub.status.busy": "2022-08-08T03:42:37.677522Z",
     "iopub.status.idle": "2022-08-08T03:44:17.750451Z",
     "shell.execute_reply": "2022-08-08T03:44:17.748877Z",
     "shell.execute_reply.started": "2022-08-08T03:42:37.677852Z"
    }
   },
   "outputs": [],
   "source": [
    "# Target\n",
    "labels = y_test['ClassId'].values"
   ]
  },
  {
   "cell_type": "code",
   "execution_count": 26,
   "metadata": {},
   "outputs": [],
   "source": [
    "# Test data path\n",
    "current_path = './'"
   ]
  },
  {
   "cell_type": "code",
   "execution_count": 27,
   "metadata": {},
   "outputs": [],
   "source": [
    "# Images path\n",
    "imgs = current_path + y_test['Path'].values"
   ]
  },
  {
   "cell_type": "code",
   "execution_count": 28,
   "metadata": {},
   "outputs": [],
   "source": [
    "# Store image data\n",
    "data = []"
   ]
  },
  {
   "cell_type": "code",
   "execution_count": 29,
   "metadata": {},
   "outputs": [],
   "source": [
    "for img in imgs:\n",
    "    # Open image\n",
    "    image = Image.open(img)\n",
    "    # Resize to 30x30\n",
    "    image = image.resize((30, 30))\n",
    "    # Append in \"data\" list\n",
    "    data.append(np.array(image))"
   ]
  },
  {
   "cell_type": "code",
   "execution_count": 30,
   "metadata": {},
   "outputs": [],
   "source": [
    "# Convert \"data\" list to array\n",
    "X_test = np.array(data)"
   ]
  },
  {
   "cell_type": "code",
   "execution_count": 31,
   "metadata": {},
   "outputs": [],
   "source": [
    "# Make predictions\n",
    "predict_x = model.predict(X_test)\n",
    "classes_x = np.argmax(predict_x,axis=1)"
   ]
  },
  {
   "cell_type": "code",
   "execution_count": 32,
   "metadata": {},
   "outputs": [
    {
     "name": "stdout",
     "output_type": "stream",
     "text": [
      "ACCURACY: 93.563 %\n"
     ]
    }
   ],
   "source": [
    "# Evaluate model\n",
    "print('ACCURACY: {} %'.format(round(accuracy_score(labels, classes_x) * 100, 3)))"
   ]
  },
  {
   "cell_type": "code",
   "execution_count": null,
   "metadata": {},
   "outputs": [],
   "source": []
  },
  {
   "cell_type": "markdown",
   "metadata": {},
   "source": [
    "# Save model"
   ]
  },
  {
   "cell_type": "code",
   "execution_count": 33,
   "metadata": {
    "execution": {
     "iopub.execute_input": "2022-08-08T03:44:17.752581Z",
     "iopub.status.busy": "2022-08-08T03:44:17.752236Z",
     "iopub.status.idle": "2022-08-08T03:44:17.795702Z",
     "shell.execute_reply": "2022-08-08T03:44:17.795007Z",
     "shell.execute_reply.started": "2022-08-08T03:44:17.752545Z"
    }
   },
   "outputs": [],
   "source": [
    "model.save('traffic_classifier.h5')"
   ]
  },
  {
   "cell_type": "markdown",
   "metadata": {},
   "source": [
    "# Considerations"
   ]
  },
  {
   "cell_type": "markdown",
   "metadata": {},
   "source": [
    "There is an accuracy of 93% while testing. Which can be improved by increasing the epochs."
   ]
  },
  {
   "cell_type": "markdown",
   "metadata": {},
   "source": [
    "# Program interface"
   ]
  },
  {
   "cell_type": "markdown",
   "metadata": {},
   "source": [
    "### Code"
   ]
  },
  {
   "cell_type": "code",
   "execution_count": 34,
   "metadata": {
    "jupyter": {
     "outputs_hidden": true
    }
   },
   "outputs": [],
   "source": [
    "# Libraries\n",
    "import tkinter as tk\n",
    "from tkinter import filedialog\n",
    "from tkinter import *\n",
    "from PIL import ImageTk, Image\n",
    "import numpy\n",
    "from keras.models import load_model"
   ]
  },
  {
   "cell_type": "code",
   "execution_count": 35,
   "metadata": {},
   "outputs": [],
   "source": [
    "# Load your model\n",
    "model = load_model('traffic_classifier.h5')"
   ]
  },
  {
   "cell_type": "code",
   "execution_count": 36,
   "metadata": {},
   "outputs": [],
   "source": [
    "# Dictionary to label all traffic signs class.\n",
    "classes = { 1:'Speed limit (20km/h)',\n",
    "            2:'Speed limit (30km/h)', \n",
    "            3:'Speed limit (50km/h)', \n",
    "            4:'Speed limit (60km/h)', \n",
    "            5:'Speed limit (70km/h)', \n",
    "            6:'Speed limit (80km/h)', \n",
    "            7:'End of speed limit (80km/h)', \n",
    "            8:'Speed limit (100km/h)', \n",
    "            9:'Speed limit (120km/h)', \n",
    "            10:'No passing', \n",
    "            11:'No passing veh over 3.5 tons', \n",
    "            12:'Right-of-way at intersection', \n",
    "            13:'Priority road', \n",
    "            14:'Yield', \n",
    "            15:'Stop', \n",
    "            16:'No vehicles', \n",
    "            17:'Veh > 3.5 tons prohibited', \n",
    "            18:'No entry', \n",
    "            19:'General caution', \n",
    "            20:'Dangerous curve left', \n",
    "            21:'Dangerous curve right', \n",
    "            22:'Double curve', \n",
    "            23:'Bumpy road', \n",
    "            24:'Slippery road', \n",
    "            25:'Road narrows on the right', \n",
    "            26:'Road work', \n",
    "            27:'Traffic signals', \n",
    "            28:'Pedestrians', \n",
    "            29:'Children crossing', \n",
    "            30:'Bicycles crossing', \n",
    "            31:'Beware of ice/snow',\n",
    "            32:'Wild animals crossing', \n",
    "            33:'End speed + passing limits', \n",
    "            34:'Turn right ahead', \n",
    "            35:'Turn left ahead', \n",
    "            36:'Ahead only', \n",
    "            37:'Go straight or right', \n",
    "            38:'Go straight or left', \n",
    "            39:'Keep right', \n",
    "            40:'Keep left', \n",
    "            41:'Roundabout mandatory', \n",
    "            42:'End of no passing', \n",
    "            43:'End no passing veh > 3.5 tons' }\n"
   ]
  },
  {
   "cell_type": "code",
   "execution_count": 37,
   "metadata": {},
   "outputs": [],
   "source": [
    "# Initialise GUI\n",
    "top=tk.Tk()\n",
    "\n",
    "# Window dimensions (800x600)\n",
    "top.geometry('800x600')\n",
    "\n",
    "# Window title\n",
    "top.title('Traffic sign classification')\n",
    "\n",
    "# Window background color\n",
    "top.configure(background='#CDCDCD')\n",
    "\n",
    "# Window label\n",
    "label=Label(top,background='#CDCDCD', font=('arial',15,'bold'))\n",
    "\n",
    "# Sign image\n",
    "sign_image = Label(top)"
   ]
  },
  {
   "cell_type": "code",
   "execution_count": 38,
   "metadata": {},
   "outputs": [],
   "source": [
    "# Function to classify image\n",
    "def classify(file_path):\n",
    "    global label_packed\n",
    "    \n",
    "    # Open the image file path\n",
    "    image = Image.open(file_path)\n",
    "    \n",
    "    # Resize the image\n",
    "    image = image.resize((30,30))\n",
    "    \n",
    "    # Inserts a new axis that will appear at the axis position in the expanded array shape\n",
    "    image = numpy.expand_dims(image, axis=0)\n",
    "    \n",
    "    # Convert to numpy array\n",
    "    image = numpy.array(image)\n",
    "    \n",
    "    # Make prediction  \n",
    "    pred = model.predict([image])[0]\n",
    "    classes_x = np.argmax(pred)\n",
    "    \n",
    "    sign = classes[classes_x+1]\n",
    "    print(sign)\n",
    "    label.configure(foreground='#011638', text=sign) "
   ]
  },
  {
   "cell_type": "code",
   "execution_count": 39,
   "metadata": {},
   "outputs": [],
   "source": [
    "# Function to show the \"classify\" button\n",
    "def show_classify_button(file_path):\n",
    "    # Create the button\n",
    "    classify_b=Button(top,text=\"Classify Image\",command=lambda: classify(file_path),padx=10,pady=5)\n",
    "    \n",
    "    # Configure button colors\n",
    "    classify_b.configure(background='#364156', foreground='white',font=('arial',10,'bold'))\n",
    "    \n",
    "    # Configure button place (location)\n",
    "    classify_b.place(relx=0.79,rely=0.46)"
   ]
  },
  {
   "cell_type": "code",
   "execution_count": 40,
   "metadata": {},
   "outputs": [],
   "source": [
    "# Function to upload image\n",
    "def upload_image():\n",
    "    try:\n",
    "        # Path of the image\n",
    "        file_path=filedialog.askopenfilename()\n",
    "        # Open file path\n",
    "        uploaded=Image.open(file_path)\n",
    "        uploaded.thumbnail(((top.winfo_width()/2.25),(top.winfo_height()/2.25)))\n",
    "        im=ImageTk.PhotoImage(uploaded)\n",
    "        sign_image.configure(image=im)\n",
    "        sign_image.image=im\n",
    "        label.configure(text='')\n",
    "        show_classify_button(file_path)\n",
    "    except:\n",
    "        pass"
   ]
  },
  {
   "cell_type": "code",
   "execution_count": 41,
   "metadata": {},
   "outputs": [],
   "source": [
    "# Create \"Upload\" button\n",
    "upload=Button(top,text=\"Upload an image\",command=upload_image,padx=10,pady=5)\n",
    "\n",
    "# \"Upload\" button colors and font\n",
    "upload.configure(background='#364156', foreground='white',font=('arial',10,'bold'))\n",
    "\n",
    "# Button location\n",
    "upload.pack(side=BOTTOM,pady=50)\n",
    "sign_image.pack(side=BOTTOM,expand=True)\n",
    "label.pack(side=BOTTOM,expand=True)\n",
    "\n",
    "# Window title text\n",
    "heading = Label(top, text=\"Know Your Traffic Sign\",pady=20, font=('arial',20,'bold'))\n",
    "\n",
    "# Window colors\n",
    "heading.configure(background='#CDCDCD',foreground='#364156')"
   ]
  },
  {
   "cell_type": "code",
   "execution_count": 42,
   "metadata": {},
   "outputs": [
    {
     "name": "stdout",
     "output_type": "stream",
     "text": [
      "No passing\n",
      "Speed limit (30km/h)\n",
      "No vehicles\n",
      "Yield\n"
     ]
    }
   ],
   "source": [
    "heading.pack()\n",
    "top.mainloop()"
   ]
  },
  {
   "cell_type": "code",
   "execution_count": null,
   "metadata": {},
   "outputs": [],
   "source": []
  }
 ],
 "metadata": {
  "kernelspec": {
   "display_name": "Python 3 (ipykernel)",
   "language": "python",
   "name": "python3"
  },
  "language_info": {
   "codemirror_mode": {
    "name": "ipython",
    "version": 3
   },
   "file_extension": ".py",
   "mimetype": "text/x-python",
   "name": "python",
   "nbconvert_exporter": "python",
   "pygments_lexer": "ipython3",
   "version": "3.9.7"
  }
 },
 "nbformat": 4,
 "nbformat_minor": 4
}
