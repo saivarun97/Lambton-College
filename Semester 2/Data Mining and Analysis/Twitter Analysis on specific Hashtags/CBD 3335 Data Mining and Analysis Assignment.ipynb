{
 "cells": [
  {
   "cell_type": "markdown",
   "id": "1a64988b",
   "metadata": {},
   "source": [
    "# CBD 3335 Data Mining and Analysis Assignment"
   ]
  },
  {
   "cell_type": "markdown",
   "id": "8f0addc9",
   "metadata": {},
   "source": [
    "### Group Members"
   ]
  },
  {
   "cell_type": "markdown",
   "id": "bf3df099",
   "metadata": {},
   "source": [
    "##### Bhanu Prakash Mahadevuni C0850515 \n",
    "##### Deeksha Naikap C0835440\n",
    "##### Pramod Reddy Gurrala C0850493\n",
    "##### Sai Varun Kollipara C0828403"
   ]
  },
  {
   "cell_type": "code",
   "execution_count": 1,
   "id": "c38f044c",
   "metadata": {},
   "outputs": [],
   "source": [
    "import tweepy as tw\n",
    "import pandas as pd\n",
    "import os"
   ]
  },
  {
   "cell_type": "code",
   "execution_count": 2,
   "id": "1a0f5ecf",
   "metadata": {},
   "outputs": [],
   "source": [
    "from datetime import date\n",
    "from datetime import datetime\n",
    "import time"
   ]
  },
  {
   "cell_type": "code",
   "execution_count": 3,
   "id": "9fc2d496",
   "metadata": {},
   "outputs": [],
   "source": [
    "ACCESS_TOKEN = \"1528781275615662083-zmUZvBkA2fQPHylftdSlkmcpME5KBw\"\n",
    "ACCESS_TOKEN_SECRET = \"srqCPBCkAEQErxQPpId2TmA5Qk8vBhrR5Cr2XfPbtazo7\"\n",
    "\n",
    "CONSUMER_API_KEY =  \"Ykh6aXczkLTW8Vx4lG8b74fSq\"\n",
    "CONSUMER_API_SECRET = \"7zphS0C8Ae1gIyf54nq529zPOg5OLhFpfDgVVLc5sIG2z4ipFP\""
   ]
  },
  {
   "cell_type": "markdown",
   "id": "c51331ac",
   "metadata": {},
   "source": [
    "### 1. Collecting data"
   ]
  },
  {
   "cell_type": "code",
   "execution_count": 5,
   "id": "92c91117",
   "metadata": {},
   "outputs": [],
   "source": [
    "# authentication label using twitter developer keys\n",
    "\n",
    "auth = tw.OAuthHandler(CONSUMER_API_KEY, CONSUMER_API_SECRET)\n",
    "auth.set_access_token(ACCESS_TOKEN, ACCESS_TOKEN_SECRET)\n",
    "\n",
    "\n",
    "api = tw.API(auth, wait_on_rate_limit=True)"
   ]
  },
  {
   "cell_type": "code",
   "execution_count": 6,
   "id": "756ff65c",
   "metadata": {},
   "outputs": [
    {
     "name": "stdout",
     "output_type": "stream",
     "text": [
      "[Status(_api=<tweepy.api.API object at 0x0000014F293D01F0>, _json={'created_at': 'Sat Jul 09 00:45:00 +0000 2022', 'id': 1545569676033392644, 'id_str': '1545569676033392644', 'text': 'For the first time, scientists have cataloged every different way that every known mineral can form and put all of… https://t.co/gsyOfUWA1K', 'truncated': True, 'entities': {'hashtags': [], 'symbols': [], 'user_mentions': [], 'urls': [{'url': 'https://t.co/gsyOfUWA1K', 'expanded_url': 'https://twitter.com/i/web/status/1545569676033392644', 'display_url': 'twitter.com/i/web/status/1…', 'indices': [116, 139]}]}, 'source': '<a href=\"http://www.socialnewsdesk.com\" rel=\"nofollow\">SocialNewsDesk</a>', 'in_reply_to_status_id': None, 'in_reply_to_status_id_str': None, 'in_reply_to_user_id': None, 'in_reply_to_user_id_str': None, 'in_reply_to_screen_name': None, 'user': {'id': 19402238, 'id_str': '19402238', 'name': 'Science News', 'screen_name': 'ScienceNews', 'location': 'Washington, DC', 'description': 'Covering the latest news in all fields of science. Publisher @society4science. See also @SNStudents.', 'url': 'https://t.co/qDpSL8ca1J', 'entities': {'url': {'urls': [{'url': 'https://t.co/qDpSL8ca1J', 'expanded_url': 'https://www.sciencenews.org', 'display_url': 'sciencenews.org', 'indices': [0, 23]}]}, 'description': {'urls': []}}, 'protected': False, 'followers_count': 4351480, 'friends_count': 593, 'listed_count': 20253, 'created_at': 'Fri Jan 23 16:56:32 +0000 2009', 'favourites_count': 595, 'utc_offset': None, 'time_zone': None, 'geo_enabled': False, 'verified': True, 'statuses_count': 65140, 'lang': None, 'contributors_enabled': False, 'is_translator': False, 'is_translation_enabled': False, 'profile_background_color': '00476F', 'profile_background_image_url': 'http://abs.twimg.com/images/themes/theme1/bg.png', 'profile_background_image_url_https': 'https://abs.twimg.com/images/themes/theme1/bg.png', 'profile_background_tile': False, 'profile_image_url': 'http://pbs.twimg.com/profile_images/1210648820541018113/j4qqEa6F_normal.png', 'profile_image_url_https': 'https://pbs.twimg.com/profile_images/1210648820541018113/j4qqEa6F_normal.png', 'profile_banner_url': 'https://pbs.twimg.com/profile_banners/19402238/1403559093', 'profile_link_color': '1F4363', 'profile_sidebar_border_color': 'CCCCCC', 'profile_sidebar_fill_color': 'E6E6E6', 'profile_text_color': '00476F', 'profile_use_background_image': False, 'has_extended_profile': False, 'default_profile': False, 'default_profile_image': False, 'following': True, 'follow_request_sent': False, 'notifications': False, 'translator_type': 'none', 'withheld_in_countries': []}, 'geo': None, 'coordinates': None, 'place': None, 'contributors': None, 'is_quote_status': False, 'retweet_count': 11, 'favorite_count': 23, 'favorited': False, 'retweeted': False, 'possibly_sensitive': False, 'possibly_sensitive_appealable': False, 'lang': 'en'}, created_at=datetime.datetime(2022, 7, 9, 0, 45, tzinfo=datetime.timezone.utc), id=1545569676033392644, id_str='1545569676033392644', text='For the first time, scientists have cataloged every different way that every known mineral can form and put all of… https://t.co/gsyOfUWA1K', truncated=True, entities={'hashtags': [], 'symbols': [], 'user_mentions': [], 'urls': [{'url': 'https://t.co/gsyOfUWA1K', 'expanded_url': 'https://twitter.com/i/web/status/1545569676033392644', 'display_url': 'twitter.com/i/web/status/1…', 'indices': [116, 139]}]}, source='SocialNewsDesk', source_url='http://www.socialnewsdesk.com', in_reply_to_status_id=None, in_reply_to_status_id_str=None, in_reply_to_user_id=None, in_reply_to_user_id_str=None, in_reply_to_screen_name=None, author=User(_api=<tweepy.api.API object at 0x0000014F293D01F0>, _json={'id': 19402238, 'id_str': '19402238', 'name': 'Science News', 'screen_name': 'ScienceNews', 'location': 'Washington, DC', 'description': 'Covering the latest news in all fields of science. Publisher @society4science. See also @SNStudents.', 'url': 'https://t.co/qDpSL8ca1J', 'entities': {'url': {'urls': [{'url': 'https://t.co/qDpSL8ca1J', 'expanded_url': 'https://www.sciencenews.org', 'display_url': 'sciencenews.org', 'indices': [0, 23]}]}, 'description': {'urls': []}}, 'protected': False, 'followers_count': 4351480, 'friends_count': 593, 'listed_count': 20253, 'created_at': 'Fri Jan 23 16:56:32 +0000 2009', 'favourites_count': 595, 'utc_offset': None, 'time_zone': None, 'geo_enabled': False, 'verified': True, 'statuses_count': 65140, 'lang': None, 'contributors_enabled': False, 'is_translator': False, 'is_translation_enabled': False, 'profile_background_color': '00476F', 'profile_background_image_url': 'http://abs.twimg.com/images/themes/theme1/bg.png', 'profile_background_image_url_https': 'https://abs.twimg.com/images/themes/theme1/bg.png', 'profile_background_tile': False, 'profile_image_url': 'http://pbs.twimg.com/profile_images/1210648820541018113/j4qqEa6F_normal.png', 'profile_image_url_https': 'https://pbs.twimg.com/profile_images/1210648820541018113/j4qqEa6F_normal.png', 'profile_banner_url': 'https://pbs.twimg.com/profile_banners/19402238/1403559093', 'profile_link_color': '1F4363', 'profile_sidebar_border_color': 'CCCCCC', 'profile_sidebar_fill_color': 'E6E6E6', 'profile_text_color': '00476F', 'profile_use_background_image': False, 'has_extended_profile': False, 'default_profile': False, 'default_profile_image': False, 'following': True, 'follow_request_sent': False, 'notifications': False, 'translator_type': 'none', 'withheld_in_countries': []}, id=19402238, id_str='19402238', name='Science News', screen_name='ScienceNews', location='Washington, DC', description='Covering the latest news in all fields of science. Publisher @society4science. See also @SNStudents.', url='https://t.co/qDpSL8ca1J', entities={'url': {'urls': [{'url': 'https://t.co/qDpSL8ca1J', 'expanded_url': 'https://www.sciencenews.org', 'display_url': 'sciencenews.org', 'indices': [0, 23]}]}, 'description': {'urls': []}}, protected=False, followers_count=4351480, friends_count=593, listed_count=20253, created_at=datetime.datetime(2009, 1, 23, 16, 56, 32, tzinfo=datetime.timezone.utc), favourites_count=595, utc_offset=None, time_zone=None, geo_enabled=False, verified=True, statuses_count=65140, lang=None, contributors_enabled=False, is_translator=False, is_translation_enabled=False, profile_background_color='00476F', profile_background_image_url='http://abs.twimg.com/images/themes/theme1/bg.png', profile_background_image_url_https='https://abs.twimg.com/images/themes/theme1/bg.png', profile_background_tile=False, profile_image_url='http://pbs.twimg.com/profile_images/1210648820541018113/j4qqEa6F_normal.png', profile_image_url_https='https://pbs.twimg.com/profile_images/1210648820541018113/j4qqEa6F_normal.png', profile_banner_url='https://pbs.twimg.com/profile_banners/19402238/1403559093', profile_link_color='1F4363', profile_sidebar_border_color='CCCCCC', profile_sidebar_fill_color='E6E6E6', profile_text_color='00476F', profile_use_background_image=False, has_extended_profile=False, default_profile=False, default_profile_image=False, following=True, follow_request_sent=False, notifications=False, translator_type='none', withheld_in_countries=[]), user=User(_api=<tweepy.api.API object at 0x0000014F293D01F0>, _json={'id': 19402238, 'id_str': '19402238', 'name': 'Science News', 'screen_name': 'ScienceNews', 'location': 'Washington, DC', 'description': 'Covering the latest news in all fields of science. Publisher @society4science. See also @SNStudents.', 'url': 'https://t.co/qDpSL8ca1J', 'entities': {'url': {'urls': [{'url': 'https://t.co/qDpSL8ca1J', 'expanded_url': 'https://www.sciencenews.org', 'display_url': 'sciencenews.org', 'indices': [0, 23]}]}, 'description': {'urls': []}}, 'protected': False, 'followers_count': 4351480, 'friends_count': 593, 'listed_count': 20253, 'created_at': 'Fri Jan 23 16:56:32 +0000 2009', 'favourites_count': 595, 'utc_offset': None, 'time_zone': None, 'geo_enabled': False, 'verified': True, 'statuses_count': 65140, 'lang': None, 'contributors_enabled': False, 'is_translator': False, 'is_translation_enabled': False, 'profile_background_color': '00476F', 'profile_background_image_url': 'http://abs.twimg.com/images/themes/theme1/bg.png', 'profile_background_image_url_https': 'https://abs.twimg.com/images/themes/theme1/bg.png', 'profile_background_tile': False, 'profile_image_url': 'http://pbs.twimg.com/profile_images/1210648820541018113/j4qqEa6F_normal.png', 'profile_image_url_https': 'https://pbs.twimg.com/profile_images/1210648820541018113/j4qqEa6F_normal.png', 'profile_banner_url': 'https://pbs.twimg.com/profile_banners/19402238/1403559093', 'profile_link_color': '1F4363', 'profile_sidebar_border_color': 'CCCCCC', 'profile_sidebar_fill_color': 'E6E6E6', 'profile_text_color': '00476F', 'profile_use_background_image': False, 'has_extended_profile': False, 'default_profile': False, 'default_profile_image': False, 'following': True, 'follow_request_sent': False, 'notifications': False, 'translator_type': 'none', 'withheld_in_countries': []}, id=19402238, id_str='19402238', name='Science News', screen_name='ScienceNews', location='Washington, DC', description='Covering the latest news in all fields of science. Publisher @society4science. See also @SNStudents.', url='https://t.co/qDpSL8ca1J', entities={'url': {'urls': [{'url': 'https://t.co/qDpSL8ca1J', 'expanded_url': 'https://www.sciencenews.org', 'display_url': 'sciencenews.org', 'indices': [0, 23]}]}, 'description': {'urls': []}}, protected=False, followers_count=4351480, friends_count=593, listed_count=20253, created_at=datetime.datetime(2009, 1, 23, 16, 56, 32, tzinfo=datetime.timezone.utc), favourites_count=595, utc_offset=None, time_zone=None, geo_enabled=False, verified=True, statuses_count=65140, lang=None, contributors_enabled=False, is_translator=False, is_translation_enabled=False, profile_background_color='00476F', profile_background_image_url='http://abs.twimg.com/images/themes/theme1/bg.png', profile_background_image_url_https='https://abs.twimg.com/images/themes/theme1/bg.png', profile_background_tile=False, profile_image_url='http://pbs.twimg.com/profile_images/1210648820541018113/j4qqEa6F_normal.png', profile_image_url_https='https://pbs.twimg.com/profile_images/1210648820541018113/j4qqEa6F_normal.png', profile_banner_url='https://pbs.twimg.com/profile_banners/19402238/1403559093', profile_link_color='1F4363', profile_sidebar_border_color='CCCCCC', profile_sidebar_fill_color='E6E6E6', profile_text_color='00476F', profile_use_background_image=False, has_extended_profile=False, default_profile=False, default_profile_image=False, following=True, follow_request_sent=False, notifications=False, translator_type='none', withheld_in_countries=[]), geo=None, coordinates=None, place=None, contributors=None, is_quote_status=False, retweet_count=11, favorite_count=23, favorited=False, retweeted=False, possibly_sensitive=False, possibly_sensitive_appealable=False, lang='en'), Status(_api=<tweepy.api.API object at 0x0000014F293D01F0>, _json={'created_at': 'Sat Jul 09 00:31:37 +0000 2022', 'id': 1545566308472950786, 'id_str': '1545566308472950786', 'text': \"See which waterfront escapes won't burn a hole in your wallet.\\n https://t.co/2PYgL3dYts\", 'truncated': False, 'entities': {'hashtags': [], 'symbols': [], 'user_mentions': [], 'urls': [{'url': 'https://t.co/2PYgL3dYts', 'expanded_url': 'https://nytv.to/00OV3', 'display_url': 'nytv.to/00OV3', 'indices': [64, 87]}]}, 'source': '<a href=\"http://www.naytev.com\" rel=\"nofollow\">Naytev</a>', 'in_reply_to_status_id': None, 'in_reply_to_status_id_str': None, 'in_reply_to_user_id': None, 'in_reply_to_user_id_str': None, 'in_reply_to_screen_name': None, 'user': {'id': 78077927, 'id_str': '78077927', 'name': 'U.S. News Travel', 'screen_name': 'USNewsTravel', 'location': 'Washington, DC', 'description': 'U.S. News Travel ranks hotels, destinations, top attractions, cruises + rewards programs. For travel tips, photos, inspiration + more: https://t.co/oTHKshftbv', 'url': 'https://t.co/oTHKshftbv', 'entities': {'url': {'urls': [{'url': 'https://t.co/oTHKshftbv', 'expanded_url': 'http://travel.usnews.com', 'display_url': 'travel.usnews.com', 'indices': [0, 23]}]}, 'description': {'urls': [{'url': 'https://t.co/oTHKshftbv', 'expanded_url': 'http://travel.usnews.com', 'display_url': 'travel.usnews.com', 'indices': [135, 158]}]}}, 'protected': False, 'followers_count': 40589, 'friends_count': 1882, 'listed_count': 589, 'created_at': 'Mon Sep 28 18:02:31 +0000 2009', 'favourites_count': 602, 'utc_offset': None, 'time_zone': None, 'geo_enabled': False, 'verified': True, 'statuses_count': 40687, 'lang': None, 'contributors_enabled': False, 'is_translator': False, 'is_translation_enabled': False, 'profile_background_color': '005EA6', 'profile_background_image_url': 'http://abs.twimg.com/images/themes/theme1/bg.png', 'profile_background_image_url_https': 'https://abs.twimg.com/images/themes/theme1/bg.png', 'profile_background_tile': True, 'profile_image_url': 'http://pbs.twimg.com/profile_images/1025459534632873984/Mey8vAXX_normal.jpg', 'profile_image_url_https': 'https://pbs.twimg.com/profile_images/1025459534632873984/Mey8vAXX_normal.jpg', 'profile_banner_url': 'https://pbs.twimg.com/profile_banners/78077927/1623441473', 'profile_link_color': '005EA6', 'profile_sidebar_border_color': 'FFFFFF', 'profile_sidebar_fill_color': '585659', 'profile_text_color': '9FB56C', 'profile_use_background_image': True, 'has_extended_profile': False, 'default_profile': False, 'default_profile_image': False, 'following': True, 'follow_request_sent': False, 'notifications': False, 'translator_type': 'none', 'withheld_in_countries': []}, 'geo': None, 'coordinates': None, 'place': None, 'contributors': None, 'is_quote_status': False, 'retweet_count': 0, 'favorite_count': 1, 'favorited': False, 'retweeted': False, 'possibly_sensitive': False, 'possibly_sensitive_appealable': False, 'lang': 'en'}, created_at=datetime.datetime(2022, 7, 9, 0, 31, 37, tzinfo=datetime.timezone.utc), id=1545566308472950786, id_str='1545566308472950786', text=\"See which waterfront escapes won't burn a hole in your wallet.\\n https://t.co/2PYgL3dYts\", truncated=False, entities={'hashtags': [], 'symbols': [], 'user_mentions': [], 'urls': [{'url': 'https://t.co/2PYgL3dYts', 'expanded_url': 'https://nytv.to/00OV3', 'display_url': 'nytv.to/00OV3', 'indices': [64, 87]}]}, source='Naytev', source_url='http://www.naytev.com', in_reply_to_status_id=None, in_reply_to_status_id_str=None, in_reply_to_user_id=None, in_reply_to_user_id_str=None, in_reply_to_screen_name=None, author=User(_api=<tweepy.api.API object at 0x0000014F293D01F0>, _json={'id': 78077927, 'id_str': '78077927', 'name': 'U.S. News Travel', 'screen_name': 'USNewsTravel', 'location': 'Washington, DC', 'description': 'U.S. News Travel ranks hotels, destinations, top attractions, cruises + rewards programs. For travel tips, photos, inspiration + more: https://t.co/oTHKshftbv', 'url': 'https://t.co/oTHKshftbv', 'entities': {'url': {'urls': [{'url': 'https://t.co/oTHKshftbv', 'expanded_url': 'http://travel.usnews.com', 'display_url': 'travel.usnews.com', 'indices': [0, 23]}]}, 'description': {'urls': [{'url': 'https://t.co/oTHKshftbv', 'expanded_url': 'http://travel.usnews.com', 'display_url': 'travel.usnews.com', 'indices': [135, 158]}]}}, 'protected': False, 'followers_count': 40589, 'friends_count': 1882, 'listed_count': 589, 'created_at': 'Mon Sep 28 18:02:31 +0000 2009', 'favourites_count': 602, 'utc_offset': None, 'time_zone': None, 'geo_enabled': False, 'verified': True, 'statuses_count': 40687, 'lang': None, 'contributors_enabled': False, 'is_translator': False, 'is_translation_enabled': False, 'profile_background_color': '005EA6', 'profile_background_image_url': 'http://abs.twimg.com/images/themes/theme1/bg.png', 'profile_background_image_url_https': 'https://abs.twimg.com/images/themes/theme1/bg.png', 'profile_background_tile': True, 'profile_image_url': 'http://pbs.twimg.com/profile_images/1025459534632873984/Mey8vAXX_normal.jpg', 'profile_image_url_https': 'https://pbs.twimg.com/profile_images/1025459534632873984/Mey8vAXX_normal.jpg', 'profile_banner_url': 'https://pbs.twimg.com/profile_banners/78077927/1623441473', 'profile_link_color': '005EA6', 'profile_sidebar_border_color': 'FFFFFF', 'profile_sidebar_fill_color': '585659', 'profile_text_color': '9FB56C', 'profile_use_background_image': True, 'has_extended_profile': False, 'default_profile': False, 'default_profile_image': False, 'following': True, 'follow_request_sent': False, 'notifications': False, 'translator_type': 'none', 'withheld_in_countries': []}, id=78077927, id_str='78077927', name='U.S. News Travel', screen_name='USNewsTravel', location='Washington, DC', description='U.S. News Travel ranks hotels, destinations, top attractions, cruises + rewards programs. For travel tips, photos, inspiration + more: https://t.co/oTHKshftbv', url='https://t.co/oTHKshftbv', entities={'url': {'urls': [{'url': 'https://t.co/oTHKshftbv', 'expanded_url': 'http://travel.usnews.com', 'display_url': 'travel.usnews.com', 'indices': [0, 23]}]}, 'description': {'urls': [{'url': 'https://t.co/oTHKshftbv', 'expanded_url': 'http://travel.usnews.com', 'display_url': 'travel.usnews.com', 'indices': [135, 158]}]}}, protected=False, followers_count=40589, friends_count=1882, listed_count=589, created_at=datetime.datetime(2009, 9, 28, 18, 2, 31, tzinfo=datetime.timezone.utc), favourites_count=602, utc_offset=None, time_zone=None, geo_enabled=False, verified=True, statuses_count=40687, lang=None, contributors_enabled=False, is_translator=False, is_translation_enabled=False, profile_background_color='005EA6', profile_background_image_url='http://abs.twimg.com/images/themes/theme1/bg.png', profile_background_image_url_https='https://abs.twimg.com/images/themes/theme1/bg.png', profile_background_tile=True, profile_image_url='http://pbs.twimg.com/profile_images/1025459534632873984/Mey8vAXX_normal.jpg', profile_image_url_https='https://pbs.twimg.com/profile_images/1025459534632873984/Mey8vAXX_normal.jpg', profile_banner_url='https://pbs.twimg.com/profile_banners/78077927/1623441473', profile_link_color='005EA6', profile_sidebar_border_color='FFFFFF', profile_sidebar_fill_color='585659', profile_text_color='9FB56C', profile_use_background_image=True, has_extended_profile=False, default_profile=False, default_profile_image=False, following=True, follow_request_sent=False, notifications=False, translator_type='none', withheld_in_countries=[]), user=User(_api=<tweepy.api.API object at 0x0000014F293D01F0>, _json={'id': 78077927, 'id_str': '78077927', 'name': 'U.S. News Travel', 'screen_name': 'USNewsTravel', 'location': 'Washington, DC', 'description': 'U.S. News Travel ranks hotels, destinations, top attractions, cruises + rewards programs. For travel tips, photos, inspiration + more: https://t.co/oTHKshftbv', 'url': 'https://t.co/oTHKshftbv', 'entities': {'url': {'urls': [{'url': 'https://t.co/oTHKshftbv', 'expanded_url': 'http://travel.usnews.com', 'display_url': 'travel.usnews.com', 'indices': [0, 23]}]}, 'description': {'urls': [{'url': 'https://t.co/oTHKshftbv', 'expanded_url': 'http://travel.usnews.com', 'display_url': 'travel.usnews.com', 'indices': [135, 158]}]}}, 'protected': False, 'followers_count': 40589, 'friends_count': 1882, 'listed_count': 589, 'created_at': 'Mon Sep 28 18:02:31 +0000 2009', 'favourites_count': 602, 'utc_offset': None, 'time_zone': None, 'geo_enabled': False, 'verified': True, 'statuses_count': 40687, 'lang': None, 'contributors_enabled': False, 'is_translator': False, 'is_translation_enabled': False, 'profile_background_color': '005EA6', 'profile_background_image_url': 'http://abs.twimg.com/images/themes/theme1/bg.png', 'profile_background_image_url_https': 'https://abs.twimg.com/images/themes/theme1/bg.png', 'profile_background_tile': True, 'profile_image_url': 'http://pbs.twimg.com/profile_images/1025459534632873984/Mey8vAXX_normal.jpg', 'profile_image_url_https': 'https://pbs.twimg.com/profile_images/1025459534632873984/Mey8vAXX_normal.jpg', 'profile_banner_url': 'https://pbs.twimg.com/profile_banners/78077927/1623441473', 'profile_link_color': '005EA6', 'profile_sidebar_border_color': 'FFFFFF', 'profile_sidebar_fill_color': '585659', 'profile_text_color': '9FB56C', 'profile_use_background_image': True, 'has_extended_profile': False, 'default_profile': False, 'default_profile_image': False, 'following': True, 'follow_request_sent': False, 'notifications': False, 'translator_type': 'none', 'withheld_in_countries': []}, id=78077927, id_str='78077927', name='U.S. News Travel', screen_name='USNewsTravel', location='Washington, DC', description='U.S. News Travel ranks hotels, destinations, top attractions, cruises + rewards programs. For travel tips, photos, inspiration + more: https://t.co/oTHKshftbv', url='https://t.co/oTHKshftbv', entities={'url': {'urls': [{'url': 'https://t.co/oTHKshftbv', 'expanded_url': 'http://travel.usnews.com', 'display_url': 'travel.usnews.com', 'indices': [0, 23]}]}, 'description': {'urls': [{'url': 'https://t.co/oTHKshftbv', 'expanded_url': 'http://travel.usnews.com', 'display_url': 'travel.usnews.com', 'indices': [135, 158]}]}}, protected=False, followers_count=40589, friends_count=1882, listed_count=589, created_at=datetime.datetime(2009, 9, 28, 18, 2, 31, tzinfo=datetime.timezone.utc), favourites_count=602, utc_offset=None, time_zone=None, geo_enabled=False, verified=True, statuses_count=40687, lang=None, contributors_enabled=False, is_translator=False, is_translation_enabled=False, profile_background_color='005EA6', profile_background_image_url='http://abs.twimg.com/images/themes/theme1/bg.png', profile_background_image_url_https='https://abs.twimg.com/images/themes/theme1/bg.png', profile_background_tile=True, profile_image_url='http://pbs.twimg.com/profile_images/1025459534632873984/Mey8vAXX_normal.jpg', profile_image_url_https='https://pbs.twimg.com/profile_images/1025459534632873984/Mey8vAXX_normal.jpg', profile_banner_url='https://pbs.twimg.com/profile_banners/78077927/1623441473', profile_link_color='005EA6', profile_sidebar_border_color='FFFFFF', profile_sidebar_fill_color='585659', profile_text_color='9FB56C', profile_use_background_image=True, has_extended_profile=False, default_profile=False, default_profile_image=False, following=True, follow_request_sent=False, notifications=False, translator_type='none', withheld_in_countries=[]), geo=None, coordinates=None, place=None, contributors=None, is_quote_status=False, retweet_count=0, favorite_count=1, favorited=False, retweeted=False, possibly_sensitive=False, possibly_sensitive_appealable=False, lang='en'), Status(_api=<tweepy.api.API object at 0x0000014F293D01F0>, _json={'created_at': 'Sat Jul 09 00:25:31 +0000 2022', 'id': 1545564771981877249, 'id_str': '1545564771981877249', 'text': 'RT @MikeSington: The sh*t, or ketchup, is hitting the wall. Washington Post: Steve Bannon wants to strike a deal and testify for the Jan 6…', 'truncated': False, 'entities': {'hashtags': [], 'symbols': [], 'user_mentions': [{'screen_name': 'MikeSington', 'name': 'Mike Sington', 'id': 2234760798, 'id_str': '2234760798', 'indices': [3, 15]}], 'urls': []}, 'source': '<a href=\"http://twitter.com/download/iphone\" rel=\"nofollow\">Twitter for iPhone</a>', 'in_reply_to_status_id': None, 'in_reply_to_status_id_str': None, 'in_reply_to_user_id': None, 'in_reply_to_user_id_str': None, 'in_reply_to_screen_name': None, 'user': {'id': 27493883, 'id_str': '27493883', 'name': 'Jon Cooper', 'screen_name': 'joncoopertweets', 'location': 'New York, Florida', 'description': 'Former National Finance Chair of Draft Biden 2016, Long Island Campaign Chair for @BarackObama & Majority Leader of Suffolk County Legislature, NY. @DukeU alum', 'url': None, 'entities': {'description': {'urls': []}}, 'protected': False, 'followers_count': 1026754, 'friends_count': 66952, 'listed_count': 3288, 'created_at': 'Sun Mar 29 20:12:52 +0000 2009', 'favourites_count': 297497, 'utc_offset': None, 'time_zone': None, 'geo_enabled': False, 'verified': True, 'statuses_count': 345163, 'lang': None, 'contributors_enabled': False, 'is_translator': False, 'is_translation_enabled': False, 'profile_background_color': 'C0DEED', 'profile_background_image_url': 'http://abs.twimg.com/images/themes/theme1/bg.png', 'profile_background_image_url_https': 'https://abs.twimg.com/images/themes/theme1/bg.png', 'profile_background_tile': False, 'profile_image_url': 'http://pbs.twimg.com/profile_images/1530358747511631874/G8bvUIHV_normal.jpg', 'profile_image_url_https': 'https://pbs.twimg.com/profile_images/1530358747511631874/G8bvUIHV_normal.jpg', 'profile_banner_url': 'https://pbs.twimg.com/profile_banners/27493883/1656387393', 'profile_link_color': '1DA1F2', 'profile_sidebar_border_color': 'C0DEED', 'profile_sidebar_fill_color': 'DDEEF6', 'profile_text_color': '333333', 'profile_use_background_image': True, 'has_extended_profile': True, 'default_profile': True, 'default_profile_image': False, 'following': True, 'follow_request_sent': False, 'notifications': False, 'translator_type': 'none', 'withheld_in_countries': []}, 'geo': None, 'coordinates': None, 'place': None, 'contributors': None, 'retweeted_status': {'created_at': 'Fri Jul 08 22:19:54 +0000 2022', 'id': 1545533160259104769, 'id_str': '1545533160259104769', 'text': 'The sh*t, or ketchup, is hitting the wall. Washington Post: Steve Bannon wants to strike a deal and testify for the… https://t.co/DmfjmddJcA', 'truncated': True, 'entities': {'hashtags': [], 'symbols': [], 'user_mentions': [], 'urls': [{'url': 'https://t.co/DmfjmddJcA', 'expanded_url': 'https://twitter.com/i/web/status/1545533160259104769', 'display_url': 'twitter.com/i/web/status/1…', 'indices': [117, 140]}]}, 'source': '<a href=\"http://twitter.com/#!/download/ipad\" rel=\"nofollow\">Twitter for iPad</a>', 'in_reply_to_status_id': None, 'in_reply_to_status_id_str': None, 'in_reply_to_user_id': None, 'in_reply_to_user_id_str': None, 'in_reply_to_screen_name': None, 'user': {'id': 2234760798, 'id_str': '2234760798', 'name': 'Mike Sington', 'screen_name': 'MikeSington', 'location': 'Los Angeles and the World', 'description': 'Senior Executive at NBCUniversal (Ret) • Hollywood’s Ultimate Insider • Entertainment, Pop Culture, and Lifestyle Expert', 'url': 'https://t.co/eWWX8sbwqj', 'entities': {'url': {'urls': [{'url': 'https://t.co/eWWX8sbwqj', 'expanded_url': 'http://mikesington.com', 'display_url': 'mikesington.com', 'indices': [0, 23]}]}, 'description': {'urls': []}}, 'protected': False, 'followers_count': 44348, 'friends_count': 214, 'listed_count': 380, 'created_at': 'Sat Dec 07 16:31:07 +0000 2013', 'favourites_count': 346374, 'utc_offset': None, 'time_zone': None, 'geo_enabled': True, 'verified': True, 'statuses_count': 52632, 'lang': None, 'contributors_enabled': False, 'is_translator': False, 'is_translation_enabled': False, 'profile_background_color': '131516', 'profile_background_image_url': 'http://abs.twimg.com/images/themes/theme14/bg.gif', 'profile_background_image_url_https': 'https://abs.twimg.com/images/themes/theme14/bg.gif', 'profile_background_tile': True, 'profile_image_url': 'http://pbs.twimg.com/profile_images/1477323161645445120/qo0F4JIq_normal.jpg', 'profile_image_url_https': 'https://pbs.twimg.com/profile_images/1477323161645445120/qo0F4JIq_normal.jpg', 'profile_banner_url': 'https://pbs.twimg.com/profile_banners/2234760798/1472952808', 'profile_link_color': '0101DF', 'profile_sidebar_border_color': 'FFFFFF', 'profile_sidebar_fill_color': 'DDEEF6', 'profile_text_color': '333333', 'profile_use_background_image': True, 'has_extended_profile': True, 'default_profile': False, 'default_profile_image': False, 'following': False, 'follow_request_sent': False, 'notifications': False, 'translator_type': 'none', 'withheld_in_countries': []}, 'geo': None, 'coordinates': None, 'place': {'id': '3b77caf94bfc81fe', 'url': 'https://api.twitter.com/1.1/geo/id/3b77caf94bfc81fe.json', 'place_type': 'city', 'name': 'Los Angeles', 'full_name': 'Los Angeles, CA', 'country_code': 'US', 'country': 'United States', 'contained_within': [], 'bounding_box': {'type': 'Polygon', 'coordinates': [[[-118.668404, 33.704538], [-118.155409, 33.704538], [-118.155409, 34.337041], [-118.668404, 34.337041]]]}, 'attributes': {}}, 'contributors': None, 'is_quote_status': False, 'retweet_count': 1784, 'favorite_count': 9332, 'favorited': False, 'retweeted': False, 'lang': 'en'}, 'is_quote_status': False, 'retweet_count': 1784, 'favorite_count': 0, 'favorited': False, 'retweeted': False, 'lang': 'en'}, created_at=datetime.datetime(2022, 7, 9, 0, 25, 31, tzinfo=datetime.timezone.utc), id=1545564771981877249, id_str='1545564771981877249', text='RT @MikeSington: The sh*t, or ketchup, is hitting the wall. Washington Post: Steve Bannon wants to strike a deal and testify for the Jan 6…', truncated=False, entities={'hashtags': [], 'symbols': [], 'user_mentions': [{'screen_name': 'MikeSington', 'name': 'Mike Sington', 'id': 2234760798, 'id_str': '2234760798', 'indices': [3, 15]}], 'urls': []}, source='Twitter for iPhone', source_url='http://twitter.com/download/iphone', in_reply_to_status_id=None, in_reply_to_status_id_str=None, in_reply_to_user_id=None, in_reply_to_user_id_str=None, in_reply_to_screen_name=None, author=User(_api=<tweepy.api.API object at 0x0000014F293D01F0>, _json={'id': 27493883, 'id_str': '27493883', 'name': 'Jon Cooper', 'screen_name': 'joncoopertweets', 'location': 'New York, Florida', 'description': 'Former National Finance Chair of Draft Biden 2016, Long Island Campaign Chair for @BarackObama & Majority Leader of Suffolk County Legislature, NY. @DukeU alum', 'url': None, 'entities': {'description': {'urls': []}}, 'protected': False, 'followers_count': 1026754, 'friends_count': 66952, 'listed_count': 3288, 'created_at': 'Sun Mar 29 20:12:52 +0000 2009', 'favourites_count': 297497, 'utc_offset': None, 'time_zone': None, 'geo_enabled': False, 'verified': True, 'statuses_count': 345163, 'lang': None, 'contributors_enabled': False, 'is_translator': False, 'is_translation_enabled': False, 'profile_background_color': 'C0DEED', 'profile_background_image_url': 'http://abs.twimg.com/images/themes/theme1/bg.png', 'profile_background_image_url_https': 'https://abs.twimg.com/images/themes/theme1/bg.png', 'profile_background_tile': False, 'profile_image_url': 'http://pbs.twimg.com/profile_images/1530358747511631874/G8bvUIHV_normal.jpg', 'profile_image_url_https': 'https://pbs.twimg.com/profile_images/1530358747511631874/G8bvUIHV_normal.jpg', 'profile_banner_url': 'https://pbs.twimg.com/profile_banners/27493883/1656387393', 'profile_link_color': '1DA1F2', 'profile_sidebar_border_color': 'C0DEED', 'profile_sidebar_fill_color': 'DDEEF6', 'profile_text_color': '333333', 'profile_use_background_image': True, 'has_extended_profile': True, 'default_profile': True, 'default_profile_image': False, 'following': True, 'follow_request_sent': False, 'notifications': False, 'translator_type': 'none', 'withheld_in_countries': []}, id=27493883, id_str='27493883', name='Jon Cooper', screen_name='joncoopertweets', location='New York, Florida', description='Former National Finance Chair of Draft Biden 2016, Long Island Campaign Chair for @BarackObama & Majority Leader of Suffolk County Legislature, NY. @DukeU alum', url=None, entities={'description': {'urls': []}}, protected=False, followers_count=1026754, friends_count=66952, listed_count=3288, created_at=datetime.datetime(2009, 3, 29, 20, 12, 52, tzinfo=datetime.timezone.utc), favourites_count=297497, utc_offset=None, time_zone=None, geo_enabled=False, verified=True, statuses_count=345163, lang=None, contributors_enabled=False, is_translator=False, is_translation_enabled=False, profile_background_color='C0DEED', profile_background_image_url='http://abs.twimg.com/images/themes/theme1/bg.png', profile_background_image_url_https='https://abs.twimg.com/images/themes/theme1/bg.png', profile_background_tile=False, profile_image_url='http://pbs.twimg.com/profile_images/1530358747511631874/G8bvUIHV_normal.jpg', profile_image_url_https='https://pbs.twimg.com/profile_images/1530358747511631874/G8bvUIHV_normal.jpg', profile_banner_url='https://pbs.twimg.com/profile_banners/27493883/1656387393', profile_link_color='1DA1F2', profile_sidebar_border_color='C0DEED', profile_sidebar_fill_color='DDEEF6', profile_text_color='333333', profile_use_background_image=True, has_extended_profile=True, default_profile=True, default_profile_image=False, following=True, follow_request_sent=False, notifications=False, translator_type='none', withheld_in_countries=[]), user=User(_api=<tweepy.api.API object at 0x0000014F293D01F0>, _json={'id': 27493883, 'id_str': '27493883', 'name': 'Jon Cooper', 'screen_name': 'joncoopertweets', 'location': 'New York, Florida', 'description': 'Former National Finance Chair of Draft Biden 2016, Long Island Campaign Chair for @BarackObama & Majority Leader of Suffolk County Legislature, NY. @DukeU alum', 'url': None, 'entities': {'description': {'urls': []}}, 'protected': False, 'followers_count': 1026754, 'friends_count': 66952, 'listed_count': 3288, 'created_at': 'Sun Mar 29 20:12:52 +0000 2009', 'favourites_count': 297497, 'utc_offset': None, 'time_zone': None, 'geo_enabled': False, 'verified': True, 'statuses_count': 345163, 'lang': None, 'contributors_enabled': False, 'is_translator': False, 'is_translation_enabled': False, 'profile_background_color': 'C0DEED', 'profile_background_image_url': 'http://abs.twimg.com/images/themes/theme1/bg.png', 'profile_background_image_url_https': 'https://abs.twimg.com/images/themes/theme1/bg.png', 'profile_background_tile': False, 'profile_image_url': 'http://pbs.twimg.com/profile_images/1530358747511631874/G8bvUIHV_normal.jpg', 'profile_image_url_https': 'https://pbs.twimg.com/profile_images/1530358747511631874/G8bvUIHV_normal.jpg', 'profile_banner_url': 'https://pbs.twimg.com/profile_banners/27493883/1656387393', 'profile_link_color': '1DA1F2', 'profile_sidebar_border_color': 'C0DEED', 'profile_sidebar_fill_color': 'DDEEF6', 'profile_text_color': '333333', 'profile_use_background_image': True, 'has_extended_profile': True, 'default_profile': True, 'default_profile_image': False, 'following': True, 'follow_request_sent': False, 'notifications': False, 'translator_type': 'none', 'withheld_in_countries': []}, id=27493883, id_str='27493883', name='Jon Cooper', screen_name='joncoopertweets', location='New York, Florida', description='Former National Finance Chair of Draft Biden 2016, Long Island Campaign Chair for @BarackObama & Majority Leader of Suffolk County Legislature, NY. @DukeU alum', url=None, entities={'description': {'urls': []}}, protected=False, followers_count=1026754, friends_count=66952, listed_count=3288, created_at=datetime.datetime(2009, 3, 29, 20, 12, 52, tzinfo=datetime.timezone.utc), favourites_count=297497, utc_offset=None, time_zone=None, geo_enabled=False, verified=True, statuses_count=345163, lang=None, contributors_enabled=False, is_translator=False, is_translation_enabled=False, profile_background_color='C0DEED', profile_background_image_url='http://abs.twimg.com/images/themes/theme1/bg.png', profile_background_image_url_https='https://abs.twimg.com/images/themes/theme1/bg.png', profile_background_tile=False, profile_image_url='http://pbs.twimg.com/profile_images/1530358747511631874/G8bvUIHV_normal.jpg', profile_image_url_https='https://pbs.twimg.com/profile_images/1530358747511631874/G8bvUIHV_normal.jpg', profile_banner_url='https://pbs.twimg.com/profile_banners/27493883/1656387393', profile_link_color='1DA1F2', profile_sidebar_border_color='C0DEED', profile_sidebar_fill_color='DDEEF6', profile_text_color='333333', profile_use_background_image=True, has_extended_profile=True, default_profile=True, default_profile_image=False, following=True, follow_request_sent=False, notifications=False, translator_type='none', withheld_in_countries=[]), geo=None, coordinates=None, place=None, contributors=None, retweeted_status=Status(_api=<tweepy.api.API object at 0x0000014F293D01F0>, _json={'created_at': 'Fri Jul 08 22:19:54 +0000 2022', 'id': 1545533160259104769, 'id_str': '1545533160259104769', 'text': 'The sh*t, or ketchup, is hitting the wall. Washington Post: Steve Bannon wants to strike a deal and testify for the… https://t.co/DmfjmddJcA', 'truncated': True, 'entities': {'hashtags': [], 'symbols': [], 'user_mentions': [], 'urls': [{'url': 'https://t.co/DmfjmddJcA', 'expanded_url': 'https://twitter.com/i/web/status/1545533160259104769', 'display_url': 'twitter.com/i/web/status/1…', 'indices': [117, 140]}]}, 'source': '<a href=\"http://twitter.com/#!/download/ipad\" rel=\"nofollow\">Twitter for iPad</a>', 'in_reply_to_status_id': None, 'in_reply_to_status_id_str': None, 'in_reply_to_user_id': None, 'in_reply_to_user_id_str': None, 'in_reply_to_screen_name': None, 'user': {'id': 2234760798, 'id_str': '2234760798', 'name': 'Mike Sington', 'screen_name': 'MikeSington', 'location': 'Los Angeles and the World', 'description': 'Senior Executive at NBCUniversal (Ret) • Hollywood’s Ultimate Insider • Entertainment, Pop Culture, and Lifestyle Expert', 'url': 'https://t.co/eWWX8sbwqj', 'entities': {'url': {'urls': [{'url': 'https://t.co/eWWX8sbwqj', 'expanded_url': 'http://mikesington.com', 'display_url': 'mikesington.com', 'indices': [0, 23]}]}, 'description': {'urls': []}}, 'protected': False, 'followers_count': 44348, 'friends_count': 214, 'listed_count': 380, 'created_at': 'Sat Dec 07 16:31:07 +0000 2013', 'favourites_count': 346374, 'utc_offset': None, 'time_zone': None, 'geo_enabled': True, 'verified': True, 'statuses_count': 52632, 'lang': None, 'contributors_enabled': False, 'is_translator': False, 'is_translation_enabled': False, 'profile_background_color': '131516', 'profile_background_image_url': 'http://abs.twimg.com/images/themes/theme14/bg.gif', 'profile_background_image_url_https': 'https://abs.twimg.com/images/themes/theme14/bg.gif', 'profile_background_tile': True, 'profile_image_url': 'http://pbs.twimg.com/profile_images/1477323161645445120/qo0F4JIq_normal.jpg', 'profile_image_url_https': 'https://pbs.twimg.com/profile_images/1477323161645445120/qo0F4JIq_normal.jpg', 'profile_banner_url': 'https://pbs.twimg.com/profile_banners/2234760798/1472952808', 'profile_link_color': '0101DF', 'profile_sidebar_border_color': 'FFFFFF', 'profile_sidebar_fill_color': 'DDEEF6', 'profile_text_color': '333333', 'profile_use_background_image': True, 'has_extended_profile': True, 'default_profile': False, 'default_profile_image': False, 'following': False, 'follow_request_sent': False, 'notifications': False, 'translator_type': 'none', 'withheld_in_countries': []}, 'geo': None, 'coordinates': None, 'place': {'id': '3b77caf94bfc81fe', 'url': 'https://api.twitter.com/1.1/geo/id/3b77caf94bfc81fe.json', 'place_type': 'city', 'name': 'Los Angeles', 'full_name': 'Los Angeles, CA', 'country_code': 'US', 'country': 'United States', 'contained_within': [], 'bounding_box': {'type': 'Polygon', 'coordinates': [[[-118.668404, 33.704538], [-118.155409, 33.704538], [-118.155409, 34.337041], [-118.668404, 34.337041]]]}, 'attributes': {}}, 'contributors': None, 'is_quote_status': False, 'retweet_count': 1784, 'favorite_count': 9332, 'favorited': False, 'retweeted': False, 'lang': 'en'}, created_at=datetime.datetime(2022, 7, 8, 22, 19, 54, tzinfo=datetime.timezone.utc), id=1545533160259104769, id_str='1545533160259104769', text='The sh*t, or ketchup, is hitting the wall. Washington Post: Steve Bannon wants to strike a deal and testify for the… https://t.co/DmfjmddJcA', truncated=True, entities={'hashtags': [], 'symbols': [], 'user_mentions': [], 'urls': [{'url': 'https://t.co/DmfjmddJcA', 'expanded_url': 'https://twitter.com/i/web/status/1545533160259104769', 'display_url': 'twitter.com/i/web/status/1…', 'indices': [117, 140]}]}, source='Twitter for iPad', source_url='http://twitter.com/#!/download/ipad', in_reply_to_status_id=None, in_reply_to_status_id_str=None, in_reply_to_user_id=None, in_reply_to_user_id_str=None, in_reply_to_screen_name=None, author=User(_api=<tweepy.api.API object at 0x0000014F293D01F0>, _json={'id': 2234760798, 'id_str': '2234760798', 'name': 'Mike Sington', 'screen_name': 'MikeSington', 'location': 'Los Angeles and the World', 'description': 'Senior Executive at NBCUniversal (Ret) • Hollywood’s Ultimate Insider • Entertainment, Pop Culture, and Lifestyle Expert', 'url': 'https://t.co/eWWX8sbwqj', 'entities': {'url': {'urls': [{'url': 'https://t.co/eWWX8sbwqj', 'expanded_url': 'http://mikesington.com', 'display_url': 'mikesington.com', 'indices': [0, 23]}]}, 'description': {'urls': []}}, 'protected': False, 'followers_count': 44348, 'friends_count': 214, 'listed_count': 380, 'created_at': 'Sat Dec 07 16:31:07 +0000 2013', 'favourites_count': 346374, 'utc_offset': None, 'time_zone': None, 'geo_enabled': True, 'verified': True, 'statuses_count': 52632, 'lang': None, 'contributors_enabled': False, 'is_translator': False, 'is_translation_enabled': False, 'profile_background_color': '131516', 'profile_background_image_url': 'http://abs.twimg.com/images/themes/theme14/bg.gif', 'profile_background_image_url_https': 'https://abs.twimg.com/images/themes/theme14/bg.gif', 'profile_background_tile': True, 'profile_image_url': 'http://pbs.twimg.com/profile_images/1477323161645445120/qo0F4JIq_normal.jpg', 'profile_image_url_https': 'https://pbs.twimg.com/profile_images/1477323161645445120/qo0F4JIq_normal.jpg', 'profile_banner_url': 'https://pbs.twimg.com/profile_banners/2234760798/1472952808', 'profile_link_color': '0101DF', 'profile_sidebar_border_color': 'FFFFFF', 'profile_sidebar_fill_color': 'DDEEF6', 'profile_text_color': '333333', 'profile_use_background_image': True, 'has_extended_profile': True, 'default_profile': False, 'default_profile_image': False, 'following': False, 'follow_request_sent': False, 'notifications': False, 'translator_type': 'none', 'withheld_in_countries': []}, id=2234760798, id_str='2234760798', name='Mike Sington', screen_name='MikeSington', location='Los Angeles and the World', description='Senior Executive at NBCUniversal (Ret) • Hollywood’s Ultimate Insider • Entertainment, Pop Culture, and Lifestyle Expert', url='https://t.co/eWWX8sbwqj', entities={'url': {'urls': [{'url': 'https://t.co/eWWX8sbwqj', 'expanded_url': 'http://mikesington.com', 'display_url': 'mikesington.com', 'indices': [0, 23]}]}, 'description': {'urls': []}}, protected=False, followers_count=44348, friends_count=214, listed_count=380, created_at=datetime.datetime(2013, 12, 7, 16, 31, 7, tzinfo=datetime.timezone.utc), favourites_count=346374, utc_offset=None, time_zone=None, geo_enabled=True, verified=True, statuses_count=52632, lang=None, contributors_enabled=False, is_translator=False, is_translation_enabled=False, profile_background_color='131516', profile_background_image_url='http://abs.twimg.com/images/themes/theme14/bg.gif', profile_background_image_url_https='https://abs.twimg.com/images/themes/theme14/bg.gif', profile_background_tile=True, profile_image_url='http://pbs.twimg.com/profile_images/1477323161645445120/qo0F4JIq_normal.jpg', profile_image_url_https='https://pbs.twimg.com/profile_images/1477323161645445120/qo0F4JIq_normal.jpg', profile_banner_url='https://pbs.twimg.com/profile_banners/2234760798/1472952808', profile_link_color='0101DF', profile_sidebar_border_color='FFFFFF', profile_sidebar_fill_color='DDEEF6', profile_text_color='333333', profile_use_background_image=True, has_extended_profile=True, default_profile=False, default_profile_image=False, following=False, follow_request_sent=False, notifications=False, translator_type='none', withheld_in_countries=[]), user=User(_api=<tweepy.api.API object at 0x0000014F293D01F0>, _json={'id': 2234760798, 'id_str': '2234760798', 'name': 'Mike Sington', 'screen_name': 'MikeSington', 'location': 'Los Angeles and the World', 'description': 'Senior Executive at NBCUniversal (Ret) • Hollywood’s Ultimate Insider • Entertainment, Pop Culture, and Lifestyle Expert', 'url': 'https://t.co/eWWX8sbwqj', 'entities': {'url': {'urls': [{'url': 'https://t.co/eWWX8sbwqj', 'expanded_url': 'http://mikesington.com', 'display_url': 'mikesington.com', 'indices': [0, 23]}]}, 'description': {'urls': []}}, 'protected': False, 'followers_count': 44348, 'friends_count': 214, 'listed_count': 380, 'created_at': 'Sat Dec 07 16:31:07 +0000 2013', 'favourites_count': 346374, 'utc_offset': None, 'time_zone': None, 'geo_enabled': True, 'verified': True, 'statuses_count': 52632, 'lang': None, 'contributors_enabled': False, 'is_translator': False, 'is_translation_enabled': False, 'profile_background_color': '131516', 'profile_background_image_url': 'http://abs.twimg.com/images/themes/theme14/bg.gif', 'profile_background_image_url_https': 'https://abs.twimg.com/images/themes/theme14/bg.gif', 'profile_background_tile': True, 'profile_image_url': 'http://pbs.twimg.com/profile_images/1477323161645445120/qo0F4JIq_normal.jpg', 'profile_image_url_https': 'https://pbs.twimg.com/profile_images/1477323161645445120/qo0F4JIq_normal.jpg', 'profile_banner_url': 'https://pbs.twimg.com/profile_banners/2234760798/1472952808', 'profile_link_color': '0101DF', 'profile_sidebar_border_color': 'FFFFFF', 'profile_sidebar_fill_color': 'DDEEF6', 'profile_text_color': '333333', 'profile_use_background_image': True, 'has_extended_profile': True, 'default_profile': False, 'default_profile_image': False, 'following': False, 'follow_request_sent': False, 'notifications': False, 'translator_type': 'none', 'withheld_in_countries': []}, id=2234760798, id_str='2234760798', name='Mike Sington', screen_name='MikeSington', location='Los Angeles and the World', description='Senior Executive at NBCUniversal (Ret) • Hollywood’s Ultimate Insider • Entertainment, Pop Culture, and Lifestyle Expert', url='https://t.co/eWWX8sbwqj', entities={'url': {'urls': [{'url': 'https://t.co/eWWX8sbwqj', 'expanded_url': 'http://mikesington.com', 'display_url': 'mikesington.com', 'indices': [0, 23]}]}, 'description': {'urls': []}}, protected=False, followers_count=44348, friends_count=214, listed_count=380, created_at=datetime.datetime(2013, 12, 7, 16, 31, 7, tzinfo=datetime.timezone.utc), favourites_count=346374, utc_offset=None, time_zone=None, geo_enabled=True, verified=True, statuses_count=52632, lang=None, contributors_enabled=False, is_translator=False, is_translation_enabled=False, profile_background_color='131516', profile_background_image_url='http://abs.twimg.com/images/themes/theme14/bg.gif', profile_background_image_url_https='https://abs.twimg.com/images/themes/theme14/bg.gif', profile_background_tile=True, profile_image_url='http://pbs.twimg.com/profile_images/1477323161645445120/qo0F4JIq_normal.jpg', profile_image_url_https='https://pbs.twimg.com/profile_images/1477323161645445120/qo0F4JIq_normal.jpg', profile_banner_url='https://pbs.twimg.com/profile_banners/2234760798/1472952808', profile_link_color='0101DF', profile_sidebar_border_color='FFFFFF', profile_sidebar_fill_color='DDEEF6', profile_text_color='333333', profile_use_background_image=True, has_extended_profile=True, default_profile=False, default_profile_image=False, following=False, follow_request_sent=False, notifications=False, translator_type='none', withheld_in_countries=[]), geo=None, coordinates=None, place=Place(_api=<tweepy.api.API object at 0x0000014F293D01F0>, id='3b77caf94bfc81fe', url='https://api.twitter.com/1.1/geo/id/3b77caf94bfc81fe.json', place_type='city', name='Los Angeles', full_name='Los Angeles, CA', country_code='US', country='United States', contained_within=[], bounding_box=BoundingBox(_api=<tweepy.api.API object at 0x0000014F293D01F0>, type='Polygon', coordinates=[[[-118.668404, 33.704538], [-118.155409, 33.704538], [-118.155409, 34.337041], [-118.668404, 34.337041]]]), attributes={}), contributors=None, is_quote_status=False, retweet_count=1784, favorite_count=9332, favorited=False, retweeted=False, lang='en'), is_quote_status=False, retweet_count=1784, favorite_count=0, favorited=False, retweeted=False, lang='en'), Status(_api=<tweepy.api.API object at 0x0000014F293D01F0>, _json={'created_at': 'Sat Jul 09 00:24:29 +0000 2022', 'id': 1545564511146594307, 'id_str': '1545564511146594307', 'text': 'RT @A_SHEKH0VTS0V: Russia is stealing Ukrainian grain and is burning the wheat it cannot steal. There is little doubt that Russia’s aim is…', 'truncated': False, 'entities': {'hashtags': [], 'symbols': [], 'user_mentions': [{'screen_name': 'A_SHEKH0VTS0V', 'name': 'Anton Shekhovtsov', 'id': 56070554, 'id_str': '56070554', 'indices': [3, 17]}], 'urls': []}, 'source': '<a href=\"http://twitter.com/download/iphone\" rel=\"nofollow\">Twitter for iPhone</a>', 'in_reply_to_status_id': None, 'in_reply_to_status_id_str': None, 'in_reply_to_user_id': None, 'in_reply_to_user_id_str': None, 'in_reply_to_screen_name': None, 'user': {'id': 27493883, 'id_str': '27493883', 'name': 'Jon Cooper', 'screen_name': 'joncoopertweets', 'location': 'New York, Florida', 'description': 'Former National Finance Chair of Draft Biden 2016, Long Island Campaign Chair for @BarackObama & Majority Leader of Suffolk County Legislature, NY. @DukeU alum', 'url': None, 'entities': {'description': {'urls': []}}, 'protected': False, 'followers_count': 1026754, 'friends_count': 66952, 'listed_count': 3288, 'created_at': 'Sun Mar 29 20:12:52 +0000 2009', 'favourites_count': 297497, 'utc_offset': None, 'time_zone': None, 'geo_enabled': False, 'verified': True, 'statuses_count': 345163, 'lang': None, 'contributors_enabled': False, 'is_translator': False, 'is_translation_enabled': False, 'profile_background_color': 'C0DEED', 'profile_background_image_url': 'http://abs.twimg.com/images/themes/theme1/bg.png', 'profile_background_image_url_https': 'https://abs.twimg.com/images/themes/theme1/bg.png', 'profile_background_tile': False, 'profile_image_url': 'http://pbs.twimg.com/profile_images/1530358747511631874/G8bvUIHV_normal.jpg', 'profile_image_url_https': 'https://pbs.twimg.com/profile_images/1530358747511631874/G8bvUIHV_normal.jpg', 'profile_banner_url': 'https://pbs.twimg.com/profile_banners/27493883/1656387393', 'profile_link_color': '1DA1F2', 'profile_sidebar_border_color': 'C0DEED', 'profile_sidebar_fill_color': 'DDEEF6', 'profile_text_color': '333333', 'profile_use_background_image': True, 'has_extended_profile': True, 'default_profile': True, 'default_profile_image': False, 'following': True, 'follow_request_sent': False, 'notifications': False, 'translator_type': 'none', 'withheld_in_countries': []}, 'geo': None, 'coordinates': None, 'place': None, 'contributors': None, 'retweeted_status': {'created_at': 'Fri Jul 08 12:00:25 +0000 2022', 'id': 1545377262270308352, 'id_str': '1545377262270308352', 'text': 'Russia is stealing Ukrainian grain and is burning the wheat it cannot steal. There is little doubt that Russia’s ai… https://t.co/BsWSvVcsrq', 'truncated': True, 'entities': {'hashtags': [], 'symbols': [], 'user_mentions': [], 'urls': [{'url': 'https://t.co/BsWSvVcsrq', 'expanded_url': 'https://twitter.com/i/web/status/1545377262270308352', 'display_url': 'twitter.com/i/web/status/1…', 'indices': [117, 140]}]}, 'source': '<a href=\"http://twitter.com/download/iphone\" rel=\"nofollow\">Twitter for iPhone</a>', 'in_reply_to_status_id': None, 'in_reply_to_status_id_str': None, 'in_reply_to_user_id': None, 'in_reply_to_user_id_str': None, 'in_reply_to_screen_name': None, 'user': {'id': 56070554, 'id_str': '56070554', 'name': 'Anton Shekhovtsov', 'screen_name': 'A_SHEKH0VTS0V', 'location': 'Europe', 'description': 'Director of the Centre for Democratic Integrity (https://t.co/0ABHU8MEzc), author of \"Russia and the Western Far Right\" (https://t.co/aqWjLsA32I)', 'url': 'https://t.co/r0QgU4eOGP', 'entities': {'url': {'urls': [{'url': 'https://t.co/r0QgU4eOGP', 'expanded_url': 'https://www.tango-noir.com', 'display_url': 'tango-noir.com', 'indices': [0, 23]}]}, 'description': {'urls': [{'url': 'https://t.co/0ABHU8MEzc', 'expanded_url': 'https://tinyurl.com/yr8j699t', 'display_url': 'tinyurl.com/yr8j699t', 'indices': [49, 72]}, {'url': 'https://t.co/aqWjLsA32I', 'expanded_url': 'http://tinyurl.com/n2x2g4x', 'display_url': 'tinyurl.com/n2x2g4x', 'indices': [121, 144]}]}}, 'protected': False, 'followers_count': 25769, 'friends_count': 1432, 'listed_count': 656, 'created_at': 'Sun Jul 12 11:09:47 +0000 2009', 'favourites_count': 3168, 'utc_offset': None, 'time_zone': None, 'geo_enabled': False, 'verified': False, 'statuses_count': 8454, 'lang': None, 'contributors_enabled': False, 'is_translator': False, 'is_translation_enabled': False, 'profile_background_color': '352726', 'profile_background_image_url': 'http://abs.twimg.com/images/themes/theme5/bg.gif', 'profile_background_image_url_https': 'https://abs.twimg.com/images/themes/theme5/bg.gif', 'profile_background_tile': False, 'profile_image_url': 'http://pbs.twimg.com/profile_images/1387035232277303302/y7Sb4OGc_normal.jpg', 'profile_image_url_https': 'https://pbs.twimg.com/profile_images/1387035232277303302/y7Sb4OGc_normal.jpg', 'profile_banner_url': 'https://pbs.twimg.com/profile_banners/56070554/1512944926', 'profile_link_color': '344DB3', 'profile_sidebar_border_color': 'FFFFFF', 'profile_sidebar_fill_color': '99CC33', 'profile_text_color': '3E4415', 'profile_use_background_image': True, 'has_extended_profile': True, 'default_profile': False, 'default_profile_image': False, 'following': False, 'follow_request_sent': False, 'notifications': False, 'translator_type': 'none', 'withheld_in_countries': []}, 'geo': None, 'coordinates': None, 'place': None, 'contributors': None, 'is_quote_status': False, 'retweet_count': 1425, 'favorite_count': 2515, 'favorited': False, 'retweeted': False, 'possibly_sensitive': False, 'possibly_sensitive_appealable': False, 'lang': 'en'}, 'is_quote_status': False, 'retweet_count': 1425, 'favorite_count': 0, 'favorited': False, 'retweeted': False, 'lang': 'en'}, created_at=datetime.datetime(2022, 7, 9, 0, 24, 29, tzinfo=datetime.timezone.utc), id=1545564511146594307, id_str='1545564511146594307', text='RT @A_SHEKH0VTS0V: Russia is stealing Ukrainian grain and is burning the wheat it cannot steal. There is little doubt that Russia’s aim is…', truncated=False, entities={'hashtags': [], 'symbols': [], 'user_mentions': [{'screen_name': 'A_SHEKH0VTS0V', 'name': 'Anton Shekhovtsov', 'id': 56070554, 'id_str': '56070554', 'indices': [3, 17]}], 'urls': []}, source='Twitter for iPhone', source_url='http://twitter.com/download/iphone', in_reply_to_status_id=None, in_reply_to_status_id_str=None, in_reply_to_user_id=None, in_reply_to_user_id_str=None, in_reply_to_screen_name=None, author=User(_api=<tweepy.api.API object at 0x0000014F293D01F0>, _json={'id': 27493883, 'id_str': '27493883', 'name': 'Jon Cooper', 'screen_name': 'joncoopertweets', 'location': 'New York, Florida', 'description': 'Former National Finance Chair of Draft Biden 2016, Long Island Campaign Chair for @BarackObama & Majority Leader of Suffolk County Legislature, NY. @DukeU alum', 'url': None, 'entities': {'description': {'urls': []}}, 'protected': False, 'followers_count': 1026754, 'friends_count': 66952, 'listed_count': 3288, 'created_at': 'Sun Mar 29 20:12:52 +0000 2009', 'favourites_count': 297497, 'utc_offset': None, 'time_zone': None, 'geo_enabled': False, 'verified': True, 'statuses_count': 345163, 'lang': None, 'contributors_enabled': False, 'is_translator': False, 'is_translation_enabled': False, 'profile_background_color': 'C0DEED', 'profile_background_image_url': 'http://abs.twimg.com/images/themes/theme1/bg.png', 'profile_background_image_url_https': 'https://abs.twimg.com/images/themes/theme1/bg.png', 'profile_background_tile': False, 'profile_image_url': 'http://pbs.twimg.com/profile_images/1530358747511631874/G8bvUIHV_normal.jpg', 'profile_image_url_https': 'https://pbs.twimg.com/profile_images/1530358747511631874/G8bvUIHV_normal.jpg', 'profile_banner_url': 'https://pbs.twimg.com/profile_banners/27493883/1656387393', 'profile_link_color': '1DA1F2', 'profile_sidebar_border_color': 'C0DEED', 'profile_sidebar_fill_color': 'DDEEF6', 'profile_text_color': '333333', 'profile_use_background_image': True, 'has_extended_profile': True, 'default_profile': True, 'default_profile_image': False, 'following': True, 'follow_request_sent': False, 'notifications': False, 'translator_type': 'none', 'withheld_in_countries': []}, id=27493883, id_str='27493883', name='Jon Cooper', screen_name='joncoopertweets', location='New York, Florida', description='Former National Finance Chair of Draft Biden 2016, Long Island Campaign Chair for @BarackObama & Majority Leader of Suffolk County Legislature, NY. @DukeU alum', url=None, entities={'description': {'urls': []}}, protected=False, followers_count=1026754, friends_count=66952, listed_count=3288, created_at=datetime.datetime(2009, 3, 29, 20, 12, 52, tzinfo=datetime.timezone.utc), favourites_count=297497, utc_offset=None, time_zone=None, geo_enabled=False, verified=True, statuses_count=345163, lang=None, contributors_enabled=False, is_translator=False, is_translation_enabled=False, profile_background_color='C0DEED', profile_background_image_url='http://abs.twimg.com/images/themes/theme1/bg.png', profile_background_image_url_https='https://abs.twimg.com/images/themes/theme1/bg.png', profile_background_tile=False, profile_image_url='http://pbs.twimg.com/profile_images/1530358747511631874/G8bvUIHV_normal.jpg', profile_image_url_https='https://pbs.twimg.com/profile_images/1530358747511631874/G8bvUIHV_normal.jpg', profile_banner_url='https://pbs.twimg.com/profile_banners/27493883/1656387393', profile_link_color='1DA1F2', profile_sidebar_border_color='C0DEED', profile_sidebar_fill_color='DDEEF6', profile_text_color='333333', profile_use_background_image=True, has_extended_profile=True, default_profile=True, default_profile_image=False, following=True, follow_request_sent=False, notifications=False, translator_type='none', withheld_in_countries=[]), user=User(_api=<tweepy.api.API object at 0x0000014F293D01F0>, _json={'id': 27493883, 'id_str': '27493883', 'name': 'Jon Cooper', 'screen_name': 'joncoopertweets', 'location': 'New York, Florida', 'description': 'Former National Finance Chair of Draft Biden 2016, Long Island Campaign Chair for @BarackObama & Majority Leader of Suffolk County Legislature, NY. @DukeU alum', 'url': None, 'entities': {'description': {'urls': []}}, 'protected': False, 'followers_count': 1026754, 'friends_count': 66952, 'listed_count': 3288, 'created_at': 'Sun Mar 29 20:12:52 +0000 2009', 'favourites_count': 297497, 'utc_offset': None, 'time_zone': None, 'geo_enabled': False, 'verified': True, 'statuses_count': 345163, 'lang': None, 'contributors_enabled': False, 'is_translator': False, 'is_translation_enabled': False, 'profile_background_color': 'C0DEED', 'profile_background_image_url': 'http://abs.twimg.com/images/themes/theme1/bg.png', 'profile_background_image_url_https': 'https://abs.twimg.com/images/themes/theme1/bg.png', 'profile_background_tile': False, 'profile_image_url': 'http://pbs.twimg.com/profile_images/1530358747511631874/G8bvUIHV_normal.jpg', 'profile_image_url_https': 'https://pbs.twimg.com/profile_images/1530358747511631874/G8bvUIHV_normal.jpg', 'profile_banner_url': 'https://pbs.twimg.com/profile_banners/27493883/1656387393', 'profile_link_color': '1DA1F2', 'profile_sidebar_border_color': 'C0DEED', 'profile_sidebar_fill_color': 'DDEEF6', 'profile_text_color': '333333', 'profile_use_background_image': True, 'has_extended_profile': True, 'default_profile': True, 'default_profile_image': False, 'following': True, 'follow_request_sent': False, 'notifications': False, 'translator_type': 'none', 'withheld_in_countries': []}, id=27493883, id_str='27493883', name='Jon Cooper', screen_name='joncoopertweets', location='New York, Florida', description='Former National Finance Chair of Draft Biden 2016, Long Island Campaign Chair for @BarackObama & Majority Leader of Suffolk County Legislature, NY. @DukeU alum', url=None, entities={'description': {'urls': []}}, protected=False, followers_count=1026754, friends_count=66952, listed_count=3288, created_at=datetime.datetime(2009, 3, 29, 20, 12, 52, tzinfo=datetime.timezone.utc), favourites_count=297497, utc_offset=None, time_zone=None, geo_enabled=False, verified=True, statuses_count=345163, lang=None, contributors_enabled=False, is_translator=False, is_translation_enabled=False, profile_background_color='C0DEED', profile_background_image_url='http://abs.twimg.com/images/themes/theme1/bg.png', profile_background_image_url_https='https://abs.twimg.com/images/themes/theme1/bg.png', profile_background_tile=False, profile_image_url='http://pbs.twimg.com/profile_images/1530358747511631874/G8bvUIHV_normal.jpg', profile_image_url_https='https://pbs.twimg.com/profile_images/1530358747511631874/G8bvUIHV_normal.jpg', profile_banner_url='https://pbs.twimg.com/profile_banners/27493883/1656387393', profile_link_color='1DA1F2', profile_sidebar_border_color='C0DEED', profile_sidebar_fill_color='DDEEF6', profile_text_color='333333', profile_use_background_image=True, has_extended_profile=True, default_profile=True, default_profile_image=False, following=True, follow_request_sent=False, notifications=False, translator_type='none', withheld_in_countries=[]), geo=None, coordinates=None, place=None, contributors=None, retweeted_status=Status(_api=<tweepy.api.API object at 0x0000014F293D01F0>, _json={'created_at': 'Fri Jul 08 12:00:25 +0000 2022', 'id': 1545377262270308352, 'id_str': '1545377262270308352', 'text': 'Russia is stealing Ukrainian grain and is burning the wheat it cannot steal. There is little doubt that Russia’s ai… https://t.co/BsWSvVcsrq', 'truncated': True, 'entities': {'hashtags': [], 'symbols': [], 'user_mentions': [], 'urls': [{'url': 'https://t.co/BsWSvVcsrq', 'expanded_url': 'https://twitter.com/i/web/status/1545377262270308352', 'display_url': 'twitter.com/i/web/status/1…', 'indices': [117, 140]}]}, 'source': '<a href=\"http://twitter.com/download/iphone\" rel=\"nofollow\">Twitter for iPhone</a>', 'in_reply_to_status_id': None, 'in_reply_to_status_id_str': None, 'in_reply_to_user_id': None, 'in_reply_to_user_id_str': None, 'in_reply_to_screen_name': None, 'user': {'id': 56070554, 'id_str': '56070554', 'name': 'Anton Shekhovtsov', 'screen_name': 'A_SHEKH0VTS0V', 'location': 'Europe', 'description': 'Director of the Centre for Democratic Integrity (https://t.co/0ABHU8MEzc), author of \"Russia and the Western Far Right\" (https://t.co/aqWjLsA32I)', 'url': 'https://t.co/r0QgU4eOGP', 'entities': {'url': {'urls': [{'url': 'https://t.co/r0QgU4eOGP', 'expanded_url': 'https://www.tango-noir.com', 'display_url': 'tango-noir.com', 'indices': [0, 23]}]}, 'description': {'urls': [{'url': 'https://t.co/0ABHU8MEzc', 'expanded_url': 'https://tinyurl.com/yr8j699t', 'display_url': 'tinyurl.com/yr8j699t', 'indices': [49, 72]}, {'url': 'https://t.co/aqWjLsA32I', 'expanded_url': 'http://tinyurl.com/n2x2g4x', 'display_url': 'tinyurl.com/n2x2g4x', 'indices': [121, 144]}]}}, 'protected': False, 'followers_count': 25769, 'friends_count': 1432, 'listed_count': 656, 'created_at': 'Sun Jul 12 11:09:47 +0000 2009', 'favourites_count': 3168, 'utc_offset': None, 'time_zone': None, 'geo_enabled': False, 'verified': False, 'statuses_count': 8454, 'lang': None, 'contributors_enabled': False, 'is_translator': False, 'is_translation_enabled': False, 'profile_background_color': '352726', 'profile_background_image_url': 'http://abs.twimg.com/images/themes/theme5/bg.gif', 'profile_background_image_url_https': 'https://abs.twimg.com/images/themes/theme5/bg.gif', 'profile_background_tile': False, 'profile_image_url': 'http://pbs.twimg.com/profile_images/1387035232277303302/y7Sb4OGc_normal.jpg', 'profile_image_url_https': 'https://pbs.twimg.com/profile_images/1387035232277303302/y7Sb4OGc_normal.jpg', 'profile_banner_url': 'https://pbs.twimg.com/profile_banners/56070554/1512944926', 'profile_link_color': '344DB3', 'profile_sidebar_border_color': 'FFFFFF', 'profile_sidebar_fill_color': '99CC33', 'profile_text_color': '3E4415', 'profile_use_background_image': True, 'has_extended_profile': True, 'default_profile': False, 'default_profile_image': False, 'following': False, 'follow_request_sent': False, 'notifications': False, 'translator_type': 'none', 'withheld_in_countries': []}, 'geo': None, 'coordinates': None, 'place': None, 'contributors': None, 'is_quote_status': False, 'retweet_count': 1425, 'favorite_count': 2515, 'favorited': False, 'retweeted': False, 'possibly_sensitive': False, 'possibly_sensitive_appealable': False, 'lang': 'en'}, created_at=datetime.datetime(2022, 7, 8, 12, 0, 25, tzinfo=datetime.timezone.utc), id=1545377262270308352, id_str='1545377262270308352', text='Russia is stealing Ukrainian grain and is burning the wheat it cannot steal. There is little doubt that Russia’s ai… https://t.co/BsWSvVcsrq', truncated=True, entities={'hashtags': [], 'symbols': [], 'user_mentions': [], 'urls': [{'url': 'https://t.co/BsWSvVcsrq', 'expanded_url': 'https://twitter.com/i/web/status/1545377262270308352', 'display_url': 'twitter.com/i/web/status/1…', 'indices': [117, 140]}]}, source='Twitter for iPhone', source_url='http://twitter.com/download/iphone', in_reply_to_status_id=None, in_reply_to_status_id_str=None, in_reply_to_user_id=None, in_reply_to_user_id_str=None, in_reply_to_screen_name=None, author=User(_api=<tweepy.api.API object at 0x0000014F293D01F0>, _json={'id': 56070554, 'id_str': '56070554', 'name': 'Anton Shekhovtsov', 'screen_name': 'A_SHEKH0VTS0V', 'location': 'Europe', 'description': 'Director of the Centre for Democratic Integrity (https://t.co/0ABHU8MEzc), author of \"Russia and the Western Far Right\" (https://t.co/aqWjLsA32I)', 'url': 'https://t.co/r0QgU4eOGP', 'entities': {'url': {'urls': [{'url': 'https://t.co/r0QgU4eOGP', 'expanded_url': 'https://www.tango-noir.com', 'display_url': 'tango-noir.com', 'indices': [0, 23]}]}, 'description': {'urls': [{'url': 'https://t.co/0ABHU8MEzc', 'expanded_url': 'https://tinyurl.com/yr8j699t', 'display_url': 'tinyurl.com/yr8j699t', 'indices': [49, 72]}, {'url': 'https://t.co/aqWjLsA32I', 'expanded_url': 'http://tinyurl.com/n2x2g4x', 'display_url': 'tinyurl.com/n2x2g4x', 'indices': [121, 144]}]}}, 'protected': False, 'followers_count': 25769, 'friends_count': 1432, 'listed_count': 656, 'created_at': 'Sun Jul 12 11:09:47 +0000 2009', 'favourites_count': 3168, 'utc_offset': None, 'time_zone': None, 'geo_enabled': False, 'verified': False, 'statuses_count': 8454, 'lang': None, 'contributors_enabled': False, 'is_translator': False, 'is_translation_enabled': False, 'profile_background_color': '352726', 'profile_background_image_url': 'http://abs.twimg.com/images/themes/theme5/bg.gif', 'profile_background_image_url_https': 'https://abs.twimg.com/images/themes/theme5/bg.gif', 'profile_background_tile': False, 'profile_image_url': 'http://pbs.twimg.com/profile_images/1387035232277303302/y7Sb4OGc_normal.jpg', 'profile_image_url_https': 'https://pbs.twimg.com/profile_images/1387035232277303302/y7Sb4OGc_normal.jpg', 'profile_banner_url': 'https://pbs.twimg.com/profile_banners/56070554/1512944926', 'profile_link_color': '344DB3', 'profile_sidebar_border_color': 'FFFFFF', 'profile_sidebar_fill_color': '99CC33', 'profile_text_color': '3E4415', 'profile_use_background_image': True, 'has_extended_profile': True, 'default_profile': False, 'default_profile_image': False, 'following': False, 'follow_request_sent': False, 'notifications': False, 'translator_type': 'none', 'withheld_in_countries': []}, id=56070554, id_str='56070554', name='Anton Shekhovtsov', screen_name='A_SHEKH0VTS0V', location='Europe', description='Director of the Centre for Democratic Integrity (https://t.co/0ABHU8MEzc), author of \"Russia and the Western Far Right\" (https://t.co/aqWjLsA32I)', url='https://t.co/r0QgU4eOGP', entities={'url': {'urls': [{'url': 'https://t.co/r0QgU4eOGP', 'expanded_url': 'https://www.tango-noir.com', 'display_url': 'tango-noir.com', 'indices': [0, 23]}]}, 'description': {'urls': [{'url': 'https://t.co/0ABHU8MEzc', 'expanded_url': 'https://tinyurl.com/yr8j699t', 'display_url': 'tinyurl.com/yr8j699t', 'indices': [49, 72]}, {'url': 'https://t.co/aqWjLsA32I', 'expanded_url': 'http://tinyurl.com/n2x2g4x', 'display_url': 'tinyurl.com/n2x2g4x', 'indices': [121, 144]}]}}, protected=False, followers_count=25769, friends_count=1432, listed_count=656, created_at=datetime.datetime(2009, 7, 12, 11, 9, 47, tzinfo=datetime.timezone.utc), favourites_count=3168, utc_offset=None, time_zone=None, geo_enabled=False, verified=False, statuses_count=8454, lang=None, contributors_enabled=False, is_translator=False, is_translation_enabled=False, profile_background_color='352726', profile_background_image_url='http://abs.twimg.com/images/themes/theme5/bg.gif', profile_background_image_url_https='https://abs.twimg.com/images/themes/theme5/bg.gif', profile_background_tile=False, profile_image_url='http://pbs.twimg.com/profile_images/1387035232277303302/y7Sb4OGc_normal.jpg', profile_image_url_https='https://pbs.twimg.com/profile_images/1387035232277303302/y7Sb4OGc_normal.jpg', profile_banner_url='https://pbs.twimg.com/profile_banners/56070554/1512944926', profile_link_color='344DB3', profile_sidebar_border_color='FFFFFF', profile_sidebar_fill_color='99CC33', profile_text_color='3E4415', profile_use_background_image=True, has_extended_profile=True, default_profile=False, default_profile_image=False, following=False, follow_request_sent=False, notifications=False, translator_type='none', withheld_in_countries=[]), user=User(_api=<tweepy.api.API object at 0x0000014F293D01F0>, _json={'id': 56070554, 'id_str': '56070554', 'name': 'Anton Shekhovtsov', 'screen_name': 'A_SHEKH0VTS0V', 'location': 'Europe', 'description': 'Director of the Centre for Democratic Integrity (https://t.co/0ABHU8MEzc), author of \"Russia and the Western Far Right\" (https://t.co/aqWjLsA32I)', 'url': 'https://t.co/r0QgU4eOGP', 'entities': {'url': {'urls': [{'url': 'https://t.co/r0QgU4eOGP', 'expanded_url': 'https://www.tango-noir.com', 'display_url': 'tango-noir.com', 'indices': [0, 23]}]}, 'description': {'urls': [{'url': 'https://t.co/0ABHU8MEzc', 'expanded_url': 'https://tinyurl.com/yr8j699t', 'display_url': 'tinyurl.com/yr8j699t', 'indices': [49, 72]}, {'url': 'https://t.co/aqWjLsA32I', 'expanded_url': 'http://tinyurl.com/n2x2g4x', 'display_url': 'tinyurl.com/n2x2g4x', 'indices': [121, 144]}]}}, 'protected': False, 'followers_count': 25769, 'friends_count': 1432, 'listed_count': 656, 'created_at': 'Sun Jul 12 11:09:47 +0000 2009', 'favourites_count': 3168, 'utc_offset': None, 'time_zone': None, 'geo_enabled': False, 'verified': False, 'statuses_count': 8454, 'lang': None, 'contributors_enabled': False, 'is_translator': False, 'is_translation_enabled': False, 'profile_background_color': '352726', 'profile_background_image_url': 'http://abs.twimg.com/images/themes/theme5/bg.gif', 'profile_background_image_url_https': 'https://abs.twimg.com/images/themes/theme5/bg.gif', 'profile_background_tile': False, 'profile_image_url': 'http://pbs.twimg.com/profile_images/1387035232277303302/y7Sb4OGc_normal.jpg', 'profile_image_url_https': 'https://pbs.twimg.com/profile_images/1387035232277303302/y7Sb4OGc_normal.jpg', 'profile_banner_url': 'https://pbs.twimg.com/profile_banners/56070554/1512944926', 'profile_link_color': '344DB3', 'profile_sidebar_border_color': 'FFFFFF', 'profile_sidebar_fill_color': '99CC33', 'profile_text_color': '3E4415', 'profile_use_background_image': True, 'has_extended_profile': True, 'default_profile': False, 'default_profile_image': False, 'following': False, 'follow_request_sent': False, 'notifications': False, 'translator_type': 'none', 'withheld_in_countries': []}, id=56070554, id_str='56070554', name='Anton Shekhovtsov', screen_name='A_SHEKH0VTS0V', location='Europe', description='Director of the Centre for Democratic Integrity (https://t.co/0ABHU8MEzc), author of \"Russia and the Western Far Right\" (https://t.co/aqWjLsA32I)', url='https://t.co/r0QgU4eOGP', entities={'url': {'urls': [{'url': 'https://t.co/r0QgU4eOGP', 'expanded_url': 'https://www.tango-noir.com', 'display_url': 'tango-noir.com', 'indices': [0, 23]}]}, 'description': {'urls': [{'url': 'https://t.co/0ABHU8MEzc', 'expanded_url': 'https://tinyurl.com/yr8j699t', 'display_url': 'tinyurl.com/yr8j699t', 'indices': [49, 72]}, {'url': 'https://t.co/aqWjLsA32I', 'expanded_url': 'http://tinyurl.com/n2x2g4x', 'display_url': 'tinyurl.com/n2x2g4x', 'indices': [121, 144]}]}}, protected=False, followers_count=25769, friends_count=1432, listed_count=656, created_at=datetime.datetime(2009, 7, 12, 11, 9, 47, tzinfo=datetime.timezone.utc), favourites_count=3168, utc_offset=None, time_zone=None, geo_enabled=False, verified=False, statuses_count=8454, lang=None, contributors_enabled=False, is_translator=False, is_translation_enabled=False, profile_background_color='352726', profile_background_image_url='http://abs.twimg.com/images/themes/theme5/bg.gif', profile_background_image_url_https='https://abs.twimg.com/images/themes/theme5/bg.gif', profile_background_tile=False, profile_image_url='http://pbs.twimg.com/profile_images/1387035232277303302/y7Sb4OGc_normal.jpg', profile_image_url_https='https://pbs.twimg.com/profile_images/1387035232277303302/y7Sb4OGc_normal.jpg', profile_banner_url='https://pbs.twimg.com/profile_banners/56070554/1512944926', profile_link_color='344DB3', profile_sidebar_border_color='FFFFFF', profile_sidebar_fill_color='99CC33', profile_text_color='3E4415', profile_use_background_image=True, has_extended_profile=True, default_profile=False, default_profile_image=False, following=False, follow_request_sent=False, notifications=False, translator_type='none', withheld_in_countries=[]), geo=None, coordinates=None, place=None, contributors=None, is_quote_status=False, retweet_count=1425, favorite_count=2515, favorited=False, retweeted=False, possibly_sensitive=False, possibly_sensitive_appealable=False, lang='en'), is_quote_status=False, retweet_count=1425, favorite_count=0, favorited=False, retweeted=False, lang='en'), Status(_api=<tweepy.api.API object at 0x0000014F293D01F0>, _json={'created_at': 'Sat Jul 09 00:23:44 +0000 2022', 'id': 1545564321828192256, 'id_str': '1545564321828192256', 'text': 'RT @KyivIndependent: ⚡️Ex-NATO commander: Ukraine could deal devastating blow to Kremlin by attacking Kerch Strait bridge linking mainland…', 'truncated': False, 'entities': {'hashtags': [], 'symbols': [], 'user_mentions': [{'screen_name': 'KyivIndependent', 'name': 'The Kyiv Independent', 'id': 1462548977367359490, 'id_str': '1462548977367359490', 'indices': [3, 19]}], 'urls': []}, 'source': '<a href=\"http://twitter.com/download/iphone\" rel=\"nofollow\">Twitter for iPhone</a>', 'in_reply_to_status_id': None, 'in_reply_to_status_id_str': None, 'in_reply_to_user_id': None, 'in_reply_to_user_id_str': None, 'in_reply_to_screen_name': None, 'user': {'id': 27493883, 'id_str': '27493883', 'name': 'Jon Cooper', 'screen_name': 'joncoopertweets', 'location': 'New York, Florida', 'description': 'Former National Finance Chair of Draft Biden 2016, Long Island Campaign Chair for @BarackObama & Majority Leader of Suffolk County Legislature, NY. @DukeU alum', 'url': None, 'entities': {'description': {'urls': []}}, 'protected': False, 'followers_count': 1026754, 'friends_count': 66952, 'listed_count': 3288, 'created_at': 'Sun Mar 29 20:12:52 +0000 2009', 'favourites_count': 297497, 'utc_offset': None, 'time_zone': None, 'geo_enabled': False, 'verified': True, 'statuses_count': 345163, 'lang': None, 'contributors_enabled': False, 'is_translator': False, 'is_translation_enabled': False, 'profile_background_color': 'C0DEED', 'profile_background_image_url': 'http://abs.twimg.com/images/themes/theme1/bg.png', 'profile_background_image_url_https': 'https://abs.twimg.com/images/themes/theme1/bg.png', 'profile_background_tile': False, 'profile_image_url': 'http://pbs.twimg.com/profile_images/1530358747511631874/G8bvUIHV_normal.jpg', 'profile_image_url_https': 'https://pbs.twimg.com/profile_images/1530358747511631874/G8bvUIHV_normal.jpg', 'profile_banner_url': 'https://pbs.twimg.com/profile_banners/27493883/1656387393', 'profile_link_color': '1DA1F2', 'profile_sidebar_border_color': 'C0DEED', 'profile_sidebar_fill_color': 'DDEEF6', 'profile_text_color': '333333', 'profile_use_background_image': True, 'has_extended_profile': True, 'default_profile': True, 'default_profile_image': False, 'following': True, 'follow_request_sent': False, 'notifications': False, 'translator_type': 'none', 'withheld_in_countries': []}, 'geo': None, 'coordinates': None, 'place': None, 'contributors': None, 'retweeted_status': {'created_at': 'Fri Jul 08 13:40:42 +0000 2022', 'id': 1545402499447783425, 'id_str': '1545402499447783425', 'text': '⚡️Ex-NATO commander: Ukraine could deal devastating blow to Kremlin by attacking Kerch Strait bridge linking mainla… https://t.co/7YKRNI2cwk', 'truncated': True, 'entities': {'hashtags': [], 'symbols': [], 'user_mentions': [], 'urls': [{'url': 'https://t.co/7YKRNI2cwk', 'expanded_url': 'https://twitter.com/i/web/status/1545402499447783425', 'display_url': 'twitter.com/i/web/status/1…', 'indices': [117, 140]}]}, 'source': '<a href=\"https://mobile.twitter.com\" rel=\"nofollow\">Twitter Web App</a>', 'in_reply_to_status_id': None, 'in_reply_to_status_id_str': None, 'in_reply_to_user_id': None, 'in_reply_to_user_id_str': None, 'in_reply_to_screen_name': None, 'user': {'id': 1462548977367359490, 'id_str': '1462548977367359490', 'name': 'The Kyiv Independent', 'screen_name': 'KyivIndependent', 'location': 'Kyiv', 'description': 'Independent English-language journalism in Ukraine.\\n\\nBecome our patron: https://t.co/4OIXdyilwG\\n\\nDonate: https://t.co/SoNr2TVrxO', 'url': 'https://t.co/WZvsaFpT20', 'entities': {'url': {'urls': [{'url': 'https://t.co/WZvsaFpT20', 'expanded_url': 'http://kyivindependent.com', 'display_url': 'kyivindependent.com', 'indices': [0, 23]}]}, 'description': {'urls': [{'url': 'https://t.co/4OIXdyilwG', 'expanded_url': 'http://patreon.com/kyivindependent', 'display_url': 'patreon.com/kyivindependent', 'indices': [72, 95]}, {'url': 'https://t.co/SoNr2TVrxO', 'expanded_url': 'https://www.gofundme.com/f/kyivindependent-launch', 'display_url': 'gofundme.com/f/kyivindepend…', 'indices': [105, 128]}]}}, 'protected': False, 'followers_count': 2150419, 'friends_count': 19, 'listed_count': 16306, 'created_at': 'Sun Nov 21 22:30:41 +0000 2021', 'favourites_count': 149, 'utc_offset': None, 'time_zone': None, 'geo_enabled': False, 'verified': True, 'statuses_count': 7725, 'lang': None, 'contributors_enabled': False, 'is_translator': False, 'is_translation_enabled': False, 'profile_background_color': 'F5F8FA', 'profile_background_image_url': None, 'profile_background_image_url_https': None, 'profile_background_tile': False, 'profile_image_url': 'http://pbs.twimg.com/profile_images/1462549054420926466/SZ36DVvO_normal.png', 'profile_image_url_https': 'https://pbs.twimg.com/profile_images/1462549054420926466/SZ36DVvO_normal.png', 'profile_banner_url': 'https://pbs.twimg.com/profile_banners/1462548977367359490/1637535531', 'profile_link_color': '1DA1F2', 'profile_sidebar_border_color': 'C0DEED', 'profile_sidebar_fill_color': 'DDEEF6', 'profile_text_color': '333333', 'profile_use_background_image': True, 'has_extended_profile': True, 'default_profile': True, 'default_profile_image': False, 'following': False, 'follow_request_sent': False, 'notifications': False, 'translator_type': 'none', 'withheld_in_countries': []}, 'geo': None, 'coordinates': None, 'place': None, 'contributors': None, 'is_quote_status': False, 'retweet_count': 2367, 'favorite_count': 15598, 'favorited': False, 'retweeted': False, 'lang': 'en'}, 'is_quote_status': False, 'retweet_count': 2367, 'favorite_count': 0, 'favorited': False, 'retweeted': False, 'lang': 'en'}, created_at=datetime.datetime(2022, 7, 9, 0, 23, 44, tzinfo=datetime.timezone.utc), id=1545564321828192256, id_str='1545564321828192256', text='RT @KyivIndependent: ⚡️Ex-NATO commander: Ukraine could deal devastating blow to Kremlin by attacking Kerch Strait bridge linking mainland…', truncated=False, entities={'hashtags': [], 'symbols': [], 'user_mentions': [{'screen_name': 'KyivIndependent', 'name': 'The Kyiv Independent', 'id': 1462548977367359490, 'id_str': '1462548977367359490', 'indices': [3, 19]}], 'urls': []}, source='Twitter for iPhone', source_url='http://twitter.com/download/iphone', in_reply_to_status_id=None, in_reply_to_status_id_str=None, in_reply_to_user_id=None, in_reply_to_user_id_str=None, in_reply_to_screen_name=None, author=User(_api=<tweepy.api.API object at 0x0000014F293D01F0>, _json={'id': 27493883, 'id_str': '27493883', 'name': 'Jon Cooper', 'screen_name': 'joncoopertweets', 'location': 'New York, Florida', 'description': 'Former National Finance Chair of Draft Biden 2016, Long Island Campaign Chair for @BarackObama & Majority Leader of Suffolk County Legislature, NY. @DukeU alum', 'url': None, 'entities': {'description': {'urls': []}}, 'protected': False, 'followers_count': 1026754, 'friends_count': 66952, 'listed_count': 3288, 'created_at': 'Sun Mar 29 20:12:52 +0000 2009', 'favourites_count': 297497, 'utc_offset': None, 'time_zone': None, 'geo_enabled': False, 'verified': True, 'statuses_count': 345163, 'lang': None, 'contributors_enabled': False, 'is_translator': False, 'is_translation_enabled': False, 'profile_background_color': 'C0DEED', 'profile_background_image_url': 'http://abs.twimg.com/images/themes/theme1/bg.png', 'profile_background_image_url_https': 'https://abs.twimg.com/images/themes/theme1/bg.png', 'profile_background_tile': False, 'profile_image_url': 'http://pbs.twimg.com/profile_images/1530358747511631874/G8bvUIHV_normal.jpg', 'profile_image_url_https': 'https://pbs.twimg.com/profile_images/1530358747511631874/G8bvUIHV_normal.jpg', 'profile_banner_url': 'https://pbs.twimg.com/profile_banners/27493883/1656387393', 'profile_link_color': '1DA1F2', 'profile_sidebar_border_color': 'C0DEED', 'profile_sidebar_fill_color': 'DDEEF6', 'profile_text_color': '333333', 'profile_use_background_image': True, 'has_extended_profile': True, 'default_profile': True, 'default_profile_image': False, 'following': True, 'follow_request_sent': False, 'notifications': False, 'translator_type': 'none', 'withheld_in_countries': []}, id=27493883, id_str='27493883', name='Jon Cooper', screen_name='joncoopertweets', location='New York, Florida', description='Former National Finance Chair of Draft Biden 2016, Long Island Campaign Chair for @BarackObama & Majority Leader of Suffolk County Legislature, NY. @DukeU alum', url=None, entities={'description': {'urls': []}}, protected=False, followers_count=1026754, friends_count=66952, listed_count=3288, created_at=datetime.datetime(2009, 3, 29, 20, 12, 52, tzinfo=datetime.timezone.utc), favourites_count=297497, utc_offset=None, time_zone=None, geo_enabled=False, verified=True, statuses_count=345163, lang=None, contributors_enabled=False, is_translator=False, is_translation_enabled=False, profile_background_color='C0DEED', profile_background_image_url='http://abs.twimg.com/images/themes/theme1/bg.png', profile_background_image_url_https='https://abs.twimg.com/images/themes/theme1/bg.png', profile_background_tile=False, profile_image_url='http://pbs.twimg.com/profile_images/1530358747511631874/G8bvUIHV_normal.jpg', profile_image_url_https='https://pbs.twimg.com/profile_images/1530358747511631874/G8bvUIHV_normal.jpg', profile_banner_url='https://pbs.twimg.com/profile_banners/27493883/1656387393', profile_link_color='1DA1F2', profile_sidebar_border_color='C0DEED', profile_sidebar_fill_color='DDEEF6', profile_text_color='333333', profile_use_background_image=True, has_extended_profile=True, default_profile=True, default_profile_image=False, following=True, follow_request_sent=False, notifications=False, translator_type='none', withheld_in_countries=[]), user=User(_api=<tweepy.api.API object at 0x0000014F293D01F0>, _json={'id': 27493883, 'id_str': '27493883', 'name': 'Jon Cooper', 'screen_name': 'joncoopertweets', 'location': 'New York, Florida', 'description': 'Former National Finance Chair of Draft Biden 2016, Long Island Campaign Chair for @BarackObama & Majority Leader of Suffolk County Legislature, NY. @DukeU alum', 'url': None, 'entities': {'description': {'urls': []}}, 'protected': False, 'followers_count': 1026754, 'friends_count': 66952, 'listed_count': 3288, 'created_at': 'Sun Mar 29 20:12:52 +0000 2009', 'favourites_count': 297497, 'utc_offset': None, 'time_zone': None, 'geo_enabled': False, 'verified': True, 'statuses_count': 345163, 'lang': None, 'contributors_enabled': False, 'is_translator': False, 'is_translation_enabled': False, 'profile_background_color': 'C0DEED', 'profile_background_image_url': 'http://abs.twimg.com/images/themes/theme1/bg.png', 'profile_background_image_url_https': 'https://abs.twimg.com/images/themes/theme1/bg.png', 'profile_background_tile': False, 'profile_image_url': 'http://pbs.twimg.com/profile_images/1530358747511631874/G8bvUIHV_normal.jpg', 'profile_image_url_https': 'https://pbs.twimg.com/profile_images/1530358747511631874/G8bvUIHV_normal.jpg', 'profile_banner_url': 'https://pbs.twimg.com/profile_banners/27493883/1656387393', 'profile_link_color': '1DA1F2', 'profile_sidebar_border_color': 'C0DEED', 'profile_sidebar_fill_color': 'DDEEF6', 'profile_text_color': '333333', 'profile_use_background_image': True, 'has_extended_profile': True, 'default_profile': True, 'default_profile_image': False, 'following': True, 'follow_request_sent': False, 'notifications': False, 'translator_type': 'none', 'withheld_in_countries': []}, id=27493883, id_str='27493883', name='Jon Cooper', screen_name='joncoopertweets', location='New York, Florida', description='Former National Finance Chair of Draft Biden 2016, Long Island Campaign Chair for @BarackObama & Majority Leader of Suffolk County Legislature, NY. @DukeU alum', url=None, entities={'description': {'urls': []}}, protected=False, followers_count=1026754, friends_count=66952, listed_count=3288, created_at=datetime.datetime(2009, 3, 29, 20, 12, 52, tzinfo=datetime.timezone.utc), favourites_count=297497, utc_offset=None, time_zone=None, geo_enabled=False, verified=True, statuses_count=345163, lang=None, contributors_enabled=False, is_translator=False, is_translation_enabled=False, profile_background_color='C0DEED', profile_background_image_url='http://abs.twimg.com/images/themes/theme1/bg.png', profile_background_image_url_https='https://abs.twimg.com/images/themes/theme1/bg.png', profile_background_tile=False, profile_image_url='http://pbs.twimg.com/profile_images/1530358747511631874/G8bvUIHV_normal.jpg', profile_image_url_https='https://pbs.twimg.com/profile_images/1530358747511631874/G8bvUIHV_normal.jpg', profile_banner_url='https://pbs.twimg.com/profile_banners/27493883/1656387393', profile_link_color='1DA1F2', profile_sidebar_border_color='C0DEED', profile_sidebar_fill_color='DDEEF6', profile_text_color='333333', profile_use_background_image=True, has_extended_profile=True, default_profile=True, default_profile_image=False, following=True, follow_request_sent=False, notifications=False, translator_type='none', withheld_in_countries=[]), geo=None, coordinates=None, place=None, contributors=None, retweeted_status=Status(_api=<tweepy.api.API object at 0x0000014F293D01F0>, _json={'created_at': 'Fri Jul 08 13:40:42 +0000 2022', 'id': 1545402499447783425, 'id_str': '1545402499447783425', 'text': '⚡️Ex-NATO commander: Ukraine could deal devastating blow to Kremlin by attacking Kerch Strait bridge linking mainla… https://t.co/7YKRNI2cwk', 'truncated': True, 'entities': {'hashtags': [], 'symbols': [], 'user_mentions': [], 'urls': [{'url': 'https://t.co/7YKRNI2cwk', 'expanded_url': 'https://twitter.com/i/web/status/1545402499447783425', 'display_url': 'twitter.com/i/web/status/1…', 'indices': [117, 140]}]}, 'source': '<a href=\"https://mobile.twitter.com\" rel=\"nofollow\">Twitter Web App</a>', 'in_reply_to_status_id': None, 'in_reply_to_status_id_str': None, 'in_reply_to_user_id': None, 'in_reply_to_user_id_str': None, 'in_reply_to_screen_name': None, 'user': {'id': 1462548977367359490, 'id_str': '1462548977367359490', 'name': 'The Kyiv Independent', 'screen_name': 'KyivIndependent', 'location': 'Kyiv', 'description': 'Independent English-language journalism in Ukraine.\\n\\nBecome our patron: https://t.co/4OIXdyilwG\\n\\nDonate: https://t.co/SoNr2TVrxO', 'url': 'https://t.co/WZvsaFpT20', 'entities': {'url': {'urls': [{'url': 'https://t.co/WZvsaFpT20', 'expanded_url': 'http://kyivindependent.com', 'display_url': 'kyivindependent.com', 'indices': [0, 23]}]}, 'description': {'urls': [{'url': 'https://t.co/4OIXdyilwG', 'expanded_url': 'http://patreon.com/kyivindependent', 'display_url': 'patreon.com/kyivindependent', 'indices': [72, 95]}, {'url': 'https://t.co/SoNr2TVrxO', 'expanded_url': 'https://www.gofundme.com/f/kyivindependent-launch', 'display_url': 'gofundme.com/f/kyivindepend…', 'indices': [105, 128]}]}}, 'protected': False, 'followers_count': 2150419, 'friends_count': 19, 'listed_count': 16306, 'created_at': 'Sun Nov 21 22:30:41 +0000 2021', 'favourites_count': 149, 'utc_offset': None, 'time_zone': None, 'geo_enabled': False, 'verified': True, 'statuses_count': 7725, 'lang': None, 'contributors_enabled': False, 'is_translator': False, 'is_translation_enabled': False, 'profile_background_color': 'F5F8FA', 'profile_background_image_url': None, 'profile_background_image_url_https': None, 'profile_background_tile': False, 'profile_image_url': 'http://pbs.twimg.com/profile_images/1462549054420926466/SZ36DVvO_normal.png', 'profile_image_url_https': 'https://pbs.twimg.com/profile_images/1462549054420926466/SZ36DVvO_normal.png', 'profile_banner_url': 'https://pbs.twimg.com/profile_banners/1462548977367359490/1637535531', 'profile_link_color': '1DA1F2', 'profile_sidebar_border_color': 'C0DEED', 'profile_sidebar_fill_color': 'DDEEF6', 'profile_text_color': '333333', 'profile_use_background_image': True, 'has_extended_profile': True, 'default_profile': True, 'default_profile_image': False, 'following': False, 'follow_request_sent': False, 'notifications': False, 'translator_type': 'none', 'withheld_in_countries': []}, 'geo': None, 'coordinates': None, 'place': None, 'contributors': None, 'is_quote_status': False, 'retweet_count': 2367, 'favorite_count': 15598, 'favorited': False, 'retweeted': False, 'lang': 'en'}, created_at=datetime.datetime(2022, 7, 8, 13, 40, 42, tzinfo=datetime.timezone.utc), id=1545402499447783425, id_str='1545402499447783425', text='⚡️Ex-NATO commander: Ukraine could deal devastating blow to Kremlin by attacking Kerch Strait bridge linking mainla… https://t.co/7YKRNI2cwk', truncated=True, entities={'hashtags': [], 'symbols': [], 'user_mentions': [], 'urls': [{'url': 'https://t.co/7YKRNI2cwk', 'expanded_url': 'https://twitter.com/i/web/status/1545402499447783425', 'display_url': 'twitter.com/i/web/status/1…', 'indices': [117, 140]}]}, source='Twitter Web App', source_url='https://mobile.twitter.com', in_reply_to_status_id=None, in_reply_to_status_id_str=None, in_reply_to_user_id=None, in_reply_to_user_id_str=None, in_reply_to_screen_name=None, author=User(_api=<tweepy.api.API object at 0x0000014F293D01F0>, _json={'id': 1462548977367359490, 'id_str': '1462548977367359490', 'name': 'The Kyiv Independent', 'screen_name': 'KyivIndependent', 'location': 'Kyiv', 'description': 'Independent English-language journalism in Ukraine.\\n\\nBecome our patron: https://t.co/4OIXdyilwG\\n\\nDonate: https://t.co/SoNr2TVrxO', 'url': 'https://t.co/WZvsaFpT20', 'entities': {'url': {'urls': [{'url': 'https://t.co/WZvsaFpT20', 'expanded_url': 'http://kyivindependent.com', 'display_url': 'kyivindependent.com', 'indices': [0, 23]}]}, 'description': {'urls': [{'url': 'https://t.co/4OIXdyilwG', 'expanded_url': 'http://patreon.com/kyivindependent', 'display_url': 'patreon.com/kyivindependent', 'indices': [72, 95]}, {'url': 'https://t.co/SoNr2TVrxO', 'expanded_url': 'https://www.gofundme.com/f/kyivindependent-launch', 'display_url': 'gofundme.com/f/kyivindepend…', 'indices': [105, 128]}]}}, 'protected': False, 'followers_count': 2150419, 'friends_count': 19, 'listed_count': 16306, 'created_at': 'Sun Nov 21 22:30:41 +0000 2021', 'favourites_count': 149, 'utc_offset': None, 'time_zone': None, 'geo_enabled': False, 'verified': True, 'statuses_count': 7725, 'lang': None, 'contributors_enabled': False, 'is_translator': False, 'is_translation_enabled': False, 'profile_background_color': 'F5F8FA', 'profile_background_image_url': None, 'profile_background_image_url_https': None, 'profile_background_tile': False, 'profile_image_url': 'http://pbs.twimg.com/profile_images/1462549054420926466/SZ36DVvO_normal.png', 'profile_image_url_https': 'https://pbs.twimg.com/profile_images/1462549054420926466/SZ36DVvO_normal.png', 'profile_banner_url': 'https://pbs.twimg.com/profile_banners/1462548977367359490/1637535531', 'profile_link_color': '1DA1F2', 'profile_sidebar_border_color': 'C0DEED', 'profile_sidebar_fill_color': 'DDEEF6', 'profile_text_color': '333333', 'profile_use_background_image': True, 'has_extended_profile': True, 'default_profile': True, 'default_profile_image': False, 'following': False, 'follow_request_sent': False, 'notifications': False, 'translator_type': 'none', 'withheld_in_countries': []}, id=1462548977367359490, id_str='1462548977367359490', name='The Kyiv Independent', screen_name='KyivIndependent', location='Kyiv', description='Independent English-language journalism in Ukraine.\\n\\nBecome our patron: https://t.co/4OIXdyilwG\\n\\nDonate: https://t.co/SoNr2TVrxO', url='https://t.co/WZvsaFpT20', entities={'url': {'urls': [{'url': 'https://t.co/WZvsaFpT20', 'expanded_url': 'http://kyivindependent.com', 'display_url': 'kyivindependent.com', 'indices': [0, 23]}]}, 'description': {'urls': [{'url': 'https://t.co/4OIXdyilwG', 'expanded_url': 'http://patreon.com/kyivindependent', 'display_url': 'patreon.com/kyivindependent', 'indices': [72, 95]}, {'url': 'https://t.co/SoNr2TVrxO', 'expanded_url': 'https://www.gofundme.com/f/kyivindependent-launch', 'display_url': 'gofundme.com/f/kyivindepend…', 'indices': [105, 128]}]}}, protected=False, followers_count=2150419, friends_count=19, listed_count=16306, created_at=datetime.datetime(2021, 11, 21, 22, 30, 41, tzinfo=datetime.timezone.utc), favourites_count=149, utc_offset=None, time_zone=None, geo_enabled=False, verified=True, statuses_count=7725, lang=None, contributors_enabled=False, is_translator=False, is_translation_enabled=False, profile_background_color='F5F8FA', profile_background_image_url=None, profile_background_image_url_https=None, profile_background_tile=False, profile_image_url='http://pbs.twimg.com/profile_images/1462549054420926466/SZ36DVvO_normal.png', profile_image_url_https='https://pbs.twimg.com/profile_images/1462549054420926466/SZ36DVvO_normal.png', profile_banner_url='https://pbs.twimg.com/profile_banners/1462548977367359490/1637535531', profile_link_color='1DA1F2', profile_sidebar_border_color='C0DEED', profile_sidebar_fill_color='DDEEF6', profile_text_color='333333', profile_use_background_image=True, has_extended_profile=True, default_profile=True, default_profile_image=False, following=False, follow_request_sent=False, notifications=False, translator_type='none', withheld_in_countries=[]), user=User(_api=<tweepy.api.API object at 0x0000014F293D01F0>, _json={'id': 1462548977367359490, 'id_str': '1462548977367359490', 'name': 'The Kyiv Independent', 'screen_name': 'KyivIndependent', 'location': 'Kyiv', 'description': 'Independent English-language journalism in Ukraine.\\n\\nBecome our patron: https://t.co/4OIXdyilwG\\n\\nDonate: https://t.co/SoNr2TVrxO', 'url': 'https://t.co/WZvsaFpT20', 'entities': {'url': {'urls': [{'url': 'https://t.co/WZvsaFpT20', 'expanded_url': 'http://kyivindependent.com', 'display_url': 'kyivindependent.com', 'indices': [0, 23]}]}, 'description': {'urls': [{'url': 'https://t.co/4OIXdyilwG', 'expanded_url': 'http://patreon.com/kyivindependent', 'display_url': 'patreon.com/kyivindependent', 'indices': [72, 95]}, {'url': 'https://t.co/SoNr2TVrxO', 'expanded_url': 'https://www.gofundme.com/f/kyivindependent-launch', 'display_url': 'gofundme.com/f/kyivindepend…', 'indices': [105, 128]}]}}, 'protected': False, 'followers_count': 2150419, 'friends_count': 19, 'listed_count': 16306, 'created_at': 'Sun Nov 21 22:30:41 +0000 2021', 'favourites_count': 149, 'utc_offset': None, 'time_zone': None, 'geo_enabled': False, 'verified': True, 'statuses_count': 7725, 'lang': None, 'contributors_enabled': False, 'is_translator': False, 'is_translation_enabled': False, 'profile_background_color': 'F5F8FA', 'profile_background_image_url': None, 'profile_background_image_url_https': None, 'profile_background_tile': False, 'profile_image_url': 'http://pbs.twimg.com/profile_images/1462549054420926466/SZ36DVvO_normal.png', 'profile_image_url_https': 'https://pbs.twimg.com/profile_images/1462549054420926466/SZ36DVvO_normal.png', 'profile_banner_url': 'https://pbs.twimg.com/profile_banners/1462548977367359490/1637535531', 'profile_link_color': '1DA1F2', 'profile_sidebar_border_color': 'C0DEED', 'profile_sidebar_fill_color': 'DDEEF6', 'profile_text_color': '333333', 'profile_use_background_image': True, 'has_extended_profile': True, 'default_profile': True, 'default_profile_image': False, 'following': False, 'follow_request_sent': False, 'notifications': False, 'translator_type': 'none', 'withheld_in_countries': []}, id=1462548977367359490, id_str='1462548977367359490', name='The Kyiv Independent', screen_name='KyivIndependent', location='Kyiv', description='Independent English-language journalism in Ukraine.\\n\\nBecome our patron: https://t.co/4OIXdyilwG\\n\\nDonate: https://t.co/SoNr2TVrxO', url='https://t.co/WZvsaFpT20', entities={'url': {'urls': [{'url': 'https://t.co/WZvsaFpT20', 'expanded_url': 'http://kyivindependent.com', 'display_url': 'kyivindependent.com', 'indices': [0, 23]}]}, 'description': {'urls': [{'url': 'https://t.co/4OIXdyilwG', 'expanded_url': 'http://patreon.com/kyivindependent', 'display_url': 'patreon.com/kyivindependent', 'indices': [72, 95]}, {'url': 'https://t.co/SoNr2TVrxO', 'expanded_url': 'https://www.gofundme.com/f/kyivindependent-launch', 'display_url': 'gofundme.com/f/kyivindepend…', 'indices': [105, 128]}]}}, protected=False, followers_count=2150419, friends_count=19, listed_count=16306, created_at=datetime.datetime(2021, 11, 21, 22, 30, 41, tzinfo=datetime.timezone.utc), favourites_count=149, utc_offset=None, time_zone=None, geo_enabled=False, verified=True, statuses_count=7725, lang=None, contributors_enabled=False, is_translator=False, is_translation_enabled=False, profile_background_color='F5F8FA', profile_background_image_url=None, profile_background_image_url_https=None, profile_background_tile=False, profile_image_url='http://pbs.twimg.com/profile_images/1462549054420926466/SZ36DVvO_normal.png', profile_image_url_https='https://pbs.twimg.com/profile_images/1462549054420926466/SZ36DVvO_normal.png', profile_banner_url='https://pbs.twimg.com/profile_banners/1462548977367359490/1637535531', profile_link_color='1DA1F2', profile_sidebar_border_color='C0DEED', profile_sidebar_fill_color='DDEEF6', profile_text_color='333333', profile_use_background_image=True, has_extended_profile=True, default_profile=True, default_profile_image=False, following=False, follow_request_sent=False, notifications=False, translator_type='none', withheld_in_countries=[]), geo=None, coordinates=None, place=None, contributors=None, is_quote_status=False, retweet_count=2367, favorite_count=15598, favorited=False, retweeted=False, lang='en'), is_quote_status=False, retweet_count=2367, favorite_count=0, favorited=False, retweeted=False, lang='en'), Status(_api=<tweepy.api.API object at 0x0000014F293D01F0>, _json={'created_at': 'Sat Jul 09 00:22:10 +0000 2022', 'id': 1545563929102909440, 'id_str': '1545563929102909440', 'text': 'RT @NormOrnstein: The Supreme Court was fine with people protesting at the homes of abortion clinic workers. Scalia, joined by his colleagu…', 'truncated': False, 'entities': {'hashtags': [], 'symbols': [], 'user_mentions': [{'screen_name': 'NormOrnstein', 'name': 'Norman Ornstein', 'id': 2223157392, 'id_str': '2223157392', 'indices': [3, 16]}], 'urls': []}, 'source': '<a href=\"http://twitter.com/download/iphone\" rel=\"nofollow\">Twitter for iPhone</a>', 'in_reply_to_status_id': None, 'in_reply_to_status_id_str': None, 'in_reply_to_user_id': None, 'in_reply_to_user_id_str': None, 'in_reply_to_screen_name': None, 'user': {'id': 27493883, 'id_str': '27493883', 'name': 'Jon Cooper', 'screen_name': 'joncoopertweets', 'location': 'New York, Florida', 'description': 'Former National Finance Chair of Draft Biden 2016, Long Island Campaign Chair for @BarackObama & Majority Leader of Suffolk County Legislature, NY. @DukeU alum', 'url': None, 'entities': {'description': {'urls': []}}, 'protected': False, 'followers_count': 1026754, 'friends_count': 66952, 'listed_count': 3288, 'created_at': 'Sun Mar 29 20:12:52 +0000 2009', 'favourites_count': 297497, 'utc_offset': None, 'time_zone': None, 'geo_enabled': False, 'verified': True, 'statuses_count': 345163, 'lang': None, 'contributors_enabled': False, 'is_translator': False, 'is_translation_enabled': False, 'profile_background_color': 'C0DEED', 'profile_background_image_url': 'http://abs.twimg.com/images/themes/theme1/bg.png', 'profile_background_image_url_https': 'https://abs.twimg.com/images/themes/theme1/bg.png', 'profile_background_tile': False, 'profile_image_url': 'http://pbs.twimg.com/profile_images/1530358747511631874/G8bvUIHV_normal.jpg', 'profile_image_url_https': 'https://pbs.twimg.com/profile_images/1530358747511631874/G8bvUIHV_normal.jpg', 'profile_banner_url': 'https://pbs.twimg.com/profile_banners/27493883/1656387393', 'profile_link_color': '1DA1F2', 'profile_sidebar_border_color': 'C0DEED', 'profile_sidebar_fill_color': 'DDEEF6', 'profile_text_color': '333333', 'profile_use_background_image': True, 'has_extended_profile': True, 'default_profile': True, 'default_profile_image': False, 'following': True, 'follow_request_sent': False, 'notifications': False, 'translator_type': 'none', 'withheld_in_countries': []}, 'geo': None, 'coordinates': None, 'place': None, 'contributors': None, 'retweeted_status': {'created_at': 'Fri Jul 08 21:23:02 +0000 2022', 'id': 1545518850015477760, 'id_str': '1545518850015477760', 'text': 'The Supreme Court was fine with people protesting at the homes of abortion clinic workers. Scalia, joined by his co… https://t.co/wZ55MzSZ9F', 'truncated': True, 'entities': {'hashtags': [], 'symbols': [], 'user_mentions': [], 'urls': [{'url': 'https://t.co/wZ55MzSZ9F', 'expanded_url': 'https://twitter.com/i/web/status/1545518850015477760', 'display_url': 'twitter.com/i/web/status/1…', 'indices': [117, 140]}]}, 'source': '<a href=\"http://twitter.com/#!/download/ipad\" rel=\"nofollow\">Twitter for iPad</a>', 'in_reply_to_status_id': None, 'in_reply_to_status_id_str': None, 'in_reply_to_user_id': None, 'in_reply_to_user_id_str': None, 'in_reply_to_screen_name': None, 'user': {'id': 2223157392, 'id_str': '2223157392', 'name': 'Norman Ornstein', 'screen_name': 'NormOrnstein', 'location': 'Washington, DC', 'description': 'Norman Ornstein is an emeritus scholar at the American Enterprise Institute and a contributing editor for the Atlantic.', 'url': 'https://t.co/kgDvRhsT0k', 'entities': {'url': {'urls': [{'url': 'https://t.co/kgDvRhsT0k', 'expanded_url': 'http://www.aei.org', 'display_url': 'aei.org', 'indices': [0, 23]}]}, 'description': {'urls': []}}, 'protected': False, 'followers_count': 220089, 'friends_count': 3547, 'listed_count': 2470, 'created_at': 'Sat Nov 30 14:09:14 +0000 2013', 'favourites_count': 69436, 'utc_offset': None, 'time_zone': None, 'geo_enabled': False, 'verified': True, 'statuses_count': 128609, 'lang': None, 'contributors_enabled': False, 'is_translator': False, 'is_translation_enabled': False, 'profile_background_color': 'C0DEED', 'profile_background_image_url': 'http://abs.twimg.com/images/themes/theme1/bg.png', 'profile_background_image_url_https': 'https://abs.twimg.com/images/themes/theme1/bg.png', 'profile_background_tile': False, 'profile_image_url': 'http://pbs.twimg.com/profile_images/1003727319838552064/cppLLu49_normal.jpg', 'profile_image_url_https': 'https://pbs.twimg.com/profile_images/1003727319838552064/cppLLu49_normal.jpg', 'profile_banner_url': 'https://pbs.twimg.com/profile_banners/2223157392/1528142009', 'profile_link_color': '1DA1F2', 'profile_sidebar_border_color': 'C0DEED', 'profile_sidebar_fill_color': 'DDEEF6', 'profile_text_color': '333333', 'profile_use_background_image': True, 'has_extended_profile': True, 'default_profile': True, 'default_profile_image': False, 'following': False, 'follow_request_sent': False, 'notifications': False, 'translator_type': 'none', 'withheld_in_countries': []}, 'geo': None, 'coordinates': None, 'place': None, 'contributors': None, 'is_quote_status': False, 'retweet_count': 5172, 'favorite_count': 19072, 'favorited': False, 'retweeted': False, 'lang': 'en'}, 'is_quote_status': False, 'retweet_count': 5172, 'favorite_count': 0, 'favorited': False, 'retweeted': False, 'lang': 'en'}, created_at=datetime.datetime(2022, 7, 9, 0, 22, 10, tzinfo=datetime.timezone.utc), id=1545563929102909440, id_str='1545563929102909440', text='RT @NormOrnstein: The Supreme Court was fine with people protesting at the homes of abortion clinic workers. Scalia, joined by his colleagu…', truncated=False, entities={'hashtags': [], 'symbols': [], 'user_mentions': [{'screen_name': 'NormOrnstein', 'name': 'Norman Ornstein', 'id': 2223157392, 'id_str': '2223157392', 'indices': [3, 16]}], 'urls': []}, source='Twitter for iPhone', source_url='http://twitter.com/download/iphone', in_reply_to_status_id=None, in_reply_to_status_id_str=None, in_reply_to_user_id=None, in_reply_to_user_id_str=None, in_reply_to_screen_name=None, author=User(_api=<tweepy.api.API object at 0x0000014F293D01F0>, _json={'id': 27493883, 'id_str': '27493883', 'name': 'Jon Cooper', 'screen_name': 'joncoopertweets', 'location': 'New York, Florida', 'description': 'Former National Finance Chair of Draft Biden 2016, Long Island Campaign Chair for @BarackObama & Majority Leader of Suffolk County Legislature, NY. @DukeU alum', 'url': None, 'entities': {'description': {'urls': []}}, 'protected': False, 'followers_count': 1026754, 'friends_count': 66952, 'listed_count': 3288, 'created_at': 'Sun Mar 29 20:12:52 +0000 2009', 'favourites_count': 297497, 'utc_offset': None, 'time_zone': None, 'geo_enabled': False, 'verified': True, 'statuses_count': 345163, 'lang': None, 'contributors_enabled': False, 'is_translator': False, 'is_translation_enabled': False, 'profile_background_color': 'C0DEED', 'profile_background_image_url': 'http://abs.twimg.com/images/themes/theme1/bg.png', 'profile_background_image_url_https': 'https://abs.twimg.com/images/themes/theme1/bg.png', 'profile_background_tile': False, 'profile_image_url': 'http://pbs.twimg.com/profile_images/1530358747511631874/G8bvUIHV_normal.jpg', 'profile_image_url_https': 'https://pbs.twimg.com/profile_images/1530358747511631874/G8bvUIHV_normal.jpg', 'profile_banner_url': 'https://pbs.twimg.com/profile_banners/27493883/1656387393', 'profile_link_color': '1DA1F2', 'profile_sidebar_border_color': 'C0DEED', 'profile_sidebar_fill_color': 'DDEEF6', 'profile_text_color': '333333', 'profile_use_background_image': True, 'has_extended_profile': True, 'default_profile': True, 'default_profile_image': False, 'following': True, 'follow_request_sent': False, 'notifications': False, 'translator_type': 'none', 'withheld_in_countries': []}, id=27493883, id_str='27493883', name='Jon Cooper', screen_name='joncoopertweets', location='New York, Florida', description='Former National Finance Chair of Draft Biden 2016, Long Island Campaign Chair for @BarackObama & Majority Leader of Suffolk County Legislature, NY. @DukeU alum', url=None, entities={'description': {'urls': []}}, protected=False, followers_count=1026754, friends_count=66952, listed_count=3288, created_at=datetime.datetime(2009, 3, 29, 20, 12, 52, tzinfo=datetime.timezone.utc), favourites_count=297497, utc_offset=None, time_zone=None, geo_enabled=False, verified=True, statuses_count=345163, lang=None, contributors_enabled=False, is_translator=False, is_translation_enabled=False, profile_background_color='C0DEED', profile_background_image_url='http://abs.twimg.com/images/themes/theme1/bg.png', profile_background_image_url_https='https://abs.twimg.com/images/themes/theme1/bg.png', profile_background_tile=False, profile_image_url='http://pbs.twimg.com/profile_images/1530358747511631874/G8bvUIHV_normal.jpg', profile_image_url_https='https://pbs.twimg.com/profile_images/1530358747511631874/G8bvUIHV_normal.jpg', profile_banner_url='https://pbs.twimg.com/profile_banners/27493883/1656387393', profile_link_color='1DA1F2', profile_sidebar_border_color='C0DEED', profile_sidebar_fill_color='DDEEF6', profile_text_color='333333', profile_use_background_image=True, has_extended_profile=True, default_profile=True, default_profile_image=False, following=True, follow_request_sent=False, notifications=False, translator_type='none', withheld_in_countries=[]), user=User(_api=<tweepy.api.API object at 0x0000014F293D01F0>, _json={'id': 27493883, 'id_str': '27493883', 'name': 'Jon Cooper', 'screen_name': 'joncoopertweets', 'location': 'New York, Florida', 'description': 'Former National Finance Chair of Draft Biden 2016, Long Island Campaign Chair for @BarackObama & Majority Leader of Suffolk County Legislature, NY. @DukeU alum', 'url': None, 'entities': {'description': {'urls': []}}, 'protected': False, 'followers_count': 1026754, 'friends_count': 66952, 'listed_count': 3288, 'created_at': 'Sun Mar 29 20:12:52 +0000 2009', 'favourites_count': 297497, 'utc_offset': None, 'time_zone': None, 'geo_enabled': False, 'verified': True, 'statuses_count': 345163, 'lang': None, 'contributors_enabled': False, 'is_translator': False, 'is_translation_enabled': False, 'profile_background_color': 'C0DEED', 'profile_background_image_url': 'http://abs.twimg.com/images/themes/theme1/bg.png', 'profile_background_image_url_https': 'https://abs.twimg.com/images/themes/theme1/bg.png', 'profile_background_tile': False, 'profile_image_url': 'http://pbs.twimg.com/profile_images/1530358747511631874/G8bvUIHV_normal.jpg', 'profile_image_url_https': 'https://pbs.twimg.com/profile_images/1530358747511631874/G8bvUIHV_normal.jpg', 'profile_banner_url': 'https://pbs.twimg.com/profile_banners/27493883/1656387393', 'profile_link_color': '1DA1F2', 'profile_sidebar_border_color': 'C0DEED', 'profile_sidebar_fill_color': 'DDEEF6', 'profile_text_color': '333333', 'profile_use_background_image': True, 'has_extended_profile': True, 'default_profile': True, 'default_profile_image': False, 'following': True, 'follow_request_sent': False, 'notifications': False, 'translator_type': 'none', 'withheld_in_countries': []}, id=27493883, id_str='27493883', name='Jon Cooper', screen_name='joncoopertweets', location='New York, Florida', description='Former National Finance Chair of Draft Biden 2016, Long Island Campaign Chair for @BarackObama & Majority Leader of Suffolk County Legislature, NY. @DukeU alum', url=None, entities={'description': {'urls': []}}, protected=False, followers_count=1026754, friends_count=66952, listed_count=3288, created_at=datetime.datetime(2009, 3, 29, 20, 12, 52, tzinfo=datetime.timezone.utc), favourites_count=297497, utc_offset=None, time_zone=None, geo_enabled=False, verified=True, statuses_count=345163, lang=None, contributors_enabled=False, is_translator=False, is_translation_enabled=False, profile_background_color='C0DEED', profile_background_image_url='http://abs.twimg.com/images/themes/theme1/bg.png', profile_background_image_url_https='https://abs.twimg.com/images/themes/theme1/bg.png', profile_background_tile=False, profile_image_url='http://pbs.twimg.com/profile_images/1530358747511631874/G8bvUIHV_normal.jpg', profile_image_url_https='https://pbs.twimg.com/profile_images/1530358747511631874/G8bvUIHV_normal.jpg', profile_banner_url='https://pbs.twimg.com/profile_banners/27493883/1656387393', profile_link_color='1DA1F2', profile_sidebar_border_color='C0DEED', profile_sidebar_fill_color='DDEEF6', profile_text_color='333333', profile_use_background_image=True, has_extended_profile=True, default_profile=True, default_profile_image=False, following=True, follow_request_sent=False, notifications=False, translator_type='none', withheld_in_countries=[]), geo=None, coordinates=None, place=None, contributors=None, retweeted_status=Status(_api=<tweepy.api.API object at 0x0000014F293D01F0>, _json={'created_at': 'Fri Jul 08 21:23:02 +0000 2022', 'id': 1545518850015477760, 'id_str': '1545518850015477760', 'text': 'The Supreme Court was fine with people protesting at the homes of abortion clinic workers. Scalia, joined by his co… https://t.co/wZ55MzSZ9F', 'truncated': True, 'entities': {'hashtags': [], 'symbols': [], 'user_mentions': [], 'urls': [{'url': 'https://t.co/wZ55MzSZ9F', 'expanded_url': 'https://twitter.com/i/web/status/1545518850015477760', 'display_url': 'twitter.com/i/web/status/1…', 'indices': [117, 140]}]}, 'source': '<a href=\"http://twitter.com/#!/download/ipad\" rel=\"nofollow\">Twitter for iPad</a>', 'in_reply_to_status_id': None, 'in_reply_to_status_id_str': None, 'in_reply_to_user_id': None, 'in_reply_to_user_id_str': None, 'in_reply_to_screen_name': None, 'user': {'id': 2223157392, 'id_str': '2223157392', 'name': 'Norman Ornstein', 'screen_name': 'NormOrnstein', 'location': 'Washington, DC', 'description': 'Norman Ornstein is an emeritus scholar at the American Enterprise Institute and a contributing editor for the Atlantic.', 'url': 'https://t.co/kgDvRhsT0k', 'entities': {'url': {'urls': [{'url': 'https://t.co/kgDvRhsT0k', 'expanded_url': 'http://www.aei.org', 'display_url': 'aei.org', 'indices': [0, 23]}]}, 'description': {'urls': []}}, 'protected': False, 'followers_count': 220089, 'friends_count': 3547, 'listed_count': 2470, 'created_at': 'Sat Nov 30 14:09:14 +0000 2013', 'favourites_count': 69436, 'utc_offset': None, 'time_zone': None, 'geo_enabled': False, 'verified': True, 'statuses_count': 128609, 'lang': None, 'contributors_enabled': False, 'is_translator': False, 'is_translation_enabled': False, 'profile_background_color': 'C0DEED', 'profile_background_image_url': 'http://abs.twimg.com/images/themes/theme1/bg.png', 'profile_background_image_url_https': 'https://abs.twimg.com/images/themes/theme1/bg.png', 'profile_background_tile': False, 'profile_image_url': 'http://pbs.twimg.com/profile_images/1003727319838552064/cppLLu49_normal.jpg', 'profile_image_url_https': 'https://pbs.twimg.com/profile_images/1003727319838552064/cppLLu49_normal.jpg', 'profile_banner_url': 'https://pbs.twimg.com/profile_banners/2223157392/1528142009', 'profile_link_color': '1DA1F2', 'profile_sidebar_border_color': 'C0DEED', 'profile_sidebar_fill_color': 'DDEEF6', 'profile_text_color': '333333', 'profile_use_background_image': True, 'has_extended_profile': True, 'default_profile': True, 'default_profile_image': False, 'following': False, 'follow_request_sent': False, 'notifications': False, 'translator_type': 'none', 'withheld_in_countries': []}, 'geo': None, 'coordinates': None, 'place': None, 'contributors': None, 'is_quote_status': False, 'retweet_count': 5172, 'favorite_count': 19072, 'favorited': False, 'retweeted': False, 'lang': 'en'}, created_at=datetime.datetime(2022, 7, 8, 21, 23, 2, tzinfo=datetime.timezone.utc), id=1545518850015477760, id_str='1545518850015477760', text='The Supreme Court was fine with people protesting at the homes of abortion clinic workers. Scalia, joined by his co… https://t.co/wZ55MzSZ9F', truncated=True, entities={'hashtags': [], 'symbols': [], 'user_mentions': [], 'urls': [{'url': 'https://t.co/wZ55MzSZ9F', 'expanded_url': 'https://twitter.com/i/web/status/1545518850015477760', 'display_url': 'twitter.com/i/web/status/1…', 'indices': [117, 140]}]}, source='Twitter for iPad', source_url='http://twitter.com/#!/download/ipad', in_reply_to_status_id=None, in_reply_to_status_id_str=None, in_reply_to_user_id=None, in_reply_to_user_id_str=None, in_reply_to_screen_name=None, author=User(_api=<tweepy.api.API object at 0x0000014F293D01F0>, _json={'id': 2223157392, 'id_str': '2223157392', 'name': 'Norman Ornstein', 'screen_name': 'NormOrnstein', 'location': 'Washington, DC', 'description': 'Norman Ornstein is an emeritus scholar at the American Enterprise Institute and a contributing editor for the Atlantic.', 'url': 'https://t.co/kgDvRhsT0k', 'entities': {'url': {'urls': [{'url': 'https://t.co/kgDvRhsT0k', 'expanded_url': 'http://www.aei.org', 'display_url': 'aei.org', 'indices': [0, 23]}]}, 'description': {'urls': []}}, 'protected': False, 'followers_count': 220089, 'friends_count': 3547, 'listed_count': 2470, 'created_at': 'Sat Nov 30 14:09:14 +0000 2013', 'favourites_count': 69436, 'utc_offset': None, 'time_zone': None, 'geo_enabled': False, 'verified': True, 'statuses_count': 128609, 'lang': None, 'contributors_enabled': False, 'is_translator': False, 'is_translation_enabled': False, 'profile_background_color': 'C0DEED', 'profile_background_image_url': 'http://abs.twimg.com/images/themes/theme1/bg.png', 'profile_background_image_url_https': 'https://abs.twimg.com/images/themes/theme1/bg.png', 'profile_background_tile': False, 'profile_image_url': 'http://pbs.twimg.com/profile_images/1003727319838552064/cppLLu49_normal.jpg', 'profile_image_url_https': 'https://pbs.twimg.com/profile_images/1003727319838552064/cppLLu49_normal.jpg', 'profile_banner_url': 'https://pbs.twimg.com/profile_banners/2223157392/1528142009', 'profile_link_color': '1DA1F2', 'profile_sidebar_border_color': 'C0DEED', 'profile_sidebar_fill_color': 'DDEEF6', 'profile_text_color': '333333', 'profile_use_background_image': True, 'has_extended_profile': True, 'default_profile': True, 'default_profile_image': False, 'following': False, 'follow_request_sent': False, 'notifications': False, 'translator_type': 'none', 'withheld_in_countries': []}, id=2223157392, id_str='2223157392', name='Norman Ornstein', screen_name='NormOrnstein', location='Washington, DC', description='Norman Ornstein is an emeritus scholar at the American Enterprise Institute and a contributing editor for the Atlantic.', url='https://t.co/kgDvRhsT0k', entities={'url': {'urls': [{'url': 'https://t.co/kgDvRhsT0k', 'expanded_url': 'http://www.aei.org', 'display_url': 'aei.org', 'indices': [0, 23]}]}, 'description': {'urls': []}}, protected=False, followers_count=220089, friends_count=3547, listed_count=2470, created_at=datetime.datetime(2013, 11, 30, 14, 9, 14, tzinfo=datetime.timezone.utc), favourites_count=69436, utc_offset=None, time_zone=None, geo_enabled=False, verified=True, statuses_count=128609, lang=None, contributors_enabled=False, is_translator=False, is_translation_enabled=False, profile_background_color='C0DEED', profile_background_image_url='http://abs.twimg.com/images/themes/theme1/bg.png', profile_background_image_url_https='https://abs.twimg.com/images/themes/theme1/bg.png', profile_background_tile=False, profile_image_url='http://pbs.twimg.com/profile_images/1003727319838552064/cppLLu49_normal.jpg', profile_image_url_https='https://pbs.twimg.com/profile_images/1003727319838552064/cppLLu49_normal.jpg', profile_banner_url='https://pbs.twimg.com/profile_banners/2223157392/1528142009', profile_link_color='1DA1F2', profile_sidebar_border_color='C0DEED', profile_sidebar_fill_color='DDEEF6', profile_text_color='333333', profile_use_background_image=True, has_extended_profile=True, default_profile=True, default_profile_image=False, following=False, follow_request_sent=False, notifications=False, translator_type='none', withheld_in_countries=[]), user=User(_api=<tweepy.api.API object at 0x0000014F293D01F0>, _json={'id': 2223157392, 'id_str': '2223157392', 'name': 'Norman Ornstein', 'screen_name': 'NormOrnstein', 'location': 'Washington, DC', 'description': 'Norman Ornstein is an emeritus scholar at the American Enterprise Institute and a contributing editor for the Atlantic.', 'url': 'https://t.co/kgDvRhsT0k', 'entities': {'url': {'urls': [{'url': 'https://t.co/kgDvRhsT0k', 'expanded_url': 'http://www.aei.org', 'display_url': 'aei.org', 'indices': [0, 23]}]}, 'description': {'urls': []}}, 'protected': False, 'followers_count': 220089, 'friends_count': 3547, 'listed_count': 2470, 'created_at': 'Sat Nov 30 14:09:14 +0000 2013', 'favourites_count': 69436, 'utc_offset': None, 'time_zone': None, 'geo_enabled': False, 'verified': True, 'statuses_count': 128609, 'lang': None, 'contributors_enabled': False, 'is_translator': False, 'is_translation_enabled': False, 'profile_background_color': 'C0DEED', 'profile_background_image_url': 'http://abs.twimg.com/images/themes/theme1/bg.png', 'profile_background_image_url_https': 'https://abs.twimg.com/images/themes/theme1/bg.png', 'profile_background_tile': False, 'profile_image_url': 'http://pbs.twimg.com/profile_images/1003727319838552064/cppLLu49_normal.jpg', 'profile_image_url_https': 'https://pbs.twimg.com/profile_images/1003727319838552064/cppLLu49_normal.jpg', 'profile_banner_url': 'https://pbs.twimg.com/profile_banners/2223157392/1528142009', 'profile_link_color': '1DA1F2', 'profile_sidebar_border_color': 'C0DEED', 'profile_sidebar_fill_color': 'DDEEF6', 'profile_text_color': '333333', 'profile_use_background_image': True, 'has_extended_profile': True, 'default_profile': True, 'default_profile_image': False, 'following': False, 'follow_request_sent': False, 'notifications': False, 'translator_type': 'none', 'withheld_in_countries': []}, id=2223157392, id_str='2223157392', name='Norman Ornstein', screen_name='NormOrnstein', location='Washington, DC', description='Norman Ornstein is an emeritus scholar at the American Enterprise Institute and a contributing editor for the Atlantic.', url='https://t.co/kgDvRhsT0k', entities={'url': {'urls': [{'url': 'https://t.co/kgDvRhsT0k', 'expanded_url': 'http://www.aei.org', 'display_url': 'aei.org', 'indices': [0, 23]}]}, 'description': {'urls': []}}, protected=False, followers_count=220089, friends_count=3547, listed_count=2470, created_at=datetime.datetime(2013, 11, 30, 14, 9, 14, tzinfo=datetime.timezone.utc), favourites_count=69436, utc_offset=None, time_zone=None, geo_enabled=False, verified=True, statuses_count=128609, lang=None, contributors_enabled=False, is_translator=False, is_translation_enabled=False, profile_background_color='C0DEED', profile_background_image_url='http://abs.twimg.com/images/themes/theme1/bg.png', profile_background_image_url_https='https://abs.twimg.com/images/themes/theme1/bg.png', profile_background_tile=False, profile_image_url='http://pbs.twimg.com/profile_images/1003727319838552064/cppLLu49_normal.jpg', profile_image_url_https='https://pbs.twimg.com/profile_images/1003727319838552064/cppLLu49_normal.jpg', profile_banner_url='https://pbs.twimg.com/profile_banners/2223157392/1528142009', profile_link_color='1DA1F2', profile_sidebar_border_color='C0DEED', profile_sidebar_fill_color='DDEEF6', profile_text_color='333333', profile_use_background_image=True, has_extended_profile=True, default_profile=True, default_profile_image=False, following=False, follow_request_sent=False, notifications=False, translator_type='none', withheld_in_countries=[]), geo=None, coordinates=None, place=None, contributors=None, is_quote_status=False, retweet_count=5172, favorite_count=19072, favorited=False, retweeted=False, lang='en'), is_quote_status=False, retweet_count=5172, favorite_count=0, favorited=False, retweeted=False, lang='en'), Status(_api=<tweepy.api.API object at 0x0000014F293D01F0>, _json={'created_at': 'Sat Jul 09 00:21:41 +0000 2022', 'id': 1545563807409479682, 'id_str': '1545563807409479682', 'text': 'RT @SamRamani2: BREAKING: The US will send additional HIMARS advanced rocket systems to Ukraine in its $400 million military aid package', 'truncated': False, 'entities': {'hashtags': [], 'symbols': [], 'user_mentions': [{'screen_name': 'SamRamani2', 'name': 'Samuel Ramani', 'id': 1957610664, 'id_str': '1957610664', 'indices': [3, 14]}], 'urls': []}, 'source': '<a href=\"http://twitter.com/download/iphone\" rel=\"nofollow\">Twitter for iPhone</a>', 'in_reply_to_status_id': None, 'in_reply_to_status_id_str': None, 'in_reply_to_user_id': None, 'in_reply_to_user_id_str': None, 'in_reply_to_screen_name': None, 'user': {'id': 27493883, 'id_str': '27493883', 'name': 'Jon Cooper', 'screen_name': 'joncoopertweets', 'location': 'New York, Florida', 'description': 'Former National Finance Chair of Draft Biden 2016, Long Island Campaign Chair for @BarackObama & Majority Leader of Suffolk County Legislature, NY. @DukeU alum', 'url': None, 'entities': {'description': {'urls': []}}, 'protected': False, 'followers_count': 1026754, 'friends_count': 66952, 'listed_count': 3288, 'created_at': 'Sun Mar 29 20:12:52 +0000 2009', 'favourites_count': 297497, 'utc_offset': None, 'time_zone': None, 'geo_enabled': False, 'verified': True, 'statuses_count': 345163, 'lang': None, 'contributors_enabled': False, 'is_translator': False, 'is_translation_enabled': False, 'profile_background_color': 'C0DEED', 'profile_background_image_url': 'http://abs.twimg.com/images/themes/theme1/bg.png', 'profile_background_image_url_https': 'https://abs.twimg.com/images/themes/theme1/bg.png', 'profile_background_tile': False, 'profile_image_url': 'http://pbs.twimg.com/profile_images/1530358747511631874/G8bvUIHV_normal.jpg', 'profile_image_url_https': 'https://pbs.twimg.com/profile_images/1530358747511631874/G8bvUIHV_normal.jpg', 'profile_banner_url': 'https://pbs.twimg.com/profile_banners/27493883/1656387393', 'profile_link_color': '1DA1F2', 'profile_sidebar_border_color': 'C0DEED', 'profile_sidebar_fill_color': 'DDEEF6', 'profile_text_color': '333333', 'profile_use_background_image': True, 'has_extended_profile': True, 'default_profile': True, 'default_profile_image': False, 'following': True, 'follow_request_sent': False, 'notifications': False, 'translator_type': 'none', 'withheld_in_countries': []}, 'geo': None, 'coordinates': None, 'place': None, 'contributors': None, 'retweeted_status': {'created_at': 'Fri Jul 08 21:17:44 +0000 2022', 'id': 1545517513752154113, 'id_str': '1545517513752154113', 'text': 'BREAKING: The US will send additional HIMARS advanced rocket systems to Ukraine in its $400 million military aid package', 'truncated': False, 'entities': {'hashtags': [], 'symbols': [], 'user_mentions': [], 'urls': []}, 'source': '<a href=\"https://mobile.twitter.com\" rel=\"nofollow\">Twitter Web App</a>', 'in_reply_to_status_id': None, 'in_reply_to_status_id_str': None, 'in_reply_to_user_id': None, 'in_reply_to_user_id_str': None, 'in_reply_to_screen_name': None, 'user': {'id': 1957610664, 'id_str': '1957610664', 'name': 'Samuel Ramani', 'screen_name': 'SamRamani2', 'location': 'Oxford, England', 'description': 'DPhil/PhD Intl Relations @UniofOxford Assoc Fellow @RUSI_org Bylines @ForeignPolicy, WaPo etc 3 forthcoming books @HurstPublishers Email samuel.ramani@gmail.com', 'url': None, 'entities': {'description': {'urls': []}}, 'protected': False, 'followers_count': 162695, 'friends_count': 3732, 'listed_count': 2414, 'created_at': 'Sat Oct 12 23:22:53 +0000 2013', 'favourites_count': 9209, 'utc_offset': None, 'time_zone': None, 'geo_enabled': False, 'verified': True, 'statuses_count': 19672, 'lang': None, 'contributors_enabled': False, 'is_translator': False, 'is_translation_enabled': False, 'profile_background_color': 'C0DEED', 'profile_background_image_url': 'http://abs.twimg.com/images/themes/theme1/bg.png', 'profile_background_image_url_https': 'https://abs.twimg.com/images/themes/theme1/bg.png', 'profile_background_tile': False, 'profile_image_url': 'http://pbs.twimg.com/profile_images/1082550331114954752/Pg1pRVnh_normal.jpg', 'profile_image_url_https': 'https://pbs.twimg.com/profile_images/1082550331114954752/Pg1pRVnh_normal.jpg', 'profile_banner_url': 'https://pbs.twimg.com/profile_banners/1957610664/1634503725', 'profile_link_color': '1DA1F2', 'profile_sidebar_border_color': 'C0DEED', 'profile_sidebar_fill_color': 'DDEEF6', 'profile_text_color': '333333', 'profile_use_background_image': True, 'has_extended_profile': False, 'default_profile': True, 'default_profile_image': False, 'following': False, 'follow_request_sent': False, 'notifications': False, 'translator_type': 'none', 'withheld_in_countries': []}, 'geo': None, 'coordinates': None, 'place': None, 'contributors': None, 'is_quote_status': False, 'retweet_count': 454, 'favorite_count': 4023, 'favorited': False, 'retweeted': False, 'lang': 'en'}, 'is_quote_status': False, 'retweet_count': 454, 'favorite_count': 0, 'favorited': False, 'retweeted': False, 'lang': 'en'}, created_at=datetime.datetime(2022, 7, 9, 0, 21, 41, tzinfo=datetime.timezone.utc), id=1545563807409479682, id_str='1545563807409479682', text='RT @SamRamani2: BREAKING: The US will send additional HIMARS advanced rocket systems to Ukraine in its $400 million military aid package', truncated=False, entities={'hashtags': [], 'symbols': [], 'user_mentions': [{'screen_name': 'SamRamani2', 'name': 'Samuel Ramani', 'id': 1957610664, 'id_str': '1957610664', 'indices': [3, 14]}], 'urls': []}, source='Twitter for iPhone', source_url='http://twitter.com/download/iphone', in_reply_to_status_id=None, in_reply_to_status_id_str=None, in_reply_to_user_id=None, in_reply_to_user_id_str=None, in_reply_to_screen_name=None, author=User(_api=<tweepy.api.API object at 0x0000014F293D01F0>, _json={'id': 27493883, 'id_str': '27493883', 'name': 'Jon Cooper', 'screen_name': 'joncoopertweets', 'location': 'New York, Florida', 'description': 'Former National Finance Chair of Draft Biden 2016, Long Island Campaign Chair for @BarackObama & Majority Leader of Suffolk County Legislature, NY. @DukeU alum', 'url': None, 'entities': {'description': {'urls': []}}, 'protected': False, 'followers_count': 1026754, 'friends_count': 66952, 'listed_count': 3288, 'created_at': 'Sun Mar 29 20:12:52 +0000 2009', 'favourites_count': 297497, 'utc_offset': None, 'time_zone': None, 'geo_enabled': False, 'verified': True, 'statuses_count': 345163, 'lang': None, 'contributors_enabled': False, 'is_translator': False, 'is_translation_enabled': False, 'profile_background_color': 'C0DEED', 'profile_background_image_url': 'http://abs.twimg.com/images/themes/theme1/bg.png', 'profile_background_image_url_https': 'https://abs.twimg.com/images/themes/theme1/bg.png', 'profile_background_tile': False, 'profile_image_url': 'http://pbs.twimg.com/profile_images/1530358747511631874/G8bvUIHV_normal.jpg', 'profile_image_url_https': 'https://pbs.twimg.com/profile_images/1530358747511631874/G8bvUIHV_normal.jpg', 'profile_banner_url': 'https://pbs.twimg.com/profile_banners/27493883/1656387393', 'profile_link_color': '1DA1F2', 'profile_sidebar_border_color': 'C0DEED', 'profile_sidebar_fill_color': 'DDEEF6', 'profile_text_color': '333333', 'profile_use_background_image': True, 'has_extended_profile': True, 'default_profile': True, 'default_profile_image': False, 'following': True, 'follow_request_sent': False, 'notifications': False, 'translator_type': 'none', 'withheld_in_countries': []}, id=27493883, id_str='27493883', name='Jon Cooper', screen_name='joncoopertweets', location='New York, Florida', description='Former National Finance Chair of Draft Biden 2016, Long Island Campaign Chair for @BarackObama & Majority Leader of Suffolk County Legislature, NY. @DukeU alum', url=None, entities={'description': {'urls': []}}, protected=False, followers_count=1026754, friends_count=66952, listed_count=3288, created_at=datetime.datetime(2009, 3, 29, 20, 12, 52, tzinfo=datetime.timezone.utc), favourites_count=297497, utc_offset=None, time_zone=None, geo_enabled=False, verified=True, statuses_count=345163, lang=None, contributors_enabled=False, is_translator=False, is_translation_enabled=False, profile_background_color='C0DEED', profile_background_image_url='http://abs.twimg.com/images/themes/theme1/bg.png', profile_background_image_url_https='https://abs.twimg.com/images/themes/theme1/bg.png', profile_background_tile=False, profile_image_url='http://pbs.twimg.com/profile_images/1530358747511631874/G8bvUIHV_normal.jpg', profile_image_url_https='https://pbs.twimg.com/profile_images/1530358747511631874/G8bvUIHV_normal.jpg', profile_banner_url='https://pbs.twimg.com/profile_banners/27493883/1656387393', profile_link_color='1DA1F2', profile_sidebar_border_color='C0DEED', profile_sidebar_fill_color='DDEEF6', profile_text_color='333333', profile_use_background_image=True, has_extended_profile=True, default_profile=True, default_profile_image=False, following=True, follow_request_sent=False, notifications=False, translator_type='none', withheld_in_countries=[]), user=User(_api=<tweepy.api.API object at 0x0000014F293D01F0>, _json={'id': 27493883, 'id_str': '27493883', 'name': 'Jon Cooper', 'screen_name': 'joncoopertweets', 'location': 'New York, Florida', 'description': 'Former National Finance Chair of Draft Biden 2016, Long Island Campaign Chair for @BarackObama & Majority Leader of Suffolk County Legislature, NY. @DukeU alum', 'url': None, 'entities': {'description': {'urls': []}}, 'protected': False, 'followers_count': 1026754, 'friends_count': 66952, 'listed_count': 3288, 'created_at': 'Sun Mar 29 20:12:52 +0000 2009', 'favourites_count': 297497, 'utc_offset': None, 'time_zone': None, 'geo_enabled': False, 'verified': True, 'statuses_count': 345163, 'lang': None, 'contributors_enabled': False, 'is_translator': False, 'is_translation_enabled': False, 'profile_background_color': 'C0DEED', 'profile_background_image_url': 'http://abs.twimg.com/images/themes/theme1/bg.png', 'profile_background_image_url_https': 'https://abs.twimg.com/images/themes/theme1/bg.png', 'profile_background_tile': False, 'profile_image_url': 'http://pbs.twimg.com/profile_images/1530358747511631874/G8bvUIHV_normal.jpg', 'profile_image_url_https': 'https://pbs.twimg.com/profile_images/1530358747511631874/G8bvUIHV_normal.jpg', 'profile_banner_url': 'https://pbs.twimg.com/profile_banners/27493883/1656387393', 'profile_link_color': '1DA1F2', 'profile_sidebar_border_color': 'C0DEED', 'profile_sidebar_fill_color': 'DDEEF6', 'profile_text_color': '333333', 'profile_use_background_image': True, 'has_extended_profile': True, 'default_profile': True, 'default_profile_image': False, 'following': True, 'follow_request_sent': False, 'notifications': False, 'translator_type': 'none', 'withheld_in_countries': []}, id=27493883, id_str='27493883', name='Jon Cooper', screen_name='joncoopertweets', location='New York, Florida', description='Former National Finance Chair of Draft Biden 2016, Long Island Campaign Chair for @BarackObama & Majority Leader of Suffolk County Legislature, NY. @DukeU alum', url=None, entities={'description': {'urls': []}}, protected=False, followers_count=1026754, friends_count=66952, listed_count=3288, created_at=datetime.datetime(2009, 3, 29, 20, 12, 52, tzinfo=datetime.timezone.utc), favourites_count=297497, utc_offset=None, time_zone=None, geo_enabled=False, verified=True, statuses_count=345163, lang=None, contributors_enabled=False, is_translator=False, is_translation_enabled=False, profile_background_color='C0DEED', profile_background_image_url='http://abs.twimg.com/images/themes/theme1/bg.png', profile_background_image_url_https='https://abs.twimg.com/images/themes/theme1/bg.png', profile_background_tile=False, profile_image_url='http://pbs.twimg.com/profile_images/1530358747511631874/G8bvUIHV_normal.jpg', profile_image_url_https='https://pbs.twimg.com/profile_images/1530358747511631874/G8bvUIHV_normal.jpg', profile_banner_url='https://pbs.twimg.com/profile_banners/27493883/1656387393', profile_link_color='1DA1F2', profile_sidebar_border_color='C0DEED', profile_sidebar_fill_color='DDEEF6', profile_text_color='333333', profile_use_background_image=True, has_extended_profile=True, default_profile=True, default_profile_image=False, following=True, follow_request_sent=False, notifications=False, translator_type='none', withheld_in_countries=[]), geo=None, coordinates=None, place=None, contributors=None, retweeted_status=Status(_api=<tweepy.api.API object at 0x0000014F293D01F0>, _json={'created_at': 'Fri Jul 08 21:17:44 +0000 2022', 'id': 1545517513752154113, 'id_str': '1545517513752154113', 'text': 'BREAKING: The US will send additional HIMARS advanced rocket systems to Ukraine in its $400 million military aid package', 'truncated': False, 'entities': {'hashtags': [], 'symbols': [], 'user_mentions': [], 'urls': []}, 'source': '<a href=\"https://mobile.twitter.com\" rel=\"nofollow\">Twitter Web App</a>', 'in_reply_to_status_id': None, 'in_reply_to_status_id_str': None, 'in_reply_to_user_id': None, 'in_reply_to_user_id_str': None, 'in_reply_to_screen_name': None, 'user': {'id': 1957610664, 'id_str': '1957610664', 'name': 'Samuel Ramani', 'screen_name': 'SamRamani2', 'location': 'Oxford, England', 'description': 'DPhil/PhD Intl Relations @UniofOxford Assoc Fellow @RUSI_org Bylines @ForeignPolicy, WaPo etc 3 forthcoming books @HurstPublishers Email samuel.ramani@gmail.com', 'url': None, 'entities': {'description': {'urls': []}}, 'protected': False, 'followers_count': 162695, 'friends_count': 3732, 'listed_count': 2414, 'created_at': 'Sat Oct 12 23:22:53 +0000 2013', 'favourites_count': 9209, 'utc_offset': None, 'time_zone': None, 'geo_enabled': False, 'verified': True, 'statuses_count': 19672, 'lang': None, 'contributors_enabled': False, 'is_translator': False, 'is_translation_enabled': False, 'profile_background_color': 'C0DEED', 'profile_background_image_url': 'http://abs.twimg.com/images/themes/theme1/bg.png', 'profile_background_image_url_https': 'https://abs.twimg.com/images/themes/theme1/bg.png', 'profile_background_tile': False, 'profile_image_url': 'http://pbs.twimg.com/profile_images/1082550331114954752/Pg1pRVnh_normal.jpg', 'profile_image_url_https': 'https://pbs.twimg.com/profile_images/1082550331114954752/Pg1pRVnh_normal.jpg', 'profile_banner_url': 'https://pbs.twimg.com/profile_banners/1957610664/1634503725', 'profile_link_color': '1DA1F2', 'profile_sidebar_border_color': 'C0DEED', 'profile_sidebar_fill_color': 'DDEEF6', 'profile_text_color': '333333', 'profile_use_background_image': True, 'has_extended_profile': False, 'default_profile': True, 'default_profile_image': False, 'following': False, 'follow_request_sent': False, 'notifications': False, 'translator_type': 'none', 'withheld_in_countries': []}, 'geo': None, 'coordinates': None, 'place': None, 'contributors': None, 'is_quote_status': False, 'retweet_count': 454, 'favorite_count': 4023, 'favorited': False, 'retweeted': False, 'lang': 'en'}, created_at=datetime.datetime(2022, 7, 8, 21, 17, 44, tzinfo=datetime.timezone.utc), id=1545517513752154113, id_str='1545517513752154113', text='BREAKING: The US will send additional HIMARS advanced rocket systems to Ukraine in its $400 million military aid package', truncated=False, entities={'hashtags': [], 'symbols': [], 'user_mentions': [], 'urls': []}, source='Twitter Web App', source_url='https://mobile.twitter.com', in_reply_to_status_id=None, in_reply_to_status_id_str=None, in_reply_to_user_id=None, in_reply_to_user_id_str=None, in_reply_to_screen_name=None, author=User(_api=<tweepy.api.API object at 0x0000014F293D01F0>, _json={'id': 1957610664, 'id_str': '1957610664', 'name': 'Samuel Ramani', 'screen_name': 'SamRamani2', 'location': 'Oxford, England', 'description': 'DPhil/PhD Intl Relations @UniofOxford Assoc Fellow @RUSI_org Bylines @ForeignPolicy, WaPo etc 3 forthcoming books @HurstPublishers Email samuel.ramani@gmail.com', 'url': None, 'entities': {'description': {'urls': []}}, 'protected': False, 'followers_count': 162695, 'friends_count': 3732, 'listed_count': 2414, 'created_at': 'Sat Oct 12 23:22:53 +0000 2013', 'favourites_count': 9209, 'utc_offset': None, 'time_zone': None, 'geo_enabled': False, 'verified': True, 'statuses_count': 19672, 'lang': None, 'contributors_enabled': False, 'is_translator': False, 'is_translation_enabled': False, 'profile_background_color': 'C0DEED', 'profile_background_image_url': 'http://abs.twimg.com/images/themes/theme1/bg.png', 'profile_background_image_url_https': 'https://abs.twimg.com/images/themes/theme1/bg.png', 'profile_background_tile': False, 'profile_image_url': 'http://pbs.twimg.com/profile_images/1082550331114954752/Pg1pRVnh_normal.jpg', 'profile_image_url_https': 'https://pbs.twimg.com/profile_images/1082550331114954752/Pg1pRVnh_normal.jpg', 'profile_banner_url': 'https://pbs.twimg.com/profile_banners/1957610664/1634503725', 'profile_link_color': '1DA1F2', 'profile_sidebar_border_color': 'C0DEED', 'profile_sidebar_fill_color': 'DDEEF6', 'profile_text_color': '333333', 'profile_use_background_image': True, 'has_extended_profile': False, 'default_profile': True, 'default_profile_image': False, 'following': False, 'follow_request_sent': False, 'notifications': False, 'translator_type': 'none', 'withheld_in_countries': []}, id=1957610664, id_str='1957610664', name='Samuel Ramani', screen_name='SamRamani2', location='Oxford, England', description='DPhil/PhD Intl Relations @UniofOxford Assoc Fellow @RUSI_org Bylines @ForeignPolicy, WaPo etc 3 forthcoming books @HurstPublishers Email samuel.ramani@gmail.com', url=None, entities={'description': {'urls': []}}, protected=False, followers_count=162695, friends_count=3732, listed_count=2414, created_at=datetime.datetime(2013, 10, 12, 23, 22, 53, tzinfo=datetime.timezone.utc), favourites_count=9209, utc_offset=None, time_zone=None, geo_enabled=False, verified=True, statuses_count=19672, lang=None, contributors_enabled=False, is_translator=False, is_translation_enabled=False, profile_background_color='C0DEED', profile_background_image_url='http://abs.twimg.com/images/themes/theme1/bg.png', profile_background_image_url_https='https://abs.twimg.com/images/themes/theme1/bg.png', profile_background_tile=False, profile_image_url='http://pbs.twimg.com/profile_images/1082550331114954752/Pg1pRVnh_normal.jpg', profile_image_url_https='https://pbs.twimg.com/profile_images/1082550331114954752/Pg1pRVnh_normal.jpg', profile_banner_url='https://pbs.twimg.com/profile_banners/1957610664/1634503725', profile_link_color='1DA1F2', profile_sidebar_border_color='C0DEED', profile_sidebar_fill_color='DDEEF6', profile_text_color='333333', profile_use_background_image=True, has_extended_profile=False, default_profile=True, default_profile_image=False, following=False, follow_request_sent=False, notifications=False, translator_type='none', withheld_in_countries=[]), user=User(_api=<tweepy.api.API object at 0x0000014F293D01F0>, _json={'id': 1957610664, 'id_str': '1957610664', 'name': 'Samuel Ramani', 'screen_name': 'SamRamani2', 'location': 'Oxford, England', 'description': 'DPhil/PhD Intl Relations @UniofOxford Assoc Fellow @RUSI_org Bylines @ForeignPolicy, WaPo etc 3 forthcoming books @HurstPublishers Email samuel.ramani@gmail.com', 'url': None, 'entities': {'description': {'urls': []}}, 'protected': False, 'followers_count': 162695, 'friends_count': 3732, 'listed_count': 2414, 'created_at': 'Sat Oct 12 23:22:53 +0000 2013', 'favourites_count': 9209, 'utc_offset': None, 'time_zone': None, 'geo_enabled': False, 'verified': True, 'statuses_count': 19672, 'lang': None, 'contributors_enabled': False, 'is_translator': False, 'is_translation_enabled': False, 'profile_background_color': 'C0DEED', 'profile_background_image_url': 'http://abs.twimg.com/images/themes/theme1/bg.png', 'profile_background_image_url_https': 'https://abs.twimg.com/images/themes/theme1/bg.png', 'profile_background_tile': False, 'profile_image_url': 'http://pbs.twimg.com/profile_images/1082550331114954752/Pg1pRVnh_normal.jpg', 'profile_image_url_https': 'https://pbs.twimg.com/profile_images/1082550331114954752/Pg1pRVnh_normal.jpg', 'profile_banner_url': 'https://pbs.twimg.com/profile_banners/1957610664/1634503725', 'profile_link_color': '1DA1F2', 'profile_sidebar_border_color': 'C0DEED', 'profile_sidebar_fill_color': 'DDEEF6', 'profile_text_color': '333333', 'profile_use_background_image': True, 'has_extended_profile': False, 'default_profile': True, 'default_profile_image': False, 'following': False, 'follow_request_sent': False, 'notifications': False, 'translator_type': 'none', 'withheld_in_countries': []}, id=1957610664, id_str='1957610664', name='Samuel Ramani', screen_name='SamRamani2', location='Oxford, England', description='DPhil/PhD Intl Relations @UniofOxford Assoc Fellow @RUSI_org Bylines @ForeignPolicy, WaPo etc 3 forthcoming books @HurstPublishers Email samuel.ramani@gmail.com', url=None, entities={'description': {'urls': []}}, protected=False, followers_count=162695, friends_count=3732, listed_count=2414, created_at=datetime.datetime(2013, 10, 12, 23, 22, 53, tzinfo=datetime.timezone.utc), favourites_count=9209, utc_offset=None, time_zone=None, geo_enabled=False, verified=True, statuses_count=19672, lang=None, contributors_enabled=False, is_translator=False, is_translation_enabled=False, profile_background_color='C0DEED', profile_background_image_url='http://abs.twimg.com/images/themes/theme1/bg.png', profile_background_image_url_https='https://abs.twimg.com/images/themes/theme1/bg.png', profile_background_tile=False, profile_image_url='http://pbs.twimg.com/profile_images/1082550331114954752/Pg1pRVnh_normal.jpg', profile_image_url_https='https://pbs.twimg.com/profile_images/1082550331114954752/Pg1pRVnh_normal.jpg', profile_banner_url='https://pbs.twimg.com/profile_banners/1957610664/1634503725', profile_link_color='1DA1F2', profile_sidebar_border_color='C0DEED', profile_sidebar_fill_color='DDEEF6', profile_text_color='333333', profile_use_background_image=True, has_extended_profile=False, default_profile=True, default_profile_image=False, following=False, follow_request_sent=False, notifications=False, translator_type='none', withheld_in_countries=[]), geo=None, coordinates=None, place=None, contributors=None, is_quote_status=False, retweet_count=454, favorite_count=4023, favorited=False, retweeted=False, lang='en'), is_quote_status=False, retweet_count=454, favorite_count=0, favorited=False, retweeted=False, lang='en'), Status(_api=<tweepy.api.API object at 0x0000014F293D01F0>, _json={'created_at': 'Sat Jul 09 00:15:47 +0000 2022', 'id': 1545562322139234305, 'id_str': '1545562322139234305', 'text': 'It looks like Pat Cipollone threw Trump under the bus. Good.', 'truncated': False, 'entities': {'hashtags': [], 'symbols': [], 'user_mentions': [], 'urls': []}, 'source': '<a href=\"http://twitter.com/download/iphone\" rel=\"nofollow\">Twitter for iPhone</a>', 'in_reply_to_status_id': None, 'in_reply_to_status_id_str': None, 'in_reply_to_user_id': None, 'in_reply_to_user_id_str': None, 'in_reply_to_screen_name': None, 'user': {'id': 27493883, 'id_str': '27493883', 'name': 'Jon Cooper', 'screen_name': 'joncoopertweets', 'location': 'New York, Florida', 'description': 'Former National Finance Chair of Draft Biden 2016, Long Island Campaign Chair for @BarackObama & Majority Leader of Suffolk County Legislature, NY. @DukeU alum', 'url': None, 'entities': {'description': {'urls': []}}, 'protected': False, 'followers_count': 1026754, 'friends_count': 66952, 'listed_count': 3288, 'created_at': 'Sun Mar 29 20:12:52 +0000 2009', 'favourites_count': 297497, 'utc_offset': None, 'time_zone': None, 'geo_enabled': False, 'verified': True, 'statuses_count': 345163, 'lang': None, 'contributors_enabled': False, 'is_translator': False, 'is_translation_enabled': False, 'profile_background_color': 'C0DEED', 'profile_background_image_url': 'http://abs.twimg.com/images/themes/theme1/bg.png', 'profile_background_image_url_https': 'https://abs.twimg.com/images/themes/theme1/bg.png', 'profile_background_tile': False, 'profile_image_url': 'http://pbs.twimg.com/profile_images/1530358747511631874/G8bvUIHV_normal.jpg', 'profile_image_url_https': 'https://pbs.twimg.com/profile_images/1530358747511631874/G8bvUIHV_normal.jpg', 'profile_banner_url': 'https://pbs.twimg.com/profile_banners/27493883/1656387393', 'profile_link_color': '1DA1F2', 'profile_sidebar_border_color': 'C0DEED', 'profile_sidebar_fill_color': 'DDEEF6', 'profile_text_color': '333333', 'profile_use_background_image': True, 'has_extended_profile': True, 'default_profile': True, 'default_profile_image': False, 'following': True, 'follow_request_sent': False, 'notifications': False, 'translator_type': 'none', 'withheld_in_countries': []}, 'geo': None, 'coordinates': None, 'place': None, 'contributors': None, 'is_quote_status': False, 'retweet_count': 365, 'favorite_count': 3736, 'favorited': False, 'retweeted': False, 'lang': 'en'}, created_at=datetime.datetime(2022, 7, 9, 0, 15, 47, tzinfo=datetime.timezone.utc), id=1545562322139234305, id_str='1545562322139234305', text='It looks like Pat Cipollone threw Trump under the bus. Good.', truncated=False, entities={'hashtags': [], 'symbols': [], 'user_mentions': [], 'urls': []}, source='Twitter for iPhone', source_url='http://twitter.com/download/iphone', in_reply_to_status_id=None, in_reply_to_status_id_str=None, in_reply_to_user_id=None, in_reply_to_user_id_str=None, in_reply_to_screen_name=None, author=User(_api=<tweepy.api.API object at 0x0000014F293D01F0>, _json={'id': 27493883, 'id_str': '27493883', 'name': 'Jon Cooper', 'screen_name': 'joncoopertweets', 'location': 'New York, Florida', 'description': 'Former National Finance Chair of Draft Biden 2016, Long Island Campaign Chair for @BarackObama & Majority Leader of Suffolk County Legislature, NY. @DukeU alum', 'url': None, 'entities': {'description': {'urls': []}}, 'protected': False, 'followers_count': 1026754, 'friends_count': 66952, 'listed_count': 3288, 'created_at': 'Sun Mar 29 20:12:52 +0000 2009', 'favourites_count': 297497, 'utc_offset': None, 'time_zone': None, 'geo_enabled': False, 'verified': True, 'statuses_count': 345163, 'lang': None, 'contributors_enabled': False, 'is_translator': False, 'is_translation_enabled': False, 'profile_background_color': 'C0DEED', 'profile_background_image_url': 'http://abs.twimg.com/images/themes/theme1/bg.png', 'profile_background_image_url_https': 'https://abs.twimg.com/images/themes/theme1/bg.png', 'profile_background_tile': False, 'profile_image_url': 'http://pbs.twimg.com/profile_images/1530358747511631874/G8bvUIHV_normal.jpg', 'profile_image_url_https': 'https://pbs.twimg.com/profile_images/1530358747511631874/G8bvUIHV_normal.jpg', 'profile_banner_url': 'https://pbs.twimg.com/profile_banners/27493883/1656387393', 'profile_link_color': '1DA1F2', 'profile_sidebar_border_color': 'C0DEED', 'profile_sidebar_fill_color': 'DDEEF6', 'profile_text_color': '333333', 'profile_use_background_image': True, 'has_extended_profile': True, 'default_profile': True, 'default_profile_image': False, 'following': True, 'follow_request_sent': False, 'notifications': False, 'translator_type': 'none', 'withheld_in_countries': []}, id=27493883, id_str='27493883', name='Jon Cooper', screen_name='joncoopertweets', location='New York, Florida', description='Former National Finance Chair of Draft Biden 2016, Long Island Campaign Chair for @BarackObama & Majority Leader of Suffolk County Legislature, NY. @DukeU alum', url=None, entities={'description': {'urls': []}}, protected=False, followers_count=1026754, friends_count=66952, listed_count=3288, created_at=datetime.datetime(2009, 3, 29, 20, 12, 52, tzinfo=datetime.timezone.utc), favourites_count=297497, utc_offset=None, time_zone=None, geo_enabled=False, verified=True, statuses_count=345163, lang=None, contributors_enabled=False, is_translator=False, is_translation_enabled=False, profile_background_color='C0DEED', profile_background_image_url='http://abs.twimg.com/images/themes/theme1/bg.png', profile_background_image_url_https='https://abs.twimg.com/images/themes/theme1/bg.png', profile_background_tile=False, profile_image_url='http://pbs.twimg.com/profile_images/1530358747511631874/G8bvUIHV_normal.jpg', profile_image_url_https='https://pbs.twimg.com/profile_images/1530358747511631874/G8bvUIHV_normal.jpg', profile_banner_url='https://pbs.twimg.com/profile_banners/27493883/1656387393', profile_link_color='1DA1F2', profile_sidebar_border_color='C0DEED', profile_sidebar_fill_color='DDEEF6', profile_text_color='333333', profile_use_background_image=True, has_extended_profile=True, default_profile=True, default_profile_image=False, following=True, follow_request_sent=False, notifications=False, translator_type='none', withheld_in_countries=[]), user=User(_api=<tweepy.api.API object at 0x0000014F293D01F0>, _json={'id': 27493883, 'id_str': '27493883', 'name': 'Jon Cooper', 'screen_name': 'joncoopertweets', 'location': 'New York, Florida', 'description': 'Former National Finance Chair of Draft Biden 2016, Long Island Campaign Chair for @BarackObama & Majority Leader of Suffolk County Legislature, NY. @DukeU alum', 'url': None, 'entities': {'description': {'urls': []}}, 'protected': False, 'followers_count': 1026754, 'friends_count': 66952, 'listed_count': 3288, 'created_at': 'Sun Mar 29 20:12:52 +0000 2009', 'favourites_count': 297497, 'utc_offset': None, 'time_zone': None, 'geo_enabled': False, 'verified': True, 'statuses_count': 345163, 'lang': None, 'contributors_enabled': False, 'is_translator': False, 'is_translation_enabled': False, 'profile_background_color': 'C0DEED', 'profile_background_image_url': 'http://abs.twimg.com/images/themes/theme1/bg.png', 'profile_background_image_url_https': 'https://abs.twimg.com/images/themes/theme1/bg.png', 'profile_background_tile': False, 'profile_image_url': 'http://pbs.twimg.com/profile_images/1530358747511631874/G8bvUIHV_normal.jpg', 'profile_image_url_https': 'https://pbs.twimg.com/profile_images/1530358747511631874/G8bvUIHV_normal.jpg', 'profile_banner_url': 'https://pbs.twimg.com/profile_banners/27493883/1656387393', 'profile_link_color': '1DA1F2', 'profile_sidebar_border_color': 'C0DEED', 'profile_sidebar_fill_color': 'DDEEF6', 'profile_text_color': '333333', 'profile_use_background_image': True, 'has_extended_profile': True, 'default_profile': True, 'default_profile_image': False, 'following': True, 'follow_request_sent': False, 'notifications': False, 'translator_type': 'none', 'withheld_in_countries': []}, id=27493883, id_str='27493883', name='Jon Cooper', screen_name='joncoopertweets', location='New York, Florida', description='Former National Finance Chair of Draft Biden 2016, Long Island Campaign Chair for @BarackObama & Majority Leader of Suffolk County Legislature, NY. @DukeU alum', url=None, entities={'description': {'urls': []}}, protected=False, followers_count=1026754, friends_count=66952, listed_count=3288, created_at=datetime.datetime(2009, 3, 29, 20, 12, 52, tzinfo=datetime.timezone.utc), favourites_count=297497, utc_offset=None, time_zone=None, geo_enabled=False, verified=True, statuses_count=345163, lang=None, contributors_enabled=False, is_translator=False, is_translation_enabled=False, profile_background_color='C0DEED', profile_background_image_url='http://abs.twimg.com/images/themes/theme1/bg.png', profile_background_image_url_https='https://abs.twimg.com/images/themes/theme1/bg.png', profile_background_tile=False, profile_image_url='http://pbs.twimg.com/profile_images/1530358747511631874/G8bvUIHV_normal.jpg', profile_image_url_https='https://pbs.twimg.com/profile_images/1530358747511631874/G8bvUIHV_normal.jpg', profile_banner_url='https://pbs.twimg.com/profile_banners/27493883/1656387393', profile_link_color='1DA1F2', profile_sidebar_border_color='C0DEED', profile_sidebar_fill_color='DDEEF6', profile_text_color='333333', profile_use_background_image=True, has_extended_profile=True, default_profile=True, default_profile_image=False, following=True, follow_request_sent=False, notifications=False, translator_type='none', withheld_in_countries=[]), geo=None, coordinates=None, place=None, contributors=None, is_quote_status=False, retweet_count=365, favorite_count=3736, favorited=False, retweeted=False, lang='en'), Status(_api=<tweepy.api.API object at 0x0000014F293D01F0>, _json={'created_at': 'Sat Jul 09 00:15:00 +0000 2022', 'id': 1545562124294004736, 'id_str': '1545562124294004736', 'text': 'If you live in an apartment and have no outdoor space to yourself, remember that you can ALWAYS find somewhere to g… https://t.co/EPWA5Mve9O', 'truncated': True, 'entities': {'hashtags': [], 'symbols': [], 'user_mentions': [], 'urls': [{'url': 'https://t.co/EPWA5Mve9O', 'expanded_url': 'https://twitter.com/i/web/status/1545562124294004736', 'display_url': 'twitter.com/i/web/status/1…', 'indices': [117, 140]}]}, 'source': '<a href=\"https://mobile.twitter.com\" rel=\"nofollow\">Twitter Web App</a>', 'in_reply_to_status_id': None, 'in_reply_to_status_id_str': None, 'in_reply_to_user_id': None, 'in_reply_to_user_id_str': None, 'in_reply_to_screen_name': None, 'user': {'id': 20710809, 'id_str': '20710809', 'name': 'Food Network', 'screen_name': 'FoodNetwork', 'location': '', 'description': 'Download @discoveryplus & stream #WorstCooks, #BBQBrawl, #RestaurantImpossible & all of your fave shows: https://t.co/0SsgSc808Z', 'url': 'https://t.co/w3cfk77J0B', 'entities': {'url': {'urls': [{'url': 'https://t.co/w3cfk77J0B', 'expanded_url': 'https://food-network.app.link/download', 'display_url': 'food-network.app.link/download', 'indices': [0, 23]}]}, 'description': {'urls': [{'url': 'https://t.co/0SsgSc808Z', 'expanded_url': 'http://discoverypl.us/2MsOleZ', 'display_url': 'discoverypl.us/2MsOleZ', 'indices': [105, 128]}]}}, 'protected': False, 'followers_count': 5377238, 'friends_count': 22557, 'listed_count': 20393, 'created_at': 'Thu Feb 12 19:54:38 +0000 2009', 'favourites_count': 59223, 'utc_offset': None, 'time_zone': None, 'geo_enabled': False, 'verified': True, 'statuses_count': 92217, 'lang': None, 'contributors_enabled': False, 'is_translator': False, 'is_translation_enabled': False, 'profile_background_color': '000000', 'profile_background_image_url': 'http://abs.twimg.com/images/themes/theme12/bg.gif', 'profile_background_image_url_https': 'https://abs.twimg.com/images/themes/theme12/bg.gif', 'profile_background_tile': False, 'profile_image_url': 'http://pbs.twimg.com/profile_images/1479593632197853186/riGFmGSq_normal.jpg', 'profile_image_url_https': 'https://pbs.twimg.com/profile_images/1479593632197853186/riGFmGSq_normal.jpg', 'profile_banner_url': 'https://pbs.twimg.com/profile_banners/20710809/1646759949', 'profile_link_color': 'E81C4F', 'profile_sidebar_border_color': 'FFFFFF', 'profile_sidebar_fill_color': 'FFFBE5', 'profile_text_color': '3D3D3D', 'profile_use_background_image': False, 'has_extended_profile': False, 'default_profile': False, 'default_profile_image': False, 'following': True, 'follow_request_sent': False, 'notifications': False, 'translator_type': 'none', 'withheld_in_countries': []}, 'geo': None, 'coordinates': None, 'place': None, 'contributors': None, 'is_quote_status': False, 'retweet_count': 1, 'favorite_count': 16, 'favorited': False, 'retweeted': False, 'possibly_sensitive': False, 'possibly_sensitive_appealable': False, 'lang': 'en'}, created_at=datetime.datetime(2022, 7, 9, 0, 15, tzinfo=datetime.timezone.utc), id=1545562124294004736, id_str='1545562124294004736', text='If you live in an apartment and have no outdoor space to yourself, remember that you can ALWAYS find somewhere to g… https://t.co/EPWA5Mve9O', truncated=True, entities={'hashtags': [], 'symbols': [], 'user_mentions': [], 'urls': [{'url': 'https://t.co/EPWA5Mve9O', 'expanded_url': 'https://twitter.com/i/web/status/1545562124294004736', 'display_url': 'twitter.com/i/web/status/1…', 'indices': [117, 140]}]}, source='Twitter Web App', source_url='https://mobile.twitter.com', in_reply_to_status_id=None, in_reply_to_status_id_str=None, in_reply_to_user_id=None, in_reply_to_user_id_str=None, in_reply_to_screen_name=None, author=User(_api=<tweepy.api.API object at 0x0000014F293D01F0>, _json={'id': 20710809, 'id_str': '20710809', 'name': 'Food Network', 'screen_name': 'FoodNetwork', 'location': '', 'description': 'Download @discoveryplus & stream #WorstCooks, #BBQBrawl, #RestaurantImpossible & all of your fave shows: https://t.co/0SsgSc808Z', 'url': 'https://t.co/w3cfk77J0B', 'entities': {'url': {'urls': [{'url': 'https://t.co/w3cfk77J0B', 'expanded_url': 'https://food-network.app.link/download', 'display_url': 'food-network.app.link/download', 'indices': [0, 23]}]}, 'description': {'urls': [{'url': 'https://t.co/0SsgSc808Z', 'expanded_url': 'http://discoverypl.us/2MsOleZ', 'display_url': 'discoverypl.us/2MsOleZ', 'indices': [105, 128]}]}}, 'protected': False, 'followers_count': 5377238, 'friends_count': 22557, 'listed_count': 20393, 'created_at': 'Thu Feb 12 19:54:38 +0000 2009', 'favourites_count': 59223, 'utc_offset': None, 'time_zone': None, 'geo_enabled': False, 'verified': True, 'statuses_count': 92217, 'lang': None, 'contributors_enabled': False, 'is_translator': False, 'is_translation_enabled': False, 'profile_background_color': '000000', 'profile_background_image_url': 'http://abs.twimg.com/images/themes/theme12/bg.gif', 'profile_background_image_url_https': 'https://abs.twimg.com/images/themes/theme12/bg.gif', 'profile_background_tile': False, 'profile_image_url': 'http://pbs.twimg.com/profile_images/1479593632197853186/riGFmGSq_normal.jpg', 'profile_image_url_https': 'https://pbs.twimg.com/profile_images/1479593632197853186/riGFmGSq_normal.jpg', 'profile_banner_url': 'https://pbs.twimg.com/profile_banners/20710809/1646759949', 'profile_link_color': 'E81C4F', 'profile_sidebar_border_color': 'FFFFFF', 'profile_sidebar_fill_color': 'FFFBE5', 'profile_text_color': '3D3D3D', 'profile_use_background_image': False, 'has_extended_profile': False, 'default_profile': False, 'default_profile_image': False, 'following': True, 'follow_request_sent': False, 'notifications': False, 'translator_type': 'none', 'withheld_in_countries': []}, id=20710809, id_str='20710809', name='Food Network', screen_name='FoodNetwork', location='', description='Download @discoveryplus & stream #WorstCooks, #BBQBrawl, #RestaurantImpossible & all of your fave shows: https://t.co/0SsgSc808Z', url='https://t.co/w3cfk77J0B', entities={'url': {'urls': [{'url': 'https://t.co/w3cfk77J0B', 'expanded_url': 'https://food-network.app.link/download', 'display_url': 'food-network.app.link/download', 'indices': [0, 23]}]}, 'description': {'urls': [{'url': 'https://t.co/0SsgSc808Z', 'expanded_url': 'http://discoverypl.us/2MsOleZ', 'display_url': 'discoverypl.us/2MsOleZ', 'indices': [105, 128]}]}}, protected=False, followers_count=5377238, friends_count=22557, listed_count=20393, created_at=datetime.datetime(2009, 2, 12, 19, 54, 38, tzinfo=datetime.timezone.utc), favourites_count=59223, utc_offset=None, time_zone=None, geo_enabled=False, verified=True, statuses_count=92217, lang=None, contributors_enabled=False, is_translator=False, is_translation_enabled=False, profile_background_color='000000', profile_background_image_url='http://abs.twimg.com/images/themes/theme12/bg.gif', profile_background_image_url_https='https://abs.twimg.com/images/themes/theme12/bg.gif', profile_background_tile=False, profile_image_url='http://pbs.twimg.com/profile_images/1479593632197853186/riGFmGSq_normal.jpg', profile_image_url_https='https://pbs.twimg.com/profile_images/1479593632197853186/riGFmGSq_normal.jpg', profile_banner_url='https://pbs.twimg.com/profile_banners/20710809/1646759949', profile_link_color='E81C4F', profile_sidebar_border_color='FFFFFF', profile_sidebar_fill_color='FFFBE5', profile_text_color='3D3D3D', profile_use_background_image=False, has_extended_profile=False, default_profile=False, default_profile_image=False, following=True, follow_request_sent=False, notifications=False, translator_type='none', withheld_in_countries=[]), user=User(_api=<tweepy.api.API object at 0x0000014F293D01F0>, _json={'id': 20710809, 'id_str': '20710809', 'name': 'Food Network', 'screen_name': 'FoodNetwork', 'location': '', 'description': 'Download @discoveryplus & stream #WorstCooks, #BBQBrawl, #RestaurantImpossible & all of your fave shows: https://t.co/0SsgSc808Z', 'url': 'https://t.co/w3cfk77J0B', 'entities': {'url': {'urls': [{'url': 'https://t.co/w3cfk77J0B', 'expanded_url': 'https://food-network.app.link/download', 'display_url': 'food-network.app.link/download', 'indices': [0, 23]}]}, 'description': {'urls': [{'url': 'https://t.co/0SsgSc808Z', 'expanded_url': 'http://discoverypl.us/2MsOleZ', 'display_url': 'discoverypl.us/2MsOleZ', 'indices': [105, 128]}]}}, 'protected': False, 'followers_count': 5377238, 'friends_count': 22557, 'listed_count': 20393, 'created_at': 'Thu Feb 12 19:54:38 +0000 2009', 'favourites_count': 59223, 'utc_offset': None, 'time_zone': None, 'geo_enabled': False, 'verified': True, 'statuses_count': 92217, 'lang': None, 'contributors_enabled': False, 'is_translator': False, 'is_translation_enabled': False, 'profile_background_color': '000000', 'profile_background_image_url': 'http://abs.twimg.com/images/themes/theme12/bg.gif', 'profile_background_image_url_https': 'https://abs.twimg.com/images/themes/theme12/bg.gif', 'profile_background_tile': False, 'profile_image_url': 'http://pbs.twimg.com/profile_images/1479593632197853186/riGFmGSq_normal.jpg', 'profile_image_url_https': 'https://pbs.twimg.com/profile_images/1479593632197853186/riGFmGSq_normal.jpg', 'profile_banner_url': 'https://pbs.twimg.com/profile_banners/20710809/1646759949', 'profile_link_color': 'E81C4F', 'profile_sidebar_border_color': 'FFFFFF', 'profile_sidebar_fill_color': 'FFFBE5', 'profile_text_color': '3D3D3D', 'profile_use_background_image': False, 'has_extended_profile': False, 'default_profile': False, 'default_profile_image': False, 'following': True, 'follow_request_sent': False, 'notifications': False, 'translator_type': 'none', 'withheld_in_countries': []}, id=20710809, id_str='20710809', name='Food Network', screen_name='FoodNetwork', location='', description='Download @discoveryplus & stream #WorstCooks, #BBQBrawl, #RestaurantImpossible & all of your fave shows: https://t.co/0SsgSc808Z', url='https://t.co/w3cfk77J0B', entities={'url': {'urls': [{'url': 'https://t.co/w3cfk77J0B', 'expanded_url': 'https://food-network.app.link/download', 'display_url': 'food-network.app.link/download', 'indices': [0, 23]}]}, 'description': {'urls': [{'url': 'https://t.co/0SsgSc808Z', 'expanded_url': 'http://discoverypl.us/2MsOleZ', 'display_url': 'discoverypl.us/2MsOleZ', 'indices': [105, 128]}]}}, protected=False, followers_count=5377238, friends_count=22557, listed_count=20393, created_at=datetime.datetime(2009, 2, 12, 19, 54, 38, tzinfo=datetime.timezone.utc), favourites_count=59223, utc_offset=None, time_zone=None, geo_enabled=False, verified=True, statuses_count=92217, lang=None, contributors_enabled=False, is_translator=False, is_translation_enabled=False, profile_background_color='000000', profile_background_image_url='http://abs.twimg.com/images/themes/theme12/bg.gif', profile_background_image_url_https='https://abs.twimg.com/images/themes/theme12/bg.gif', profile_background_tile=False, profile_image_url='http://pbs.twimg.com/profile_images/1479593632197853186/riGFmGSq_normal.jpg', profile_image_url_https='https://pbs.twimg.com/profile_images/1479593632197853186/riGFmGSq_normal.jpg', profile_banner_url='https://pbs.twimg.com/profile_banners/20710809/1646759949', profile_link_color='E81C4F', profile_sidebar_border_color='FFFFFF', profile_sidebar_fill_color='FFFBE5', profile_text_color='3D3D3D', profile_use_background_image=False, has_extended_profile=False, default_profile=False, default_profile_image=False, following=True, follow_request_sent=False, notifications=False, translator_type='none', withheld_in_countries=[]), geo=None, coordinates=None, place=None, contributors=None, is_quote_status=False, retweet_count=1, favorite_count=16, favorited=False, retweeted=False, possibly_sensitive=False, possibly_sensitive_appealable=False, lang='en'), Status(_api=<tweepy.api.API object at 0x0000014F293D01F0>, _json={'created_at': 'Sat Jul 09 00:10:35 +0000 2022', 'id': 1545561012467912704, 'id_str': '1545561012467912704', 'text': 'RT @RepSwalwell: What’s the Democrats’ message? I hear this all the time. Simple. \\n\\nWe are the party of freedom. \\n\\nFreedom to make your own…', 'truncated': False, 'entities': {'hashtags': [], 'symbols': [], 'user_mentions': [{'screen_name': 'RepSwalwell', 'name': 'Rep. Eric Swalwell', 'id': 942156122, 'id_str': '942156122', 'indices': [3, 15]}], 'urls': []}, 'source': '<a href=\"http://twitter.com/download/iphone\" rel=\"nofollow\">Twitter for iPhone</a>', 'in_reply_to_status_id': None, 'in_reply_to_status_id_str': None, 'in_reply_to_user_id': None, 'in_reply_to_user_id_str': None, 'in_reply_to_screen_name': None, 'user': {'id': 27493883, 'id_str': '27493883', 'name': 'Jon Cooper', 'screen_name': 'joncoopertweets', 'location': 'New York, Florida', 'description': 'Former National Finance Chair of Draft Biden 2016, Long Island Campaign Chair for @BarackObama & Majority Leader of Suffolk County Legislature, NY. @DukeU alum', 'url': None, 'entities': {'description': {'urls': []}}, 'protected': False, 'followers_count': 1026754, 'friends_count': 66952, 'listed_count': 3288, 'created_at': 'Sun Mar 29 20:12:52 +0000 2009', 'favourites_count': 297497, 'utc_offset': None, 'time_zone': None, 'geo_enabled': False, 'verified': True, 'statuses_count': 345163, 'lang': None, 'contributors_enabled': False, 'is_translator': False, 'is_translation_enabled': False, 'profile_background_color': 'C0DEED', 'profile_background_image_url': 'http://abs.twimg.com/images/themes/theme1/bg.png', 'profile_background_image_url_https': 'https://abs.twimg.com/images/themes/theme1/bg.png', 'profile_background_tile': False, 'profile_image_url': 'http://pbs.twimg.com/profile_images/1530358747511631874/G8bvUIHV_normal.jpg', 'profile_image_url_https': 'https://pbs.twimg.com/profile_images/1530358747511631874/G8bvUIHV_normal.jpg', 'profile_banner_url': 'https://pbs.twimg.com/profile_banners/27493883/1656387393', 'profile_link_color': '1DA1F2', 'profile_sidebar_border_color': 'C0DEED', 'profile_sidebar_fill_color': 'DDEEF6', 'profile_text_color': '333333', 'profile_use_background_image': True, 'has_extended_profile': True, 'default_profile': True, 'default_profile_image': False, 'following': True, 'follow_request_sent': False, 'notifications': False, 'translator_type': 'none', 'withheld_in_countries': []}, 'geo': None, 'coordinates': None, 'place': None, 'contributors': None, 'retweeted_status': {'created_at': 'Fri Jul 08 21:21:06 +0000 2022', 'id': 1545518360888283138, 'id_str': '1545518360888283138', 'text': 'What’s the Democrats’ message? I hear this all the time. Simple. \\n\\nWe are the party of freedom. \\n\\nFreedom to make y… https://t.co/0On03OrvyX', 'truncated': True, 'entities': {'hashtags': [], 'symbols': [], 'user_mentions': [], 'urls': [{'url': 'https://t.co/0On03OrvyX', 'expanded_url': 'https://twitter.com/i/web/status/1545518360888283138', 'display_url': 'twitter.com/i/web/status/1…', 'indices': [117, 140]}]}, 'source': '<a href=\"http://twitter.com/download/iphone\" rel=\"nofollow\">Twitter for iPhone</a>', 'in_reply_to_status_id': None, 'in_reply_to_status_id_str': None, 'in_reply_to_user_id': None, 'in_reply_to_user_id_str': None, 'in_reply_to_screen_name': None, 'user': {'id': 942156122, 'id_str': '942156122', 'name': 'Rep. Eric Swalwell', 'screen_name': 'RepSwalwell', 'location': 'East Bay, CA & DC (CA-15)', 'description': 'Husband | Dad to Nelson, Cricket & Hank | Congressman | @HouseJudiciary @HouseIntel @HomelandDems | social media policy: https://t.co/47CTxGuV0o | #EndGunViolence', 'url': 'https://t.co/dOMyHpPwrL', 'entities': {'url': {'urls': [{'url': 'https://t.co/dOMyHpPwrL', 'expanded_url': 'http://swalwell.house.gov', 'display_url': 'swalwell.house.gov', 'indices': [0, 23]}]}, 'description': {'urls': [{'url': 'https://t.co/47CTxGuV0o', 'expanded_url': 'http://bit.ly/3gxdzVm', 'display_url': 'bit.ly/3gxdzVm', 'indices': [121, 144]}]}}, 'protected': False, 'followers_count': 1335594, 'friends_count': 11395, 'listed_count': 6378, 'created_at': 'Sun Nov 11 20:26:01 +0000 2012', 'favourites_count': 32103, 'utc_offset': None, 'time_zone': None, 'geo_enabled': True, 'verified': True, 'statuses_count': 18416, 'lang': None, 'contributors_enabled': False, 'is_translator': False, 'is_translation_enabled': False, 'profile_background_color': '2967B3', 'profile_background_image_url': 'http://abs.twimg.com/images/themes/theme1/bg.png', 'profile_background_image_url_https': 'https://abs.twimg.com/images/themes/theme1/bg.png', 'profile_background_tile': False, 'profile_image_url': 'http://pbs.twimg.com/profile_images/1478575870243655681/U0jtKirY_normal.jpg', 'profile_image_url_https': 'https://pbs.twimg.com/profile_images/1478575870243655681/U0jtKirY_normal.jpg', 'profile_banner_url': 'https://pbs.twimg.com/profile_banners/942156122/1604948102', 'profile_link_color': '0084B4', 'profile_sidebar_border_color': 'FFFFFF', 'profile_sidebar_fill_color': 'DDEEF6', 'profile_text_color': '333333', 'profile_use_background_image': True, 'has_extended_profile': True, 'default_profile': False, 'default_profile_image': False, 'following': False, 'follow_request_sent': False, 'notifications': False, 'translator_type': 'none', 'withheld_in_countries': []}, 'geo': None, 'coordinates': None, 'place': None, 'contributors': None, 'is_quote_status': False, 'retweet_count': 3220, 'favorite_count': 12097, 'favorited': False, 'retweeted': False, 'lang': 'en'}, 'is_quote_status': False, 'retweet_count': 3220, 'favorite_count': 0, 'favorited': False, 'retweeted': False, 'lang': 'en'}, created_at=datetime.datetime(2022, 7, 9, 0, 10, 35, tzinfo=datetime.timezone.utc), id=1545561012467912704, id_str='1545561012467912704', text='RT @RepSwalwell: What’s the Democrats’ message? I hear this all the time. Simple. \\n\\nWe are the party of freedom. \\n\\nFreedom to make your own…', truncated=False, entities={'hashtags': [], 'symbols': [], 'user_mentions': [{'screen_name': 'RepSwalwell', 'name': 'Rep. Eric Swalwell', 'id': 942156122, 'id_str': '942156122', 'indices': [3, 15]}], 'urls': []}, source='Twitter for iPhone', source_url='http://twitter.com/download/iphone', in_reply_to_status_id=None, in_reply_to_status_id_str=None, in_reply_to_user_id=None, in_reply_to_user_id_str=None, in_reply_to_screen_name=None, author=User(_api=<tweepy.api.API object at 0x0000014F293D01F0>, _json={'id': 27493883, 'id_str': '27493883', 'name': 'Jon Cooper', 'screen_name': 'joncoopertweets', 'location': 'New York, Florida', 'description': 'Former National Finance Chair of Draft Biden 2016, Long Island Campaign Chair for @BarackObama & Majority Leader of Suffolk County Legislature, NY. @DukeU alum', 'url': None, 'entities': {'description': {'urls': []}}, 'protected': False, 'followers_count': 1026754, 'friends_count': 66952, 'listed_count': 3288, 'created_at': 'Sun Mar 29 20:12:52 +0000 2009', 'favourites_count': 297497, 'utc_offset': None, 'time_zone': None, 'geo_enabled': False, 'verified': True, 'statuses_count': 345163, 'lang': None, 'contributors_enabled': False, 'is_translator': False, 'is_translation_enabled': False, 'profile_background_color': 'C0DEED', 'profile_background_image_url': 'http://abs.twimg.com/images/themes/theme1/bg.png', 'profile_background_image_url_https': 'https://abs.twimg.com/images/themes/theme1/bg.png', 'profile_background_tile': False, 'profile_image_url': 'http://pbs.twimg.com/profile_images/1530358747511631874/G8bvUIHV_normal.jpg', 'profile_image_url_https': 'https://pbs.twimg.com/profile_images/1530358747511631874/G8bvUIHV_normal.jpg', 'profile_banner_url': 'https://pbs.twimg.com/profile_banners/27493883/1656387393', 'profile_link_color': '1DA1F2', 'profile_sidebar_border_color': 'C0DEED', 'profile_sidebar_fill_color': 'DDEEF6', 'profile_text_color': '333333', 'profile_use_background_image': True, 'has_extended_profile': True, 'default_profile': True, 'default_profile_image': False, 'following': True, 'follow_request_sent': False, 'notifications': False, 'translator_type': 'none', 'withheld_in_countries': []}, id=27493883, id_str='27493883', name='Jon Cooper', screen_name='joncoopertweets', location='New York, Florida', description='Former National Finance Chair of Draft Biden 2016, Long Island Campaign Chair for @BarackObama & Majority Leader of Suffolk County Legislature, NY. @DukeU alum', url=None, entities={'description': {'urls': []}}, protected=False, followers_count=1026754, friends_count=66952, listed_count=3288, created_at=datetime.datetime(2009, 3, 29, 20, 12, 52, tzinfo=datetime.timezone.utc), favourites_count=297497, utc_offset=None, time_zone=None, geo_enabled=False, verified=True, statuses_count=345163, lang=None, contributors_enabled=False, is_translator=False, is_translation_enabled=False, profile_background_color='C0DEED', profile_background_image_url='http://abs.twimg.com/images/themes/theme1/bg.png', profile_background_image_url_https='https://abs.twimg.com/images/themes/theme1/bg.png', profile_background_tile=False, profile_image_url='http://pbs.twimg.com/profile_images/1530358747511631874/G8bvUIHV_normal.jpg', profile_image_url_https='https://pbs.twimg.com/profile_images/1530358747511631874/G8bvUIHV_normal.jpg', profile_banner_url='https://pbs.twimg.com/profile_banners/27493883/1656387393', profile_link_color='1DA1F2', profile_sidebar_border_color='C0DEED', profile_sidebar_fill_color='DDEEF6', profile_text_color='333333', profile_use_background_image=True, has_extended_profile=True, default_profile=True, default_profile_image=False, following=True, follow_request_sent=False, notifications=False, translator_type='none', withheld_in_countries=[]), user=User(_api=<tweepy.api.API object at 0x0000014F293D01F0>, _json={'id': 27493883, 'id_str': '27493883', 'name': 'Jon Cooper', 'screen_name': 'joncoopertweets', 'location': 'New York, Florida', 'description': 'Former National Finance Chair of Draft Biden 2016, Long Island Campaign Chair for @BarackObama & Majority Leader of Suffolk County Legislature, NY. @DukeU alum', 'url': None, 'entities': {'description': {'urls': []}}, 'protected': False, 'followers_count': 1026754, 'friends_count': 66952, 'listed_count': 3288, 'created_at': 'Sun Mar 29 20:12:52 +0000 2009', 'favourites_count': 297497, 'utc_offset': None, 'time_zone': None, 'geo_enabled': False, 'verified': True, 'statuses_count': 345163, 'lang': None, 'contributors_enabled': False, 'is_translator': False, 'is_translation_enabled': False, 'profile_background_color': 'C0DEED', 'profile_background_image_url': 'http://abs.twimg.com/images/themes/theme1/bg.png', 'profile_background_image_url_https': 'https://abs.twimg.com/images/themes/theme1/bg.png', 'profile_background_tile': False, 'profile_image_url': 'http://pbs.twimg.com/profile_images/1530358747511631874/G8bvUIHV_normal.jpg', 'profile_image_url_https': 'https://pbs.twimg.com/profile_images/1530358747511631874/G8bvUIHV_normal.jpg', 'profile_banner_url': 'https://pbs.twimg.com/profile_banners/27493883/1656387393', 'profile_link_color': '1DA1F2', 'profile_sidebar_border_color': 'C0DEED', 'profile_sidebar_fill_color': 'DDEEF6', 'profile_text_color': '333333', 'profile_use_background_image': True, 'has_extended_profile': True, 'default_profile': True, 'default_profile_image': False, 'following': True, 'follow_request_sent': False, 'notifications': False, 'translator_type': 'none', 'withheld_in_countries': []}, id=27493883, id_str='27493883', name='Jon Cooper', screen_name='joncoopertweets', location='New York, Florida', description='Former National Finance Chair of Draft Biden 2016, Long Island Campaign Chair for @BarackObama & Majority Leader of Suffolk County Legislature, NY. @DukeU alum', url=None, entities={'description': {'urls': []}}, protected=False, followers_count=1026754, friends_count=66952, listed_count=3288, created_at=datetime.datetime(2009, 3, 29, 20, 12, 52, tzinfo=datetime.timezone.utc), favourites_count=297497, utc_offset=None, time_zone=None, geo_enabled=False, verified=True, statuses_count=345163, lang=None, contributors_enabled=False, is_translator=False, is_translation_enabled=False, profile_background_color='C0DEED', profile_background_image_url='http://abs.twimg.com/images/themes/theme1/bg.png', profile_background_image_url_https='https://abs.twimg.com/images/themes/theme1/bg.png', profile_background_tile=False, profile_image_url='http://pbs.twimg.com/profile_images/1530358747511631874/G8bvUIHV_normal.jpg', profile_image_url_https='https://pbs.twimg.com/profile_images/1530358747511631874/G8bvUIHV_normal.jpg', profile_banner_url='https://pbs.twimg.com/profile_banners/27493883/1656387393', profile_link_color='1DA1F2', profile_sidebar_border_color='C0DEED', profile_sidebar_fill_color='DDEEF6', profile_text_color='333333', profile_use_background_image=True, has_extended_profile=True, default_profile=True, default_profile_image=False, following=True, follow_request_sent=False, notifications=False, translator_type='none', withheld_in_countries=[]), geo=None, coordinates=None, place=None, contributors=None, retweeted_status=Status(_api=<tweepy.api.API object at 0x0000014F293D01F0>, _json={'created_at': 'Fri Jul 08 21:21:06 +0000 2022', 'id': 1545518360888283138, 'id_str': '1545518360888283138', 'text': 'What’s the Democrats’ message? I hear this all the time. Simple. \\n\\nWe are the party of freedom. \\n\\nFreedom to make y… https://t.co/0On03OrvyX', 'truncated': True, 'entities': {'hashtags': [], 'symbols': [], 'user_mentions': [], 'urls': [{'url': 'https://t.co/0On03OrvyX', 'expanded_url': 'https://twitter.com/i/web/status/1545518360888283138', 'display_url': 'twitter.com/i/web/status/1…', 'indices': [117, 140]}]}, 'source': '<a href=\"http://twitter.com/download/iphone\" rel=\"nofollow\">Twitter for iPhone</a>', 'in_reply_to_status_id': None, 'in_reply_to_status_id_str': None, 'in_reply_to_user_id': None, 'in_reply_to_user_id_str': None, 'in_reply_to_screen_name': None, 'user': {'id': 942156122, 'id_str': '942156122', 'name': 'Rep. Eric Swalwell', 'screen_name': 'RepSwalwell', 'location': 'East Bay, CA & DC (CA-15)', 'description': 'Husband | Dad to Nelson, Cricket & Hank | Congressman | @HouseJudiciary @HouseIntel @HomelandDems | social media policy: https://t.co/47CTxGuV0o | #EndGunViolence', 'url': 'https://t.co/dOMyHpPwrL', 'entities': {'url': {'urls': [{'url': 'https://t.co/dOMyHpPwrL', 'expanded_url': 'http://swalwell.house.gov', 'display_url': 'swalwell.house.gov', 'indices': [0, 23]}]}, 'description': {'urls': [{'url': 'https://t.co/47CTxGuV0o', 'expanded_url': 'http://bit.ly/3gxdzVm', 'display_url': 'bit.ly/3gxdzVm', 'indices': [121, 144]}]}}, 'protected': False, 'followers_count': 1335594, 'friends_count': 11395, 'listed_count': 6378, 'created_at': 'Sun Nov 11 20:26:01 +0000 2012', 'favourites_count': 32103, 'utc_offset': None, 'time_zone': None, 'geo_enabled': True, 'verified': True, 'statuses_count': 18416, 'lang': None, 'contributors_enabled': False, 'is_translator': False, 'is_translation_enabled': False, 'profile_background_color': '2967B3', 'profile_background_image_url': 'http://abs.twimg.com/images/themes/theme1/bg.png', 'profile_background_image_url_https': 'https://abs.twimg.com/images/themes/theme1/bg.png', 'profile_background_tile': False, 'profile_image_url': 'http://pbs.twimg.com/profile_images/1478575870243655681/U0jtKirY_normal.jpg', 'profile_image_url_https': 'https://pbs.twimg.com/profile_images/1478575870243655681/U0jtKirY_normal.jpg', 'profile_banner_url': 'https://pbs.twimg.com/profile_banners/942156122/1604948102', 'profile_link_color': '0084B4', 'profile_sidebar_border_color': 'FFFFFF', 'profile_sidebar_fill_color': 'DDEEF6', 'profile_text_color': '333333', 'profile_use_background_image': True, 'has_extended_profile': True, 'default_profile': False, 'default_profile_image': False, 'following': False, 'follow_request_sent': False, 'notifications': False, 'translator_type': 'none', 'withheld_in_countries': []}, 'geo': None, 'coordinates': None, 'place': None, 'contributors': None, 'is_quote_status': False, 'retweet_count': 3220, 'favorite_count': 12097, 'favorited': False, 'retweeted': False, 'lang': 'en'}, created_at=datetime.datetime(2022, 7, 8, 21, 21, 6, tzinfo=datetime.timezone.utc), id=1545518360888283138, id_str='1545518360888283138', text='What’s the Democrats’ message? I hear this all the time. Simple. \\n\\nWe are the party of freedom. \\n\\nFreedom to make y… https://t.co/0On03OrvyX', truncated=True, entities={'hashtags': [], 'symbols': [], 'user_mentions': [], 'urls': [{'url': 'https://t.co/0On03OrvyX', 'expanded_url': 'https://twitter.com/i/web/status/1545518360888283138', 'display_url': 'twitter.com/i/web/status/1…', 'indices': [117, 140]}]}, source='Twitter for iPhone', source_url='http://twitter.com/download/iphone', in_reply_to_status_id=None, in_reply_to_status_id_str=None, in_reply_to_user_id=None, in_reply_to_user_id_str=None, in_reply_to_screen_name=None, author=User(_api=<tweepy.api.API object at 0x0000014F293D01F0>, _json={'id': 942156122, 'id_str': '942156122', 'name': 'Rep. Eric Swalwell', 'screen_name': 'RepSwalwell', 'location': 'East Bay, CA & DC (CA-15)', 'description': 'Husband | Dad to Nelson, Cricket & Hank | Congressman | @HouseJudiciary @HouseIntel @HomelandDems | social media policy: https://t.co/47CTxGuV0o | #EndGunViolence', 'url': 'https://t.co/dOMyHpPwrL', 'entities': {'url': {'urls': [{'url': 'https://t.co/dOMyHpPwrL', 'expanded_url': 'http://swalwell.house.gov', 'display_url': 'swalwell.house.gov', 'indices': [0, 23]}]}, 'description': {'urls': [{'url': 'https://t.co/47CTxGuV0o', 'expanded_url': 'http://bit.ly/3gxdzVm', 'display_url': 'bit.ly/3gxdzVm', 'indices': [121, 144]}]}}, 'protected': False, 'followers_count': 1335594, 'friends_count': 11395, 'listed_count': 6378, 'created_at': 'Sun Nov 11 20:26:01 +0000 2012', 'favourites_count': 32103, 'utc_offset': None, 'time_zone': None, 'geo_enabled': True, 'verified': True, 'statuses_count': 18416, 'lang': None, 'contributors_enabled': False, 'is_translator': False, 'is_translation_enabled': False, 'profile_background_color': '2967B3', 'profile_background_image_url': 'http://abs.twimg.com/images/themes/theme1/bg.png', 'profile_background_image_url_https': 'https://abs.twimg.com/images/themes/theme1/bg.png', 'profile_background_tile': False, 'profile_image_url': 'http://pbs.twimg.com/profile_images/1478575870243655681/U0jtKirY_normal.jpg', 'profile_image_url_https': 'https://pbs.twimg.com/profile_images/1478575870243655681/U0jtKirY_normal.jpg', 'profile_banner_url': 'https://pbs.twimg.com/profile_banners/942156122/1604948102', 'profile_link_color': '0084B4', 'profile_sidebar_border_color': 'FFFFFF', 'profile_sidebar_fill_color': 'DDEEF6', 'profile_text_color': '333333', 'profile_use_background_image': True, 'has_extended_profile': True, 'default_profile': False, 'default_profile_image': False, 'following': False, 'follow_request_sent': False, 'notifications': False, 'translator_type': 'none', 'withheld_in_countries': []}, id=942156122, id_str='942156122', name='Rep. Eric Swalwell', screen_name='RepSwalwell', location='East Bay, CA & DC (CA-15)', description='Husband | Dad to Nelson, Cricket & Hank | Congressman | @HouseJudiciary @HouseIntel @HomelandDems | social media policy: https://t.co/47CTxGuV0o | #EndGunViolence', url='https://t.co/dOMyHpPwrL', entities={'url': {'urls': [{'url': 'https://t.co/dOMyHpPwrL', 'expanded_url': 'http://swalwell.house.gov', 'display_url': 'swalwell.house.gov', 'indices': [0, 23]}]}, 'description': {'urls': [{'url': 'https://t.co/47CTxGuV0o', 'expanded_url': 'http://bit.ly/3gxdzVm', 'display_url': 'bit.ly/3gxdzVm', 'indices': [121, 144]}]}}, protected=False, followers_count=1335594, friends_count=11395, listed_count=6378, created_at=datetime.datetime(2012, 11, 11, 20, 26, 1, tzinfo=datetime.timezone.utc), favourites_count=32103, utc_offset=None, time_zone=None, geo_enabled=True, verified=True, statuses_count=18416, lang=None, contributors_enabled=False, is_translator=False, is_translation_enabled=False, profile_background_color='2967B3', profile_background_image_url='http://abs.twimg.com/images/themes/theme1/bg.png', profile_background_image_url_https='https://abs.twimg.com/images/themes/theme1/bg.png', profile_background_tile=False, profile_image_url='http://pbs.twimg.com/profile_images/1478575870243655681/U0jtKirY_normal.jpg', profile_image_url_https='https://pbs.twimg.com/profile_images/1478575870243655681/U0jtKirY_normal.jpg', profile_banner_url='https://pbs.twimg.com/profile_banners/942156122/1604948102', profile_link_color='0084B4', profile_sidebar_border_color='FFFFFF', profile_sidebar_fill_color='DDEEF6', profile_text_color='333333', profile_use_background_image=True, has_extended_profile=True, default_profile=False, default_profile_image=False, following=False, follow_request_sent=False, notifications=False, translator_type='none', withheld_in_countries=[]), user=User(_api=<tweepy.api.API object at 0x0000014F293D01F0>, _json={'id': 942156122, 'id_str': '942156122', 'name': 'Rep. Eric Swalwell', 'screen_name': 'RepSwalwell', 'location': 'East Bay, CA & DC (CA-15)', 'description': 'Husband | Dad to Nelson, Cricket & Hank | Congressman | @HouseJudiciary @HouseIntel @HomelandDems | social media policy: https://t.co/47CTxGuV0o | #EndGunViolence', 'url': 'https://t.co/dOMyHpPwrL', 'entities': {'url': {'urls': [{'url': 'https://t.co/dOMyHpPwrL', 'expanded_url': 'http://swalwell.house.gov', 'display_url': 'swalwell.house.gov', 'indices': [0, 23]}]}, 'description': {'urls': [{'url': 'https://t.co/47CTxGuV0o', 'expanded_url': 'http://bit.ly/3gxdzVm', 'display_url': 'bit.ly/3gxdzVm', 'indices': [121, 144]}]}}, 'protected': False, 'followers_count': 1335594, 'friends_count': 11395, 'listed_count': 6378, 'created_at': 'Sun Nov 11 20:26:01 +0000 2012', 'favourites_count': 32103, 'utc_offset': None, 'time_zone': None, 'geo_enabled': True, 'verified': True, 'statuses_count': 18416, 'lang': None, 'contributors_enabled': False, 'is_translator': False, 'is_translation_enabled': False, 'profile_background_color': '2967B3', 'profile_background_image_url': 'http://abs.twimg.com/images/themes/theme1/bg.png', 'profile_background_image_url_https': 'https://abs.twimg.com/images/themes/theme1/bg.png', 'profile_background_tile': False, 'profile_image_url': 'http://pbs.twimg.com/profile_images/1478575870243655681/U0jtKirY_normal.jpg', 'profile_image_url_https': 'https://pbs.twimg.com/profile_images/1478575870243655681/U0jtKirY_normal.jpg', 'profile_banner_url': 'https://pbs.twimg.com/profile_banners/942156122/1604948102', 'profile_link_color': '0084B4', 'profile_sidebar_border_color': 'FFFFFF', 'profile_sidebar_fill_color': 'DDEEF6', 'profile_text_color': '333333', 'profile_use_background_image': True, 'has_extended_profile': True, 'default_profile': False, 'default_profile_image': False, 'following': False, 'follow_request_sent': False, 'notifications': False, 'translator_type': 'none', 'withheld_in_countries': []}, id=942156122, id_str='942156122', name='Rep. Eric Swalwell', screen_name='RepSwalwell', location='East Bay, CA & DC (CA-15)', description='Husband | Dad to Nelson, Cricket & Hank | Congressman | @HouseJudiciary @HouseIntel @HomelandDems | social media policy: https://t.co/47CTxGuV0o | #EndGunViolence', url='https://t.co/dOMyHpPwrL', entities={'url': {'urls': [{'url': 'https://t.co/dOMyHpPwrL', 'expanded_url': 'http://swalwell.house.gov', 'display_url': 'swalwell.house.gov', 'indices': [0, 23]}]}, 'description': {'urls': [{'url': 'https://t.co/47CTxGuV0o', 'expanded_url': 'http://bit.ly/3gxdzVm', 'display_url': 'bit.ly/3gxdzVm', 'indices': [121, 144]}]}}, protected=False, followers_count=1335594, friends_count=11395, listed_count=6378, created_at=datetime.datetime(2012, 11, 11, 20, 26, 1, tzinfo=datetime.timezone.utc), favourites_count=32103, utc_offset=None, time_zone=None, geo_enabled=True, verified=True, statuses_count=18416, lang=None, contributors_enabled=False, is_translator=False, is_translation_enabled=False, profile_background_color='2967B3', profile_background_image_url='http://abs.twimg.com/images/themes/theme1/bg.png', profile_background_image_url_https='https://abs.twimg.com/images/themes/theme1/bg.png', profile_background_tile=False, profile_image_url='http://pbs.twimg.com/profile_images/1478575870243655681/U0jtKirY_normal.jpg', profile_image_url_https='https://pbs.twimg.com/profile_images/1478575870243655681/U0jtKirY_normal.jpg', profile_banner_url='https://pbs.twimg.com/profile_banners/942156122/1604948102', profile_link_color='0084B4', profile_sidebar_border_color='FFFFFF', profile_sidebar_fill_color='DDEEF6', profile_text_color='333333', profile_use_background_image=True, has_extended_profile=True, default_profile=False, default_profile_image=False, following=False, follow_request_sent=False, notifications=False, translator_type='none', withheld_in_countries=[]), geo=None, coordinates=None, place=None, contributors=None, is_quote_status=False, retweet_count=3220, favorite_count=12097, favorited=False, retweeted=False, lang='en'), is_quote_status=False, retweet_count=3220, favorite_count=0, favorited=False, retweeted=False, lang='en'), Status(_api=<tweepy.api.API object at 0x0000014F293D01F0>, _json={'created_at': 'Sat Jul 09 00:10:25 +0000 2022', 'id': 1545560972638801920, 'id_str': '1545560972638801920', 'text': 'RT @AmoneyResists: BREAKING: @RepZoeLofgren tells Wolf Blitzer that Cipollone’s testimony today CORROBORATED Cassidy Hutchinson’s and other…', 'truncated': False, 'entities': {'hashtags': [], 'symbols': [], 'user_mentions': [{'screen_name': 'AmoneyResists', 'name': 'Andrew Wortman 🏳️\\u200d🌈🇺🇸', 'id': 739844197935644672, 'id_str': '739844197935644672', 'indices': [3, 17]}, {'screen_name': 'RepZoeLofgren', 'name': 'Rep. Zoe Lofgren', 'id': 267938462, 'id_str': '267938462', 'indices': [29, 43]}], 'urls': []}, 'source': '<a href=\"http://twitter.com/download/iphone\" rel=\"nofollow\">Twitter for iPhone</a>', 'in_reply_to_status_id': None, 'in_reply_to_status_id_str': None, 'in_reply_to_user_id': None, 'in_reply_to_user_id_str': None, 'in_reply_to_screen_name': None, 'user': {'id': 27493883, 'id_str': '27493883', 'name': 'Jon Cooper', 'screen_name': 'joncoopertweets', 'location': 'New York, Florida', 'description': 'Former National Finance Chair of Draft Biden 2016, Long Island Campaign Chair for @BarackObama & Majority Leader of Suffolk County Legislature, NY. @DukeU alum', 'url': None, 'entities': {'description': {'urls': []}}, 'protected': False, 'followers_count': 1026754, 'friends_count': 66952, 'listed_count': 3288, 'created_at': 'Sun Mar 29 20:12:52 +0000 2009', 'favourites_count': 297497, 'utc_offset': None, 'time_zone': None, 'geo_enabled': False, 'verified': True, 'statuses_count': 345163, 'lang': None, 'contributors_enabled': False, 'is_translator': False, 'is_translation_enabled': False, 'profile_background_color': 'C0DEED', 'profile_background_image_url': 'http://abs.twimg.com/images/themes/theme1/bg.png', 'profile_background_image_url_https': 'https://abs.twimg.com/images/themes/theme1/bg.png', 'profile_background_tile': False, 'profile_image_url': 'http://pbs.twimg.com/profile_images/1530358747511631874/G8bvUIHV_normal.jpg', 'profile_image_url_https': 'https://pbs.twimg.com/profile_images/1530358747511631874/G8bvUIHV_normal.jpg', 'profile_banner_url': 'https://pbs.twimg.com/profile_banners/27493883/1656387393', 'profile_link_color': '1DA1F2', 'profile_sidebar_border_color': 'C0DEED', 'profile_sidebar_fill_color': 'DDEEF6', 'profile_text_color': '333333', 'profile_use_background_image': True, 'has_extended_profile': True, 'default_profile': True, 'default_profile_image': False, 'following': True, 'follow_request_sent': False, 'notifications': False, 'translator_type': 'none', 'withheld_in_countries': []}, 'geo': None, 'coordinates': None, 'place': None, 'contributors': None, 'retweeted_status': {'created_at': 'Fri Jul 08 23:03:03 +0000 2022', 'id': 1545544017982676994, 'id_str': '1545544017982676994', 'text': 'BREAKING: @RepZoeLofgren tells Wolf Blitzer that Cipollone’s testimony today CORROBORATED Cassidy Hutchinson’s and… https://t.co/pY0rLwqEY5', 'truncated': True, 'entities': {'hashtags': [], 'symbols': [], 'user_mentions': [{'screen_name': 'RepZoeLofgren', 'name': 'Rep. Zoe Lofgren', 'id': 267938462, 'id_str': '267938462', 'indices': [10, 24]}], 'urls': [{'url': 'https://t.co/pY0rLwqEY5', 'expanded_url': 'https://twitter.com/i/web/status/1545544017982676994', 'display_url': 'twitter.com/i/web/status/1…', 'indices': [116, 139]}]}, 'source': '<a href=\"http://twitter.com/download/iphone\" rel=\"nofollow\">Twitter for iPhone</a>', 'in_reply_to_status_id': None, 'in_reply_to_status_id_str': None, 'in_reply_to_user_id': None, 'in_reply_to_user_id_str': None, 'in_reply_to_screen_name': None, 'user': {'id': 739844197935644672, 'id_str': '739844197935644672', 'name': 'Andrew Wortman 🏳️\\u200d🌈🇺🇸', 'screen_name': 'AmoneyResists', 'location': 'Warwick, RI', 'description': 'Host @AmericaRisesUp. Gay AF. Dems are pro-U.S. @GOP is waging war on democracy. We will win. #BlackLivesMatter #ExpandTheCourt #ImpeachClarenceThomas', 'url': 'https://t.co/W0TvsV6lKL', 'entities': {'url': {'urls': [{'url': 'https://t.co/W0TvsV6lKL', 'expanded_url': 'http://www.covidgriefresources.com', 'display_url': 'covidgriefresources.com', 'indices': [0, 23]}]}, 'description': {'urls': []}}, 'protected': False, 'followers_count': 136091, 'friends_count': 97705, 'listed_count': 508, 'created_at': 'Mon Jun 06 15:39:37 +0000 2016', 'favourites_count': 179479, 'utc_offset': None, 'time_zone': None, 'geo_enabled': True, 'verified': False, 'statuses_count': 226547, 'lang': None, 'contributors_enabled': False, 'is_translator': False, 'is_translation_enabled': False, 'profile_background_color': '000000', 'profile_background_image_url': 'http://abs.twimg.com/images/themes/theme1/bg.png', 'profile_background_image_url_https': 'https://abs.twimg.com/images/themes/theme1/bg.png', 'profile_background_tile': False, 'profile_image_url': 'http://pbs.twimg.com/profile_images/1545126515024842755/jMbepFim_normal.jpg', 'profile_image_url_https': 'https://pbs.twimg.com/profile_images/1545126515024842755/jMbepFim_normal.jpg', 'profile_banner_url': 'https://pbs.twimg.com/profile_banners/739844197935644672/1656874352', 'profile_link_color': '1B95E0', 'profile_sidebar_border_color': '000000', 'profile_sidebar_fill_color': '000000', 'profile_text_color': '000000', 'profile_use_background_image': False, 'has_extended_profile': True, 'default_profile': False, 'default_profile_image': False, 'following': False, 'follow_request_sent': False, 'notifications': False, 'translator_type': 'none', 'withheld_in_countries': []}, 'geo': None, 'coordinates': None, 'place': None, 'contributors': None, 'is_quote_status': False, 'retweet_count': 743, 'favorite_count': 3119, 'favorited': False, 'retweeted': False, 'lang': 'en'}, 'is_quote_status': False, 'retweet_count': 743, 'favorite_count': 0, 'favorited': False, 'retweeted': False, 'lang': 'en'}, created_at=datetime.datetime(2022, 7, 9, 0, 10, 25, tzinfo=datetime.timezone.utc), id=1545560972638801920, id_str='1545560972638801920', text='RT @AmoneyResists: BREAKING: @RepZoeLofgren tells Wolf Blitzer that Cipollone’s testimony today CORROBORATED Cassidy Hutchinson’s and other…', truncated=False, entities={'hashtags': [], 'symbols': [], 'user_mentions': [{'screen_name': 'AmoneyResists', 'name': 'Andrew Wortman 🏳️\\u200d🌈🇺🇸', 'id': 739844197935644672, 'id_str': '739844197935644672', 'indices': [3, 17]}, {'screen_name': 'RepZoeLofgren', 'name': 'Rep. Zoe Lofgren', 'id': 267938462, 'id_str': '267938462', 'indices': [29, 43]}], 'urls': []}, source='Twitter for iPhone', source_url='http://twitter.com/download/iphone', in_reply_to_status_id=None, in_reply_to_status_id_str=None, in_reply_to_user_id=None, in_reply_to_user_id_str=None, in_reply_to_screen_name=None, author=User(_api=<tweepy.api.API object at 0x0000014F293D01F0>, _json={'id': 27493883, 'id_str': '27493883', 'name': 'Jon Cooper', 'screen_name': 'joncoopertweets', 'location': 'New York, Florida', 'description': 'Former National Finance Chair of Draft Biden 2016, Long Island Campaign Chair for @BarackObama & Majority Leader of Suffolk County Legislature, NY. @DukeU alum', 'url': None, 'entities': {'description': {'urls': []}}, 'protected': False, 'followers_count': 1026754, 'friends_count': 66952, 'listed_count': 3288, 'created_at': 'Sun Mar 29 20:12:52 +0000 2009', 'favourites_count': 297497, 'utc_offset': None, 'time_zone': None, 'geo_enabled': False, 'verified': True, 'statuses_count': 345163, 'lang': None, 'contributors_enabled': False, 'is_translator': False, 'is_translation_enabled': False, 'profile_background_color': 'C0DEED', 'profile_background_image_url': 'http://abs.twimg.com/images/themes/theme1/bg.png', 'profile_background_image_url_https': 'https://abs.twimg.com/images/themes/theme1/bg.png', 'profile_background_tile': False, 'profile_image_url': 'http://pbs.twimg.com/profile_images/1530358747511631874/G8bvUIHV_normal.jpg', 'profile_image_url_https': 'https://pbs.twimg.com/profile_images/1530358747511631874/G8bvUIHV_normal.jpg', 'profile_banner_url': 'https://pbs.twimg.com/profile_banners/27493883/1656387393', 'profile_link_color': '1DA1F2', 'profile_sidebar_border_color': 'C0DEED', 'profile_sidebar_fill_color': 'DDEEF6', 'profile_text_color': '333333', 'profile_use_background_image': True, 'has_extended_profile': True, 'default_profile': True, 'default_profile_image': False, 'following': True, 'follow_request_sent': False, 'notifications': False, 'translator_type': 'none', 'withheld_in_countries': []}, id=27493883, id_str='27493883', name='Jon Cooper', screen_name='joncoopertweets', location='New York, Florida', description='Former National Finance Chair of Draft Biden 2016, Long Island Campaign Chair for @BarackObama & Majority Leader of Suffolk County Legislature, NY. @DukeU alum', url=None, entities={'description': {'urls': []}}, protected=False, followers_count=1026754, friends_count=66952, listed_count=3288, created_at=datetime.datetime(2009, 3, 29, 20, 12, 52, tzinfo=datetime.timezone.utc), favourites_count=297497, utc_offset=None, time_zone=None, geo_enabled=False, verified=True, statuses_count=345163, lang=None, contributors_enabled=False, is_translator=False, is_translation_enabled=False, profile_background_color='C0DEED', profile_background_image_url='http://abs.twimg.com/images/themes/theme1/bg.png', profile_background_image_url_https='https://abs.twimg.com/images/themes/theme1/bg.png', profile_background_tile=False, profile_image_url='http://pbs.twimg.com/profile_images/1530358747511631874/G8bvUIHV_normal.jpg', profile_image_url_https='https://pbs.twimg.com/profile_images/1530358747511631874/G8bvUIHV_normal.jpg', profile_banner_url='https://pbs.twimg.com/profile_banners/27493883/1656387393', profile_link_color='1DA1F2', profile_sidebar_border_color='C0DEED', profile_sidebar_fill_color='DDEEF6', profile_text_color='333333', profile_use_background_image=True, has_extended_profile=True, default_profile=True, default_profile_image=False, following=True, follow_request_sent=False, notifications=False, translator_type='none', withheld_in_countries=[]), user=User(_api=<tweepy.api.API object at 0x0000014F293D01F0>, _json={'id': 27493883, 'id_str': '27493883', 'name': 'Jon Cooper', 'screen_name': 'joncoopertweets', 'location': 'New York, Florida', 'description': 'Former National Finance Chair of Draft Biden 2016, Long Island Campaign Chair for @BarackObama & Majority Leader of Suffolk County Legislature, NY. @DukeU alum', 'url': None, 'entities': {'description': {'urls': []}}, 'protected': False, 'followers_count': 1026754, 'friends_count': 66952, 'listed_count': 3288, 'created_at': 'Sun Mar 29 20:12:52 +0000 2009', 'favourites_count': 297497, 'utc_offset': None, 'time_zone': None, 'geo_enabled': False, 'verified': True, 'statuses_count': 345163, 'lang': None, 'contributors_enabled': False, 'is_translator': False, 'is_translation_enabled': False, 'profile_background_color': 'C0DEED', 'profile_background_image_url': 'http://abs.twimg.com/images/themes/theme1/bg.png', 'profile_background_image_url_https': 'https://abs.twimg.com/images/themes/theme1/bg.png', 'profile_background_tile': False, 'profile_image_url': 'http://pbs.twimg.com/profile_images/1530358747511631874/G8bvUIHV_normal.jpg', 'profile_image_url_https': 'https://pbs.twimg.com/profile_images/1530358747511631874/G8bvUIHV_normal.jpg', 'profile_banner_url': 'https://pbs.twimg.com/profile_banners/27493883/1656387393', 'profile_link_color': '1DA1F2', 'profile_sidebar_border_color': 'C0DEED', 'profile_sidebar_fill_color': 'DDEEF6', 'profile_text_color': '333333', 'profile_use_background_image': True, 'has_extended_profile': True, 'default_profile': True, 'default_profile_image': False, 'following': True, 'follow_request_sent': False, 'notifications': False, 'translator_type': 'none', 'withheld_in_countries': []}, id=27493883, id_str='27493883', name='Jon Cooper', screen_name='joncoopertweets', location='New York, Florida', description='Former National Finance Chair of Draft Biden 2016, Long Island Campaign Chair for @BarackObama & Majority Leader of Suffolk County Legislature, NY. @DukeU alum', url=None, entities={'description': {'urls': []}}, protected=False, followers_count=1026754, friends_count=66952, listed_count=3288, created_at=datetime.datetime(2009, 3, 29, 20, 12, 52, tzinfo=datetime.timezone.utc), favourites_count=297497, utc_offset=None, time_zone=None, geo_enabled=False, verified=True, statuses_count=345163, lang=None, contributors_enabled=False, is_translator=False, is_translation_enabled=False, profile_background_color='C0DEED', profile_background_image_url='http://abs.twimg.com/images/themes/theme1/bg.png', profile_background_image_url_https='https://abs.twimg.com/images/themes/theme1/bg.png', profile_background_tile=False, profile_image_url='http://pbs.twimg.com/profile_images/1530358747511631874/G8bvUIHV_normal.jpg', profile_image_url_https='https://pbs.twimg.com/profile_images/1530358747511631874/G8bvUIHV_normal.jpg', profile_banner_url='https://pbs.twimg.com/profile_banners/27493883/1656387393', profile_link_color='1DA1F2', profile_sidebar_border_color='C0DEED', profile_sidebar_fill_color='DDEEF6', profile_text_color='333333', profile_use_background_image=True, has_extended_profile=True, default_profile=True, default_profile_image=False, following=True, follow_request_sent=False, notifications=False, translator_type='none', withheld_in_countries=[]), geo=None, coordinates=None, place=None, contributors=None, retweeted_status=Status(_api=<tweepy.api.API object at 0x0000014F293D01F0>, _json={'created_at': 'Fri Jul 08 23:03:03 +0000 2022', 'id': 1545544017982676994, 'id_str': '1545544017982676994', 'text': 'BREAKING: @RepZoeLofgren tells Wolf Blitzer that Cipollone’s testimony today CORROBORATED Cassidy Hutchinson’s and… https://t.co/pY0rLwqEY5', 'truncated': True, 'entities': {'hashtags': [], 'symbols': [], 'user_mentions': [{'screen_name': 'RepZoeLofgren', 'name': 'Rep. Zoe Lofgren', 'id': 267938462, 'id_str': '267938462', 'indices': [10, 24]}], 'urls': [{'url': 'https://t.co/pY0rLwqEY5', 'expanded_url': 'https://twitter.com/i/web/status/1545544017982676994', 'display_url': 'twitter.com/i/web/status/1…', 'indices': [116, 139]}]}, 'source': '<a href=\"http://twitter.com/download/iphone\" rel=\"nofollow\">Twitter for iPhone</a>', 'in_reply_to_status_id': None, 'in_reply_to_status_id_str': None, 'in_reply_to_user_id': None, 'in_reply_to_user_id_str': None, 'in_reply_to_screen_name': None, 'user': {'id': 739844197935644672, 'id_str': '739844197935644672', 'name': 'Andrew Wortman 🏳️\\u200d🌈🇺🇸', 'screen_name': 'AmoneyResists', 'location': 'Warwick, RI', 'description': 'Host @AmericaRisesUp. Gay AF. Dems are pro-U.S. @GOP is waging war on democracy. We will win. #BlackLivesMatter #ExpandTheCourt #ImpeachClarenceThomas', 'url': 'https://t.co/W0TvsV6lKL', 'entities': {'url': {'urls': [{'url': 'https://t.co/W0TvsV6lKL', 'expanded_url': 'http://www.covidgriefresources.com', 'display_url': 'covidgriefresources.com', 'indices': [0, 23]}]}, 'description': {'urls': []}}, 'protected': False, 'followers_count': 136091, 'friends_count': 97705, 'listed_count': 508, 'created_at': 'Mon Jun 06 15:39:37 +0000 2016', 'favourites_count': 179479, 'utc_offset': None, 'time_zone': None, 'geo_enabled': True, 'verified': False, 'statuses_count': 226547, 'lang': None, 'contributors_enabled': False, 'is_translator': False, 'is_translation_enabled': False, 'profile_background_color': '000000', 'profile_background_image_url': 'http://abs.twimg.com/images/themes/theme1/bg.png', 'profile_background_image_url_https': 'https://abs.twimg.com/images/themes/theme1/bg.png', 'profile_background_tile': False, 'profile_image_url': 'http://pbs.twimg.com/profile_images/1545126515024842755/jMbepFim_normal.jpg', 'profile_image_url_https': 'https://pbs.twimg.com/profile_images/1545126515024842755/jMbepFim_normal.jpg', 'profile_banner_url': 'https://pbs.twimg.com/profile_banners/739844197935644672/1656874352', 'profile_link_color': '1B95E0', 'profile_sidebar_border_color': '000000', 'profile_sidebar_fill_color': '000000', 'profile_text_color': '000000', 'profile_use_background_image': False, 'has_extended_profile': True, 'default_profile': False, 'default_profile_image': False, 'following': False, 'follow_request_sent': False, 'notifications': False, 'translator_type': 'none', 'withheld_in_countries': []}, 'geo': None, 'coordinates': None, 'place': None, 'contributors': None, 'is_quote_status': False, 'retweet_count': 743, 'favorite_count': 3119, 'favorited': False, 'retweeted': False, 'lang': 'en'}, created_at=datetime.datetime(2022, 7, 8, 23, 3, 3, tzinfo=datetime.timezone.utc), id=1545544017982676994, id_str='1545544017982676994', text='BREAKING: @RepZoeLofgren tells Wolf Blitzer that Cipollone’s testimony today CORROBORATED Cassidy Hutchinson’s and… https://t.co/pY0rLwqEY5', truncated=True, entities={'hashtags': [], 'symbols': [], 'user_mentions': [{'screen_name': 'RepZoeLofgren', 'name': 'Rep. Zoe Lofgren', 'id': 267938462, 'id_str': '267938462', 'indices': [10, 24]}], 'urls': [{'url': 'https://t.co/pY0rLwqEY5', 'expanded_url': 'https://twitter.com/i/web/status/1545544017982676994', 'display_url': 'twitter.com/i/web/status/1…', 'indices': [116, 139]}]}, source='Twitter for iPhone', source_url='http://twitter.com/download/iphone', in_reply_to_status_id=None, in_reply_to_status_id_str=None, in_reply_to_user_id=None, in_reply_to_user_id_str=None, in_reply_to_screen_name=None, author=User(_api=<tweepy.api.API object at 0x0000014F293D01F0>, _json={'id': 739844197935644672, 'id_str': '739844197935644672', 'name': 'Andrew Wortman 🏳️\\u200d🌈🇺🇸', 'screen_name': 'AmoneyResists', 'location': 'Warwick, RI', 'description': 'Host @AmericaRisesUp. Gay AF. Dems are pro-U.S. @GOP is waging war on democracy. We will win. #BlackLivesMatter #ExpandTheCourt #ImpeachClarenceThomas', 'url': 'https://t.co/W0TvsV6lKL', 'entities': {'url': {'urls': [{'url': 'https://t.co/W0TvsV6lKL', 'expanded_url': 'http://www.covidgriefresources.com', 'display_url': 'covidgriefresources.com', 'indices': [0, 23]}]}, 'description': {'urls': []}}, 'protected': False, 'followers_count': 136091, 'friends_count': 97705, 'listed_count': 508, 'created_at': 'Mon Jun 06 15:39:37 +0000 2016', 'favourites_count': 179479, 'utc_offset': None, 'time_zone': None, 'geo_enabled': True, 'verified': False, 'statuses_count': 226547, 'lang': None, 'contributors_enabled': False, 'is_translator': False, 'is_translation_enabled': False, 'profile_background_color': '000000', 'profile_background_image_url': 'http://abs.twimg.com/images/themes/theme1/bg.png', 'profile_background_image_url_https': 'https://abs.twimg.com/images/themes/theme1/bg.png', 'profile_background_tile': False, 'profile_image_url': 'http://pbs.twimg.com/profile_images/1545126515024842755/jMbepFim_normal.jpg', 'profile_image_url_https': 'https://pbs.twimg.com/profile_images/1545126515024842755/jMbepFim_normal.jpg', 'profile_banner_url': 'https://pbs.twimg.com/profile_banners/739844197935644672/1656874352', 'profile_link_color': '1B95E0', 'profile_sidebar_border_color': '000000', 'profile_sidebar_fill_color': '000000', 'profile_text_color': '000000', 'profile_use_background_image': False, 'has_extended_profile': True, 'default_profile': False, 'default_profile_image': False, 'following': False, 'follow_request_sent': False, 'notifications': False, 'translator_type': 'none', 'withheld_in_countries': []}, id=739844197935644672, id_str='739844197935644672', name='Andrew Wortman 🏳️\\u200d🌈🇺🇸', screen_name='AmoneyResists', location='Warwick, RI', description='Host @AmericaRisesUp. Gay AF. Dems are pro-U.S. @GOP is waging war on democracy. We will win. #BlackLivesMatter #ExpandTheCourt #ImpeachClarenceThomas', url='https://t.co/W0TvsV6lKL', entities={'url': {'urls': [{'url': 'https://t.co/W0TvsV6lKL', 'expanded_url': 'http://www.covidgriefresources.com', 'display_url': 'covidgriefresources.com', 'indices': [0, 23]}]}, 'description': {'urls': []}}, protected=False, followers_count=136091, friends_count=97705, listed_count=508, created_at=datetime.datetime(2016, 6, 6, 15, 39, 37, tzinfo=datetime.timezone.utc), favourites_count=179479, utc_offset=None, time_zone=None, geo_enabled=True, verified=False, statuses_count=226547, lang=None, contributors_enabled=False, is_translator=False, is_translation_enabled=False, profile_background_color='000000', profile_background_image_url='http://abs.twimg.com/images/themes/theme1/bg.png', profile_background_image_url_https='https://abs.twimg.com/images/themes/theme1/bg.png', profile_background_tile=False, profile_image_url='http://pbs.twimg.com/profile_images/1545126515024842755/jMbepFim_normal.jpg', profile_image_url_https='https://pbs.twimg.com/profile_images/1545126515024842755/jMbepFim_normal.jpg', profile_banner_url='https://pbs.twimg.com/profile_banners/739844197935644672/1656874352', profile_link_color='1B95E0', profile_sidebar_border_color='000000', profile_sidebar_fill_color='000000', profile_text_color='000000', profile_use_background_image=False, has_extended_profile=True, default_profile=False, default_profile_image=False, following=False, follow_request_sent=False, notifications=False, translator_type='none', withheld_in_countries=[]), user=User(_api=<tweepy.api.API object at 0x0000014F293D01F0>, _json={'id': 739844197935644672, 'id_str': '739844197935644672', 'name': 'Andrew Wortman 🏳️\\u200d🌈🇺🇸', 'screen_name': 'AmoneyResists', 'location': 'Warwick, RI', 'description': 'Host @AmericaRisesUp. Gay AF. Dems are pro-U.S. @GOP is waging war on democracy. We will win. #BlackLivesMatter #ExpandTheCourt #ImpeachClarenceThomas', 'url': 'https://t.co/W0TvsV6lKL', 'entities': {'url': {'urls': [{'url': 'https://t.co/W0TvsV6lKL', 'expanded_url': 'http://www.covidgriefresources.com', 'display_url': 'covidgriefresources.com', 'indices': [0, 23]}]}, 'description': {'urls': []}}, 'protected': False, 'followers_count': 136091, 'friends_count': 97705, 'listed_count': 508, 'created_at': 'Mon Jun 06 15:39:37 +0000 2016', 'favourites_count': 179479, 'utc_offset': None, 'time_zone': None, 'geo_enabled': True, 'verified': False, 'statuses_count': 226547, 'lang': None, 'contributors_enabled': False, 'is_translator': False, 'is_translation_enabled': False, 'profile_background_color': '000000', 'profile_background_image_url': 'http://abs.twimg.com/images/themes/theme1/bg.png', 'profile_background_image_url_https': 'https://abs.twimg.com/images/themes/theme1/bg.png', 'profile_background_tile': False, 'profile_image_url': 'http://pbs.twimg.com/profile_images/1545126515024842755/jMbepFim_normal.jpg', 'profile_image_url_https': 'https://pbs.twimg.com/profile_images/1545126515024842755/jMbepFim_normal.jpg', 'profile_banner_url': 'https://pbs.twimg.com/profile_banners/739844197935644672/1656874352', 'profile_link_color': '1B95E0', 'profile_sidebar_border_color': '000000', 'profile_sidebar_fill_color': '000000', 'profile_text_color': '000000', 'profile_use_background_image': False, 'has_extended_profile': True, 'default_profile': False, 'default_profile_image': False, 'following': False, 'follow_request_sent': False, 'notifications': False, 'translator_type': 'none', 'withheld_in_countries': []}, id=739844197935644672, id_str='739844197935644672', name='Andrew Wortman 🏳️\\u200d🌈🇺🇸', screen_name='AmoneyResists', location='Warwick, RI', description='Host @AmericaRisesUp. Gay AF. Dems are pro-U.S. @GOP is waging war on democracy. We will win. #BlackLivesMatter #ExpandTheCourt #ImpeachClarenceThomas', url='https://t.co/W0TvsV6lKL', entities={'url': {'urls': [{'url': 'https://t.co/W0TvsV6lKL', 'expanded_url': 'http://www.covidgriefresources.com', 'display_url': 'covidgriefresources.com', 'indices': [0, 23]}]}, 'description': {'urls': []}}, protected=False, followers_count=136091, friends_count=97705, listed_count=508, created_at=datetime.datetime(2016, 6, 6, 15, 39, 37, tzinfo=datetime.timezone.utc), favourites_count=179479, utc_offset=None, time_zone=None, geo_enabled=True, verified=False, statuses_count=226547, lang=None, contributors_enabled=False, is_translator=False, is_translation_enabled=False, profile_background_color='000000', profile_background_image_url='http://abs.twimg.com/images/themes/theme1/bg.png', profile_background_image_url_https='https://abs.twimg.com/images/themes/theme1/bg.png', profile_background_tile=False, profile_image_url='http://pbs.twimg.com/profile_images/1545126515024842755/jMbepFim_normal.jpg', profile_image_url_https='https://pbs.twimg.com/profile_images/1545126515024842755/jMbepFim_normal.jpg', profile_banner_url='https://pbs.twimg.com/profile_banners/739844197935644672/1656874352', profile_link_color='1B95E0', profile_sidebar_border_color='000000', profile_sidebar_fill_color='000000', profile_text_color='000000', profile_use_background_image=False, has_extended_profile=True, default_profile=False, default_profile_image=False, following=False, follow_request_sent=False, notifications=False, translator_type='none', withheld_in_countries=[]), geo=None, coordinates=None, place=None, contributors=None, is_quote_status=False, retweet_count=743, favorite_count=3119, favorited=False, retweeted=False, lang='en'), is_quote_status=False, retweet_count=743, favorite_count=0, favorited=False, retweeted=False, lang='en'), Status(_api=<tweepy.api.API object at 0x0000014F293D01F0>, _json={'created_at': 'Sat Jul 09 00:10:12 +0000 2022', 'id': 1545560918108536833, 'id_str': '1545560918108536833', 'text': \"RT @JoeBiden: Today, I signed an executive order to protect the reproductive rights of women in the aftermath of the Supreme Court's extrem…\", 'truncated': False, 'entities': {'hashtags': [], 'symbols': [], 'user_mentions': [{'screen_name': 'JoeBiden', 'name': 'Joe Biden', 'id': 939091, 'id_str': '939091', 'indices': [3, 12]}], 'urls': []}, 'source': '<a href=\"http://twitter.com/download/iphone\" rel=\"nofollow\">Twitter for iPhone</a>', 'in_reply_to_status_id': None, 'in_reply_to_status_id_str': None, 'in_reply_to_user_id': None, 'in_reply_to_user_id_str': None, 'in_reply_to_screen_name': None, 'user': {'id': 27493883, 'id_str': '27493883', 'name': 'Jon Cooper', 'screen_name': 'joncoopertweets', 'location': 'New York, Florida', 'description': 'Former National Finance Chair of Draft Biden 2016, Long Island Campaign Chair for @BarackObama & Majority Leader of Suffolk County Legislature, NY. @DukeU alum', 'url': None, 'entities': {'description': {'urls': []}}, 'protected': False, 'followers_count': 1026754, 'friends_count': 66952, 'listed_count': 3288, 'created_at': 'Sun Mar 29 20:12:52 +0000 2009', 'favourites_count': 297497, 'utc_offset': None, 'time_zone': None, 'geo_enabled': False, 'verified': True, 'statuses_count': 345163, 'lang': None, 'contributors_enabled': False, 'is_translator': False, 'is_translation_enabled': False, 'profile_background_color': 'C0DEED', 'profile_background_image_url': 'http://abs.twimg.com/images/themes/theme1/bg.png', 'profile_background_image_url_https': 'https://abs.twimg.com/images/themes/theme1/bg.png', 'profile_background_tile': False, 'profile_image_url': 'http://pbs.twimg.com/profile_images/1530358747511631874/G8bvUIHV_normal.jpg', 'profile_image_url_https': 'https://pbs.twimg.com/profile_images/1530358747511631874/G8bvUIHV_normal.jpg', 'profile_banner_url': 'https://pbs.twimg.com/profile_banners/27493883/1656387393', 'profile_link_color': '1DA1F2', 'profile_sidebar_border_color': 'C0DEED', 'profile_sidebar_fill_color': 'DDEEF6', 'profile_text_color': '333333', 'profile_use_background_image': True, 'has_extended_profile': True, 'default_profile': True, 'default_profile_image': False, 'following': True, 'follow_request_sent': False, 'notifications': False, 'translator_type': 'none', 'withheld_in_countries': []}, 'geo': None, 'coordinates': None, 'place': None, 'contributors': None, 'retweeted_status': {'created_at': 'Fri Jul 08 23:00:04 +0000 2022', 'id': 1545543268695416832, 'id_str': '1545543268695416832', 'text': 'Today, I signed an executive order to protect the reproductive rights of women in the aftermath of the Supreme Cour… https://t.co/7YNtkGPPNv', 'truncated': True, 'entities': {'hashtags': [], 'symbols': [], 'user_mentions': [], 'urls': [{'url': 'https://t.co/7YNtkGPPNv', 'expanded_url': 'https://twitter.com/i/web/status/1545543268695416832', 'display_url': 'twitter.com/i/web/status/1…', 'indices': [117, 140]}]}, 'source': '<a href=\"https://sproutsocial.com\" rel=\"nofollow\">Sprout Social</a>', 'in_reply_to_status_id': None, 'in_reply_to_status_id_str': None, 'in_reply_to_user_id': None, 'in_reply_to_user_id_str': None, 'in_reply_to_screen_name': None, 'user': {'id': 939091, 'id_str': '939091', 'name': 'Joe Biden', 'screen_name': 'JoeBiden', 'location': 'Washington, DC', 'description': 'Husband to @DrBiden, proud father and grandfather. Ready to build back better for all Americans. Official account is @POTUS.', 'url': 'https://t.co/UClrPuJpyZ', 'entities': {'url': {'urls': [{'url': 'https://t.co/UClrPuJpyZ', 'expanded_url': 'http://joebiden.com', 'display_url': 'joebiden.com', 'indices': [0, 23]}]}, 'description': {'urls': []}}, 'protected': False, 'followers_count': 34695579, 'friends_count': 48, 'listed_count': 39412, 'created_at': 'Sun Mar 11 17:51:24 +0000 2007', 'favourites_count': 20, 'utc_offset': None, 'time_zone': None, 'geo_enabled': False, 'verified': True, 'statuses_count': 8330, 'lang': None, 'contributors_enabled': False, 'is_translator': False, 'is_translation_enabled': False, 'profile_background_color': '565959', 'profile_background_image_url': 'http://abs.twimg.com/images/themes/theme1/bg.png', 'profile_background_image_url_https': 'https://abs.twimg.com/images/themes/theme1/bg.png', 'profile_background_tile': True, 'profile_image_url': 'http://pbs.twimg.com/profile_images/1308769664240160770/AfgzWVE7_normal.jpg', 'profile_image_url_https': 'https://pbs.twimg.com/profile_images/1308769664240160770/AfgzWVE7_normal.jpg', 'profile_banner_url': 'https://pbs.twimg.com/profile_banners/939091/1626295479', 'profile_link_color': '233F94', 'profile_sidebar_border_color': 'FFFFFF', 'profile_sidebar_fill_color': 'EBEBFF', 'profile_text_color': '323232', 'profile_use_background_image': True, 'has_extended_profile': False, 'default_profile': False, 'default_profile_image': False, 'following': False, 'follow_request_sent': False, 'notifications': False, 'translator_type': 'none', 'withheld_in_countries': []}, 'geo': None, 'coordinates': None, 'place': None, 'contributors': None, 'is_quote_status': False, 'retweet_count': 1323, 'favorite_count': 6763, 'favorited': False, 'retweeted': False, 'possibly_sensitive': False, 'possibly_sensitive_appealable': False, 'lang': 'en'}, 'is_quote_status': False, 'retweet_count': 1323, 'favorite_count': 0, 'favorited': False, 'retweeted': False, 'lang': 'en'}, created_at=datetime.datetime(2022, 7, 9, 0, 10, 12, tzinfo=datetime.timezone.utc), id=1545560918108536833, id_str='1545560918108536833', text=\"RT @JoeBiden: Today, I signed an executive order to protect the reproductive rights of women in the aftermath of the Supreme Court's extrem…\", truncated=False, entities={'hashtags': [], 'symbols': [], 'user_mentions': [{'screen_name': 'JoeBiden', 'name': 'Joe Biden', 'id': 939091, 'id_str': '939091', 'indices': [3, 12]}], 'urls': []}, source='Twitter for iPhone', source_url='http://twitter.com/download/iphone', in_reply_to_status_id=None, in_reply_to_status_id_str=None, in_reply_to_user_id=None, in_reply_to_user_id_str=None, in_reply_to_screen_name=None, author=User(_api=<tweepy.api.API object at 0x0000014F293D01F0>, _json={'id': 27493883, 'id_str': '27493883', 'name': 'Jon Cooper', 'screen_name': 'joncoopertweets', 'location': 'New York, Florida', 'description': 'Former National Finance Chair of Draft Biden 2016, Long Island Campaign Chair for @BarackObama & Majority Leader of Suffolk County Legislature, NY. @DukeU alum', 'url': None, 'entities': {'description': {'urls': []}}, 'protected': False, 'followers_count': 1026754, 'friends_count': 66952, 'listed_count': 3288, 'created_at': 'Sun Mar 29 20:12:52 +0000 2009', 'favourites_count': 297497, 'utc_offset': None, 'time_zone': None, 'geo_enabled': False, 'verified': True, 'statuses_count': 345163, 'lang': None, 'contributors_enabled': False, 'is_translator': False, 'is_translation_enabled': False, 'profile_background_color': 'C0DEED', 'profile_background_image_url': 'http://abs.twimg.com/images/themes/theme1/bg.png', 'profile_background_image_url_https': 'https://abs.twimg.com/images/themes/theme1/bg.png', 'profile_background_tile': False, 'profile_image_url': 'http://pbs.twimg.com/profile_images/1530358747511631874/G8bvUIHV_normal.jpg', 'profile_image_url_https': 'https://pbs.twimg.com/profile_images/1530358747511631874/G8bvUIHV_normal.jpg', 'profile_banner_url': 'https://pbs.twimg.com/profile_banners/27493883/1656387393', 'profile_link_color': '1DA1F2', 'profile_sidebar_border_color': 'C0DEED', 'profile_sidebar_fill_color': 'DDEEF6', 'profile_text_color': '333333', 'profile_use_background_image': True, 'has_extended_profile': True, 'default_profile': True, 'default_profile_image': False, 'following': True, 'follow_request_sent': False, 'notifications': False, 'translator_type': 'none', 'withheld_in_countries': []}, id=27493883, id_str='27493883', name='Jon Cooper', screen_name='joncoopertweets', location='New York, Florida', description='Former National Finance Chair of Draft Biden 2016, Long Island Campaign Chair for @BarackObama & Majority Leader of Suffolk County Legislature, NY. @DukeU alum', url=None, entities={'description': {'urls': []}}, protected=False, followers_count=1026754, friends_count=66952, listed_count=3288, created_at=datetime.datetime(2009, 3, 29, 20, 12, 52, tzinfo=datetime.timezone.utc), favourites_count=297497, utc_offset=None, time_zone=None, geo_enabled=False, verified=True, statuses_count=345163, lang=None, contributors_enabled=False, is_translator=False, is_translation_enabled=False, profile_background_color='C0DEED', profile_background_image_url='http://abs.twimg.com/images/themes/theme1/bg.png', profile_background_image_url_https='https://abs.twimg.com/images/themes/theme1/bg.png', profile_background_tile=False, profile_image_url='http://pbs.twimg.com/profile_images/1530358747511631874/G8bvUIHV_normal.jpg', profile_image_url_https='https://pbs.twimg.com/profile_images/1530358747511631874/G8bvUIHV_normal.jpg', profile_banner_url='https://pbs.twimg.com/profile_banners/27493883/1656387393', profile_link_color='1DA1F2', profile_sidebar_border_color='C0DEED', profile_sidebar_fill_color='DDEEF6', profile_text_color='333333', profile_use_background_image=True, has_extended_profile=True, default_profile=True, default_profile_image=False, following=True, follow_request_sent=False, notifications=False, translator_type='none', withheld_in_countries=[]), user=User(_api=<tweepy.api.API object at 0x0000014F293D01F0>, _json={'id': 27493883, 'id_str': '27493883', 'name': 'Jon Cooper', 'screen_name': 'joncoopertweets', 'location': 'New York, Florida', 'description': 'Former National Finance Chair of Draft Biden 2016, Long Island Campaign Chair for @BarackObama & Majority Leader of Suffolk County Legislature, NY. @DukeU alum', 'url': None, 'entities': {'description': {'urls': []}}, 'protected': False, 'followers_count': 1026754, 'friends_count': 66952, 'listed_count': 3288, 'created_at': 'Sun Mar 29 20:12:52 +0000 2009', 'favourites_count': 297497, 'utc_offset': None, 'time_zone': None, 'geo_enabled': False, 'verified': True, 'statuses_count': 345163, 'lang': None, 'contributors_enabled': False, 'is_translator': False, 'is_translation_enabled': False, 'profile_background_color': 'C0DEED', 'profile_background_image_url': 'http://abs.twimg.com/images/themes/theme1/bg.png', 'profile_background_image_url_https': 'https://abs.twimg.com/images/themes/theme1/bg.png', 'profile_background_tile': False, 'profile_image_url': 'http://pbs.twimg.com/profile_images/1530358747511631874/G8bvUIHV_normal.jpg', 'profile_image_url_https': 'https://pbs.twimg.com/profile_images/1530358747511631874/G8bvUIHV_normal.jpg', 'profile_banner_url': 'https://pbs.twimg.com/profile_banners/27493883/1656387393', 'profile_link_color': '1DA1F2', 'profile_sidebar_border_color': 'C0DEED', 'profile_sidebar_fill_color': 'DDEEF6', 'profile_text_color': '333333', 'profile_use_background_image': True, 'has_extended_profile': True, 'default_profile': True, 'default_profile_image': False, 'following': True, 'follow_request_sent': False, 'notifications': False, 'translator_type': 'none', 'withheld_in_countries': []}, id=27493883, id_str='27493883', name='Jon Cooper', screen_name='joncoopertweets', location='New York, Florida', description='Former National Finance Chair of Draft Biden 2016, Long Island Campaign Chair for @BarackObama & Majority Leader of Suffolk County Legislature, NY. @DukeU alum', url=None, entities={'description': {'urls': []}}, protected=False, followers_count=1026754, friends_count=66952, listed_count=3288, created_at=datetime.datetime(2009, 3, 29, 20, 12, 52, tzinfo=datetime.timezone.utc), favourites_count=297497, utc_offset=None, time_zone=None, geo_enabled=False, verified=True, statuses_count=345163, lang=None, contributors_enabled=False, is_translator=False, is_translation_enabled=False, profile_background_color='C0DEED', profile_background_image_url='http://abs.twimg.com/images/themes/theme1/bg.png', profile_background_image_url_https='https://abs.twimg.com/images/themes/theme1/bg.png', profile_background_tile=False, profile_image_url='http://pbs.twimg.com/profile_images/1530358747511631874/G8bvUIHV_normal.jpg', profile_image_url_https='https://pbs.twimg.com/profile_images/1530358747511631874/G8bvUIHV_normal.jpg', profile_banner_url='https://pbs.twimg.com/profile_banners/27493883/1656387393', profile_link_color='1DA1F2', profile_sidebar_border_color='C0DEED', profile_sidebar_fill_color='DDEEF6', profile_text_color='333333', profile_use_background_image=True, has_extended_profile=True, default_profile=True, default_profile_image=False, following=True, follow_request_sent=False, notifications=False, translator_type='none', withheld_in_countries=[]), geo=None, coordinates=None, place=None, contributors=None, retweeted_status=Status(_api=<tweepy.api.API object at 0x0000014F293D01F0>, _json={'created_at': 'Fri Jul 08 23:00:04 +0000 2022', 'id': 1545543268695416832, 'id_str': '1545543268695416832', 'text': 'Today, I signed an executive order to protect the reproductive rights of women in the aftermath of the Supreme Cour… https://t.co/7YNtkGPPNv', 'truncated': True, 'entities': {'hashtags': [], 'symbols': [], 'user_mentions': [], 'urls': [{'url': 'https://t.co/7YNtkGPPNv', 'expanded_url': 'https://twitter.com/i/web/status/1545543268695416832', 'display_url': 'twitter.com/i/web/status/1…', 'indices': [117, 140]}]}, 'source': '<a href=\"https://sproutsocial.com\" rel=\"nofollow\">Sprout Social</a>', 'in_reply_to_status_id': None, 'in_reply_to_status_id_str': None, 'in_reply_to_user_id': None, 'in_reply_to_user_id_str': None, 'in_reply_to_screen_name': None, 'user': {'id': 939091, 'id_str': '939091', 'name': 'Joe Biden', 'screen_name': 'JoeBiden', 'location': 'Washington, DC', 'description': 'Husband to @DrBiden, proud father and grandfather. Ready to build back better for all Americans. Official account is @POTUS.', 'url': 'https://t.co/UClrPuJpyZ', 'entities': {'url': {'urls': [{'url': 'https://t.co/UClrPuJpyZ', 'expanded_url': 'http://joebiden.com', 'display_url': 'joebiden.com', 'indices': [0, 23]}]}, 'description': {'urls': []}}, 'protected': False, 'followers_count': 34695579, 'friends_count': 48, 'listed_count': 39412, 'created_at': 'Sun Mar 11 17:51:24 +0000 2007', 'favourites_count': 20, 'utc_offset': None, 'time_zone': None, 'geo_enabled': False, 'verified': True, 'statuses_count': 8330, 'lang': None, 'contributors_enabled': False, 'is_translator': False, 'is_translation_enabled': False, 'profile_background_color': '565959', 'profile_background_image_url': 'http://abs.twimg.com/images/themes/theme1/bg.png', 'profile_background_image_url_https': 'https://abs.twimg.com/images/themes/theme1/bg.png', 'profile_background_tile': True, 'profile_image_url': 'http://pbs.twimg.com/profile_images/1308769664240160770/AfgzWVE7_normal.jpg', 'profile_image_url_https': 'https://pbs.twimg.com/profile_images/1308769664240160770/AfgzWVE7_normal.jpg', 'profile_banner_url': 'https://pbs.twimg.com/profile_banners/939091/1626295479', 'profile_link_color': '233F94', 'profile_sidebar_border_color': 'FFFFFF', 'profile_sidebar_fill_color': 'EBEBFF', 'profile_text_color': '323232', 'profile_use_background_image': True, 'has_extended_profile': False, 'default_profile': False, 'default_profile_image': False, 'following': False, 'follow_request_sent': False, 'notifications': False, 'translator_type': 'none', 'withheld_in_countries': []}, 'geo': None, 'coordinates': None, 'place': None, 'contributors': None, 'is_quote_status': False, 'retweet_count': 1323, 'favorite_count': 6763, 'favorited': False, 'retweeted': False, 'possibly_sensitive': False, 'possibly_sensitive_appealable': False, 'lang': 'en'}, created_at=datetime.datetime(2022, 7, 8, 23, 0, 4, tzinfo=datetime.timezone.utc), id=1545543268695416832, id_str='1545543268695416832', text='Today, I signed an executive order to protect the reproductive rights of women in the aftermath of the Supreme Cour… https://t.co/7YNtkGPPNv', truncated=True, entities={'hashtags': [], 'symbols': [], 'user_mentions': [], 'urls': [{'url': 'https://t.co/7YNtkGPPNv', 'expanded_url': 'https://twitter.com/i/web/status/1545543268695416832', 'display_url': 'twitter.com/i/web/status/1…', 'indices': [117, 140]}]}, source='Sprout Social', source_url='https://sproutsocial.com', in_reply_to_status_id=None, in_reply_to_status_id_str=None, in_reply_to_user_id=None, in_reply_to_user_id_str=None, in_reply_to_screen_name=None, author=User(_api=<tweepy.api.API object at 0x0000014F293D01F0>, _json={'id': 939091, 'id_str': '939091', 'name': 'Joe Biden', 'screen_name': 'JoeBiden', 'location': 'Washington, DC', 'description': 'Husband to @DrBiden, proud father and grandfather. Ready to build back better for all Americans. Official account is @POTUS.', 'url': 'https://t.co/UClrPuJpyZ', 'entities': {'url': {'urls': [{'url': 'https://t.co/UClrPuJpyZ', 'expanded_url': 'http://joebiden.com', 'display_url': 'joebiden.com', 'indices': [0, 23]}]}, 'description': {'urls': []}}, 'protected': False, 'followers_count': 34695579, 'friends_count': 48, 'listed_count': 39412, 'created_at': 'Sun Mar 11 17:51:24 +0000 2007', 'favourites_count': 20, 'utc_offset': None, 'time_zone': None, 'geo_enabled': False, 'verified': True, 'statuses_count': 8330, 'lang': None, 'contributors_enabled': False, 'is_translator': False, 'is_translation_enabled': False, 'profile_background_color': '565959', 'profile_background_image_url': 'http://abs.twimg.com/images/themes/theme1/bg.png', 'profile_background_image_url_https': 'https://abs.twimg.com/images/themes/theme1/bg.png', 'profile_background_tile': True, 'profile_image_url': 'http://pbs.twimg.com/profile_images/1308769664240160770/AfgzWVE7_normal.jpg', 'profile_image_url_https': 'https://pbs.twimg.com/profile_images/1308769664240160770/AfgzWVE7_normal.jpg', 'profile_banner_url': 'https://pbs.twimg.com/profile_banners/939091/1626295479', 'profile_link_color': '233F94', 'profile_sidebar_border_color': 'FFFFFF', 'profile_sidebar_fill_color': 'EBEBFF', 'profile_text_color': '323232', 'profile_use_background_image': True, 'has_extended_profile': False, 'default_profile': False, 'default_profile_image': False, 'following': False, 'follow_request_sent': False, 'notifications': False, 'translator_type': 'none', 'withheld_in_countries': []}, id=939091, id_str='939091', name='Joe Biden', screen_name='JoeBiden', location='Washington, DC', description='Husband to @DrBiden, proud father and grandfather. Ready to build back better for all Americans. Official account is @POTUS.', url='https://t.co/UClrPuJpyZ', entities={'url': {'urls': [{'url': 'https://t.co/UClrPuJpyZ', 'expanded_url': 'http://joebiden.com', 'display_url': 'joebiden.com', 'indices': [0, 23]}]}, 'description': {'urls': []}}, protected=False, followers_count=34695579, friends_count=48, listed_count=39412, created_at=datetime.datetime(2007, 3, 11, 17, 51, 24, tzinfo=datetime.timezone.utc), favourites_count=20, utc_offset=None, time_zone=None, geo_enabled=False, verified=True, statuses_count=8330, lang=None, contributors_enabled=False, is_translator=False, is_translation_enabled=False, profile_background_color='565959', profile_background_image_url='http://abs.twimg.com/images/themes/theme1/bg.png', profile_background_image_url_https='https://abs.twimg.com/images/themes/theme1/bg.png', profile_background_tile=True, profile_image_url='http://pbs.twimg.com/profile_images/1308769664240160770/AfgzWVE7_normal.jpg', profile_image_url_https='https://pbs.twimg.com/profile_images/1308769664240160770/AfgzWVE7_normal.jpg', profile_banner_url='https://pbs.twimg.com/profile_banners/939091/1626295479', profile_link_color='233F94', profile_sidebar_border_color='FFFFFF', profile_sidebar_fill_color='EBEBFF', profile_text_color='323232', profile_use_background_image=True, has_extended_profile=False, default_profile=False, default_profile_image=False, following=False, follow_request_sent=False, notifications=False, translator_type='none', withheld_in_countries=[]), user=User(_api=<tweepy.api.API object at 0x0000014F293D01F0>, _json={'id': 939091, 'id_str': '939091', 'name': 'Joe Biden', 'screen_name': 'JoeBiden', 'location': 'Washington, DC', 'description': 'Husband to @DrBiden, proud father and grandfather. Ready to build back better for all Americans. Official account is @POTUS.', 'url': 'https://t.co/UClrPuJpyZ', 'entities': {'url': {'urls': [{'url': 'https://t.co/UClrPuJpyZ', 'expanded_url': 'http://joebiden.com', 'display_url': 'joebiden.com', 'indices': [0, 23]}]}, 'description': {'urls': []}}, 'protected': False, 'followers_count': 34695579, 'friends_count': 48, 'listed_count': 39412, 'created_at': 'Sun Mar 11 17:51:24 +0000 2007', 'favourites_count': 20, 'utc_offset': None, 'time_zone': None, 'geo_enabled': False, 'verified': True, 'statuses_count': 8330, 'lang': None, 'contributors_enabled': False, 'is_translator': False, 'is_translation_enabled': False, 'profile_background_color': '565959', 'profile_background_image_url': 'http://abs.twimg.com/images/themes/theme1/bg.png', 'profile_background_image_url_https': 'https://abs.twimg.com/images/themes/theme1/bg.png', 'profile_background_tile': True, 'profile_image_url': 'http://pbs.twimg.com/profile_images/1308769664240160770/AfgzWVE7_normal.jpg', 'profile_image_url_https': 'https://pbs.twimg.com/profile_images/1308769664240160770/AfgzWVE7_normal.jpg', 'profile_banner_url': 'https://pbs.twimg.com/profile_banners/939091/1626295479', 'profile_link_color': '233F94', 'profile_sidebar_border_color': 'FFFFFF', 'profile_sidebar_fill_color': 'EBEBFF', 'profile_text_color': '323232', 'profile_use_background_image': True, 'has_extended_profile': False, 'default_profile': False, 'default_profile_image': False, 'following': False, 'follow_request_sent': False, 'notifications': False, 'translator_type': 'none', 'withheld_in_countries': []}, id=939091, id_str='939091', name='Joe Biden', screen_name='JoeBiden', location='Washington, DC', description='Husband to @DrBiden, proud father and grandfather. Ready to build back better for all Americans. Official account is @POTUS.', url='https://t.co/UClrPuJpyZ', entities={'url': {'urls': [{'url': 'https://t.co/UClrPuJpyZ', 'expanded_url': 'http://joebiden.com', 'display_url': 'joebiden.com', 'indices': [0, 23]}]}, 'description': {'urls': []}}, protected=False, followers_count=34695579, friends_count=48, listed_count=39412, created_at=datetime.datetime(2007, 3, 11, 17, 51, 24, tzinfo=datetime.timezone.utc), favourites_count=20, utc_offset=None, time_zone=None, geo_enabled=False, verified=True, statuses_count=8330, lang=None, contributors_enabled=False, is_translator=False, is_translation_enabled=False, profile_background_color='565959', profile_background_image_url='http://abs.twimg.com/images/themes/theme1/bg.png', profile_background_image_url_https='https://abs.twimg.com/images/themes/theme1/bg.png', profile_background_tile=True, profile_image_url='http://pbs.twimg.com/profile_images/1308769664240160770/AfgzWVE7_normal.jpg', profile_image_url_https='https://pbs.twimg.com/profile_images/1308769664240160770/AfgzWVE7_normal.jpg', profile_banner_url='https://pbs.twimg.com/profile_banners/939091/1626295479', profile_link_color='233F94', profile_sidebar_border_color='FFFFFF', profile_sidebar_fill_color='EBEBFF', profile_text_color='323232', profile_use_background_image=True, has_extended_profile=False, default_profile=False, default_profile_image=False, following=False, follow_request_sent=False, notifications=False, translator_type='none', withheld_in_countries=[]), geo=None, coordinates=None, place=None, contributors=None, is_quote_status=False, retweet_count=1323, favorite_count=6763, favorited=False, retweeted=False, possibly_sensitive=False, possibly_sensitive_appealable=False, lang='en'), is_quote_status=False, retweet_count=1323, favorite_count=0, favorited=False, retweeted=False, lang='en'), Status(_api=<tweepy.api.API object at 0x0000014F293D01F0>, _json={'created_at': 'Sat Jul 09 00:09:37 +0000 2022', 'id': 1545560769173020672, 'id_str': '1545560769173020672', 'text': 'RT @POTUS: We cannot and we will not allow an out of control Supreme Court working in conjunction with Republican officials pushing an extr…', 'truncated': False, 'entities': {'hashtags': [], 'symbols': [], 'user_mentions': [{'screen_name': 'POTUS', 'name': 'President Biden', 'id': 1349149096909668363, 'id_str': '1349149096909668363', 'indices': [3, 9]}], 'urls': []}, 'source': '<a href=\"http://twitter.com/download/iphone\" rel=\"nofollow\">Twitter for iPhone</a>', 'in_reply_to_status_id': None, 'in_reply_to_status_id_str': None, 'in_reply_to_user_id': None, 'in_reply_to_user_id_str': None, 'in_reply_to_screen_name': None, 'user': {'id': 27493883, 'id_str': '27493883', 'name': 'Jon Cooper', 'screen_name': 'joncoopertweets', 'location': 'New York, Florida', 'description': 'Former National Finance Chair of Draft Biden 2016, Long Island Campaign Chair for @BarackObama & Majority Leader of Suffolk County Legislature, NY. @DukeU alum', 'url': None, 'entities': {'description': {'urls': []}}, 'protected': False, 'followers_count': 1026754, 'friends_count': 66952, 'listed_count': 3288, 'created_at': 'Sun Mar 29 20:12:52 +0000 2009', 'favourites_count': 297497, 'utc_offset': None, 'time_zone': None, 'geo_enabled': False, 'verified': True, 'statuses_count': 345163, 'lang': None, 'contributors_enabled': False, 'is_translator': False, 'is_translation_enabled': False, 'profile_background_color': 'C0DEED', 'profile_background_image_url': 'http://abs.twimg.com/images/themes/theme1/bg.png', 'profile_background_image_url_https': 'https://abs.twimg.com/images/themes/theme1/bg.png', 'profile_background_tile': False, 'profile_image_url': 'http://pbs.twimg.com/profile_images/1530358747511631874/G8bvUIHV_normal.jpg', 'profile_image_url_https': 'https://pbs.twimg.com/profile_images/1530358747511631874/G8bvUIHV_normal.jpg', 'profile_banner_url': 'https://pbs.twimg.com/profile_banners/27493883/1656387393', 'profile_link_color': '1DA1F2', 'profile_sidebar_border_color': 'C0DEED', 'profile_sidebar_fill_color': 'DDEEF6', 'profile_text_color': '333333', 'profile_use_background_image': True, 'has_extended_profile': True, 'default_profile': True, 'default_profile_image': False, 'following': True, 'follow_request_sent': False, 'notifications': False, 'translator_type': 'none', 'withheld_in_countries': []}, 'geo': None, 'coordinates': None, 'place': None, 'contributors': None, 'retweeted_status': {'created_at': 'Fri Jul 08 22:07:07 +0000 2022', 'id': 1545529943399997441, 'id_str': '1545529943399997441', 'text': 'We cannot and we will not allow an out of control Supreme Court working in conjunction with Republican officials pu… https://t.co/s5bCcxkHc6', 'truncated': True, 'entities': {'hashtags': [], 'symbols': [], 'user_mentions': [], 'urls': [{'url': 'https://t.co/s5bCcxkHc6', 'expanded_url': 'https://twitter.com/i/web/status/1545529943399997441', 'display_url': 'twitter.com/i/web/status/1…', 'indices': [117, 140]}]}, 'source': '<a href=\"https://www.sprinklr.com\" rel=\"nofollow\">The White House</a>', 'in_reply_to_status_id': None, 'in_reply_to_status_id_str': None, 'in_reply_to_user_id': None, 'in_reply_to_user_id_str': None, 'in_reply_to_screen_name': None, 'user': {'id': 1349149096909668363, 'id_str': '1349149096909668363', 'name': 'President Biden', 'screen_name': 'POTUS', 'location': '', 'description': '46th President of the United States, husband to @FLOTUS, proud dad & pop. Tweets may be archived: https://t.co/HDhBZBkKpU', 'url': 'https://t.co/MzB1JWfbJ0', 'entities': {'url': {'urls': [{'url': 'https://t.co/MzB1JWfbJ0', 'expanded_url': 'http://WhiteHouse.gov', 'display_url': 'WhiteHouse.gov', 'indices': [0, 23]}]}, 'description': {'urls': [{'url': 'https://t.co/HDhBZBkKpU', 'expanded_url': 'http://whitehouse.gov/privacy', 'display_url': 'whitehouse.gov/privacy', 'indices': [98, 121]}]}}, 'protected': False, 'followers_count': 23746088, 'friends_count': 12, 'listed_count': 18799, 'created_at': 'Wed Jan 13 00:37:08 +0000 2021', 'favourites_count': 0, 'utc_offset': None, 'time_zone': None, 'geo_enabled': False, 'verified': True, 'statuses_count': 3501, 'lang': None, 'contributors_enabled': False, 'is_translator': False, 'is_translation_enabled': False, 'profile_background_color': 'F5F8FA', 'profile_background_image_url': None, 'profile_background_image_url_https': None, 'profile_background_tile': False, 'profile_image_url': 'http://pbs.twimg.com/profile_images/1380530524779859970/TfwVAbyX_normal.jpg', 'profile_image_url_https': 'https://pbs.twimg.com/profile_images/1380530524779859970/TfwVAbyX_normal.jpg', 'profile_banner_url': 'https://pbs.twimg.com/profile_banners/1349149096909668363/1656681099', 'profile_link_color': '1DA1F2', 'profile_sidebar_border_color': 'C0DEED', 'profile_sidebar_fill_color': 'DDEEF6', 'profile_text_color': '333333', 'profile_use_background_image': True, 'has_extended_profile': True, 'default_profile': True, 'default_profile_image': False, 'following': False, 'follow_request_sent': False, 'notifications': False, 'translator_type': 'none', 'withheld_in_countries': []}, 'geo': None, 'coordinates': None, 'place': None, 'contributors': None, 'is_quote_status': False, 'retweet_count': 3345, 'favorite_count': 18688, 'favorited': False, 'retweeted': False, 'possibly_sensitive': False, 'possibly_sensitive_appealable': False, 'lang': 'en'}, 'is_quote_status': False, 'retweet_count': 3345, 'favorite_count': 0, 'favorited': False, 'retweeted': False, 'lang': 'en'}, created_at=datetime.datetime(2022, 7, 9, 0, 9, 37, tzinfo=datetime.timezone.utc), id=1545560769173020672, id_str='1545560769173020672', text='RT @POTUS: We cannot and we will not allow an out of control Supreme Court working in conjunction with Republican officials pushing an extr…', truncated=False, entities={'hashtags': [], 'symbols': [], 'user_mentions': [{'screen_name': 'POTUS', 'name': 'President Biden', 'id': 1349149096909668363, 'id_str': '1349149096909668363', 'indices': [3, 9]}], 'urls': []}, source='Twitter for iPhone', source_url='http://twitter.com/download/iphone', in_reply_to_status_id=None, in_reply_to_status_id_str=None, in_reply_to_user_id=None, in_reply_to_user_id_str=None, in_reply_to_screen_name=None, author=User(_api=<tweepy.api.API object at 0x0000014F293D01F0>, _json={'id': 27493883, 'id_str': '27493883', 'name': 'Jon Cooper', 'screen_name': 'joncoopertweets', 'location': 'New York, Florida', 'description': 'Former National Finance Chair of Draft Biden 2016, Long Island Campaign Chair for @BarackObama & Majority Leader of Suffolk County Legislature, NY. @DukeU alum', 'url': None, 'entities': {'description': {'urls': []}}, 'protected': False, 'followers_count': 1026754, 'friends_count': 66952, 'listed_count': 3288, 'created_at': 'Sun Mar 29 20:12:52 +0000 2009', 'favourites_count': 297497, 'utc_offset': None, 'time_zone': None, 'geo_enabled': False, 'verified': True, 'statuses_count': 345163, 'lang': None, 'contributors_enabled': False, 'is_translator': False, 'is_translation_enabled': False, 'profile_background_color': 'C0DEED', 'profile_background_image_url': 'http://abs.twimg.com/images/themes/theme1/bg.png', 'profile_background_image_url_https': 'https://abs.twimg.com/images/themes/theme1/bg.png', 'profile_background_tile': False, 'profile_image_url': 'http://pbs.twimg.com/profile_images/1530358747511631874/G8bvUIHV_normal.jpg', 'profile_image_url_https': 'https://pbs.twimg.com/profile_images/1530358747511631874/G8bvUIHV_normal.jpg', 'profile_banner_url': 'https://pbs.twimg.com/profile_banners/27493883/1656387393', 'profile_link_color': '1DA1F2', 'profile_sidebar_border_color': 'C0DEED', 'profile_sidebar_fill_color': 'DDEEF6', 'profile_text_color': '333333', 'profile_use_background_image': True, 'has_extended_profile': True, 'default_profile': True, 'default_profile_image': False, 'following': True, 'follow_request_sent': False, 'notifications': False, 'translator_type': 'none', 'withheld_in_countries': []}, id=27493883, id_str='27493883', name='Jon Cooper', screen_name='joncoopertweets', location='New York, Florida', description='Former National Finance Chair of Draft Biden 2016, Long Island Campaign Chair for @BarackObama & Majority Leader of Suffolk County Legislature, NY. @DukeU alum', url=None, entities={'description': {'urls': []}}, protected=False, followers_count=1026754, friends_count=66952, listed_count=3288, created_at=datetime.datetime(2009, 3, 29, 20, 12, 52, tzinfo=datetime.timezone.utc), favourites_count=297497, utc_offset=None, time_zone=None, geo_enabled=False, verified=True, statuses_count=345163, lang=None, contributors_enabled=False, is_translator=False, is_translation_enabled=False, profile_background_color='C0DEED', profile_background_image_url='http://abs.twimg.com/images/themes/theme1/bg.png', profile_background_image_url_https='https://abs.twimg.com/images/themes/theme1/bg.png', profile_background_tile=False, profile_image_url='http://pbs.twimg.com/profile_images/1530358747511631874/G8bvUIHV_normal.jpg', profile_image_url_https='https://pbs.twimg.com/profile_images/1530358747511631874/G8bvUIHV_normal.jpg', profile_banner_url='https://pbs.twimg.com/profile_banners/27493883/1656387393', profile_link_color='1DA1F2', profile_sidebar_border_color='C0DEED', profile_sidebar_fill_color='DDEEF6', profile_text_color='333333', profile_use_background_image=True, has_extended_profile=True, default_profile=True, default_profile_image=False, following=True, follow_request_sent=False, notifications=False, translator_type='none', withheld_in_countries=[]), user=User(_api=<tweepy.api.API object at 0x0000014F293D01F0>, _json={'id': 27493883, 'id_str': '27493883', 'name': 'Jon Cooper', 'screen_name': 'joncoopertweets', 'location': 'New York, Florida', 'description': 'Former National Finance Chair of Draft Biden 2016, Long Island Campaign Chair for @BarackObama & Majority Leader of Suffolk County Legislature, NY. @DukeU alum', 'url': None, 'entities': {'description': {'urls': []}}, 'protected': False, 'followers_count': 1026754, 'friends_count': 66952, 'listed_count': 3288, 'created_at': 'Sun Mar 29 20:12:52 +0000 2009', 'favourites_count': 297497, 'utc_offset': None, 'time_zone': None, 'geo_enabled': False, 'verified': True, 'statuses_count': 345163, 'lang': None, 'contributors_enabled': False, 'is_translator': False, 'is_translation_enabled': False, 'profile_background_color': 'C0DEED', 'profile_background_image_url': 'http://abs.twimg.com/images/themes/theme1/bg.png', 'profile_background_image_url_https': 'https://abs.twimg.com/images/themes/theme1/bg.png', 'profile_background_tile': False, 'profile_image_url': 'http://pbs.twimg.com/profile_images/1530358747511631874/G8bvUIHV_normal.jpg', 'profile_image_url_https': 'https://pbs.twimg.com/profile_images/1530358747511631874/G8bvUIHV_normal.jpg', 'profile_banner_url': 'https://pbs.twimg.com/profile_banners/27493883/1656387393', 'profile_link_color': '1DA1F2', 'profile_sidebar_border_color': 'C0DEED', 'profile_sidebar_fill_color': 'DDEEF6', 'profile_text_color': '333333', 'profile_use_background_image': True, 'has_extended_profile': True, 'default_profile': True, 'default_profile_image': False, 'following': True, 'follow_request_sent': False, 'notifications': False, 'translator_type': 'none', 'withheld_in_countries': []}, id=27493883, id_str='27493883', name='Jon Cooper', screen_name='joncoopertweets', location='New York, Florida', description='Former National Finance Chair of Draft Biden 2016, Long Island Campaign Chair for @BarackObama & Majority Leader of Suffolk County Legislature, NY. @DukeU alum', url=None, entities={'description': {'urls': []}}, protected=False, followers_count=1026754, friends_count=66952, listed_count=3288, created_at=datetime.datetime(2009, 3, 29, 20, 12, 52, tzinfo=datetime.timezone.utc), favourites_count=297497, utc_offset=None, time_zone=None, geo_enabled=False, verified=True, statuses_count=345163, lang=None, contributors_enabled=False, is_translator=False, is_translation_enabled=False, profile_background_color='C0DEED', profile_background_image_url='http://abs.twimg.com/images/themes/theme1/bg.png', profile_background_image_url_https='https://abs.twimg.com/images/themes/theme1/bg.png', profile_background_tile=False, profile_image_url='http://pbs.twimg.com/profile_images/1530358747511631874/G8bvUIHV_normal.jpg', profile_image_url_https='https://pbs.twimg.com/profile_images/1530358747511631874/G8bvUIHV_normal.jpg', profile_banner_url='https://pbs.twimg.com/profile_banners/27493883/1656387393', profile_link_color='1DA1F2', profile_sidebar_border_color='C0DEED', profile_sidebar_fill_color='DDEEF6', profile_text_color='333333', profile_use_background_image=True, has_extended_profile=True, default_profile=True, default_profile_image=False, following=True, follow_request_sent=False, notifications=False, translator_type='none', withheld_in_countries=[]), geo=None, coordinates=None, place=None, contributors=None, retweeted_status=Status(_api=<tweepy.api.API object at 0x0000014F293D01F0>, _json={'created_at': 'Fri Jul 08 22:07:07 +0000 2022', 'id': 1545529943399997441, 'id_str': '1545529943399997441', 'text': 'We cannot and we will not allow an out of control Supreme Court working in conjunction with Republican officials pu… https://t.co/s5bCcxkHc6', 'truncated': True, 'entities': {'hashtags': [], 'symbols': [], 'user_mentions': [], 'urls': [{'url': 'https://t.co/s5bCcxkHc6', 'expanded_url': 'https://twitter.com/i/web/status/1545529943399997441', 'display_url': 'twitter.com/i/web/status/1…', 'indices': [117, 140]}]}, 'source': '<a href=\"https://www.sprinklr.com\" rel=\"nofollow\">The White House</a>', 'in_reply_to_status_id': None, 'in_reply_to_status_id_str': None, 'in_reply_to_user_id': None, 'in_reply_to_user_id_str': None, 'in_reply_to_screen_name': None, 'user': {'id': 1349149096909668363, 'id_str': '1349149096909668363', 'name': 'President Biden', 'screen_name': 'POTUS', 'location': '', 'description': '46th President of the United States, husband to @FLOTUS, proud dad & pop. Tweets may be archived: https://t.co/HDhBZBkKpU', 'url': 'https://t.co/MzB1JWfbJ0', 'entities': {'url': {'urls': [{'url': 'https://t.co/MzB1JWfbJ0', 'expanded_url': 'http://WhiteHouse.gov', 'display_url': 'WhiteHouse.gov', 'indices': [0, 23]}]}, 'description': {'urls': [{'url': 'https://t.co/HDhBZBkKpU', 'expanded_url': 'http://whitehouse.gov/privacy', 'display_url': 'whitehouse.gov/privacy', 'indices': [98, 121]}]}}, 'protected': False, 'followers_count': 23746088, 'friends_count': 12, 'listed_count': 18799, 'created_at': 'Wed Jan 13 00:37:08 +0000 2021', 'favourites_count': 0, 'utc_offset': None, 'time_zone': None, 'geo_enabled': False, 'verified': True, 'statuses_count': 3501, 'lang': None, 'contributors_enabled': False, 'is_translator': False, 'is_translation_enabled': False, 'profile_background_color': 'F5F8FA', 'profile_background_image_url': None, 'profile_background_image_url_https': None, 'profile_background_tile': False, 'profile_image_url': 'http://pbs.twimg.com/profile_images/1380530524779859970/TfwVAbyX_normal.jpg', 'profile_image_url_https': 'https://pbs.twimg.com/profile_images/1380530524779859970/TfwVAbyX_normal.jpg', 'profile_banner_url': 'https://pbs.twimg.com/profile_banners/1349149096909668363/1656681099', 'profile_link_color': '1DA1F2', 'profile_sidebar_border_color': 'C0DEED', 'profile_sidebar_fill_color': 'DDEEF6', 'profile_text_color': '333333', 'profile_use_background_image': True, 'has_extended_profile': True, 'default_profile': True, 'default_profile_image': False, 'following': False, 'follow_request_sent': False, 'notifications': False, 'translator_type': 'none', 'withheld_in_countries': []}, 'geo': None, 'coordinates': None, 'place': None, 'contributors': None, 'is_quote_status': False, 'retweet_count': 3345, 'favorite_count': 18688, 'favorited': False, 'retweeted': False, 'possibly_sensitive': False, 'possibly_sensitive_appealable': False, 'lang': 'en'}, created_at=datetime.datetime(2022, 7, 8, 22, 7, 7, tzinfo=datetime.timezone.utc), id=1545529943399997441, id_str='1545529943399997441', text='We cannot and we will not allow an out of control Supreme Court working in conjunction with Republican officials pu… https://t.co/s5bCcxkHc6', truncated=True, entities={'hashtags': [], 'symbols': [], 'user_mentions': [], 'urls': [{'url': 'https://t.co/s5bCcxkHc6', 'expanded_url': 'https://twitter.com/i/web/status/1545529943399997441', 'display_url': 'twitter.com/i/web/status/1…', 'indices': [117, 140]}]}, source='The White House', source_url='https://www.sprinklr.com', in_reply_to_status_id=None, in_reply_to_status_id_str=None, in_reply_to_user_id=None, in_reply_to_user_id_str=None, in_reply_to_screen_name=None, author=User(_api=<tweepy.api.API object at 0x0000014F293D01F0>, _json={'id': 1349149096909668363, 'id_str': '1349149096909668363', 'name': 'President Biden', 'screen_name': 'POTUS', 'location': '', 'description': '46th President of the United States, husband to @FLOTUS, proud dad & pop. Tweets may be archived: https://t.co/HDhBZBkKpU', 'url': 'https://t.co/MzB1JWfbJ0', 'entities': {'url': {'urls': [{'url': 'https://t.co/MzB1JWfbJ0', 'expanded_url': 'http://WhiteHouse.gov', 'display_url': 'WhiteHouse.gov', 'indices': [0, 23]}]}, 'description': {'urls': [{'url': 'https://t.co/HDhBZBkKpU', 'expanded_url': 'http://whitehouse.gov/privacy', 'display_url': 'whitehouse.gov/privacy', 'indices': [98, 121]}]}}, 'protected': False, 'followers_count': 23746088, 'friends_count': 12, 'listed_count': 18799, 'created_at': 'Wed Jan 13 00:37:08 +0000 2021', 'favourites_count': 0, 'utc_offset': None, 'time_zone': None, 'geo_enabled': False, 'verified': True, 'statuses_count': 3501, 'lang': None, 'contributors_enabled': False, 'is_translator': False, 'is_translation_enabled': False, 'profile_background_color': 'F5F8FA', 'profile_background_image_url': None, 'profile_background_image_url_https': None, 'profile_background_tile': False, 'profile_image_url': 'http://pbs.twimg.com/profile_images/1380530524779859970/TfwVAbyX_normal.jpg', 'profile_image_url_https': 'https://pbs.twimg.com/profile_images/1380530524779859970/TfwVAbyX_normal.jpg', 'profile_banner_url': 'https://pbs.twimg.com/profile_banners/1349149096909668363/1656681099', 'profile_link_color': '1DA1F2', 'profile_sidebar_border_color': 'C0DEED', 'profile_sidebar_fill_color': 'DDEEF6', 'profile_text_color': '333333', 'profile_use_background_image': True, 'has_extended_profile': True, 'default_profile': True, 'default_profile_image': False, 'following': False, 'follow_request_sent': False, 'notifications': False, 'translator_type': 'none', 'withheld_in_countries': []}, id=1349149096909668363, id_str='1349149096909668363', name='President Biden', screen_name='POTUS', location='', description='46th President of the United States, husband to @FLOTUS, proud dad & pop. Tweets may be archived: https://t.co/HDhBZBkKpU', url='https://t.co/MzB1JWfbJ0', entities={'url': {'urls': [{'url': 'https://t.co/MzB1JWfbJ0', 'expanded_url': 'http://WhiteHouse.gov', 'display_url': 'WhiteHouse.gov', 'indices': [0, 23]}]}, 'description': {'urls': [{'url': 'https://t.co/HDhBZBkKpU', 'expanded_url': 'http://whitehouse.gov/privacy', 'display_url': 'whitehouse.gov/privacy', 'indices': [98, 121]}]}}, protected=False, followers_count=23746088, friends_count=12, listed_count=18799, created_at=datetime.datetime(2021, 1, 13, 0, 37, 8, tzinfo=datetime.timezone.utc), favourites_count=0, utc_offset=None, time_zone=None, geo_enabled=False, verified=True, statuses_count=3501, lang=None, contributors_enabled=False, is_translator=False, is_translation_enabled=False, profile_background_color='F5F8FA', profile_background_image_url=None, profile_background_image_url_https=None, profile_background_tile=False, profile_image_url='http://pbs.twimg.com/profile_images/1380530524779859970/TfwVAbyX_normal.jpg', profile_image_url_https='https://pbs.twimg.com/profile_images/1380530524779859970/TfwVAbyX_normal.jpg', profile_banner_url='https://pbs.twimg.com/profile_banners/1349149096909668363/1656681099', profile_link_color='1DA1F2', profile_sidebar_border_color='C0DEED', profile_sidebar_fill_color='DDEEF6', profile_text_color='333333', profile_use_background_image=True, has_extended_profile=True, default_profile=True, default_profile_image=False, following=False, follow_request_sent=False, notifications=False, translator_type='none', withheld_in_countries=[]), user=User(_api=<tweepy.api.API object at 0x0000014F293D01F0>, _json={'id': 1349149096909668363, 'id_str': '1349149096909668363', 'name': 'President Biden', 'screen_name': 'POTUS', 'location': '', 'description': '46th President of the United States, husband to @FLOTUS, proud dad & pop. Tweets may be archived: https://t.co/HDhBZBkKpU', 'url': 'https://t.co/MzB1JWfbJ0', 'entities': {'url': {'urls': [{'url': 'https://t.co/MzB1JWfbJ0', 'expanded_url': 'http://WhiteHouse.gov', 'display_url': 'WhiteHouse.gov', 'indices': [0, 23]}]}, 'description': {'urls': [{'url': 'https://t.co/HDhBZBkKpU', 'expanded_url': 'http://whitehouse.gov/privacy', 'display_url': 'whitehouse.gov/privacy', 'indices': [98, 121]}]}}, 'protected': False, 'followers_count': 23746088, 'friends_count': 12, 'listed_count': 18799, 'created_at': 'Wed Jan 13 00:37:08 +0000 2021', 'favourites_count': 0, 'utc_offset': None, 'time_zone': None, 'geo_enabled': False, 'verified': True, 'statuses_count': 3501, 'lang': None, 'contributors_enabled': False, 'is_translator': False, 'is_translation_enabled': False, 'profile_background_color': 'F5F8FA', 'profile_background_image_url': None, 'profile_background_image_url_https': None, 'profile_background_tile': False, 'profile_image_url': 'http://pbs.twimg.com/profile_images/1380530524779859970/TfwVAbyX_normal.jpg', 'profile_image_url_https': 'https://pbs.twimg.com/profile_images/1380530524779859970/TfwVAbyX_normal.jpg', 'profile_banner_url': 'https://pbs.twimg.com/profile_banners/1349149096909668363/1656681099', 'profile_link_color': '1DA1F2', 'profile_sidebar_border_color': 'C0DEED', 'profile_sidebar_fill_color': 'DDEEF6', 'profile_text_color': '333333', 'profile_use_background_image': True, 'has_extended_profile': True, 'default_profile': True, 'default_profile_image': False, 'following': False, 'follow_request_sent': False, 'notifications': False, 'translator_type': 'none', 'withheld_in_countries': []}, id=1349149096909668363, id_str='1349149096909668363', name='President Biden', screen_name='POTUS', location='', description='46th President of the United States, husband to @FLOTUS, proud dad & pop. Tweets may be archived: https://t.co/HDhBZBkKpU', url='https://t.co/MzB1JWfbJ0', entities={'url': {'urls': [{'url': 'https://t.co/MzB1JWfbJ0', 'expanded_url': 'http://WhiteHouse.gov', 'display_url': 'WhiteHouse.gov', 'indices': [0, 23]}]}, 'description': {'urls': [{'url': 'https://t.co/HDhBZBkKpU', 'expanded_url': 'http://whitehouse.gov/privacy', 'display_url': 'whitehouse.gov/privacy', 'indices': [98, 121]}]}}, protected=False, followers_count=23746088, friends_count=12, listed_count=18799, created_at=datetime.datetime(2021, 1, 13, 0, 37, 8, tzinfo=datetime.timezone.utc), favourites_count=0, utc_offset=None, time_zone=None, geo_enabled=False, verified=True, statuses_count=3501, lang=None, contributors_enabled=False, is_translator=False, is_translation_enabled=False, profile_background_color='F5F8FA', profile_background_image_url=None, profile_background_image_url_https=None, profile_background_tile=False, profile_image_url='http://pbs.twimg.com/profile_images/1380530524779859970/TfwVAbyX_normal.jpg', profile_image_url_https='https://pbs.twimg.com/profile_images/1380530524779859970/TfwVAbyX_normal.jpg', profile_banner_url='https://pbs.twimg.com/profile_banners/1349149096909668363/1656681099', profile_link_color='1DA1F2', profile_sidebar_border_color='C0DEED', profile_sidebar_fill_color='DDEEF6', profile_text_color='333333', profile_use_background_image=True, has_extended_profile=True, default_profile=True, default_profile_image=False, following=False, follow_request_sent=False, notifications=False, translator_type='none', withheld_in_countries=[]), geo=None, coordinates=None, place=None, contributors=None, is_quote_status=False, retweet_count=3345, favorite_count=18688, favorited=False, retweeted=False, possibly_sensitive=False, possibly_sensitive_appealable=False, lang='en'), is_quote_status=False, retweet_count=3345, favorite_count=0, favorited=False, retweeted=False, lang='en'), Status(_api=<tweepy.api.API object at 0x0000014F293D01F0>, _json={'created_at': 'Sat Jul 09 00:09:16 +0000 2022', 'id': 1545560684200693760, 'id_str': '1545560684200693760', 'text': 'Nothing like a giant, fatty noggin to really hit the spot.  https://t.co/4sGdpVdh1C', 'truncated': False, 'entities': {'hashtags': [], 'symbols': [], 'user_mentions': [], 'urls': [{'url': 'https://t.co/4sGdpVdh1C', 'expanded_url': 'https://www.popsci.com/science/megalodon-diet-sperm-whale-head/?taid=62c8c72332c9a900016b838a&utm_campaign=trueanthem_AI&utm_medium=social&utm_source=twitter&utm_term=popularscience', 'display_url': 'popsci.com/science/megalo…', 'indices': [60, 83]}]}, 'source': '<a href=\"https://trueanthem.com/\" rel=\"nofollow\">True Anthem</a>', 'in_reply_to_status_id': None, 'in_reply_to_status_id_str': None, 'in_reply_to_user_id': None, 'in_reply_to_user_id_str': None, 'in_reply_to_screen_name': None, 'user': {'id': 19722699, 'id_str': '19722699', 'name': 'Popular Science', 'screen_name': 'PopSci', 'location': 'New York', 'description': 'Awe-inspiring science, tech, DIY, and sustainability. Read all about it: https://t.co/wTDnw3tT9Q', 'url': 'https://t.co/ORH5oVjWuv', 'entities': {'url': {'urls': [{'url': 'https://t.co/ORH5oVjWuv', 'expanded_url': 'https://www.popsci.com/science/popsci-summer-2022-metal-issue/', 'display_url': 'popsci.com/science/popsci…', 'indices': [0, 23]}]}, 'description': {'urls': [{'url': 'https://t.co/wTDnw3tT9Q', 'expanded_url': 'http://popsci.com/digital', 'display_url': 'popsci.com/digital', 'indices': [73, 96]}]}}, 'protected': False, 'followers_count': 1498143, 'friends_count': 1458, 'listed_count': 15463, 'created_at': 'Thu Jan 29 17:46:28 +0000 2009', 'favourites_count': 7394, 'utc_offset': None, 'time_zone': None, 'geo_enabled': True, 'verified': True, 'statuses_count': 137978, 'lang': None, 'contributors_enabled': False, 'is_translator': False, 'is_translation_enabled': False, 'profile_background_color': 'EBEBEB', 'profile_background_image_url': 'http://abs.twimg.com/images/themes/theme1/bg.png', 'profile_background_image_url_https': 'https://abs.twimg.com/images/themes/theme1/bg.png', 'profile_background_tile': False, 'profile_image_url': 'http://pbs.twimg.com/profile_images/1029084163780079616/KL96wS4C_normal.jpg', 'profile_image_url_https': 'https://pbs.twimg.com/profile_images/1029084163780079616/KL96wS4C_normal.jpg', 'profile_banner_url': 'https://pbs.twimg.com/profile_banners/19722699/1652809862', 'profile_link_color': '990000', 'profile_sidebar_border_color': 'FFFFFF', 'profile_sidebar_fill_color': 'F3F3F3', 'profile_text_color': '333333', 'profile_use_background_image': True, 'has_extended_profile': False, 'default_profile': False, 'default_profile_image': False, 'following': True, 'follow_request_sent': False, 'notifications': False, 'translator_type': 'regular', 'withheld_in_countries': []}, 'geo': None, 'coordinates': None, 'place': None, 'contributors': None, 'is_quote_status': False, 'retweet_count': 2, 'favorite_count': 10, 'favorited': False, 'retweeted': False, 'possibly_sensitive': False, 'possibly_sensitive_appealable': False, 'lang': 'en'}, created_at=datetime.datetime(2022, 7, 9, 0, 9, 16, tzinfo=datetime.timezone.utc), id=1545560684200693760, id_str='1545560684200693760', text='Nothing like a giant, fatty noggin to really hit the spot.  https://t.co/4sGdpVdh1C', truncated=False, entities={'hashtags': [], 'symbols': [], 'user_mentions': [], 'urls': [{'url': 'https://t.co/4sGdpVdh1C', 'expanded_url': 'https://www.popsci.com/science/megalodon-diet-sperm-whale-head/?taid=62c8c72332c9a900016b838a&utm_campaign=trueanthem_AI&utm_medium=social&utm_source=twitter&utm_term=popularscience', 'display_url': 'popsci.com/science/megalo…', 'indices': [60, 83]}]}, source='True Anthem', source_url='https://trueanthem.com/', in_reply_to_status_id=None, in_reply_to_status_id_str=None, in_reply_to_user_id=None, in_reply_to_user_id_str=None, in_reply_to_screen_name=None, author=User(_api=<tweepy.api.API object at 0x0000014F293D01F0>, _json={'id': 19722699, 'id_str': '19722699', 'name': 'Popular Science', 'screen_name': 'PopSci', 'location': 'New York', 'description': 'Awe-inspiring science, tech, DIY, and sustainability. Read all about it: https://t.co/wTDnw3tT9Q', 'url': 'https://t.co/ORH5oVjWuv', 'entities': {'url': {'urls': [{'url': 'https://t.co/ORH5oVjWuv', 'expanded_url': 'https://www.popsci.com/science/popsci-summer-2022-metal-issue/', 'display_url': 'popsci.com/science/popsci…', 'indices': [0, 23]}]}, 'description': {'urls': [{'url': 'https://t.co/wTDnw3tT9Q', 'expanded_url': 'http://popsci.com/digital', 'display_url': 'popsci.com/digital', 'indices': [73, 96]}]}}, 'protected': False, 'followers_count': 1498143, 'friends_count': 1458, 'listed_count': 15463, 'created_at': 'Thu Jan 29 17:46:28 +0000 2009', 'favourites_count': 7394, 'utc_offset': None, 'time_zone': None, 'geo_enabled': True, 'verified': True, 'statuses_count': 137978, 'lang': None, 'contributors_enabled': False, 'is_translator': False, 'is_translation_enabled': False, 'profile_background_color': 'EBEBEB', 'profile_background_image_url': 'http://abs.twimg.com/images/themes/theme1/bg.png', 'profile_background_image_url_https': 'https://abs.twimg.com/images/themes/theme1/bg.png', 'profile_background_tile': False, 'profile_image_url': 'http://pbs.twimg.com/profile_images/1029084163780079616/KL96wS4C_normal.jpg', 'profile_image_url_https': 'https://pbs.twimg.com/profile_images/1029084163780079616/KL96wS4C_normal.jpg', 'profile_banner_url': 'https://pbs.twimg.com/profile_banners/19722699/1652809862', 'profile_link_color': '990000', 'profile_sidebar_border_color': 'FFFFFF', 'profile_sidebar_fill_color': 'F3F3F3', 'profile_text_color': '333333', 'profile_use_background_image': True, 'has_extended_profile': False, 'default_profile': False, 'default_profile_image': False, 'following': True, 'follow_request_sent': False, 'notifications': False, 'translator_type': 'regular', 'withheld_in_countries': []}, id=19722699, id_str='19722699', name='Popular Science', screen_name='PopSci', location='New York', description='Awe-inspiring science, tech, DIY, and sustainability. Read all about it: https://t.co/wTDnw3tT9Q', url='https://t.co/ORH5oVjWuv', entities={'url': {'urls': [{'url': 'https://t.co/ORH5oVjWuv', 'expanded_url': 'https://www.popsci.com/science/popsci-summer-2022-metal-issue/', 'display_url': 'popsci.com/science/popsci…', 'indices': [0, 23]}]}, 'description': {'urls': [{'url': 'https://t.co/wTDnw3tT9Q', 'expanded_url': 'http://popsci.com/digital', 'display_url': 'popsci.com/digital', 'indices': [73, 96]}]}}, protected=False, followers_count=1498143, friends_count=1458, listed_count=15463, created_at=datetime.datetime(2009, 1, 29, 17, 46, 28, tzinfo=datetime.timezone.utc), favourites_count=7394, utc_offset=None, time_zone=None, geo_enabled=True, verified=True, statuses_count=137978, lang=None, contributors_enabled=False, is_translator=False, is_translation_enabled=False, profile_background_color='EBEBEB', profile_background_image_url='http://abs.twimg.com/images/themes/theme1/bg.png', profile_background_image_url_https='https://abs.twimg.com/images/themes/theme1/bg.png', profile_background_tile=False, profile_image_url='http://pbs.twimg.com/profile_images/1029084163780079616/KL96wS4C_normal.jpg', profile_image_url_https='https://pbs.twimg.com/profile_images/1029084163780079616/KL96wS4C_normal.jpg', profile_banner_url='https://pbs.twimg.com/profile_banners/19722699/1652809862', profile_link_color='990000', profile_sidebar_border_color='FFFFFF', profile_sidebar_fill_color='F3F3F3', profile_text_color='333333', profile_use_background_image=True, has_extended_profile=False, default_profile=False, default_profile_image=False, following=True, follow_request_sent=False, notifications=False, translator_type='regular', withheld_in_countries=[]), user=User(_api=<tweepy.api.API object at 0x0000014F293D01F0>, _json={'id': 19722699, 'id_str': '19722699', 'name': 'Popular Science', 'screen_name': 'PopSci', 'location': 'New York', 'description': 'Awe-inspiring science, tech, DIY, and sustainability. Read all about it: https://t.co/wTDnw3tT9Q', 'url': 'https://t.co/ORH5oVjWuv', 'entities': {'url': {'urls': [{'url': 'https://t.co/ORH5oVjWuv', 'expanded_url': 'https://www.popsci.com/science/popsci-summer-2022-metal-issue/', 'display_url': 'popsci.com/science/popsci…', 'indices': [0, 23]}]}, 'description': {'urls': [{'url': 'https://t.co/wTDnw3tT9Q', 'expanded_url': 'http://popsci.com/digital', 'display_url': 'popsci.com/digital', 'indices': [73, 96]}]}}, 'protected': False, 'followers_count': 1498143, 'friends_count': 1458, 'listed_count': 15463, 'created_at': 'Thu Jan 29 17:46:28 +0000 2009', 'favourites_count': 7394, 'utc_offset': None, 'time_zone': None, 'geo_enabled': True, 'verified': True, 'statuses_count': 137978, 'lang': None, 'contributors_enabled': False, 'is_translator': False, 'is_translation_enabled': False, 'profile_background_color': 'EBEBEB', 'profile_background_image_url': 'http://abs.twimg.com/images/themes/theme1/bg.png', 'profile_background_image_url_https': 'https://abs.twimg.com/images/themes/theme1/bg.png', 'profile_background_tile': False, 'profile_image_url': 'http://pbs.twimg.com/profile_images/1029084163780079616/KL96wS4C_normal.jpg', 'profile_image_url_https': 'https://pbs.twimg.com/profile_images/1029084163780079616/KL96wS4C_normal.jpg', 'profile_banner_url': 'https://pbs.twimg.com/profile_banners/19722699/1652809862', 'profile_link_color': '990000', 'profile_sidebar_border_color': 'FFFFFF', 'profile_sidebar_fill_color': 'F3F3F3', 'profile_text_color': '333333', 'profile_use_background_image': True, 'has_extended_profile': False, 'default_profile': False, 'default_profile_image': False, 'following': True, 'follow_request_sent': False, 'notifications': False, 'translator_type': 'regular', 'withheld_in_countries': []}, id=19722699, id_str='19722699', name='Popular Science', screen_name='PopSci', location='New York', description='Awe-inspiring science, tech, DIY, and sustainability. Read all about it: https://t.co/wTDnw3tT9Q', url='https://t.co/ORH5oVjWuv', entities={'url': {'urls': [{'url': 'https://t.co/ORH5oVjWuv', 'expanded_url': 'https://www.popsci.com/science/popsci-summer-2022-metal-issue/', 'display_url': 'popsci.com/science/popsci…', 'indices': [0, 23]}]}, 'description': {'urls': [{'url': 'https://t.co/wTDnw3tT9Q', 'expanded_url': 'http://popsci.com/digital', 'display_url': 'popsci.com/digital', 'indices': [73, 96]}]}}, protected=False, followers_count=1498143, friends_count=1458, listed_count=15463, created_at=datetime.datetime(2009, 1, 29, 17, 46, 28, tzinfo=datetime.timezone.utc), favourites_count=7394, utc_offset=None, time_zone=None, geo_enabled=True, verified=True, statuses_count=137978, lang=None, contributors_enabled=False, is_translator=False, is_translation_enabled=False, profile_background_color='EBEBEB', profile_background_image_url='http://abs.twimg.com/images/themes/theme1/bg.png', profile_background_image_url_https='https://abs.twimg.com/images/themes/theme1/bg.png', profile_background_tile=False, profile_image_url='http://pbs.twimg.com/profile_images/1029084163780079616/KL96wS4C_normal.jpg', profile_image_url_https='https://pbs.twimg.com/profile_images/1029084163780079616/KL96wS4C_normal.jpg', profile_banner_url='https://pbs.twimg.com/profile_banners/19722699/1652809862', profile_link_color='990000', profile_sidebar_border_color='FFFFFF', profile_sidebar_fill_color='F3F3F3', profile_text_color='333333', profile_use_background_image=True, has_extended_profile=False, default_profile=False, default_profile_image=False, following=True, follow_request_sent=False, notifications=False, translator_type='regular', withheld_in_countries=[]), geo=None, coordinates=None, place=None, contributors=None, is_quote_status=False, retweet_count=2, favorite_count=10, favorited=False, retweeted=False, possibly_sensitive=False, possibly_sensitive_appealable=False, lang='en'), Status(_api=<tweepy.api.API object at 0x0000014F293D01F0>, _json={'created_at': 'Sat Jul 09 00:09:00 +0000 2022', 'id': 1545560614243733504, 'id_str': '1545560614243733504', 'text': 'Have you ever looked at a seal and thought, Is that the same seal I saw yesterday? (via @hakaimagazine)  https://t.co/zTmDFs2Jxd', 'truncated': False, 'entities': {'hashtags': [], 'symbols': [], 'user_mentions': [{'screen_name': 'hakaimagazine', 'name': 'Hakai Magazine', 'id': 2752775016, 'id_str': '2752775016', 'indices': [88, 102]}], 'urls': [{'url': 'https://t.co/zTmDFs2Jxd', 'expanded_url': 'https://www.popsci.com/environment/facial-recognition-software-seals/', 'display_url': 'popsci.com/environment/fa…', 'indices': [105, 128]}]}, 'source': '<a href=\"https://twitter.com\" rel=\"nofollow\">TweetDeck Web App</a>', 'in_reply_to_status_id': None, 'in_reply_to_status_id_str': None, 'in_reply_to_user_id': None, 'in_reply_to_user_id_str': None, 'in_reply_to_screen_name': None, 'user': {'id': 19722699, 'id_str': '19722699', 'name': 'Popular Science', 'screen_name': 'PopSci', 'location': 'New York', 'description': 'Awe-inspiring science, tech, DIY, and sustainability. Read all about it: https://t.co/wTDnw3tT9Q', 'url': 'https://t.co/ORH5oVjWuv', 'entities': {'url': {'urls': [{'url': 'https://t.co/ORH5oVjWuv', 'expanded_url': 'https://www.popsci.com/science/popsci-summer-2022-metal-issue/', 'display_url': 'popsci.com/science/popsci…', 'indices': [0, 23]}]}, 'description': {'urls': [{'url': 'https://t.co/wTDnw3tT9Q', 'expanded_url': 'http://popsci.com/digital', 'display_url': 'popsci.com/digital', 'indices': [73, 96]}]}}, 'protected': False, 'followers_count': 1498143, 'friends_count': 1458, 'listed_count': 15463, 'created_at': 'Thu Jan 29 17:46:28 +0000 2009', 'favourites_count': 7394, 'utc_offset': None, 'time_zone': None, 'geo_enabled': True, 'verified': True, 'statuses_count': 137978, 'lang': None, 'contributors_enabled': False, 'is_translator': False, 'is_translation_enabled': False, 'profile_background_color': 'EBEBEB', 'profile_background_image_url': 'http://abs.twimg.com/images/themes/theme1/bg.png', 'profile_background_image_url_https': 'https://abs.twimg.com/images/themes/theme1/bg.png', 'profile_background_tile': False, 'profile_image_url': 'http://pbs.twimg.com/profile_images/1029084163780079616/KL96wS4C_normal.jpg', 'profile_image_url_https': 'https://pbs.twimg.com/profile_images/1029084163780079616/KL96wS4C_normal.jpg', 'profile_banner_url': 'https://pbs.twimg.com/profile_banners/19722699/1652809862', 'profile_link_color': '990000', 'profile_sidebar_border_color': 'FFFFFF', 'profile_sidebar_fill_color': 'F3F3F3', 'profile_text_color': '333333', 'profile_use_background_image': True, 'has_extended_profile': False, 'default_profile': False, 'default_profile_image': False, 'following': True, 'follow_request_sent': False, 'notifications': False, 'translator_type': 'regular', 'withheld_in_countries': []}, 'geo': None, 'coordinates': None, 'place': None, 'contributors': None, 'is_quote_status': False, 'retweet_count': 0, 'favorite_count': 3, 'favorited': False, 'retweeted': False, 'possibly_sensitive': False, 'possibly_sensitive_appealable': False, 'lang': 'en'}, created_at=datetime.datetime(2022, 7, 9, 0, 9, tzinfo=datetime.timezone.utc), id=1545560614243733504, id_str='1545560614243733504', text='Have you ever looked at a seal and thought, Is that the same seal I saw yesterday? (via @hakaimagazine)  https://t.co/zTmDFs2Jxd', truncated=False, entities={'hashtags': [], 'symbols': [], 'user_mentions': [{'screen_name': 'hakaimagazine', 'name': 'Hakai Magazine', 'id': 2752775016, 'id_str': '2752775016', 'indices': [88, 102]}], 'urls': [{'url': 'https://t.co/zTmDFs2Jxd', 'expanded_url': 'https://www.popsci.com/environment/facial-recognition-software-seals/', 'display_url': 'popsci.com/environment/fa…', 'indices': [105, 128]}]}, source='TweetDeck Web App', source_url='https://twitter.com', in_reply_to_status_id=None, in_reply_to_status_id_str=None, in_reply_to_user_id=None, in_reply_to_user_id_str=None, in_reply_to_screen_name=None, author=User(_api=<tweepy.api.API object at 0x0000014F293D01F0>, _json={'id': 19722699, 'id_str': '19722699', 'name': 'Popular Science', 'screen_name': 'PopSci', 'location': 'New York', 'description': 'Awe-inspiring science, tech, DIY, and sustainability. Read all about it: https://t.co/wTDnw3tT9Q', 'url': 'https://t.co/ORH5oVjWuv', 'entities': {'url': {'urls': [{'url': 'https://t.co/ORH5oVjWuv', 'expanded_url': 'https://www.popsci.com/science/popsci-summer-2022-metal-issue/', 'display_url': 'popsci.com/science/popsci…', 'indices': [0, 23]}]}, 'description': {'urls': [{'url': 'https://t.co/wTDnw3tT9Q', 'expanded_url': 'http://popsci.com/digital', 'display_url': 'popsci.com/digital', 'indices': [73, 96]}]}}, 'protected': False, 'followers_count': 1498143, 'friends_count': 1458, 'listed_count': 15463, 'created_at': 'Thu Jan 29 17:46:28 +0000 2009', 'favourites_count': 7394, 'utc_offset': None, 'time_zone': None, 'geo_enabled': True, 'verified': True, 'statuses_count': 137978, 'lang': None, 'contributors_enabled': False, 'is_translator': False, 'is_translation_enabled': False, 'profile_background_color': 'EBEBEB', 'profile_background_image_url': 'http://abs.twimg.com/images/themes/theme1/bg.png', 'profile_background_image_url_https': 'https://abs.twimg.com/images/themes/theme1/bg.png', 'profile_background_tile': False, 'profile_image_url': 'http://pbs.twimg.com/profile_images/1029084163780079616/KL96wS4C_normal.jpg', 'profile_image_url_https': 'https://pbs.twimg.com/profile_images/1029084163780079616/KL96wS4C_normal.jpg', 'profile_banner_url': 'https://pbs.twimg.com/profile_banners/19722699/1652809862', 'profile_link_color': '990000', 'profile_sidebar_border_color': 'FFFFFF', 'profile_sidebar_fill_color': 'F3F3F3', 'profile_text_color': '333333', 'profile_use_background_image': True, 'has_extended_profile': False, 'default_profile': False, 'default_profile_image': False, 'following': True, 'follow_request_sent': False, 'notifications': False, 'translator_type': 'regular', 'withheld_in_countries': []}, id=19722699, id_str='19722699', name='Popular Science', screen_name='PopSci', location='New York', description='Awe-inspiring science, tech, DIY, and sustainability. Read all about it: https://t.co/wTDnw3tT9Q', url='https://t.co/ORH5oVjWuv', entities={'url': {'urls': [{'url': 'https://t.co/ORH5oVjWuv', 'expanded_url': 'https://www.popsci.com/science/popsci-summer-2022-metal-issue/', 'display_url': 'popsci.com/science/popsci…', 'indices': [0, 23]}]}, 'description': {'urls': [{'url': 'https://t.co/wTDnw3tT9Q', 'expanded_url': 'http://popsci.com/digital', 'display_url': 'popsci.com/digital', 'indices': [73, 96]}]}}, protected=False, followers_count=1498143, friends_count=1458, listed_count=15463, created_at=datetime.datetime(2009, 1, 29, 17, 46, 28, tzinfo=datetime.timezone.utc), favourites_count=7394, utc_offset=None, time_zone=None, geo_enabled=True, verified=True, statuses_count=137978, lang=None, contributors_enabled=False, is_translator=False, is_translation_enabled=False, profile_background_color='EBEBEB', profile_background_image_url='http://abs.twimg.com/images/themes/theme1/bg.png', profile_background_image_url_https='https://abs.twimg.com/images/themes/theme1/bg.png', profile_background_tile=False, profile_image_url='http://pbs.twimg.com/profile_images/1029084163780079616/KL96wS4C_normal.jpg', profile_image_url_https='https://pbs.twimg.com/profile_images/1029084163780079616/KL96wS4C_normal.jpg', profile_banner_url='https://pbs.twimg.com/profile_banners/19722699/1652809862', profile_link_color='990000', profile_sidebar_border_color='FFFFFF', profile_sidebar_fill_color='F3F3F3', profile_text_color='333333', profile_use_background_image=True, has_extended_profile=False, default_profile=False, default_profile_image=False, following=True, follow_request_sent=False, notifications=False, translator_type='regular', withheld_in_countries=[]), user=User(_api=<tweepy.api.API object at 0x0000014F293D01F0>, _json={'id': 19722699, 'id_str': '19722699', 'name': 'Popular Science', 'screen_name': 'PopSci', 'location': 'New York', 'description': 'Awe-inspiring science, tech, DIY, and sustainability. Read all about it: https://t.co/wTDnw3tT9Q', 'url': 'https://t.co/ORH5oVjWuv', 'entities': {'url': {'urls': [{'url': 'https://t.co/ORH5oVjWuv', 'expanded_url': 'https://www.popsci.com/science/popsci-summer-2022-metal-issue/', 'display_url': 'popsci.com/science/popsci…', 'indices': [0, 23]}]}, 'description': {'urls': [{'url': 'https://t.co/wTDnw3tT9Q', 'expanded_url': 'http://popsci.com/digital', 'display_url': 'popsci.com/digital', 'indices': [73, 96]}]}}, 'protected': False, 'followers_count': 1498143, 'friends_count': 1458, 'listed_count': 15463, 'created_at': 'Thu Jan 29 17:46:28 +0000 2009', 'favourites_count': 7394, 'utc_offset': None, 'time_zone': None, 'geo_enabled': True, 'verified': True, 'statuses_count': 137978, 'lang': None, 'contributors_enabled': False, 'is_translator': False, 'is_translation_enabled': False, 'profile_background_color': 'EBEBEB', 'profile_background_image_url': 'http://abs.twimg.com/images/themes/theme1/bg.png', 'profile_background_image_url_https': 'https://abs.twimg.com/images/themes/theme1/bg.png', 'profile_background_tile': False, 'profile_image_url': 'http://pbs.twimg.com/profile_images/1029084163780079616/KL96wS4C_normal.jpg', 'profile_image_url_https': 'https://pbs.twimg.com/profile_images/1029084163780079616/KL96wS4C_normal.jpg', 'profile_banner_url': 'https://pbs.twimg.com/profile_banners/19722699/1652809862', 'profile_link_color': '990000', 'profile_sidebar_border_color': 'FFFFFF', 'profile_sidebar_fill_color': 'F3F3F3', 'profile_text_color': '333333', 'profile_use_background_image': True, 'has_extended_profile': False, 'default_profile': False, 'default_profile_image': False, 'following': True, 'follow_request_sent': False, 'notifications': False, 'translator_type': 'regular', 'withheld_in_countries': []}, id=19722699, id_str='19722699', name='Popular Science', screen_name='PopSci', location='New York', description='Awe-inspiring science, tech, DIY, and sustainability. Read all about it: https://t.co/wTDnw3tT9Q', url='https://t.co/ORH5oVjWuv', entities={'url': {'urls': [{'url': 'https://t.co/ORH5oVjWuv', 'expanded_url': 'https://www.popsci.com/science/popsci-summer-2022-metal-issue/', 'display_url': 'popsci.com/science/popsci…', 'indices': [0, 23]}]}, 'description': {'urls': [{'url': 'https://t.co/wTDnw3tT9Q', 'expanded_url': 'http://popsci.com/digital', 'display_url': 'popsci.com/digital', 'indices': [73, 96]}]}}, protected=False, followers_count=1498143, friends_count=1458, listed_count=15463, created_at=datetime.datetime(2009, 1, 29, 17, 46, 28, tzinfo=datetime.timezone.utc), favourites_count=7394, utc_offset=None, time_zone=None, geo_enabled=True, verified=True, statuses_count=137978, lang=None, contributors_enabled=False, is_translator=False, is_translation_enabled=False, profile_background_color='EBEBEB', profile_background_image_url='http://abs.twimg.com/images/themes/theme1/bg.png', profile_background_image_url_https='https://abs.twimg.com/images/themes/theme1/bg.png', profile_background_tile=False, profile_image_url='http://pbs.twimg.com/profile_images/1029084163780079616/KL96wS4C_normal.jpg', profile_image_url_https='https://pbs.twimg.com/profile_images/1029084163780079616/KL96wS4C_normal.jpg', profile_banner_url='https://pbs.twimg.com/profile_banners/19722699/1652809862', profile_link_color='990000', profile_sidebar_border_color='FFFFFF', profile_sidebar_fill_color='F3F3F3', profile_text_color='333333', profile_use_background_image=True, has_extended_profile=False, default_profile=False, default_profile_image=False, following=True, follow_request_sent=False, notifications=False, translator_type='regular', withheld_in_countries=[]), geo=None, coordinates=None, place=None, contributors=None, is_quote_status=False, retweet_count=0, favorite_count=3, favorited=False, retweeted=False, possibly_sensitive=False, possibly_sensitive_appealable=False, lang='en'), Status(_api=<tweepy.api.API object at 0x0000014F293D01F0>, _json={'created_at': 'Sat Jul 09 00:07:42 +0000 2022', 'id': 1545560287612379137, 'id_str': '1545560287612379137', 'text': 'RT @joncoopertweets: @Wolfiesmom The Orville, if you’re not already a fan. I’ve never watched an episode that I didn’t really, really enjoy.', 'truncated': False, 'entities': {'hashtags': [], 'symbols': [], 'user_mentions': [{'screen_name': 'joncoopertweets', 'name': 'Jon Cooper', 'id': 27493883, 'id_str': '27493883', 'indices': [3, 19]}, {'screen_name': 'Wolfiesmom', 'name': 'Valerie Bertinelli', 'id': 33627557, 'id_str': '33627557', 'indices': [21, 32]}], 'urls': []}, 'source': '<a href=\"http://twitter.com/download/iphone\" rel=\"nofollow\">Twitter for iPhone</a>', 'in_reply_to_status_id': None, 'in_reply_to_status_id_str': None, 'in_reply_to_user_id': None, 'in_reply_to_user_id_str': None, 'in_reply_to_screen_name': None, 'user': {'id': 27493883, 'id_str': '27493883', 'name': 'Jon Cooper', 'screen_name': 'joncoopertweets', 'location': 'New York, Florida', 'description': 'Former National Finance Chair of Draft Biden 2016, Long Island Campaign Chair for @BarackObama & Majority Leader of Suffolk County Legislature, NY. @DukeU alum', 'url': None, 'entities': {'description': {'urls': []}}, 'protected': False, 'followers_count': 1026754, 'friends_count': 66952, 'listed_count': 3288, 'created_at': 'Sun Mar 29 20:12:52 +0000 2009', 'favourites_count': 297497, 'utc_offset': None, 'time_zone': None, 'geo_enabled': False, 'verified': True, 'statuses_count': 345163, 'lang': None, 'contributors_enabled': False, 'is_translator': False, 'is_translation_enabled': False, 'profile_background_color': 'C0DEED', 'profile_background_image_url': 'http://abs.twimg.com/images/themes/theme1/bg.png', 'profile_background_image_url_https': 'https://abs.twimg.com/images/themes/theme1/bg.png', 'profile_background_tile': False, 'profile_image_url': 'http://pbs.twimg.com/profile_images/1530358747511631874/G8bvUIHV_normal.jpg', 'profile_image_url_https': 'https://pbs.twimg.com/profile_images/1530358747511631874/G8bvUIHV_normal.jpg', 'profile_banner_url': 'https://pbs.twimg.com/profile_banners/27493883/1656387393', 'profile_link_color': '1DA1F2', 'profile_sidebar_border_color': 'C0DEED', 'profile_sidebar_fill_color': 'DDEEF6', 'profile_text_color': '333333', 'profile_use_background_image': True, 'has_extended_profile': True, 'default_profile': True, 'default_profile_image': False, 'following': True, 'follow_request_sent': False, 'notifications': False, 'translator_type': 'none', 'withheld_in_countries': []}, 'geo': None, 'coordinates': None, 'place': None, 'contributors': None, 'retweeted_status': {'created_at': 'Sat Jul 09 00:07:22 +0000 2022', 'id': 1545560203067699201, 'id_str': '1545560203067699201', 'text': '@Wolfiesmom The Orville, if you’re not already a fan. I’ve never watched an episode that I didn’t really, really enjoy.', 'truncated': False, 'entities': {'hashtags': [], 'symbols': [], 'user_mentions': [{'screen_name': 'Wolfiesmom', 'name': 'Valerie Bertinelli', 'id': 33627557, 'id_str': '33627557', 'indices': [0, 11]}], 'urls': []}, 'source': '<a href=\"http://twitter.com/download/iphone\" rel=\"nofollow\">Twitter for iPhone</a>', 'in_reply_to_status_id': 1545546505414709249, 'in_reply_to_status_id_str': '1545546505414709249', 'in_reply_to_user_id': 33627557, 'in_reply_to_user_id_str': '33627557', 'in_reply_to_screen_name': 'Wolfiesmom', 'user': {'id': 27493883, 'id_str': '27493883', 'name': 'Jon Cooper', 'screen_name': 'joncoopertweets', 'location': 'New York, Florida', 'description': 'Former National Finance Chair of Draft Biden 2016, Long Island Campaign Chair for @BarackObama & Majority Leader of Suffolk County Legislature, NY. @DukeU alum', 'url': None, 'entities': {'description': {'urls': []}}, 'protected': False, 'followers_count': 1026754, 'friends_count': 66952, 'listed_count': 3288, 'created_at': 'Sun Mar 29 20:12:52 +0000 2009', 'favourites_count': 297497, 'utc_offset': None, 'time_zone': None, 'geo_enabled': False, 'verified': True, 'statuses_count': 345163, 'lang': None, 'contributors_enabled': False, 'is_translator': False, 'is_translation_enabled': False, 'profile_background_color': 'C0DEED', 'profile_background_image_url': 'http://abs.twimg.com/images/themes/theme1/bg.png', 'profile_background_image_url_https': 'https://abs.twimg.com/images/themes/theme1/bg.png', 'profile_background_tile': False, 'profile_image_url': 'http://pbs.twimg.com/profile_images/1530358747511631874/G8bvUIHV_normal.jpg', 'profile_image_url_https': 'https://pbs.twimg.com/profile_images/1530358747511631874/G8bvUIHV_normal.jpg', 'profile_banner_url': 'https://pbs.twimg.com/profile_banners/27493883/1656387393', 'profile_link_color': '1DA1F2', 'profile_sidebar_border_color': 'C0DEED', 'profile_sidebar_fill_color': 'DDEEF6', 'profile_text_color': '333333', 'profile_use_background_image': True, 'has_extended_profile': True, 'default_profile': True, 'default_profile_image': False, 'following': True, 'follow_request_sent': False, 'notifications': False, 'translator_type': 'none', 'withheld_in_countries': []}, 'geo': None, 'coordinates': None, 'place': None, 'contributors': None, 'is_quote_status': False, 'retweet_count': 5, 'favorite_count': 114, 'favorited': False, 'retweeted': False, 'lang': 'en'}, 'is_quote_status': False, 'retweet_count': 5, 'favorite_count': 0, 'favorited': False, 'retweeted': False, 'lang': 'en'}, created_at=datetime.datetime(2022, 7, 9, 0, 7, 42, tzinfo=datetime.timezone.utc), id=1545560287612379137, id_str='1545560287612379137', text='RT @joncoopertweets: @Wolfiesmom The Orville, if you’re not already a fan. I’ve never watched an episode that I didn’t really, really enjoy.', truncated=False, entities={'hashtags': [], 'symbols': [], 'user_mentions': [{'screen_name': 'joncoopertweets', 'name': 'Jon Cooper', 'id': 27493883, 'id_str': '27493883', 'indices': [3, 19]}, {'screen_name': 'Wolfiesmom', 'name': 'Valerie Bertinelli', 'id': 33627557, 'id_str': '33627557', 'indices': [21, 32]}], 'urls': []}, source='Twitter for iPhone', source_url='http://twitter.com/download/iphone', in_reply_to_status_id=None, in_reply_to_status_id_str=None, in_reply_to_user_id=None, in_reply_to_user_id_str=None, in_reply_to_screen_name=None, author=User(_api=<tweepy.api.API object at 0x0000014F293D01F0>, _json={'id': 27493883, 'id_str': '27493883', 'name': 'Jon Cooper', 'screen_name': 'joncoopertweets', 'location': 'New York, Florida', 'description': 'Former National Finance Chair of Draft Biden 2016, Long Island Campaign Chair for @BarackObama & Majority Leader of Suffolk County Legislature, NY. @DukeU alum', 'url': None, 'entities': {'description': {'urls': []}}, 'protected': False, 'followers_count': 1026754, 'friends_count': 66952, 'listed_count': 3288, 'created_at': 'Sun Mar 29 20:12:52 +0000 2009', 'favourites_count': 297497, 'utc_offset': None, 'time_zone': None, 'geo_enabled': False, 'verified': True, 'statuses_count': 345163, 'lang': None, 'contributors_enabled': False, 'is_translator': False, 'is_translation_enabled': False, 'profile_background_color': 'C0DEED', 'profile_background_image_url': 'http://abs.twimg.com/images/themes/theme1/bg.png', 'profile_background_image_url_https': 'https://abs.twimg.com/images/themes/theme1/bg.png', 'profile_background_tile': False, 'profile_image_url': 'http://pbs.twimg.com/profile_images/1530358747511631874/G8bvUIHV_normal.jpg', 'profile_image_url_https': 'https://pbs.twimg.com/profile_images/1530358747511631874/G8bvUIHV_normal.jpg', 'profile_banner_url': 'https://pbs.twimg.com/profile_banners/27493883/1656387393', 'profile_link_color': '1DA1F2', 'profile_sidebar_border_color': 'C0DEED', 'profile_sidebar_fill_color': 'DDEEF6', 'profile_text_color': '333333', 'profile_use_background_image': True, 'has_extended_profile': True, 'default_profile': True, 'default_profile_image': False, 'following': True, 'follow_request_sent': False, 'notifications': False, 'translator_type': 'none', 'withheld_in_countries': []}, id=27493883, id_str='27493883', name='Jon Cooper', screen_name='joncoopertweets', location='New York, Florida', description='Former National Finance Chair of Draft Biden 2016, Long Island Campaign Chair for @BarackObama & Majority Leader of Suffolk County Legislature, NY. @DukeU alum', url=None, entities={'description': {'urls': []}}, protected=False, followers_count=1026754, friends_count=66952, listed_count=3288, created_at=datetime.datetime(2009, 3, 29, 20, 12, 52, tzinfo=datetime.timezone.utc), favourites_count=297497, utc_offset=None, time_zone=None, geo_enabled=False, verified=True, statuses_count=345163, lang=None, contributors_enabled=False, is_translator=False, is_translation_enabled=False, profile_background_color='C0DEED', profile_background_image_url='http://abs.twimg.com/images/themes/theme1/bg.png', profile_background_image_url_https='https://abs.twimg.com/images/themes/theme1/bg.png', profile_background_tile=False, profile_image_url='http://pbs.twimg.com/profile_images/1530358747511631874/G8bvUIHV_normal.jpg', profile_image_url_https='https://pbs.twimg.com/profile_images/1530358747511631874/G8bvUIHV_normal.jpg', profile_banner_url='https://pbs.twimg.com/profile_banners/27493883/1656387393', profile_link_color='1DA1F2', profile_sidebar_border_color='C0DEED', profile_sidebar_fill_color='DDEEF6', profile_text_color='333333', profile_use_background_image=True, has_extended_profile=True, default_profile=True, default_profile_image=False, following=True, follow_request_sent=False, notifications=False, translator_type='none', withheld_in_countries=[]), user=User(_api=<tweepy.api.API object at 0x0000014F293D01F0>, _json={'id': 27493883, 'id_str': '27493883', 'name': 'Jon Cooper', 'screen_name': 'joncoopertweets', 'location': 'New York, Florida', 'description': 'Former National Finance Chair of Draft Biden 2016, Long Island Campaign Chair for @BarackObama & Majority Leader of Suffolk County Legislature, NY. @DukeU alum', 'url': None, 'entities': {'description': {'urls': []}}, 'protected': False, 'followers_count': 1026754, 'friends_count': 66952, 'listed_count': 3288, 'created_at': 'Sun Mar 29 20:12:52 +0000 2009', 'favourites_count': 297497, 'utc_offset': None, 'time_zone': None, 'geo_enabled': False, 'verified': True, 'statuses_count': 345163, 'lang': None, 'contributors_enabled': False, 'is_translator': False, 'is_translation_enabled': False, 'profile_background_color': 'C0DEED', 'profile_background_image_url': 'http://abs.twimg.com/images/themes/theme1/bg.png', 'profile_background_image_url_https': 'https://abs.twimg.com/images/themes/theme1/bg.png', 'profile_background_tile': False, 'profile_image_url': 'http://pbs.twimg.com/profile_images/1530358747511631874/G8bvUIHV_normal.jpg', 'profile_image_url_https': 'https://pbs.twimg.com/profile_images/1530358747511631874/G8bvUIHV_normal.jpg', 'profile_banner_url': 'https://pbs.twimg.com/profile_banners/27493883/1656387393', 'profile_link_color': '1DA1F2', 'profile_sidebar_border_color': 'C0DEED', 'profile_sidebar_fill_color': 'DDEEF6', 'profile_text_color': '333333', 'profile_use_background_image': True, 'has_extended_profile': True, 'default_profile': True, 'default_profile_image': False, 'following': True, 'follow_request_sent': False, 'notifications': False, 'translator_type': 'none', 'withheld_in_countries': []}, id=27493883, id_str='27493883', name='Jon Cooper', screen_name='joncoopertweets', location='New York, Florida', description='Former National Finance Chair of Draft Biden 2016, Long Island Campaign Chair for @BarackObama & Majority Leader of Suffolk County Legislature, NY. @DukeU alum', url=None, entities={'description': {'urls': []}}, protected=False, followers_count=1026754, friends_count=66952, listed_count=3288, created_at=datetime.datetime(2009, 3, 29, 20, 12, 52, tzinfo=datetime.timezone.utc), favourites_count=297497, utc_offset=None, time_zone=None, geo_enabled=False, verified=True, statuses_count=345163, lang=None, contributors_enabled=False, is_translator=False, is_translation_enabled=False, profile_background_color='C0DEED', profile_background_image_url='http://abs.twimg.com/images/themes/theme1/bg.png', profile_background_image_url_https='https://abs.twimg.com/images/themes/theme1/bg.png', profile_background_tile=False, profile_image_url='http://pbs.twimg.com/profile_images/1530358747511631874/G8bvUIHV_normal.jpg', profile_image_url_https='https://pbs.twimg.com/profile_images/1530358747511631874/G8bvUIHV_normal.jpg', profile_banner_url='https://pbs.twimg.com/profile_banners/27493883/1656387393', profile_link_color='1DA1F2', profile_sidebar_border_color='C0DEED', profile_sidebar_fill_color='DDEEF6', profile_text_color='333333', profile_use_background_image=True, has_extended_profile=True, default_profile=True, default_profile_image=False, following=True, follow_request_sent=False, notifications=False, translator_type='none', withheld_in_countries=[]), geo=None, coordinates=None, place=None, contributors=None, retweeted_status=Status(_api=<tweepy.api.API object at 0x0000014F293D01F0>, _json={'created_at': 'Sat Jul 09 00:07:22 +0000 2022', 'id': 1545560203067699201, 'id_str': '1545560203067699201', 'text': '@Wolfiesmom The Orville, if you’re not already a fan. I’ve never watched an episode that I didn’t really, really enjoy.', 'truncated': False, 'entities': {'hashtags': [], 'symbols': [], 'user_mentions': [{'screen_name': 'Wolfiesmom', 'name': 'Valerie Bertinelli', 'id': 33627557, 'id_str': '33627557', 'indices': [0, 11]}], 'urls': []}, 'source': '<a href=\"http://twitter.com/download/iphone\" rel=\"nofollow\">Twitter for iPhone</a>', 'in_reply_to_status_id': 1545546505414709249, 'in_reply_to_status_id_str': '1545546505414709249', 'in_reply_to_user_id': 33627557, 'in_reply_to_user_id_str': '33627557', 'in_reply_to_screen_name': 'Wolfiesmom', 'user': {'id': 27493883, 'id_str': '27493883', 'name': 'Jon Cooper', 'screen_name': 'joncoopertweets', 'location': 'New York, Florida', 'description': 'Former National Finance Chair of Draft Biden 2016, Long Island Campaign Chair for @BarackObama & Majority Leader of Suffolk County Legislature, NY. @DukeU alum', 'url': None, 'entities': {'description': {'urls': []}}, 'protected': False, 'followers_count': 1026754, 'friends_count': 66952, 'listed_count': 3288, 'created_at': 'Sun Mar 29 20:12:52 +0000 2009', 'favourites_count': 297497, 'utc_offset': None, 'time_zone': None, 'geo_enabled': False, 'verified': True, 'statuses_count': 345163, 'lang': None, 'contributors_enabled': False, 'is_translator': False, 'is_translation_enabled': False, 'profile_background_color': 'C0DEED', 'profile_background_image_url': 'http://abs.twimg.com/images/themes/theme1/bg.png', 'profile_background_image_url_https': 'https://abs.twimg.com/images/themes/theme1/bg.png', 'profile_background_tile': False, 'profile_image_url': 'http://pbs.twimg.com/profile_images/1530358747511631874/G8bvUIHV_normal.jpg', 'profile_image_url_https': 'https://pbs.twimg.com/profile_images/1530358747511631874/G8bvUIHV_normal.jpg', 'profile_banner_url': 'https://pbs.twimg.com/profile_banners/27493883/1656387393', 'profile_link_color': '1DA1F2', 'profile_sidebar_border_color': 'C0DEED', 'profile_sidebar_fill_color': 'DDEEF6', 'profile_text_color': '333333', 'profile_use_background_image': True, 'has_extended_profile': True, 'default_profile': True, 'default_profile_image': False, 'following': True, 'follow_request_sent': False, 'notifications': False, 'translator_type': 'none', 'withheld_in_countries': []}, 'geo': None, 'coordinates': None, 'place': None, 'contributors': None, 'is_quote_status': False, 'retweet_count': 5, 'favorite_count': 114, 'favorited': False, 'retweeted': False, 'lang': 'en'}, created_at=datetime.datetime(2022, 7, 9, 0, 7, 22, tzinfo=datetime.timezone.utc), id=1545560203067699201, id_str='1545560203067699201', text='@Wolfiesmom The Orville, if you’re not already a fan. I’ve never watched an episode that I didn’t really, really enjoy.', truncated=False, entities={'hashtags': [], 'symbols': [], 'user_mentions': [{'screen_name': 'Wolfiesmom', 'name': 'Valerie Bertinelli', 'id': 33627557, 'id_str': '33627557', 'indices': [0, 11]}], 'urls': []}, source='Twitter for iPhone', source_url='http://twitter.com/download/iphone', in_reply_to_status_id=1545546505414709249, in_reply_to_status_id_str='1545546505414709249', in_reply_to_user_id=33627557, in_reply_to_user_id_str='33627557', in_reply_to_screen_name='Wolfiesmom', author=User(_api=<tweepy.api.API object at 0x0000014F293D01F0>, _json={'id': 27493883, 'id_str': '27493883', 'name': 'Jon Cooper', 'screen_name': 'joncoopertweets', 'location': 'New York, Florida', 'description': 'Former National Finance Chair of Draft Biden 2016, Long Island Campaign Chair for @BarackObama & Majority Leader of Suffolk County Legislature, NY. @DukeU alum', 'url': None, 'entities': {'description': {'urls': []}}, 'protected': False, 'followers_count': 1026754, 'friends_count': 66952, 'listed_count': 3288, 'created_at': 'Sun Mar 29 20:12:52 +0000 2009', 'favourites_count': 297497, 'utc_offset': None, 'time_zone': None, 'geo_enabled': False, 'verified': True, 'statuses_count': 345163, 'lang': None, 'contributors_enabled': False, 'is_translator': False, 'is_translation_enabled': False, 'profile_background_color': 'C0DEED', 'profile_background_image_url': 'http://abs.twimg.com/images/themes/theme1/bg.png', 'profile_background_image_url_https': 'https://abs.twimg.com/images/themes/theme1/bg.png', 'profile_background_tile': False, 'profile_image_url': 'http://pbs.twimg.com/profile_images/1530358747511631874/G8bvUIHV_normal.jpg', 'profile_image_url_https': 'https://pbs.twimg.com/profile_images/1530358747511631874/G8bvUIHV_normal.jpg', 'profile_banner_url': 'https://pbs.twimg.com/profile_banners/27493883/1656387393', 'profile_link_color': '1DA1F2', 'profile_sidebar_border_color': 'C0DEED', 'profile_sidebar_fill_color': 'DDEEF6', 'profile_text_color': '333333', 'profile_use_background_image': True, 'has_extended_profile': True, 'default_profile': True, 'default_profile_image': False, 'following': True, 'follow_request_sent': False, 'notifications': False, 'translator_type': 'none', 'withheld_in_countries': []}, id=27493883, id_str='27493883', name='Jon Cooper', screen_name='joncoopertweets', location='New York, Florida', description='Former National Finance Chair of Draft Biden 2016, Long Island Campaign Chair for @BarackObama & Majority Leader of Suffolk County Legislature, NY. @DukeU alum', url=None, entities={'description': {'urls': []}}, protected=False, followers_count=1026754, friends_count=66952, listed_count=3288, created_at=datetime.datetime(2009, 3, 29, 20, 12, 52, tzinfo=datetime.timezone.utc), favourites_count=297497, utc_offset=None, time_zone=None, geo_enabled=False, verified=True, statuses_count=345163, lang=None, contributors_enabled=False, is_translator=False, is_translation_enabled=False, profile_background_color='C0DEED', profile_background_image_url='http://abs.twimg.com/images/themes/theme1/bg.png', profile_background_image_url_https='https://abs.twimg.com/images/themes/theme1/bg.png', profile_background_tile=False, profile_image_url='http://pbs.twimg.com/profile_images/1530358747511631874/G8bvUIHV_normal.jpg', profile_image_url_https='https://pbs.twimg.com/profile_images/1530358747511631874/G8bvUIHV_normal.jpg', profile_banner_url='https://pbs.twimg.com/profile_banners/27493883/1656387393', profile_link_color='1DA1F2', profile_sidebar_border_color='C0DEED', profile_sidebar_fill_color='DDEEF6', profile_text_color='333333', profile_use_background_image=True, has_extended_profile=True, default_profile=True, default_profile_image=False, following=True, follow_request_sent=False, notifications=False, translator_type='none', withheld_in_countries=[]), user=User(_api=<tweepy.api.API object at 0x0000014F293D01F0>, _json={'id': 27493883, 'id_str': '27493883', 'name': 'Jon Cooper', 'screen_name': 'joncoopertweets', 'location': 'New York, Florida', 'description': 'Former National Finance Chair of Draft Biden 2016, Long Island Campaign Chair for @BarackObama & Majority Leader of Suffolk County Legislature, NY. @DukeU alum', 'url': None, 'entities': {'description': {'urls': []}}, 'protected': False, 'followers_count': 1026754, 'friends_count': 66952, 'listed_count': 3288, 'created_at': 'Sun Mar 29 20:12:52 +0000 2009', 'favourites_count': 297497, 'utc_offset': None, 'time_zone': None, 'geo_enabled': False, 'verified': True, 'statuses_count': 345163, 'lang': None, 'contributors_enabled': False, 'is_translator': False, 'is_translation_enabled': False, 'profile_background_color': 'C0DEED', 'profile_background_image_url': 'http://abs.twimg.com/images/themes/theme1/bg.png', 'profile_background_image_url_https': 'https://abs.twimg.com/images/themes/theme1/bg.png', 'profile_background_tile': False, 'profile_image_url': 'http://pbs.twimg.com/profile_images/1530358747511631874/G8bvUIHV_normal.jpg', 'profile_image_url_https': 'https://pbs.twimg.com/profile_images/1530358747511631874/G8bvUIHV_normal.jpg', 'profile_banner_url': 'https://pbs.twimg.com/profile_banners/27493883/1656387393', 'profile_link_color': '1DA1F2', 'profile_sidebar_border_color': 'C0DEED', 'profile_sidebar_fill_color': 'DDEEF6', 'profile_text_color': '333333', 'profile_use_background_image': True, 'has_extended_profile': True, 'default_profile': True, 'default_profile_image': False, 'following': True, 'follow_request_sent': False, 'notifications': False, 'translator_type': 'none', 'withheld_in_countries': []}, id=27493883, id_str='27493883', name='Jon Cooper', screen_name='joncoopertweets', location='New York, Florida', description='Former National Finance Chair of Draft Biden 2016, Long Island Campaign Chair for @BarackObama & Majority Leader of Suffolk County Legislature, NY. @DukeU alum', url=None, entities={'description': {'urls': []}}, protected=False, followers_count=1026754, friends_count=66952, listed_count=3288, created_at=datetime.datetime(2009, 3, 29, 20, 12, 52, tzinfo=datetime.timezone.utc), favourites_count=297497, utc_offset=None, time_zone=None, geo_enabled=False, verified=True, statuses_count=345163, lang=None, contributors_enabled=False, is_translator=False, is_translation_enabled=False, profile_background_color='C0DEED', profile_background_image_url='http://abs.twimg.com/images/themes/theme1/bg.png', profile_background_image_url_https='https://abs.twimg.com/images/themes/theme1/bg.png', profile_background_tile=False, profile_image_url='http://pbs.twimg.com/profile_images/1530358747511631874/G8bvUIHV_normal.jpg', profile_image_url_https='https://pbs.twimg.com/profile_images/1530358747511631874/G8bvUIHV_normal.jpg', profile_banner_url='https://pbs.twimg.com/profile_banners/27493883/1656387393', profile_link_color='1DA1F2', profile_sidebar_border_color='C0DEED', profile_sidebar_fill_color='DDEEF6', profile_text_color='333333', profile_use_background_image=True, has_extended_profile=True, default_profile=True, default_profile_image=False, following=True, follow_request_sent=False, notifications=False, translator_type='none', withheld_in_countries=[]), geo=None, coordinates=None, place=None, contributors=None, is_quote_status=False, retweet_count=5, favorite_count=114, favorited=False, retweeted=False, lang='en'), is_quote_status=False, retweet_count=5, favorite_count=0, favorited=False, retweeted=False, lang='en'), Status(_api=<tweepy.api.API object at 0x0000014F293D01F0>, _json={'created_at': 'Sat Jul 09 00:00:07 +0000 2022', 'id': 1545558380286300160, 'id_str': '1545558380286300160', 'text': \"That wasn't the meeting Ashito was expecting... (via Aoashi) https://t.co/OpchSVGltU\", 'truncated': False, 'entities': {'hashtags': [], 'symbols': [], 'user_mentions': [], 'urls': [], 'media': [{'id': 1545558377450938369, 'id_str': '1545558377450938369', 'indices': [61, 84], 'media_url': 'http://pbs.twimg.com/media/FXLtJ9OXoAEx30f.jpg', 'media_url_https': 'https://pbs.twimg.com/media/FXLtJ9OXoAEx30f.jpg', 'url': 'https://t.co/OpchSVGltU', 'display_url': 'pic.twitter.com/OpchSVGltU', 'expanded_url': 'https://twitter.com/Crunchyroll/status/1545558380286300160/photo/1', 'type': 'photo', 'sizes': {'large': {'w': 1820, 'h': 2048, 'resize': 'fit'}, 'medium': {'w': 1067, 'h': 1200, 'resize': 'fit'}, 'small': {'w': 604, 'h': 680, 'resize': 'fit'}, 'thumb': {'w': 150, 'h': 150, 'resize': 'crop'}}}]}, 'extended_entities': {'media': [{'id': 1545558377450938369, 'id_str': '1545558377450938369', 'indices': [61, 84], 'media_url': 'http://pbs.twimg.com/media/FXLtJ9OXoAEx30f.jpg', 'media_url_https': 'https://pbs.twimg.com/media/FXLtJ9OXoAEx30f.jpg', 'url': 'https://t.co/OpchSVGltU', 'display_url': 'pic.twitter.com/OpchSVGltU', 'expanded_url': 'https://twitter.com/Crunchyroll/status/1545558380286300160/photo/1', 'type': 'photo', 'sizes': {'large': {'w': 1820, 'h': 2048, 'resize': 'fit'}, 'medium': {'w': 1067, 'h': 1200, 'resize': 'fit'}, 'small': {'w': 604, 'h': 680, 'resize': 'fit'}, 'thumb': {'w': 150, 'h': 150, 'resize': 'crop'}}}]}, 'source': '<a href=\"https://www.spredfast.com\" rel=\"nofollow\">Khoros Publishing App</a>', 'in_reply_to_status_id': None, 'in_reply_to_status_id_str': None, 'in_reply_to_user_id': None, 'in_reply_to_user_id_str': None, 'in_reply_to_screen_name': None, 'user': {'id': 28023330, 'id_str': '28023330', 'name': 'Crunchyroll', 'screen_name': 'Crunchyroll', 'location': 'San Francisco, CA', 'description': '✨ Welcome to the official account for Crunchyroll✨ Bringing you the latest & greatest anime at the speed of Japan ~ !', 'url': 'https://t.co/UAbRk6OOc2', 'entities': {'url': {'urls': [{'url': 'https://t.co/UAbRk6OOc2', 'expanded_url': 'https://www.crunchyroll.com/', 'display_url': 'crunchyroll.com', 'indices': [0, 23]}]}, 'description': {'urls': []}}, 'protected': False, 'followers_count': 5541044, 'friends_count': 576, 'listed_count': 5666, 'created_at': 'Wed Apr 01 01:55:52 +0000 2009', 'favourites_count': 15834, 'utc_offset': None, 'time_zone': None, 'geo_enabled': True, 'verified': True, 'statuses_count': 185046, 'lang': None, 'contributors_enabled': False, 'is_translator': False, 'is_translation_enabled': False, 'profile_background_color': '16C4EF', 'profile_background_image_url': 'http://abs.twimg.com/images/themes/theme18/bg.gif', 'profile_background_image_url_https': 'https://abs.twimg.com/images/themes/theme18/bg.gif', 'profile_background_tile': False, 'profile_image_url': 'http://pbs.twimg.com/profile_images/1539642463127830537/ygXFFb_Z_normal.jpg', 'profile_image_url_https': 'https://pbs.twimg.com/profile_images/1539642463127830537/ygXFFb_Z_normal.jpg', 'profile_banner_url': 'https://pbs.twimg.com/profile_banners/28023330/1656169204', 'profile_link_color': 'FA8E1B', 'profile_sidebar_border_color': 'FFFFFF', 'profile_sidebar_fill_color': 'F6F6F6', 'profile_text_color': '333333', 'profile_use_background_image': True, 'has_extended_profile': True, 'default_profile': False, 'default_profile_image': False, 'following': True, 'follow_request_sent': False, 'notifications': False, 'translator_type': 'regular', 'withheld_in_countries': []}, 'geo': None, 'coordinates': None, 'place': None, 'contributors': None, 'is_quote_status': False, 'retweet_count': 32, 'favorite_count': 484, 'favorited': False, 'retweeted': False, 'possibly_sensitive': False, 'possibly_sensitive_appealable': False, 'lang': 'en'}, created_at=datetime.datetime(2022, 7, 9, 0, 0, 7, tzinfo=datetime.timezone.utc), id=1545558380286300160, id_str='1545558380286300160', text=\"That wasn't the meeting Ashito was expecting... (via Aoashi) https://t.co/OpchSVGltU\", truncated=False, entities={'hashtags': [], 'symbols': [], 'user_mentions': [], 'urls': [], 'media': [{'id': 1545558377450938369, 'id_str': '1545558377450938369', 'indices': [61, 84], 'media_url': 'http://pbs.twimg.com/media/FXLtJ9OXoAEx30f.jpg', 'media_url_https': 'https://pbs.twimg.com/media/FXLtJ9OXoAEx30f.jpg', 'url': 'https://t.co/OpchSVGltU', 'display_url': 'pic.twitter.com/OpchSVGltU', 'expanded_url': 'https://twitter.com/Crunchyroll/status/1545558380286300160/photo/1', 'type': 'photo', 'sizes': {'large': {'w': 1820, 'h': 2048, 'resize': 'fit'}, 'medium': {'w': 1067, 'h': 1200, 'resize': 'fit'}, 'small': {'w': 604, 'h': 680, 'resize': 'fit'}, 'thumb': {'w': 150, 'h': 150, 'resize': 'crop'}}}]}, extended_entities={'media': [{'id': 1545558377450938369, 'id_str': '1545558377450938369', 'indices': [61, 84], 'media_url': 'http://pbs.twimg.com/media/FXLtJ9OXoAEx30f.jpg', 'media_url_https': 'https://pbs.twimg.com/media/FXLtJ9OXoAEx30f.jpg', 'url': 'https://t.co/OpchSVGltU', 'display_url': 'pic.twitter.com/OpchSVGltU', 'expanded_url': 'https://twitter.com/Crunchyroll/status/1545558380286300160/photo/1', 'type': 'photo', 'sizes': {'large': {'w': 1820, 'h': 2048, 'resize': 'fit'}, 'medium': {'w': 1067, 'h': 1200, 'resize': 'fit'}, 'small': {'w': 604, 'h': 680, 'resize': 'fit'}, 'thumb': {'w': 150, 'h': 150, 'resize': 'crop'}}}]}, source='Khoros Publishing App', source_url='https://www.spredfast.com', in_reply_to_status_id=None, in_reply_to_status_id_str=None, in_reply_to_user_id=None, in_reply_to_user_id_str=None, in_reply_to_screen_name=None, author=User(_api=<tweepy.api.API object at 0x0000014F293D01F0>, _json={'id': 28023330, 'id_str': '28023330', 'name': 'Crunchyroll', 'screen_name': 'Crunchyroll', 'location': 'San Francisco, CA', 'description': '✨ Welcome to the official account for Crunchyroll✨ Bringing you the latest & greatest anime at the speed of Japan ~ !', 'url': 'https://t.co/UAbRk6OOc2', 'entities': {'url': {'urls': [{'url': 'https://t.co/UAbRk6OOc2', 'expanded_url': 'https://www.crunchyroll.com/', 'display_url': 'crunchyroll.com', 'indices': [0, 23]}]}, 'description': {'urls': []}}, 'protected': False, 'followers_count': 5541044, 'friends_count': 576, 'listed_count': 5666, 'created_at': 'Wed Apr 01 01:55:52 +0000 2009', 'favourites_count': 15834, 'utc_offset': None, 'time_zone': None, 'geo_enabled': True, 'verified': True, 'statuses_count': 185046, 'lang': None, 'contributors_enabled': False, 'is_translator': False, 'is_translation_enabled': False, 'profile_background_color': '16C4EF', 'profile_background_image_url': 'http://abs.twimg.com/images/themes/theme18/bg.gif', 'profile_background_image_url_https': 'https://abs.twimg.com/images/themes/theme18/bg.gif', 'profile_background_tile': False, 'profile_image_url': 'http://pbs.twimg.com/profile_images/1539642463127830537/ygXFFb_Z_normal.jpg', 'profile_image_url_https': 'https://pbs.twimg.com/profile_images/1539642463127830537/ygXFFb_Z_normal.jpg', 'profile_banner_url': 'https://pbs.twimg.com/profile_banners/28023330/1656169204', 'profile_link_color': 'FA8E1B', 'profile_sidebar_border_color': 'FFFFFF', 'profile_sidebar_fill_color': 'F6F6F6', 'profile_text_color': '333333', 'profile_use_background_image': True, 'has_extended_profile': True, 'default_profile': False, 'default_profile_image': False, 'following': True, 'follow_request_sent': False, 'notifications': False, 'translator_type': 'regular', 'withheld_in_countries': []}, id=28023330, id_str='28023330', name='Crunchyroll', screen_name='Crunchyroll', location='San Francisco, CA', description='✨ Welcome to the official account for Crunchyroll✨ Bringing you the latest & greatest anime at the speed of Japan ~ !', url='https://t.co/UAbRk6OOc2', entities={'url': {'urls': [{'url': 'https://t.co/UAbRk6OOc2', 'expanded_url': 'https://www.crunchyroll.com/', 'display_url': 'crunchyroll.com', 'indices': [0, 23]}]}, 'description': {'urls': []}}, protected=False, followers_count=5541044, friends_count=576, listed_count=5666, created_at=datetime.datetime(2009, 4, 1, 1, 55, 52, tzinfo=datetime.timezone.utc), favourites_count=15834, utc_offset=None, time_zone=None, geo_enabled=True, verified=True, statuses_count=185046, lang=None, contributors_enabled=False, is_translator=False, is_translation_enabled=False, profile_background_color='16C4EF', profile_background_image_url='http://abs.twimg.com/images/themes/theme18/bg.gif', profile_background_image_url_https='https://abs.twimg.com/images/themes/theme18/bg.gif', profile_background_tile=False, profile_image_url='http://pbs.twimg.com/profile_images/1539642463127830537/ygXFFb_Z_normal.jpg', profile_image_url_https='https://pbs.twimg.com/profile_images/1539642463127830537/ygXFFb_Z_normal.jpg', profile_banner_url='https://pbs.twimg.com/profile_banners/28023330/1656169204', profile_link_color='FA8E1B', profile_sidebar_border_color='FFFFFF', profile_sidebar_fill_color='F6F6F6', profile_text_color='333333', profile_use_background_image=True, has_extended_profile=True, default_profile=False, default_profile_image=False, following=True, follow_request_sent=False, notifications=False, translator_type='regular', withheld_in_countries=[]), user=User(_api=<tweepy.api.API object at 0x0000014F293D01F0>, _json={'id': 28023330, 'id_str': '28023330', 'name': 'Crunchyroll', 'screen_name': 'Crunchyroll', 'location': 'San Francisco, CA', 'description': '✨ Welcome to the official account for Crunchyroll✨ Bringing you the latest & greatest anime at the speed of Japan ~ !', 'url': 'https://t.co/UAbRk6OOc2', 'entities': {'url': {'urls': [{'url': 'https://t.co/UAbRk6OOc2', 'expanded_url': 'https://www.crunchyroll.com/', 'display_url': 'crunchyroll.com', 'indices': [0, 23]}]}, 'description': {'urls': []}}, 'protected': False, 'followers_count': 5541044, 'friends_count': 576, 'listed_count': 5666, 'created_at': 'Wed Apr 01 01:55:52 +0000 2009', 'favourites_count': 15834, 'utc_offset': None, 'time_zone': None, 'geo_enabled': True, 'verified': True, 'statuses_count': 185046, 'lang': None, 'contributors_enabled': False, 'is_translator': False, 'is_translation_enabled': False, 'profile_background_color': '16C4EF', 'profile_background_image_url': 'http://abs.twimg.com/images/themes/theme18/bg.gif', 'profile_background_image_url_https': 'https://abs.twimg.com/images/themes/theme18/bg.gif', 'profile_background_tile': False, 'profile_image_url': 'http://pbs.twimg.com/profile_images/1539642463127830537/ygXFFb_Z_normal.jpg', 'profile_image_url_https': 'https://pbs.twimg.com/profile_images/1539642463127830537/ygXFFb_Z_normal.jpg', 'profile_banner_url': 'https://pbs.twimg.com/profile_banners/28023330/1656169204', 'profile_link_color': 'FA8E1B', 'profile_sidebar_border_color': 'FFFFFF', 'profile_sidebar_fill_color': 'F6F6F6', 'profile_text_color': '333333', 'profile_use_background_image': True, 'has_extended_profile': True, 'default_profile': False, 'default_profile_image': False, 'following': True, 'follow_request_sent': False, 'notifications': False, 'translator_type': 'regular', 'withheld_in_countries': []}, id=28023330, id_str='28023330', name='Crunchyroll', screen_name='Crunchyroll', location='San Francisco, CA', description='✨ Welcome to the official account for Crunchyroll✨ Bringing you the latest & greatest anime at the speed of Japan ~ !', url='https://t.co/UAbRk6OOc2', entities={'url': {'urls': [{'url': 'https://t.co/UAbRk6OOc2', 'expanded_url': 'https://www.crunchyroll.com/', 'display_url': 'crunchyroll.com', 'indices': [0, 23]}]}, 'description': {'urls': []}}, protected=False, followers_count=5541044, friends_count=576, listed_count=5666, created_at=datetime.datetime(2009, 4, 1, 1, 55, 52, tzinfo=datetime.timezone.utc), favourites_count=15834, utc_offset=None, time_zone=None, geo_enabled=True, verified=True, statuses_count=185046, lang=None, contributors_enabled=False, is_translator=False, is_translation_enabled=False, profile_background_color='16C4EF', profile_background_image_url='http://abs.twimg.com/images/themes/theme18/bg.gif', profile_background_image_url_https='https://abs.twimg.com/images/themes/theme18/bg.gif', profile_background_tile=False, profile_image_url='http://pbs.twimg.com/profile_images/1539642463127830537/ygXFFb_Z_normal.jpg', profile_image_url_https='https://pbs.twimg.com/profile_images/1539642463127830537/ygXFFb_Z_normal.jpg', profile_banner_url='https://pbs.twimg.com/profile_banners/28023330/1656169204', profile_link_color='FA8E1B', profile_sidebar_border_color='FFFFFF', profile_sidebar_fill_color='F6F6F6', profile_text_color='333333', profile_use_background_image=True, has_extended_profile=True, default_profile=False, default_profile_image=False, following=True, follow_request_sent=False, notifications=False, translator_type='regular', withheld_in_countries=[]), geo=None, coordinates=None, place=None, contributors=None, is_quote_status=False, retweet_count=32, favorite_count=484, favorited=False, retweeted=False, possibly_sensitive=False, possibly_sensitive_appealable=False, lang='en'), Status(_api=<tweepy.api.API object at 0x0000014F293D01F0>, _json={'created_at': 'Sat Jul 09 00:00:01 +0000 2022', 'id': 1545558353769730049, 'id_str': '1545558353769730049', 'text': 'WAHOO! https://t.co/06LaLG3HCT', 'truncated': False, 'entities': {'hashtags': [], 'symbols': [], 'user_mentions': [], 'urls': [{'url': 'https://t.co/06LaLG3HCT', 'expanded_url': 'https://twitter.com/BandaiNamcoUS/status/1545407515365720064', 'display_url': 'twitter.com/BandaiNamcoUS/…', 'indices': [7, 30]}]}, 'source': '<a href=\"https://mobile.twitter.com\" rel=\"nofollow\">Twitter Web App</a>', 'in_reply_to_status_id': None, 'in_reply_to_status_id_str': None, 'in_reply_to_user_id': None, 'in_reply_to_user_id_str': None, 'in_reply_to_screen_name': None, 'user': {'id': 24742040, 'id_str': '24742040', 'name': 'Xbox', 'screen_name': 'Xbox', 'location': 'Redmond, Washington', 'description': '20 years of changing the game #PowerYourDreams', 'url': 'https://t.co/C1bIH66H1K', 'entities': {'url': {'urls': [{'url': 'https://t.co/C1bIH66H1K', 'expanded_url': 'http://Xbox.com', 'display_url': 'Xbox.com', 'indices': [0, 23]}]}, 'description': {'urls': []}}, 'protected': False, 'followers_count': 18890669, 'friends_count': 16122, 'listed_count': 21005, 'created_at': 'Mon Mar 16 18:30:52 +0000 2009', 'favourites_count': 4657, 'utc_offset': None, 'time_zone': None, 'geo_enabled': False, 'verified': True, 'statuses_count': 291952, 'lang': None, 'contributors_enabled': False, 'is_translator': False, 'is_translation_enabled': False, 'profile_background_color': '107C10', 'profile_background_image_url': 'http://abs.twimg.com/images/themes/theme14/bg.gif', 'profile_background_image_url_https': 'https://abs.twimg.com/images/themes/theme14/bg.gif', 'profile_background_tile': True, 'profile_image_url': 'http://pbs.twimg.com/profile_images/1544364415734071298/eHKqps3i_normal.jpg', 'profile_image_url_https': 'https://pbs.twimg.com/profile_images/1544364415734071298/eHKqps3i_normal.jpg', 'profile_banner_url': 'https://pbs.twimg.com/profile_banners/24742040/1657040145', 'profile_link_color': '107C10', 'profile_sidebar_border_color': '000000', 'profile_sidebar_fill_color': 'EFEFEF', 'profile_text_color': '333333', 'profile_use_background_image': False, 'has_extended_profile': True, 'default_profile': False, 'default_profile_image': False, 'following': True, 'follow_request_sent': False, 'notifications': False, 'translator_type': 'none', 'withheld_in_countries': []}, 'geo': None, 'coordinates': None, 'place': None, 'contributors': None, 'is_quote_status': True, 'quoted_status_id': 1545407515365720064, 'quoted_status_id_str': '1545407515365720064', 'quoted_status': {'created_at': 'Fri Jul 08 14:00:38 +0000 2022', 'id': 1545407515365720064, 'id_str': '1545407515365720064', 'text': 'Where do dreams go? 💭\\n\\nVenture through Klonoa: Door to Phantomile and Klonoa 2: Lunatea’s Veil to try and find out!… https://t.co/eDnVxSY5A8', 'truncated': True, 'entities': {'hashtags': [], 'symbols': [], 'user_mentions': [], 'urls': [{'url': 'https://t.co/eDnVxSY5A8', 'expanded_url': 'https://twitter.com/i/web/status/1545407515365720064', 'display_url': 'twitter.com/i/web/status/1…', 'indices': [117, 140]}]}, 'source': '<a href=\"https://www.sprinklr.com\" rel=\"nofollow\">Sprinklr</a>', 'in_reply_to_status_id': None, 'in_reply_to_status_id_str': None, 'in_reply_to_user_id': None, 'in_reply_to_user_id_str': None, 'in_reply_to_screen_name': None, 'user': {'id': 19003121, 'id_str': '19003121', 'name': 'Bandai Namco US', 'screen_name': 'BandaiNamcoUS', 'location': 'Irvine, CA', 'description': 'Official Twitter of Bandai Namco Entertainment America! Our Support Team is here to help: https://t.co/OoNGMzFMpe', 'url': 'https://t.co/JDA3Ui7xqJ', 'entities': {'url': {'urls': [{'url': 'https://t.co/JDA3Ui7xqJ', 'expanded_url': 'https://www.bandainamcoent.com/', 'display_url': 'bandainamcoent.com', 'indices': [0, 23]}]}, 'description': {'urls': [{'url': 'https://t.co/OoNGMzFMpe', 'expanded_url': 'http://support.bandainamcoent.com/hc/en-us', 'display_url': 'support.bandainamcoent.com/hc/en-us', 'indices': [90, 113]}]}}, 'protected': False, 'followers_count': 1003313, 'friends_count': 285, 'listed_count': 3458, 'created_at': 'Thu Jan 15 00:17:20 +0000 2009', 'favourites_count': 18913, 'utc_offset': None, 'time_zone': None, 'geo_enabled': True, 'verified': True, 'statuses_count': 27060, 'lang': None, 'contributors_enabled': False, 'is_translator': False, 'is_translation_enabled': False, 'profile_background_color': '000000', 'profile_background_image_url': 'http://abs.twimg.com/images/themes/theme1/bg.png', 'profile_background_image_url_https': 'https://abs.twimg.com/images/themes/theme1/bg.png', 'profile_background_tile': False, 'profile_image_url': 'http://pbs.twimg.com/profile_images/1519806418240430080/w_9-v5gc_normal.png', 'profile_image_url_https': 'https://pbs.twimg.com/profile_images/1519806418240430080/w_9-v5gc_normal.png', 'profile_banner_url': 'https://pbs.twimg.com/profile_banners/19003121/1657301988', 'profile_link_color': 'FA743E', 'profile_sidebar_border_color': '181A1E', 'profile_sidebar_fill_color': 'FCFCFC', 'profile_text_color': '080808', 'profile_use_background_image': True, 'has_extended_profile': False, 'default_profile': False, 'default_profile_image': False, 'following': False, 'follow_request_sent': False, 'notifications': False, 'translator_type': 'regular', 'withheld_in_countries': []}, 'geo': None, 'coordinates': None, 'place': None, 'contributors': None, 'is_quote_status': False, 'retweet_count': 669, 'favorite_count': 1675, 'favorited': False, 'retweeted': False, 'possibly_sensitive': False, 'possibly_sensitive_appealable': False, 'lang': 'en'}, 'retweet_count': 52, 'favorite_count': 578, 'favorited': False, 'retweeted': False, 'possibly_sensitive': False, 'possibly_sensitive_appealable': False, 'lang': 'tl'}, created_at=datetime.datetime(2022, 7, 9, 0, 0, 1, tzinfo=datetime.timezone.utc), id=1545558353769730049, id_str='1545558353769730049', text='WAHOO! https://t.co/06LaLG3HCT', truncated=False, entities={'hashtags': [], 'symbols': [], 'user_mentions': [], 'urls': [{'url': 'https://t.co/06LaLG3HCT', 'expanded_url': 'https://twitter.com/BandaiNamcoUS/status/1545407515365720064', 'display_url': 'twitter.com/BandaiNamcoUS/…', 'indices': [7, 30]}]}, source='Twitter Web App', source_url='https://mobile.twitter.com', in_reply_to_status_id=None, in_reply_to_status_id_str=None, in_reply_to_user_id=None, in_reply_to_user_id_str=None, in_reply_to_screen_name=None, author=User(_api=<tweepy.api.API object at 0x0000014F293D01F0>, _json={'id': 24742040, 'id_str': '24742040', 'name': 'Xbox', 'screen_name': 'Xbox', 'location': 'Redmond, Washington', 'description': '20 years of changing the game #PowerYourDreams', 'url': 'https://t.co/C1bIH66H1K', 'entities': {'url': {'urls': [{'url': 'https://t.co/C1bIH66H1K', 'expanded_url': 'http://Xbox.com', 'display_url': 'Xbox.com', 'indices': [0, 23]}]}, 'description': {'urls': []}}, 'protected': False, 'followers_count': 18890669, 'friends_count': 16122, 'listed_count': 21005, 'created_at': 'Mon Mar 16 18:30:52 +0000 2009', 'favourites_count': 4657, 'utc_offset': None, 'time_zone': None, 'geo_enabled': False, 'verified': True, 'statuses_count': 291952, 'lang': None, 'contributors_enabled': False, 'is_translator': False, 'is_translation_enabled': False, 'profile_background_color': '107C10', 'profile_background_image_url': 'http://abs.twimg.com/images/themes/theme14/bg.gif', 'profile_background_image_url_https': 'https://abs.twimg.com/images/themes/theme14/bg.gif', 'profile_background_tile': True, 'profile_image_url': 'http://pbs.twimg.com/profile_images/1544364415734071298/eHKqps3i_normal.jpg', 'profile_image_url_https': 'https://pbs.twimg.com/profile_images/1544364415734071298/eHKqps3i_normal.jpg', 'profile_banner_url': 'https://pbs.twimg.com/profile_banners/24742040/1657040145', 'profile_link_color': '107C10', 'profile_sidebar_border_color': '000000', 'profile_sidebar_fill_color': 'EFEFEF', 'profile_text_color': '333333', 'profile_use_background_image': False, 'has_extended_profile': True, 'default_profile': False, 'default_profile_image': False, 'following': True, 'follow_request_sent': False, 'notifications': False, 'translator_type': 'none', 'withheld_in_countries': []}, id=24742040, id_str='24742040', name='Xbox', screen_name='Xbox', location='Redmond, Washington', description='20 years of changing the game #PowerYourDreams', url='https://t.co/C1bIH66H1K', entities={'url': {'urls': [{'url': 'https://t.co/C1bIH66H1K', 'expanded_url': 'http://Xbox.com', 'display_url': 'Xbox.com', 'indices': [0, 23]}]}, 'description': {'urls': []}}, protected=False, followers_count=18890669, friends_count=16122, listed_count=21005, created_at=datetime.datetime(2009, 3, 16, 18, 30, 52, tzinfo=datetime.timezone.utc), favourites_count=4657, utc_offset=None, time_zone=None, geo_enabled=False, verified=True, statuses_count=291952, lang=None, contributors_enabled=False, is_translator=False, is_translation_enabled=False, profile_background_color='107C10', profile_background_image_url='http://abs.twimg.com/images/themes/theme14/bg.gif', profile_background_image_url_https='https://abs.twimg.com/images/themes/theme14/bg.gif', profile_background_tile=True, profile_image_url='http://pbs.twimg.com/profile_images/1544364415734071298/eHKqps3i_normal.jpg', profile_image_url_https='https://pbs.twimg.com/profile_images/1544364415734071298/eHKqps3i_normal.jpg', profile_banner_url='https://pbs.twimg.com/profile_banners/24742040/1657040145', profile_link_color='107C10', profile_sidebar_border_color='000000', profile_sidebar_fill_color='EFEFEF', profile_text_color='333333', profile_use_background_image=False, has_extended_profile=True, default_profile=False, default_profile_image=False, following=True, follow_request_sent=False, notifications=False, translator_type='none', withheld_in_countries=[]), user=User(_api=<tweepy.api.API object at 0x0000014F293D01F0>, _json={'id': 24742040, 'id_str': '24742040', 'name': 'Xbox', 'screen_name': 'Xbox', 'location': 'Redmond, Washington', 'description': '20 years of changing the game #PowerYourDreams', 'url': 'https://t.co/C1bIH66H1K', 'entities': {'url': {'urls': [{'url': 'https://t.co/C1bIH66H1K', 'expanded_url': 'http://Xbox.com', 'display_url': 'Xbox.com', 'indices': [0, 23]}]}, 'description': {'urls': []}}, 'protected': False, 'followers_count': 18890669, 'friends_count': 16122, 'listed_count': 21005, 'created_at': 'Mon Mar 16 18:30:52 +0000 2009', 'favourites_count': 4657, 'utc_offset': None, 'time_zone': None, 'geo_enabled': False, 'verified': True, 'statuses_count': 291952, 'lang': None, 'contributors_enabled': False, 'is_translator': False, 'is_translation_enabled': False, 'profile_background_color': '107C10', 'profile_background_image_url': 'http://abs.twimg.com/images/themes/theme14/bg.gif', 'profile_background_image_url_https': 'https://abs.twimg.com/images/themes/theme14/bg.gif', 'profile_background_tile': True, 'profile_image_url': 'http://pbs.twimg.com/profile_images/1544364415734071298/eHKqps3i_normal.jpg', 'profile_image_url_https': 'https://pbs.twimg.com/profile_images/1544364415734071298/eHKqps3i_normal.jpg', 'profile_banner_url': 'https://pbs.twimg.com/profile_banners/24742040/1657040145', 'profile_link_color': '107C10', 'profile_sidebar_border_color': '000000', 'profile_sidebar_fill_color': 'EFEFEF', 'profile_text_color': '333333', 'profile_use_background_image': False, 'has_extended_profile': True, 'default_profile': False, 'default_profile_image': False, 'following': True, 'follow_request_sent': False, 'notifications': False, 'translator_type': 'none', 'withheld_in_countries': []}, id=24742040, id_str='24742040', name='Xbox', screen_name='Xbox', location='Redmond, Washington', description='20 years of changing the game #PowerYourDreams', url='https://t.co/C1bIH66H1K', entities={'url': {'urls': [{'url': 'https://t.co/C1bIH66H1K', 'expanded_url': 'http://Xbox.com', 'display_url': 'Xbox.com', 'indices': [0, 23]}]}, 'description': {'urls': []}}, protected=False, followers_count=18890669, friends_count=16122, listed_count=21005, created_at=datetime.datetime(2009, 3, 16, 18, 30, 52, tzinfo=datetime.timezone.utc), favourites_count=4657, utc_offset=None, time_zone=None, geo_enabled=False, verified=True, statuses_count=291952, lang=None, contributors_enabled=False, is_translator=False, is_translation_enabled=False, profile_background_color='107C10', profile_background_image_url='http://abs.twimg.com/images/themes/theme14/bg.gif', profile_background_image_url_https='https://abs.twimg.com/images/themes/theme14/bg.gif', profile_background_tile=True, profile_image_url='http://pbs.twimg.com/profile_images/1544364415734071298/eHKqps3i_normal.jpg', profile_image_url_https='https://pbs.twimg.com/profile_images/1544364415734071298/eHKqps3i_normal.jpg', profile_banner_url='https://pbs.twimg.com/profile_banners/24742040/1657040145', profile_link_color='107C10', profile_sidebar_border_color='000000', profile_sidebar_fill_color='EFEFEF', profile_text_color='333333', profile_use_background_image=False, has_extended_profile=True, default_profile=False, default_profile_image=False, following=True, follow_request_sent=False, notifications=False, translator_type='none', withheld_in_countries=[]), geo=None, coordinates=None, place=None, contributors=None, is_quote_status=True, quoted_status_id=1545407515365720064, quoted_status_id_str='1545407515365720064', quoted_status=Status(_api=<tweepy.api.API object at 0x0000014F293D01F0>, _json={'created_at': 'Fri Jul 08 14:00:38 +0000 2022', 'id': 1545407515365720064, 'id_str': '1545407515365720064', 'text': 'Where do dreams go? 💭\\n\\nVenture through Klonoa: Door to Phantomile and Klonoa 2: Lunatea’s Veil to try and find out!… https://t.co/eDnVxSY5A8', 'truncated': True, 'entities': {'hashtags': [], 'symbols': [], 'user_mentions': [], 'urls': [{'url': 'https://t.co/eDnVxSY5A8', 'expanded_url': 'https://twitter.com/i/web/status/1545407515365720064', 'display_url': 'twitter.com/i/web/status/1…', 'indices': [117, 140]}]}, 'source': '<a href=\"https://www.sprinklr.com\" rel=\"nofollow\">Sprinklr</a>', 'in_reply_to_status_id': None, 'in_reply_to_status_id_str': None, 'in_reply_to_user_id': None, 'in_reply_to_user_id_str': None, 'in_reply_to_screen_name': None, 'user': {'id': 19003121, 'id_str': '19003121', 'name': 'Bandai Namco US', 'screen_name': 'BandaiNamcoUS', 'location': 'Irvine, CA', 'description': 'Official Twitter of Bandai Namco Entertainment America! Our Support Team is here to help: https://t.co/OoNGMzFMpe', 'url': 'https://t.co/JDA3Ui7xqJ', 'entities': {'url': {'urls': [{'url': 'https://t.co/JDA3Ui7xqJ', 'expanded_url': 'https://www.bandainamcoent.com/', 'display_url': 'bandainamcoent.com', 'indices': [0, 23]}]}, 'description': {'urls': [{'url': 'https://t.co/OoNGMzFMpe', 'expanded_url': 'http://support.bandainamcoent.com/hc/en-us', 'display_url': 'support.bandainamcoent.com/hc/en-us', 'indices': [90, 113]}]}}, 'protected': False, 'followers_count': 1003313, 'friends_count': 285, 'listed_count': 3458, 'created_at': 'Thu Jan 15 00:17:20 +0000 2009', 'favourites_count': 18913, 'utc_offset': None, 'time_zone': None, 'geo_enabled': True, 'verified': True, 'statuses_count': 27060, 'lang': None, 'contributors_enabled': False, 'is_translator': False, 'is_translation_enabled': False, 'profile_background_color': '000000', 'profile_background_image_url': 'http://abs.twimg.com/images/themes/theme1/bg.png', 'profile_background_image_url_https': 'https://abs.twimg.com/images/themes/theme1/bg.png', 'profile_background_tile': False, 'profile_image_url': 'http://pbs.twimg.com/profile_images/1519806418240430080/w_9-v5gc_normal.png', 'profile_image_url_https': 'https://pbs.twimg.com/profile_images/1519806418240430080/w_9-v5gc_normal.png', 'profile_banner_url': 'https://pbs.twimg.com/profile_banners/19003121/1657301988', 'profile_link_color': 'FA743E', 'profile_sidebar_border_color': '181A1E', 'profile_sidebar_fill_color': 'FCFCFC', 'profile_text_color': '080808', 'profile_use_background_image': True, 'has_extended_profile': False, 'default_profile': False, 'default_profile_image': False, 'following': False, 'follow_request_sent': False, 'notifications': False, 'translator_type': 'regular', 'withheld_in_countries': []}, 'geo': None, 'coordinates': None, 'place': None, 'contributors': None, 'is_quote_status': False, 'retweet_count': 669, 'favorite_count': 1675, 'favorited': False, 'retweeted': False, 'possibly_sensitive': False, 'possibly_sensitive_appealable': False, 'lang': 'en'}, created_at=datetime.datetime(2022, 7, 8, 14, 0, 38, tzinfo=datetime.timezone.utc), id=1545407515365720064, id_str='1545407515365720064', text='Where do dreams go? 💭\\n\\nVenture through Klonoa: Door to Phantomile and Klonoa 2: Lunatea’s Veil to try and find out!… https://t.co/eDnVxSY5A8', truncated=True, entities={'hashtags': [], 'symbols': [], 'user_mentions': [], 'urls': [{'url': 'https://t.co/eDnVxSY5A8', 'expanded_url': 'https://twitter.com/i/web/status/1545407515365720064', 'display_url': 'twitter.com/i/web/status/1…', 'indices': [117, 140]}]}, source='Sprinklr', source_url='https://www.sprinklr.com', in_reply_to_status_id=None, in_reply_to_status_id_str=None, in_reply_to_user_id=None, in_reply_to_user_id_str=None, in_reply_to_screen_name=None, author=User(_api=<tweepy.api.API object at 0x0000014F293D01F0>, _json={'id': 19003121, 'id_str': '19003121', 'name': 'Bandai Namco US', 'screen_name': 'BandaiNamcoUS', 'location': 'Irvine, CA', 'description': 'Official Twitter of Bandai Namco Entertainment America! Our Support Team is here to help: https://t.co/OoNGMzFMpe', 'url': 'https://t.co/JDA3Ui7xqJ', 'entities': {'url': {'urls': [{'url': 'https://t.co/JDA3Ui7xqJ', 'expanded_url': 'https://www.bandainamcoent.com/', 'display_url': 'bandainamcoent.com', 'indices': [0, 23]}]}, 'description': {'urls': [{'url': 'https://t.co/OoNGMzFMpe', 'expanded_url': 'http://support.bandainamcoent.com/hc/en-us', 'display_url': 'support.bandainamcoent.com/hc/en-us', 'indices': [90, 113]}]}}, 'protected': False, 'followers_count': 1003313, 'friends_count': 285, 'listed_count': 3458, 'created_at': 'Thu Jan 15 00:17:20 +0000 2009', 'favourites_count': 18913, 'utc_offset': None, 'time_zone': None, 'geo_enabled': True, 'verified': True, 'statuses_count': 27060, 'lang': None, 'contributors_enabled': False, 'is_translator': False, 'is_translation_enabled': False, 'profile_background_color': '000000', 'profile_background_image_url': 'http://abs.twimg.com/images/themes/theme1/bg.png', 'profile_background_image_url_https': 'https://abs.twimg.com/images/themes/theme1/bg.png', 'profile_background_tile': False, 'profile_image_url': 'http://pbs.twimg.com/profile_images/1519806418240430080/w_9-v5gc_normal.png', 'profile_image_url_https': 'https://pbs.twimg.com/profile_images/1519806418240430080/w_9-v5gc_normal.png', 'profile_banner_url': 'https://pbs.twimg.com/profile_banners/19003121/1657301988', 'profile_link_color': 'FA743E', 'profile_sidebar_border_color': '181A1E', 'profile_sidebar_fill_color': 'FCFCFC', 'profile_text_color': '080808', 'profile_use_background_image': True, 'has_extended_profile': False, 'default_profile': False, 'default_profile_image': False, 'following': False, 'follow_request_sent': False, 'notifications': False, 'translator_type': 'regular', 'withheld_in_countries': []}, id=19003121, id_str='19003121', name='Bandai Namco US', screen_name='BandaiNamcoUS', location='Irvine, CA', description='Official Twitter of Bandai Namco Entertainment America! Our Support Team is here to help: https://t.co/OoNGMzFMpe', url='https://t.co/JDA3Ui7xqJ', entities={'url': {'urls': [{'url': 'https://t.co/JDA3Ui7xqJ', 'expanded_url': 'https://www.bandainamcoent.com/', 'display_url': 'bandainamcoent.com', 'indices': [0, 23]}]}, 'description': {'urls': [{'url': 'https://t.co/OoNGMzFMpe', 'expanded_url': 'http://support.bandainamcoent.com/hc/en-us', 'display_url': 'support.bandainamcoent.com/hc/en-us', 'indices': [90, 113]}]}}, protected=False, followers_count=1003313, friends_count=285, listed_count=3458, created_at=datetime.datetime(2009, 1, 15, 0, 17, 20, tzinfo=datetime.timezone.utc), favourites_count=18913, utc_offset=None, time_zone=None, geo_enabled=True, verified=True, statuses_count=27060, lang=None, contributors_enabled=False, is_translator=False, is_translation_enabled=False, profile_background_color='000000', profile_background_image_url='http://abs.twimg.com/images/themes/theme1/bg.png', profile_background_image_url_https='https://abs.twimg.com/images/themes/theme1/bg.png', profile_background_tile=False, profile_image_url='http://pbs.twimg.com/profile_images/1519806418240430080/w_9-v5gc_normal.png', profile_image_url_https='https://pbs.twimg.com/profile_images/1519806418240430080/w_9-v5gc_normal.png', profile_banner_url='https://pbs.twimg.com/profile_banners/19003121/1657301988', profile_link_color='FA743E', profile_sidebar_border_color='181A1E', profile_sidebar_fill_color='FCFCFC', profile_text_color='080808', profile_use_background_image=True, has_extended_profile=False, default_profile=False, default_profile_image=False, following=False, follow_request_sent=False, notifications=False, translator_type='regular', withheld_in_countries=[]), user=User(_api=<tweepy.api.API object at 0x0000014F293D01F0>, _json={'id': 19003121, 'id_str': '19003121', 'name': 'Bandai Namco US', 'screen_name': 'BandaiNamcoUS', 'location': 'Irvine, CA', 'description': 'Official Twitter of Bandai Namco Entertainment America! Our Support Team is here to help: https://t.co/OoNGMzFMpe', 'url': 'https://t.co/JDA3Ui7xqJ', 'entities': {'url': {'urls': [{'url': 'https://t.co/JDA3Ui7xqJ', 'expanded_url': 'https://www.bandainamcoent.com/', 'display_url': 'bandainamcoent.com', 'indices': [0, 23]}]}, 'description': {'urls': [{'url': 'https://t.co/OoNGMzFMpe', 'expanded_url': 'http://support.bandainamcoent.com/hc/en-us', 'display_url': 'support.bandainamcoent.com/hc/en-us', 'indices': [90, 113]}]}}, 'protected': False, 'followers_count': 1003313, 'friends_count': 285, 'listed_count': 3458, 'created_at': 'Thu Jan 15 00:17:20 +0000 2009', 'favourites_count': 18913, 'utc_offset': None, 'time_zone': None, 'geo_enabled': True, 'verified': True, 'statuses_count': 27060, 'lang': None, 'contributors_enabled': False, 'is_translator': False, 'is_translation_enabled': False, 'profile_background_color': '000000', 'profile_background_image_url': 'http://abs.twimg.com/images/themes/theme1/bg.png', 'profile_background_image_url_https': 'https://abs.twimg.com/images/themes/theme1/bg.png', 'profile_background_tile': False, 'profile_image_url': 'http://pbs.twimg.com/profile_images/1519806418240430080/w_9-v5gc_normal.png', 'profile_image_url_https': 'https://pbs.twimg.com/profile_images/1519806418240430080/w_9-v5gc_normal.png', 'profile_banner_url': 'https://pbs.twimg.com/profile_banners/19003121/1657301988', 'profile_link_color': 'FA743E', 'profile_sidebar_border_color': '181A1E', 'profile_sidebar_fill_color': 'FCFCFC', 'profile_text_color': '080808', 'profile_use_background_image': True, 'has_extended_profile': False, 'default_profile': False, 'default_profile_image': False, 'following': False, 'follow_request_sent': False, 'notifications': False, 'translator_type': 'regular', 'withheld_in_countries': []}, id=19003121, id_str='19003121', name='Bandai Namco US', screen_name='BandaiNamcoUS', location='Irvine, CA', description='Official Twitter of Bandai Namco Entertainment America! Our Support Team is here to help: https://t.co/OoNGMzFMpe', url='https://t.co/JDA3Ui7xqJ', entities={'url': {'urls': [{'url': 'https://t.co/JDA3Ui7xqJ', 'expanded_url': 'https://www.bandainamcoent.com/', 'display_url': 'bandainamcoent.com', 'indices': [0, 23]}]}, 'description': {'urls': [{'url': 'https://t.co/OoNGMzFMpe', 'expanded_url': 'http://support.bandainamcoent.com/hc/en-us', 'display_url': 'support.bandainamcoent.com/hc/en-us', 'indices': [90, 113]}]}}, protected=False, followers_count=1003313, friends_count=285, listed_count=3458, created_at=datetime.datetime(2009, 1, 15, 0, 17, 20, tzinfo=datetime.timezone.utc), favourites_count=18913, utc_offset=None, time_zone=None, geo_enabled=True, verified=True, statuses_count=27060, lang=None, contributors_enabled=False, is_translator=False, is_translation_enabled=False, profile_background_color='000000', profile_background_image_url='http://abs.twimg.com/images/themes/theme1/bg.png', profile_background_image_url_https='https://abs.twimg.com/images/themes/theme1/bg.png', profile_background_tile=False, profile_image_url='http://pbs.twimg.com/profile_images/1519806418240430080/w_9-v5gc_normal.png', profile_image_url_https='https://pbs.twimg.com/profile_images/1519806418240430080/w_9-v5gc_normal.png', profile_banner_url='https://pbs.twimg.com/profile_banners/19003121/1657301988', profile_link_color='FA743E', profile_sidebar_border_color='181A1E', profile_sidebar_fill_color='FCFCFC', profile_text_color='080808', profile_use_background_image=True, has_extended_profile=False, default_profile=False, default_profile_image=False, following=False, follow_request_sent=False, notifications=False, translator_type='regular', withheld_in_countries=[]), geo=None, coordinates=None, place=None, contributors=None, is_quote_status=False, retweet_count=669, favorite_count=1675, favorited=False, retweeted=False, possibly_sensitive=False, possibly_sensitive_appealable=False, lang='en'), retweet_count=52, favorite_count=578, favorited=False, retweeted=False, possibly_sensitive=False, possibly_sensitive_appealable=False, lang='tl'), Status(_api=<tweepy.api.API object at 0x0000014F293D01F0>, _json={'created_at': 'Fri Jul 08 23:54:29 +0000 2022', 'id': 1545556961621581825, 'id_str': '1545556961621581825', 'text': 'RT @joncoopertweets: @DrOz You don’t even LIVE in Pennsylvania, Mehmet. Get real.', 'truncated': False, 'entities': {'hashtags': [], 'symbols': [], 'user_mentions': [{'screen_name': 'joncoopertweets', 'name': 'Jon Cooper', 'id': 27493883, 'id_str': '27493883', 'indices': [3, 19]}, {'screen_name': 'DrOz', 'name': 'Dr. Mehmet Oz', 'id': 38531995, 'id_str': '38531995', 'indices': [21, 26]}], 'urls': []}, 'source': '<a href=\"http://twitter.com/download/iphone\" rel=\"nofollow\">Twitter for iPhone</a>', 'in_reply_to_status_id': None, 'in_reply_to_status_id_str': None, 'in_reply_to_user_id': None, 'in_reply_to_user_id_str': None, 'in_reply_to_screen_name': None, 'user': {'id': 27493883, 'id_str': '27493883', 'name': 'Jon Cooper', 'screen_name': 'joncoopertweets', 'location': 'New York, Florida', 'description': 'Former National Finance Chair of Draft Biden 2016, Long Island Campaign Chair for @BarackObama & Majority Leader of Suffolk County Legislature, NY. @DukeU alum', 'url': None, 'entities': {'description': {'urls': []}}, 'protected': False, 'followers_count': 1026754, 'friends_count': 66952, 'listed_count': 3288, 'created_at': 'Sun Mar 29 20:12:52 +0000 2009', 'favourites_count': 297497, 'utc_offset': None, 'time_zone': None, 'geo_enabled': False, 'verified': True, 'statuses_count': 345163, 'lang': None, 'contributors_enabled': False, 'is_translator': False, 'is_translation_enabled': False, 'profile_background_color': 'C0DEED', 'profile_background_image_url': 'http://abs.twimg.com/images/themes/theme1/bg.png', 'profile_background_image_url_https': 'https://abs.twimg.com/images/themes/theme1/bg.png', 'profile_background_tile': False, 'profile_image_url': 'http://pbs.twimg.com/profile_images/1530358747511631874/G8bvUIHV_normal.jpg', 'profile_image_url_https': 'https://pbs.twimg.com/profile_images/1530358747511631874/G8bvUIHV_normal.jpg', 'profile_banner_url': 'https://pbs.twimg.com/profile_banners/27493883/1656387393', 'profile_link_color': '1DA1F2', 'profile_sidebar_border_color': 'C0DEED', 'profile_sidebar_fill_color': 'DDEEF6', 'profile_text_color': '333333', 'profile_use_background_image': True, 'has_extended_profile': True, 'default_profile': True, 'default_profile_image': False, 'following': True, 'follow_request_sent': False, 'notifications': False, 'translator_type': 'none', 'withheld_in_countries': []}, 'geo': None, 'coordinates': None, 'place': None, 'contributors': None, 'retweeted_status': {'created_at': 'Fri Jul 08 23:54:26 +0000 2022', 'id': 1545556951102377987, 'id_str': '1545556951102377987', 'text': '@DrOz You don’t even LIVE in Pennsylvania, Mehmet. Get real.', 'truncated': False, 'entities': {'hashtags': [], 'symbols': [], 'user_mentions': [{'screen_name': 'DrOz', 'name': 'Dr. Mehmet Oz', 'id': 38531995, 'id_str': '38531995', 'indices': [0, 5]}], 'urls': []}, 'source': '<a href=\"http://twitter.com/download/iphone\" rel=\"nofollow\">Twitter for iPhone</a>', 'in_reply_to_status_id': 1545456176321765378, 'in_reply_to_status_id_str': '1545456176321765378', 'in_reply_to_user_id': 38531995, 'in_reply_to_user_id_str': '38531995', 'in_reply_to_screen_name': 'DrOz', 'user': {'id': 27493883, 'id_str': '27493883', 'name': 'Jon Cooper', 'screen_name': 'joncoopertweets', 'location': 'New York, Florida', 'description': 'Former National Finance Chair of Draft Biden 2016, Long Island Campaign Chair for @BarackObama & Majority Leader of Suffolk County Legislature, NY. @DukeU alum', 'url': None, 'entities': {'description': {'urls': []}}, 'protected': False, 'followers_count': 1026754, 'friends_count': 66952, 'listed_count': 3288, 'created_at': 'Sun Mar 29 20:12:52 +0000 2009', 'favourites_count': 297497, 'utc_offset': None, 'time_zone': None, 'geo_enabled': False, 'verified': True, 'statuses_count': 345163, 'lang': None, 'contributors_enabled': False, 'is_translator': False, 'is_translation_enabled': False, 'profile_background_color': 'C0DEED', 'profile_background_image_url': 'http://abs.twimg.com/images/themes/theme1/bg.png', 'profile_background_image_url_https': 'https://abs.twimg.com/images/themes/theme1/bg.png', 'profile_background_tile': False, 'profile_image_url': 'http://pbs.twimg.com/profile_images/1530358747511631874/G8bvUIHV_normal.jpg', 'profile_image_url_https': 'https://pbs.twimg.com/profile_images/1530358747511631874/G8bvUIHV_normal.jpg', 'profile_banner_url': 'https://pbs.twimg.com/profile_banners/27493883/1656387393', 'profile_link_color': '1DA1F2', 'profile_sidebar_border_color': 'C0DEED', 'profile_sidebar_fill_color': 'DDEEF6', 'profile_text_color': '333333', 'profile_use_background_image': True, 'has_extended_profile': True, 'default_profile': True, 'default_profile_image': False, 'following': True, 'follow_request_sent': False, 'notifications': False, 'translator_type': 'none', 'withheld_in_countries': []}, 'geo': None, 'coordinates': None, 'place': None, 'contributors': None, 'is_quote_status': False, 'retweet_count': 60, 'favorite_count': 684, 'favorited': False, 'retweeted': False, 'lang': 'en'}, 'is_quote_status': False, 'retweet_count': 60, 'favorite_count': 0, 'favorited': False, 'retweeted': False, 'lang': 'en'}, created_at=datetime.datetime(2022, 7, 8, 23, 54, 29, tzinfo=datetime.timezone.utc), id=1545556961621581825, id_str='1545556961621581825', text='RT @joncoopertweets: @DrOz You don’t even LIVE in Pennsylvania, Mehmet. Get real.', truncated=False, entities={'hashtags': [], 'symbols': [], 'user_mentions': [{'screen_name': 'joncoopertweets', 'name': 'Jon Cooper', 'id': 27493883, 'id_str': '27493883', 'indices': [3, 19]}, {'screen_name': 'DrOz', 'name': 'Dr. Mehmet Oz', 'id': 38531995, 'id_str': '38531995', 'indices': [21, 26]}], 'urls': []}, source='Twitter for iPhone', source_url='http://twitter.com/download/iphone', in_reply_to_status_id=None, in_reply_to_status_id_str=None, in_reply_to_user_id=None, in_reply_to_user_id_str=None, in_reply_to_screen_name=None, author=User(_api=<tweepy.api.API object at 0x0000014F293D01F0>, _json={'id': 27493883, 'id_str': '27493883', 'name': 'Jon Cooper', 'screen_name': 'joncoopertweets', 'location': 'New York, Florida', 'description': 'Former National Finance Chair of Draft Biden 2016, Long Island Campaign Chair for @BarackObama & Majority Leader of Suffolk County Legislature, NY. @DukeU alum', 'url': None, 'entities': {'description': {'urls': []}}, 'protected': False, 'followers_count': 1026754, 'friends_count': 66952, 'listed_count': 3288, 'created_at': 'Sun Mar 29 20:12:52 +0000 2009', 'favourites_count': 297497, 'utc_offset': None, 'time_zone': None, 'geo_enabled': False, 'verified': True, 'statuses_count': 345163, 'lang': None, 'contributors_enabled': False, 'is_translator': False, 'is_translation_enabled': False, 'profile_background_color': 'C0DEED', 'profile_background_image_url': 'http://abs.twimg.com/images/themes/theme1/bg.png', 'profile_background_image_url_https': 'https://abs.twimg.com/images/themes/theme1/bg.png', 'profile_background_tile': False, 'profile_image_url': 'http://pbs.twimg.com/profile_images/1530358747511631874/G8bvUIHV_normal.jpg', 'profile_image_url_https': 'https://pbs.twimg.com/profile_images/1530358747511631874/G8bvUIHV_normal.jpg', 'profile_banner_url': 'https://pbs.twimg.com/profile_banners/27493883/1656387393', 'profile_link_color': '1DA1F2', 'profile_sidebar_border_color': 'C0DEED', 'profile_sidebar_fill_color': 'DDEEF6', 'profile_text_color': '333333', 'profile_use_background_image': True, 'has_extended_profile': True, 'default_profile': True, 'default_profile_image': False, 'following': True, 'follow_request_sent': False, 'notifications': False, 'translator_type': 'none', 'withheld_in_countries': []}, id=27493883, id_str='27493883', name='Jon Cooper', screen_name='joncoopertweets', location='New York, Florida', description='Former National Finance Chair of Draft Biden 2016, Long Island Campaign Chair for @BarackObama & Majority Leader of Suffolk County Legislature, NY. @DukeU alum', url=None, entities={'description': {'urls': []}}, protected=False, followers_count=1026754, friends_count=66952, listed_count=3288, created_at=datetime.datetime(2009, 3, 29, 20, 12, 52, tzinfo=datetime.timezone.utc), favourites_count=297497, utc_offset=None, time_zone=None, geo_enabled=False, verified=True, statuses_count=345163, lang=None, contributors_enabled=False, is_translator=False, is_translation_enabled=False, profile_background_color='C0DEED', profile_background_image_url='http://abs.twimg.com/images/themes/theme1/bg.png', profile_background_image_url_https='https://abs.twimg.com/images/themes/theme1/bg.png', profile_background_tile=False, profile_image_url='http://pbs.twimg.com/profile_images/1530358747511631874/G8bvUIHV_normal.jpg', profile_image_url_https='https://pbs.twimg.com/profile_images/1530358747511631874/G8bvUIHV_normal.jpg', profile_banner_url='https://pbs.twimg.com/profile_banners/27493883/1656387393', profile_link_color='1DA1F2', profile_sidebar_border_color='C0DEED', profile_sidebar_fill_color='DDEEF6', profile_text_color='333333', profile_use_background_image=True, has_extended_profile=True, default_profile=True, default_profile_image=False, following=True, follow_request_sent=False, notifications=False, translator_type='none', withheld_in_countries=[]), user=User(_api=<tweepy.api.API object at 0x0000014F293D01F0>, _json={'id': 27493883, 'id_str': '27493883', 'name': 'Jon Cooper', 'screen_name': 'joncoopertweets', 'location': 'New York, Florida', 'description': 'Former National Finance Chair of Draft Biden 2016, Long Island Campaign Chair for @BarackObama & Majority Leader of Suffolk County Legislature, NY. @DukeU alum', 'url': None, 'entities': {'description': {'urls': []}}, 'protected': False, 'followers_count': 1026754, 'friends_count': 66952, 'listed_count': 3288, 'created_at': 'Sun Mar 29 20:12:52 +0000 2009', 'favourites_count': 297497, 'utc_offset': None, 'time_zone': None, 'geo_enabled': False, 'verified': True, 'statuses_count': 345163, 'lang': None, 'contributors_enabled': False, 'is_translator': False, 'is_translation_enabled': False, 'profile_background_color': 'C0DEED', 'profile_background_image_url': 'http://abs.twimg.com/images/themes/theme1/bg.png', 'profile_background_image_url_https': 'https://abs.twimg.com/images/themes/theme1/bg.png', 'profile_background_tile': False, 'profile_image_url': 'http://pbs.twimg.com/profile_images/1530358747511631874/G8bvUIHV_normal.jpg', 'profile_image_url_https': 'https://pbs.twimg.com/profile_images/1530358747511631874/G8bvUIHV_normal.jpg', 'profile_banner_url': 'https://pbs.twimg.com/profile_banners/27493883/1656387393', 'profile_link_color': '1DA1F2', 'profile_sidebar_border_color': 'C0DEED', 'profile_sidebar_fill_color': 'DDEEF6', 'profile_text_color': '333333', 'profile_use_background_image': True, 'has_extended_profile': True, 'default_profile': True, 'default_profile_image': False, 'following': True, 'follow_request_sent': False, 'notifications': False, 'translator_type': 'none', 'withheld_in_countries': []}, id=27493883, id_str='27493883', name='Jon Cooper', screen_name='joncoopertweets', location='New York, Florida', description='Former National Finance Chair of Draft Biden 2016, Long Island Campaign Chair for @BarackObama & Majority Leader of Suffolk County Legislature, NY. @DukeU alum', url=None, entities={'description': {'urls': []}}, protected=False, followers_count=1026754, friends_count=66952, listed_count=3288, created_at=datetime.datetime(2009, 3, 29, 20, 12, 52, tzinfo=datetime.timezone.utc), favourites_count=297497, utc_offset=None, time_zone=None, geo_enabled=False, verified=True, statuses_count=345163, lang=None, contributors_enabled=False, is_translator=False, is_translation_enabled=False, profile_background_color='C0DEED', profile_background_image_url='http://abs.twimg.com/images/themes/theme1/bg.png', profile_background_image_url_https='https://abs.twimg.com/images/themes/theme1/bg.png', profile_background_tile=False, profile_image_url='http://pbs.twimg.com/profile_images/1530358747511631874/G8bvUIHV_normal.jpg', profile_image_url_https='https://pbs.twimg.com/profile_images/1530358747511631874/G8bvUIHV_normal.jpg', profile_banner_url='https://pbs.twimg.com/profile_banners/27493883/1656387393', profile_link_color='1DA1F2', profile_sidebar_border_color='C0DEED', profile_sidebar_fill_color='DDEEF6', profile_text_color='333333', profile_use_background_image=True, has_extended_profile=True, default_profile=True, default_profile_image=False, following=True, follow_request_sent=False, notifications=False, translator_type='none', withheld_in_countries=[]), geo=None, coordinates=None, place=None, contributors=None, retweeted_status=Status(_api=<tweepy.api.API object at 0x0000014F293D01F0>, _json={'created_at': 'Fri Jul 08 23:54:26 +0000 2022', 'id': 1545556951102377987, 'id_str': '1545556951102377987', 'text': '@DrOz You don’t even LIVE in Pennsylvania, Mehmet. Get real.', 'truncated': False, 'entities': {'hashtags': [], 'symbols': [], 'user_mentions': [{'screen_name': 'DrOz', 'name': 'Dr. Mehmet Oz', 'id': 38531995, 'id_str': '38531995', 'indices': [0, 5]}], 'urls': []}, 'source': '<a href=\"http://twitter.com/download/iphone\" rel=\"nofollow\">Twitter for iPhone</a>', 'in_reply_to_status_id': 1545456176321765378, 'in_reply_to_status_id_str': '1545456176321765378', 'in_reply_to_user_id': 38531995, 'in_reply_to_user_id_str': '38531995', 'in_reply_to_screen_name': 'DrOz', 'user': {'id': 27493883, 'id_str': '27493883', 'name': 'Jon Cooper', 'screen_name': 'joncoopertweets', 'location': 'New York, Florida', 'description': 'Former National Finance Chair of Draft Biden 2016, Long Island Campaign Chair for @BarackObama & Majority Leader of Suffolk County Legislature, NY. @DukeU alum', 'url': None, 'entities': {'description': {'urls': []}}, 'protected': False, 'followers_count': 1026754, 'friends_count': 66952, 'listed_count': 3288, 'created_at': 'Sun Mar 29 20:12:52 +0000 2009', 'favourites_count': 297497, 'utc_offset': None, 'time_zone': None, 'geo_enabled': False, 'verified': True, 'statuses_count': 345163, 'lang': None, 'contributors_enabled': False, 'is_translator': False, 'is_translation_enabled': False, 'profile_background_color': 'C0DEED', 'profile_background_image_url': 'http://abs.twimg.com/images/themes/theme1/bg.png', 'profile_background_image_url_https': 'https://abs.twimg.com/images/themes/theme1/bg.png', 'profile_background_tile': False, 'profile_image_url': 'http://pbs.twimg.com/profile_images/1530358747511631874/G8bvUIHV_normal.jpg', 'profile_image_url_https': 'https://pbs.twimg.com/profile_images/1530358747511631874/G8bvUIHV_normal.jpg', 'profile_banner_url': 'https://pbs.twimg.com/profile_banners/27493883/1656387393', 'profile_link_color': '1DA1F2', 'profile_sidebar_border_color': 'C0DEED', 'profile_sidebar_fill_color': 'DDEEF6', 'profile_text_color': '333333', 'profile_use_background_image': True, 'has_extended_profile': True, 'default_profile': True, 'default_profile_image': False, 'following': True, 'follow_request_sent': False, 'notifications': False, 'translator_type': 'none', 'withheld_in_countries': []}, 'geo': None, 'coordinates': None, 'place': None, 'contributors': None, 'is_quote_status': False, 'retweet_count': 60, 'favorite_count': 684, 'favorited': False, 'retweeted': False, 'lang': 'en'}, created_at=datetime.datetime(2022, 7, 8, 23, 54, 26, tzinfo=datetime.timezone.utc), id=1545556951102377987, id_str='1545556951102377987', text='@DrOz You don’t even LIVE in Pennsylvania, Mehmet. Get real.', truncated=False, entities={'hashtags': [], 'symbols': [], 'user_mentions': [{'screen_name': 'DrOz', 'name': 'Dr. Mehmet Oz', 'id': 38531995, 'id_str': '38531995', 'indices': [0, 5]}], 'urls': []}, source='Twitter for iPhone', source_url='http://twitter.com/download/iphone', in_reply_to_status_id=1545456176321765378, in_reply_to_status_id_str='1545456176321765378', in_reply_to_user_id=38531995, in_reply_to_user_id_str='38531995', in_reply_to_screen_name='DrOz', author=User(_api=<tweepy.api.API object at 0x0000014F293D01F0>, _json={'id': 27493883, 'id_str': '27493883', 'name': 'Jon Cooper', 'screen_name': 'joncoopertweets', 'location': 'New York, Florida', 'description': 'Former National Finance Chair of Draft Biden 2016, Long Island Campaign Chair for @BarackObama & Majority Leader of Suffolk County Legislature, NY. @DukeU alum', 'url': None, 'entities': {'description': {'urls': []}}, 'protected': False, 'followers_count': 1026754, 'friends_count': 66952, 'listed_count': 3288, 'created_at': 'Sun Mar 29 20:12:52 +0000 2009', 'favourites_count': 297497, 'utc_offset': None, 'time_zone': None, 'geo_enabled': False, 'verified': True, 'statuses_count': 345163, 'lang': None, 'contributors_enabled': False, 'is_translator': False, 'is_translation_enabled': False, 'profile_background_color': 'C0DEED', 'profile_background_image_url': 'http://abs.twimg.com/images/themes/theme1/bg.png', 'profile_background_image_url_https': 'https://abs.twimg.com/images/themes/theme1/bg.png', 'profile_background_tile': False, 'profile_image_url': 'http://pbs.twimg.com/profile_images/1530358747511631874/G8bvUIHV_normal.jpg', 'profile_image_url_https': 'https://pbs.twimg.com/profile_images/1530358747511631874/G8bvUIHV_normal.jpg', 'profile_banner_url': 'https://pbs.twimg.com/profile_banners/27493883/1656387393', 'profile_link_color': '1DA1F2', 'profile_sidebar_border_color': 'C0DEED', 'profile_sidebar_fill_color': 'DDEEF6', 'profile_text_color': '333333', 'profile_use_background_image': True, 'has_extended_profile': True, 'default_profile': True, 'default_profile_image': False, 'following': True, 'follow_request_sent': False, 'notifications': False, 'translator_type': 'none', 'withheld_in_countries': []}, id=27493883, id_str='27493883', name='Jon Cooper', screen_name='joncoopertweets', location='New York, Florida', description='Former National Finance Chair of Draft Biden 2016, Long Island Campaign Chair for @BarackObama & Majority Leader of Suffolk County Legislature, NY. @DukeU alum', url=None, entities={'description': {'urls': []}}, protected=False, followers_count=1026754, friends_count=66952, listed_count=3288, created_at=datetime.datetime(2009, 3, 29, 20, 12, 52, tzinfo=datetime.timezone.utc), favourites_count=297497, utc_offset=None, time_zone=None, geo_enabled=False, verified=True, statuses_count=345163, lang=None, contributors_enabled=False, is_translator=False, is_translation_enabled=False, profile_background_color='C0DEED', profile_background_image_url='http://abs.twimg.com/images/themes/theme1/bg.png', profile_background_image_url_https='https://abs.twimg.com/images/themes/theme1/bg.png', profile_background_tile=False, profile_image_url='http://pbs.twimg.com/profile_images/1530358747511631874/G8bvUIHV_normal.jpg', profile_image_url_https='https://pbs.twimg.com/profile_images/1530358747511631874/G8bvUIHV_normal.jpg', profile_banner_url='https://pbs.twimg.com/profile_banners/27493883/1656387393', profile_link_color='1DA1F2', profile_sidebar_border_color='C0DEED', profile_sidebar_fill_color='DDEEF6', profile_text_color='333333', profile_use_background_image=True, has_extended_profile=True, default_profile=True, default_profile_image=False, following=True, follow_request_sent=False, notifications=False, translator_type='none', withheld_in_countries=[]), user=User(_api=<tweepy.api.API object at 0x0000014F293D01F0>, _json={'id': 27493883, 'id_str': '27493883', 'name': 'Jon Cooper', 'screen_name': 'joncoopertweets', 'location': 'New York, Florida', 'description': 'Former National Finance Chair of Draft Biden 2016, Long Island Campaign Chair for @BarackObama & Majority Leader of Suffolk County Legislature, NY. @DukeU alum', 'url': None, 'entities': {'description': {'urls': []}}, 'protected': False, 'followers_count': 1026754, 'friends_count': 66952, 'listed_count': 3288, 'created_at': 'Sun Mar 29 20:12:52 +0000 2009', 'favourites_count': 297497, 'utc_offset': None, 'time_zone': None, 'geo_enabled': False, 'verified': True, 'statuses_count': 345163, 'lang': None, 'contributors_enabled': False, 'is_translator': False, 'is_translation_enabled': False, 'profile_background_color': 'C0DEED', 'profile_background_image_url': 'http://abs.twimg.com/images/themes/theme1/bg.png', 'profile_background_image_url_https': 'https://abs.twimg.com/images/themes/theme1/bg.png', 'profile_background_tile': False, 'profile_image_url': 'http://pbs.twimg.com/profile_images/1530358747511631874/G8bvUIHV_normal.jpg', 'profile_image_url_https': 'https://pbs.twimg.com/profile_images/1530358747511631874/G8bvUIHV_normal.jpg', 'profile_banner_url': 'https://pbs.twimg.com/profile_banners/27493883/1656387393', 'profile_link_color': '1DA1F2', 'profile_sidebar_border_color': 'C0DEED', 'profile_sidebar_fill_color': 'DDEEF6', 'profile_text_color': '333333', 'profile_use_background_image': True, 'has_extended_profile': True, 'default_profile': True, 'default_profile_image': False, 'following': True, 'follow_request_sent': False, 'notifications': False, 'translator_type': 'none', 'withheld_in_countries': []}, id=27493883, id_str='27493883', name='Jon Cooper', screen_name='joncoopertweets', location='New York, Florida', description='Former National Finance Chair of Draft Biden 2016, Long Island Campaign Chair for @BarackObama & Majority Leader of Suffolk County Legislature, NY. @DukeU alum', url=None, entities={'description': {'urls': []}}, protected=False, followers_count=1026754, friends_count=66952, listed_count=3288, created_at=datetime.datetime(2009, 3, 29, 20, 12, 52, tzinfo=datetime.timezone.utc), favourites_count=297497, utc_offset=None, time_zone=None, geo_enabled=False, verified=True, statuses_count=345163, lang=None, contributors_enabled=False, is_translator=False, is_translation_enabled=False, profile_background_color='C0DEED', profile_background_image_url='http://abs.twimg.com/images/themes/theme1/bg.png', profile_background_image_url_https='https://abs.twimg.com/images/themes/theme1/bg.png', profile_background_tile=False, profile_image_url='http://pbs.twimg.com/profile_images/1530358747511631874/G8bvUIHV_normal.jpg', profile_image_url_https='https://pbs.twimg.com/profile_images/1530358747511631874/G8bvUIHV_normal.jpg', profile_banner_url='https://pbs.twimg.com/profile_banners/27493883/1656387393', profile_link_color='1DA1F2', profile_sidebar_border_color='C0DEED', profile_sidebar_fill_color='DDEEF6', profile_text_color='333333', profile_use_background_image=True, has_extended_profile=True, default_profile=True, default_profile_image=False, following=True, follow_request_sent=False, notifications=False, translator_type='none', withheld_in_countries=[]), geo=None, coordinates=None, place=None, contributors=None, is_quote_status=False, retweet_count=60, favorite_count=684, favorited=False, retweeted=False, lang='en'), is_quote_status=False, retweet_count=60, favorite_count=0, favorited=False, retweeted=False, lang='en')]\n"
     ]
    }
   ],
   "source": [
    "# using the API object\n",
    "#get tweets from my time line and storing it\n",
    "\n",
    "my_tweets = api.home_timeline()\n",
    "print(my_tweets)"
   ]
  },
  {
   "cell_type": "code",
   "execution_count": 7,
   "id": "7d3ea0af",
   "metadata": {},
   "outputs": [
    {
     "data": {
      "text/plain": [
       "tweepy.models.ResultSet"
      ]
     },
     "execution_count": 7,
     "metadata": {},
     "output_type": "execute_result"
    }
   ],
   "source": [
    "type(my_tweets)"
   ]
  },
  {
   "cell_type": "code",
   "execution_count": 8,
   "id": "8fc41f61",
   "metadata": {
    "scrolled": true
   },
   "outputs": [
    {
     "name": "stdout",
     "output_type": "stream",
     "text": [
      "For the first time, scientists have cataloged every different way that every known mineral can form and put all of… https://t.co/gsyOfUWA1K\n",
      "2022-07-09 00:45:00+00:00 \n",
      " 19402238 \n",
      " ScienceNews \n",
      " For the first time, scientists have cataloged every different way that every known mineral can form and put all of… https://t.co/gsyOfUWA1K \n",
      "\n",
      "See which waterfront escapes won't burn a hole in your wallet.\n",
      " https://t.co/2PYgL3dYts\n",
      "2022-07-09 00:31:37+00:00 \n",
      " 78077927 \n",
      " USNewsTravel \n",
      " See which waterfront escapes won't burn a hole in your wallet.\n",
      " https://t.co/2PYgL3dYts \n",
      "\n",
      "RT @MikeSington: The sh*t, or ketchup, is hitting the wall. Washington Post: Steve Bannon wants to strike a deal and testify for the Jan 6…\n",
      "2022-07-09 00:25:31+00:00 \n",
      " 27493883 \n",
      " joncoopertweets \n",
      " RT @MikeSington: The sh*t, or ketchup, is hitting the wall. Washington Post: Steve Bannon wants to strike a deal and testify for the Jan 6… \n",
      "\n",
      "RT @A_SHEKH0VTS0V: Russia is stealing Ukrainian grain and is burning the wheat it cannot steal. There is little doubt that Russia’s aim is…\n",
      "2022-07-09 00:24:29+00:00 \n",
      " 27493883 \n",
      " joncoopertweets \n",
      " RT @A_SHEKH0VTS0V: Russia is stealing Ukrainian grain and is burning the wheat it cannot steal. There is little doubt that Russia’s aim is… \n",
      "\n",
      "RT @KyivIndependent: ⚡️Ex-NATO commander: Ukraine could deal devastating blow to Kremlin by attacking Kerch Strait bridge linking mainland…\n",
      "2022-07-09 00:23:44+00:00 \n",
      " 27493883 \n",
      " joncoopertweets \n",
      " RT @KyivIndependent: ⚡️Ex-NATO commander: Ukraine could deal devastating blow to Kremlin by attacking Kerch Strait bridge linking mainland… \n",
      "\n",
      "RT @NormOrnstein: The Supreme Court was fine with people protesting at the homes of abortion clinic workers. Scalia, joined by his colleagu…\n",
      "2022-07-09 00:22:10+00:00 \n",
      " 27493883 \n",
      " joncoopertweets \n",
      " RT @NormOrnstein: The Supreme Court was fine with people protesting at the homes of abortion clinic workers. Scalia, joined by his colleagu… \n",
      "\n",
      "RT @SamRamani2: BREAKING: The US will send additional HIMARS advanced rocket systems to Ukraine in its $400 million military aid package\n",
      "2022-07-09 00:21:41+00:00 \n",
      " 27493883 \n",
      " joncoopertweets \n",
      " RT @SamRamani2: BREAKING: The US will send additional HIMARS advanced rocket systems to Ukraine in its $400 million military aid package \n",
      "\n",
      "It looks like Pat Cipollone threw Trump under the bus. Good.\n",
      "2022-07-09 00:15:47+00:00 \n",
      " 27493883 \n",
      " joncoopertweets \n",
      " It looks like Pat Cipollone threw Trump under the bus. Good. \n",
      "\n",
      "If you live in an apartment and have no outdoor space to yourself, remember that you can ALWAYS find somewhere to g… https://t.co/EPWA5Mve9O\n",
      "2022-07-09 00:15:00+00:00 \n",
      " 20710809 \n",
      " FoodNetwork \n",
      " If you live in an apartment and have no outdoor space to yourself, remember that you can ALWAYS find somewhere to g… https://t.co/EPWA5Mve9O \n",
      "\n",
      "RT @RepSwalwell: What’s the Democrats’ message? I hear this all the time. Simple. \n",
      "\n",
      "We are the party of freedom. \n",
      "\n",
      "Freedom to make your own…\n",
      "2022-07-09 00:10:35+00:00 \n",
      " 27493883 \n",
      " joncoopertweets \n",
      " RT @RepSwalwell: What’s the Democrats’ message? I hear this all the time. Simple. \n",
      "\n",
      "We are the party of freedom. \n",
      "\n",
      "Freedom to make your own… \n",
      "\n",
      "RT @AmoneyResists: BREAKING: @RepZoeLofgren tells Wolf Blitzer that Cipollone’s testimony today CORROBORATED Cassidy Hutchinson’s and other…\n",
      "2022-07-09 00:10:25+00:00 \n",
      " 27493883 \n",
      " joncoopertweets \n",
      " RT @AmoneyResists: BREAKING: @RepZoeLofgren tells Wolf Blitzer that Cipollone’s testimony today CORROBORATED Cassidy Hutchinson’s and other… \n",
      "\n",
      "RT @JoeBiden: Today, I signed an executive order to protect the reproductive rights of women in the aftermath of the Supreme Court's extrem…\n",
      "2022-07-09 00:10:12+00:00 \n",
      " 27493883 \n",
      " joncoopertweets \n",
      " RT @JoeBiden: Today, I signed an executive order to protect the reproductive rights of women in the aftermath of the Supreme Court's extrem… \n",
      "\n",
      "RT @POTUS: We cannot and we will not allow an out of control Supreme Court working in conjunction with Republican officials pushing an extr…\n",
      "2022-07-09 00:09:37+00:00 \n",
      " 27493883 \n",
      " joncoopertweets \n",
      " RT @POTUS: We cannot and we will not allow an out of control Supreme Court working in conjunction with Republican officials pushing an extr… \n",
      "\n",
      "Nothing like a giant, fatty noggin to really hit the spot.  https://t.co/4sGdpVdh1C\n",
      "2022-07-09 00:09:16+00:00 \n",
      " 19722699 \n",
      " PopSci \n",
      " Nothing like a giant, fatty noggin to really hit the spot.  https://t.co/4sGdpVdh1C \n",
      "\n",
      "Have you ever looked at a seal and thought, Is that the same seal I saw yesterday? (via @hakaimagazine)  https://t.co/zTmDFs2Jxd\n",
      "2022-07-09 00:09:00+00:00 \n",
      " 19722699 \n",
      " PopSci \n",
      " Have you ever looked at a seal and thought, Is that the same seal I saw yesterday? (via @hakaimagazine)  https://t.co/zTmDFs2Jxd \n",
      "\n",
      "RT @joncoopertweets: @Wolfiesmom The Orville, if you’re not already a fan. I’ve never watched an episode that I didn’t really, really enjoy.\n",
      "2022-07-09 00:07:42+00:00 \n",
      " 27493883 \n",
      " joncoopertweets \n",
      " RT @joncoopertweets: @Wolfiesmom The Orville, if you’re not already a fan. I’ve never watched an episode that I didn’t really, really enjoy. \n",
      "\n",
      "That wasn't the meeting Ashito was expecting... (via Aoashi) https://t.co/OpchSVGltU\n",
      "2022-07-09 00:00:07+00:00 \n",
      " 28023330 \n",
      " Crunchyroll \n",
      " That wasn't the meeting Ashito was expecting... (via Aoashi) https://t.co/OpchSVGltU \n",
      "\n",
      "WAHOO! https://t.co/06LaLG3HCT\n",
      "2022-07-09 00:00:01+00:00 \n",
      " 24742040 \n",
      " Xbox \n",
      " WAHOO! https://t.co/06LaLG3HCT \n",
      "\n",
      "RT @joncoopertweets: @DrOz You don’t even LIVE in Pennsylvania, Mehmet. Get real.\n",
      "2022-07-08 23:54:29+00:00 \n",
      " 27493883 \n",
      " joncoopertweets \n",
      " RT @joncoopertweets: @DrOz You don’t even LIVE in Pennsylvania, Mehmet. Get real. \n",
      "\n"
     ]
    }
   ],
   "source": [
    "# Pull all the tweets with id, username and location\n",
    "\n",
    "for tweet in my_tweets:\n",
    "    print(tweet.text)\n",
    "    print(tweet.created_at, \"\\n\", tweet.user.id, \"\\n\", tweet.user.screen_name, \"\\n\", tweet.text, \"\\n\")"
   ]
  },
  {
   "cell_type": "code",
   "execution_count": 9,
   "id": "2f53c995",
   "metadata": {
    "scrolled": true
   },
   "outputs": [],
   "source": [
    "tweets = api.home_timeline(count=10)"
   ]
  },
  {
   "cell_type": "code",
   "execution_count": 10,
   "id": "41143ec8",
   "metadata": {},
   "outputs": [
    {
     "data": {
      "text/plain": [
       "tweepy.models.ResultSet"
      ]
     },
     "execution_count": 10,
     "metadata": {},
     "output_type": "execute_result"
    }
   ],
   "source": [
    "type(tweets)"
   ]
  },
  {
   "cell_type": "code",
   "execution_count": 11,
   "id": "1c74eefb",
   "metadata": {
    "scrolled": true
   },
   "outputs": [
    {
     "name": "stdout",
     "output_type": "stream",
     "text": [
      "For the first time, scientists have cataloged every different way that every known mineral can form and put all of… https://t.co/gsyOfUWA1K\n",
      "2022-07-09 00:45:00+00:00 \n",
      " 19402238 \n",
      " ScienceNews \n",
      " For the first time, scientists have cataloged every different way that every known mineral can form and put all of… https://t.co/gsyOfUWA1K \n",
      "\n",
      "See which waterfront escapes won't burn a hole in your wallet.\n",
      " https://t.co/2PYgL3dYts\n",
      "2022-07-09 00:31:37+00:00 \n",
      " 78077927 \n",
      " USNewsTravel \n",
      " See which waterfront escapes won't burn a hole in your wallet.\n",
      " https://t.co/2PYgL3dYts \n",
      "\n",
      "RT @MikeSington: The sh*t, or ketchup, is hitting the wall. Washington Post: Steve Bannon wants to strike a deal and testify for the Jan 6…\n",
      "2022-07-09 00:25:31+00:00 \n",
      " 27493883 \n",
      " joncoopertweets \n",
      " RT @MikeSington: The sh*t, or ketchup, is hitting the wall. Washington Post: Steve Bannon wants to strike a deal and testify for the Jan 6… \n",
      "\n",
      "RT @A_SHEKH0VTS0V: Russia is stealing Ukrainian grain and is burning the wheat it cannot steal. There is little doubt that Russia’s aim is…\n",
      "2022-07-09 00:24:29+00:00 \n",
      " 27493883 \n",
      " joncoopertweets \n",
      " RT @A_SHEKH0VTS0V: Russia is stealing Ukrainian grain and is burning the wheat it cannot steal. There is little doubt that Russia’s aim is… \n",
      "\n",
      "RT @KyivIndependent: ⚡️Ex-NATO commander: Ukraine could deal devastating blow to Kremlin by attacking Kerch Strait bridge linking mainland…\n",
      "2022-07-09 00:23:44+00:00 \n",
      " 27493883 \n",
      " joncoopertweets \n",
      " RT @KyivIndependent: ⚡️Ex-NATO commander: Ukraine could deal devastating blow to Kremlin by attacking Kerch Strait bridge linking mainland… \n",
      "\n",
      "RT @NormOrnstein: The Supreme Court was fine with people protesting at the homes of abortion clinic workers. Scalia, joined by his colleagu…\n",
      "2022-07-09 00:22:10+00:00 \n",
      " 27493883 \n",
      " joncoopertweets \n",
      " RT @NormOrnstein: The Supreme Court was fine with people protesting at the homes of abortion clinic workers. Scalia, joined by his colleagu… \n",
      "\n",
      "RT @SamRamani2: BREAKING: The US will send additional HIMARS advanced rocket systems to Ukraine in its $400 million military aid package\n",
      "2022-07-09 00:21:41+00:00 \n",
      " 27493883 \n",
      " joncoopertweets \n",
      " RT @SamRamani2: BREAKING: The US will send additional HIMARS advanced rocket systems to Ukraine in its $400 million military aid package \n",
      "\n",
      "It looks like Pat Cipollone threw Trump under the bus. Good.\n",
      "2022-07-09 00:15:47+00:00 \n",
      " 27493883 \n",
      " joncoopertweets \n",
      " It looks like Pat Cipollone threw Trump under the bus. Good. \n",
      "\n",
      "If you live in an apartment and have no outdoor space to yourself, remember that you can ALWAYS find somewhere to g… https://t.co/EPWA5Mve9O\n",
      "2022-07-09 00:15:00+00:00 \n",
      " 20710809 \n",
      " FoodNetwork \n",
      " If you live in an apartment and have no outdoor space to yourself, remember that you can ALWAYS find somewhere to g… https://t.co/EPWA5Mve9O \n",
      "\n"
     ]
    }
   ],
   "source": [
    "# View the collected tweets in understanding format\n",
    "\n",
    "for tweet in tweets:\n",
    "    print(tweet.text)\n",
    "    print(tweet.created_at, \"\\n\", tweet.user.id, \"\\n\", tweet.user.screen_name, \"\\n\", tweet.text, \"\\n\")"
   ]
  },
  {
   "cell_type": "code",
   "execution_count": 12,
   "id": "7ed0003f",
   "metadata": {
    "scrolled": true
   },
   "outputs": [
    {
     "name": "stdout",
     "output_type": "stream",
     "text": [
      "For the first time, scientists have cataloged every different way that every known mineral can form and put all of… https://t.co/gsyOfUWA1K\n",
      "See which waterfront escapes won't burn a hole in your wallet.\n",
      " https://t.co/2PYgL3dYts\n",
      "RT @MikeSington: The sh*t, or ketchup, is hitting the wall. Washington Post: Steve Bannon wants to strike a deal and testify for the Jan 6…\n",
      "RT @A_SHEKH0VTS0V: Russia is stealing Ukrainian grain and is burning the wheat it cannot steal. There is little doubt that Russia’s aim is…\n",
      "RT @KyivIndependent: ⚡️Ex-NATO commander: Ukraine could deal devastating blow to Kremlin by attacking Kerch Strait bridge linking mainland…\n",
      "RT @NormOrnstein: The Supreme Court was fine with people protesting at the homes of abortion clinic workers. Scalia, joined by his colleagu…\n",
      "RT @SamRamani2: BREAKING: The US will send additional HIMARS advanced rocket systems to Ukraine in its $400 million military aid package\n",
      "It looks like Pat Cipollone threw Trump under the bus. Good.\n",
      "If you live in an apartment and have no outdoor space to yourself, remember that you can ALWAYS find somewhere to g… https://t.co/EPWA5Mve9O\n"
     ]
    }
   ],
   "source": [
    "# Iterate and print tweets\n",
    "\n",
    "for tweet in tweets:\n",
    "    print(tweet.text)"
   ]
  },
  {
   "cell_type": "markdown",
   "id": "8a2ac440",
   "metadata": {},
   "source": [
    "## 1.1 Data Gathering for hashtags"
   ]
  },
  {
   "cell_type": "markdown",
   "id": "d84c77c3",
   "metadata": {},
   "source": [
    "#### #Altcoin"
   ]
  },
  {
   "cell_type": "code",
   "execution_count": 13,
   "id": "8f5502b1",
   "metadata": {
    "scrolled": true
   },
   "outputs": [
    {
     "name": "stderr",
     "output_type": "stream",
     "text": [
      "Unexpected parameter: since\n",
      "Unexpected parameter: since\n"
     ]
    },
    {
     "name": "stdout",
     "output_type": "stream",
     "text": [
      "RT @hernanlafalce: Which #altcoin you will never sell  in this bear market ? 🚀\n",
      "RT @_Br41nf4r7_: What do you really know about #FireANTS \n",
      "$ANTS $rANTS $wANTS \n",
      "You don't want to miss out on that, do you?\n",
      "Check out https:…\n",
      "RT @_Br41nf4r7_: What do you really know about #FireANTS \n",
      "$ANTS $rANTS $wANTS \n",
      "You don't want to miss out on that, do you?\n",
      "Check out https:…\n",
      "RT @Taha86613152: @rovercrc Don’t missed #SHINJA 🥷🏿🔥\n",
      "Buy Now and Happy later 🥷🏿🔥\n",
      "\n",
      "#Shibnobi #Crypto #DeFi #BTC #SHIB #Ceek #AVAX #BNB\n",
      "#Ethe…\n",
      "#altseason #RHOP #SIHBAINUTOKEN #coinbase #binaryoptions #flokimusk #1centdream #gems #SAITAMA #cex #goku #kirby… https://t.co/hRsQSlrjhG\n",
      "*THIS* Is Why Bitcoin, Ethereum, Solana, &amp; Crypto Is CRASHING! (Altcoins I Am Buying) - \n",
      "\n",
      "https://t.co/6iM5awLqzH… https://t.co/R3vvMoB2cP\n",
      "RT @MonstersCoins: What #Gem are you buying more in this dip?🧐\n",
      "#100xGems #BNB #Altcoin\n",
      "\n",
      "👇👇👇\n",
      "#altseason #RHOP #SIHBAINUTOKEN #coinbase #binaryoptions #flokimusk #1centdream #gems #SAITAMA #cex #goku #kirby… https://t.co/9yI5EecqmV\n",
      "RT @AltGemHunter: Which #altcoin would you buy now if you could spend $10,000!? 🤔🤑\n",
      "RT @Laura__crypto: Which #altcoin are you most excited for this week?\n",
      "RT @SeniorCryptos: What do you buy today? 🕵🏻‍♀️👀\n",
      "\n",
      "#BSC  #BSCGems #100xgem #BNB  #cryptocurrencies #BTC #ETH #SOL  #DeFi #NFT #Metaverse   #…\n",
      "RT @SHILLBILLGEMS: Shill me your 1000x gems! 👀💎\n",
      "\n",
      "#BSCGemsAlert #altcoin #altcoins  #BSCGems #1000Xgems #BSC #BNB #memecoins\n",
      "RT @SharksCoins: Which #Altcoin will make 500x in 2022?💥🚀🌒\n",
      "\n",
      "#VOLT\n",
      "#BABYDOGE\n",
      "#LOCUSchain\n",
      "#FLOKI\n",
      "#MarvinInu\n",
      "#ENQgame\n",
      "#BlueSparrow\n",
      "#AirCoin\n",
      "#K…\n",
      "RT @MonstersCoins: Shill me the next 100x gem! 💎👀\n",
      "\n",
      "#altcoin #memecoin #NFTs #GameFi #metaverse\n",
      "RT @SeniorCryptos: What do you buy today? 🕵🏻‍♀️👀\n",
      "\n",
      "#BSC  #BSCGems #100xgem #BNB  #cryptocurrencies #BTC #ETH #SOL  #DeFi #NFT #Metaverse   #…\n"
     ]
    },
    {
     "name": "stderr",
     "output_type": "stream",
     "text": [
      "Unexpected parameter: since\n"
     ]
    },
    {
     "name": "stdout",
     "output_type": "stream",
     "text": [
      "RT @Crypto__emily: I am going to put $10,000 into your favorite #Altcoin\n",
      "\n",
      "Just shill me your Favorite project which is undervalued\n",
      "👇🏻👇🏻👇🏻\n",
      "RT @SharksCoins: Shill me your next 100x #altcoin! 💎\n",
      "\n",
      "I'm buying 💳\n",
      "RT @Altcoinbird: good morning #crypto Twitter shill me your favorite altcoin #altcoin #nft\n",
      "RT @MarlaPerreone: Which #altcoin will explode this week?\n",
      "RT @MarlaPerreone: Which #altcoin will explode this week?\n",
      "RT @IMMA98322275: Which #altcoin will do 100x next month? 📈💎\n",
      "\n",
      "Shill me ⬇️⬇️\n",
      "@altcryptocom The #altcoin I choose to be bullish on ever since the bearish started due to its trend and the potent… https://t.co/EaH44Wn1NP\n",
      "RT @BrickkenSTO: It's finally time! We will be announcing a major milestone for the entire Brickken Ecosystem on Monday.\n",
      "\n",
      "Hint: The blockch…\n",
      "RT @Masked_Saurid: What will I buy next? \n",
      "\n",
      "#NFTProject #Bscgem #BSC #altcoin #memecoin #token #NFTs\n",
      "RT @MrBigWhaleCEO: Shill me your next 1000x #AltCoin!\n",
      "RT @MrBigWhaleREAL: Which #Altcoin will make 500x in 2022?💥🚀🌒\n",
      "\n",
      "#VOLT\n",
      "#BABYDOGE\n",
      "#LOCUSchain\n",
      "#FLOKI\n",
      "#MarvinInu\n",
      "#ENQgame\n",
      "#BlueSparrow\n",
      "#AirCoin…\n",
      "RT @SharksCoins: Shill me your next 100x #altcoin! 💎\n",
      "\n",
      "I'm buying 💳\n",
      "RT @MonstersCoins: Who has the most POWERFUL community in #memecoins \n",
      "\n",
      "1. #Kiba\n",
      "2. #BABYDOGE\n",
      "3. #KISHU\n",
      "4. #PlugPro\n",
      "5. #RichQUACK\n",
      "6. #FLOKI…\n",
      "RT @SharksCoins: Shill me your #altcoin ready to moon🚀\n"
     ]
    },
    {
     "name": "stderr",
     "output_type": "stream",
     "text": [
      "Unexpected parameter: since\n"
     ]
    },
    {
     "name": "stdout",
     "output_type": "stream",
     "text": [
      "CRYPTO NEWS:  #India to roll out #CBDC using a graded approach: RBI Annual Report https://t.co/XWwWeDOQ6o #altcoin… https://t.co/0cUtIL3Lnd\n",
      "What do you buy today? 🕵🏻‍♀️👀\n",
      "\n",
      "#BSC  #BSCGems #100xgem #BNB  #cryptocurrencies #BTC #ETH #SOL  #DeFi #NFT… https://t.co/LdFrLpIP9I\n",
      "RT @MonstersCoins: What are your favorite #memecoins right now??\n",
      "#Altcoin #BNB #BSCGems\n",
      "\n",
      "👇👇\n",
      "RT @cryptojack: Which #altcoin is trending today?\n",
      "\n",
      "👇🏻👇🏻👇🏻\n",
      "RT @BDFischer: #EverRise $RISE #EverRevoke #EverRiseV3 #EverRiseEDU #DeFi #Crypto #Cryptocurrency #Polygon #EverSwap #NFTArt #Altcoin #Rise…\n",
      "RT @MonstersCoins: Who has the most POWERFUL community in #memecoins \n",
      "\n",
      "1. #Kiba\n",
      "2. #BABYDOGE\n",
      "3. #KISHU\n",
      "4. #PlugPro\n",
      "5. #RichQUACK\n",
      "6. #FLOKI…\n",
      "1 Bitcoin ( #BTC )\n",
      "Dollar: 19,409.03$ \n",
      "\n",
      "1 Bitcoin Cash ( #BCH )\n",
      "Dollar: 1,02.44$ \n",
      "\n",
      "1 Ethereum ( #ETH )\n",
      "Dollar: 1,07… https://t.co/DJFnHrNOeh\n",
      "RT @MarlaPerreone: Which #altcoin will explode this week?\n",
      "RT @1_cryptorich: Which underrated #altcoin 💎 would you put $10 into?\n",
      "RT @Behrang_RBXS: #RBXSamurai will become the ultimate marketing team in #crypto 🔥\n",
      "\n",
      "#RBXS @RBXSamurai 🔸️🔶️\n",
      "\n",
      "🌐 links: https://t.co/e4jp4ntlm…\n",
      "RT @2ManyPuppies: 🚨 Check it out 👀 🚨“THE”Scary Monster has joined Twitter. Truly a 100% genuine person committed to spreading positivity &amp;…\n",
      "RT @WhaleMultiverse: Which #AltCoin will 100x next week?\n",
      "RT @2ManyPuppies: 🚨 Check it out 👀 🚨“THE”Scary Monster has joined Twitter. Truly a 100% genuine person committed to spreading positivity &amp;…\n",
      "#sol    #4chan  #altcoin https://t.co/bNr3teG1CD\n",
      "#EverRise $RISE #EverRevoke #EverRiseV3 #EverRiseEDU #DeFi #Crypto #Cryptocurrency #Polygon #EverSwap #NFTArt… https://t.co/hkNf2QvrJg\n"
     ]
    },
    {
     "name": "stderr",
     "output_type": "stream",
     "text": [
      "Unexpected parameter: since\n"
     ]
    },
    {
     "name": "stdout",
     "output_type": "stream",
     "text": [
      "#altcoin #cryptocurrency #CryptocurrencyMarket \n",
      "\n",
      "#Binance \n",
      "\n",
      "Top Futures today:\n",
      "$LUNC $CRV $RLC https://t.co/ACxfRRpQg8\n",
      "#altcoin #cryptocurrency #CryptocurrencyMarket \n",
      "\n",
      "$LRC looks really great!! https://t.co/pItZ0s7R10\n",
      "RT @TheMoonCarl: Which underrated #altcoin 💎 would you put $1,000 into?\n",
      "🚨 Check it out 👀 🚨“THE”Scary Monster has joined Twitter. Truly a 100% genuine person committed to spreading positiv… https://t.co/cjSLjTwgTN\n",
      "RT @MeongToken: We will burn 266 TRILLION #MEONG (worth $73.500/336 BNB) on July 3!\n",
      "\n",
      "GET READY, the countdown has just begun.🔥🚀\n",
      "\n",
      "#bsc #meon…\n",
      "RT @BSCGemsAlert: What do you buy today ? 🕵🏻‍♀️🔍\n",
      "\n",
      "#BSC  #BSCGems #100xgem #BNB  #cryptocurrencies #BTC #ETH #SOL  #DeFi #NFT #Metaverse #BS…\n",
      "RT @edamarieyy: 🔥 💣 Pump time 💣🔥 \n",
      "\n",
      "🚀 I have 2.6 #BNB to invest 🚀\n",
      "\n",
      "🔥 Drop your best proyect 🔥\n",
      "\n",
      "#BSCGems #100xgem #BNB      #ETH #SOL  #DeFi…\n",
      "RT @MeongToken: 📢#MEONG will Burn 266 TRILLION Tokens (worth $73.500/336 BNB).\n",
      "\n",
      "📅 July 3, 2022\n",
      "\n",
      "⏳The countdown continues..\n",
      "\n",
      "Stay tuned for…\n",
      "RT @SaitamaUniverse: #Saitama can literally play an important/leading role in that technological revolution since #cryptocurrencies (along…\n",
      "RT @BitKanOfficial: 🔥 My favourite #altcoin is _______\n",
      "RT @CryptoEmdarks: What's that one #altcoin that you will absolutely hold until next bull run?🧐\n",
      "\n",
      "👇👇\n"
     ]
    },
    {
     "name": "stderr",
     "output_type": "stream",
     "text": [
      "Unexpected parameter: since\n"
     ]
    },
    {
     "name": "stdout",
     "output_type": "stream",
     "text": [
      "RT @BSCGemsAlert: Next pump #1000x 💹🚀🏝️\n",
      "\n",
      "#altcoin #BSC #BSCGems #BSCGemsAlert     #memecoin #Blockchain #DeFi #BNB\n",
      "RT @MrBigWhaleREAL: Which #Altcoin will make 500x in 2022?💥🚀🌒\n",
      "\n",
      "#VOLT\n",
      "#BABYDOGE\n",
      "#LOCUSchain\n",
      "#FLOKI\n",
      "#MarvinInu\n",
      "#ENQgame\n",
      "#BlueSparrow\n",
      "#AirCoin…\n",
      "RT @BrickkenSTO: It's finally time! We will be announcing a major milestone for the entire Brickken Ecosystem on Monday.\n",
      "\n",
      "Hint: The blockch…\n",
      "RT @Bscgemalerts: Next pump #1000x 💹🚀🏝️\n",
      "#altcoin\n",
      "RT @hezhouxiao: Which #Altcoin will make 500x in 2022?💥🚀🌒\n",
      "#AirCoin\n",
      "#VOLT\n",
      "#BABYDOGE\n",
      "#LOCUSchain\n",
      "#FLOKI\n",
      "#MarvinInu\n",
      "#ENQgame\n",
      "#BlueSparrow\n",
      "#Kib…\n",
      "RT @MrBigWhaleCEO: Shill me your next 1000x #AltCoin!\n",
      "RT @DarkZogi: get in $BEZOGE before it's too late ⏳⏳ \n",
      " #LegendsOfBezogia #PLAYTOEARNGAMES #Crypto #PlaytoEarn #NFTs #play2earn #Crypto #Ren…\n",
      "RT @altcryptocom: Which #altcoin are you bullish on today?\n",
      "\n",
      "💹💹💹💹\n",
      "RT @SharksCoins: Which #Altcoin will make 500x in 2022?💥🚀🌒\n",
      "\n",
      "#VOLT\n",
      "#BABYDOGE\n",
      "#LOCUSchain\n",
      "#FLOKI\n",
      "#MarvinInu\n",
      "#ENQgame\n",
      "#BlueSparrow\n",
      "#AirCoin\n",
      "#K…\n",
      "get in $BEZOGE before it's too late ⏳⏳ \n",
      " #LegendsOfBezogia #PLAYTOEARNGAMES #Crypto #PlaytoEarn #NFTs #play2earn… https://t.co/ptBN4lO4Tf\n",
      "Crypto Exchange Coincoinx to Launch Crypto to Fiat Payments App in Venezuela – Emerging Markets Bitcoin News -… https://t.co/iFswCFeJAo\n"
     ]
    },
    {
     "name": "stderr",
     "output_type": "stream",
     "text": [
      "Unexpected parameter: since\n"
     ]
    },
    {
     "name": "stdout",
     "output_type": "stream",
     "text": [
      "RT @BSCGemsx100: Shill me your next x100 💎👀\n",
      "\n",
      "#BSC  #BSCGems #100xgem #BNB  #cryptocurrencies #BTC #ETH #SOL  #DeFi #NFT #Metaverse #BSCGems…\n",
      "RT @edamarieyy: 🔥 💣 Pump time 💣🔥 \n",
      "\n",
      "🚀 I have 2.6 #BNB to invest 🚀\n",
      "\n",
      "🔥 Drop your best proyect 🔥\n",
      "\n",
      "#BSCGems #100xgem #BNB      #ETH #SOL  #DeFi…\n",
      "RT @BSCGemsx100: Shill me your next x100 💎👀\n",
      "\n",
      "#BSC  #BSCGems #100xgem #BNB  #cryptocurrencies #BTC #ETH #SOL  #DeFi #NFT #Metaverse #BSCGems…\n",
      "RT @WhaleMultiverse: Always BULLISH on #Meme #Altcoin🚀\n",
      "RT @MarlaPerreone: Which #altcoin will explode this week?\n",
      "ApeCoin [APE] traders willing to go short can make most of this pattern - \n",
      "\n",
      "https://t.co/06IuEYPB7a\n",
      "\n",
      "#Crypto… https://t.co/kgcZan9qvD\n",
      "RT @TheMoonCarl: Which underrated #altcoin 💎 would you put $1,000 into?\n",
      "RT @WhaleMultiverse: Which #AltCoin will 100x next week?\n",
      "RT @DarkZogi: Buy $BEZOGE now or Cry later. \n",
      " #LegendsOfBezogia #BEZOGE #PLAYTOEARNGAMES #Crypto #PlaytoEarn #NFTs #play2earn #Crypto #Rent…\n",
      "RT @CryptoGemsWorld: Best #altcoin to buy right now is @_______??\n"
     ]
    },
    {
     "name": "stderr",
     "output_type": "stream",
     "text": [
      "Unexpected parameter: since\n"
     ]
    },
    {
     "name": "stdout",
     "output_type": "stream",
     "text": [
      "RT @SaitamaUniverse: #Saitama can literally play an important/leading role in that technological revolution since #cryptocurrencies (along…\n",
      "RT @GemKingdom1: I have $10.000 to invest. Shill me an #altcoin _________ ? 💵\n",
      "RT @WhaleMultiverse: Which #AltCoin will 100x next week?\n",
      "RT @altcryptocom: Which #altcoin are you bullish on today?\n",
      "\n",
      "💹💹💹💹\n",
      "RT @hernanlafalce: Which #altcoin you will never sell  in this bear market ? 🚀\n",
      "#CRYPTOCURRENCIES are MOVING! Try https://t.co/1fbsW58g32 to scan for #altcoin and #bitcoin movements.\n",
      "\n",
      "#BTC #ETH… https://t.co/XPQq4Ot19N\n",
      "RT @Bscgemalerts: Next pump #1000x 💹🚀🏝️\n",
      "#altcoin\n",
      "RT @BSCGemsAlert: Next pump #1000x 💹🚀🏝️\n",
      "\n",
      "#altcoin #BSC #BSCGems #BSCGemsAlert     #memecoin #Blockchain #DeFi #BNB\n",
      "RT @CryptoEmdarks: What's that one #altcoin that you will absolutely hold until next bull run?🧐\n",
      "\n",
      "👇👇\n"
     ]
    },
    {
     "name": "stderr",
     "output_type": "stream",
     "text": [
      "Unexpected parameter: since\n"
     ]
    },
    {
     "name": "stdout",
     "output_type": "stream",
     "text": [
      "RT @SharksCoins: Shill me your next 100x #altcoin! 💎\n",
      "\n",
      "I'm buying 💳\n",
      "RT @WhaleMultiverse: Always BULLISH on #Meme #Altcoin🚀\n",
      "US DOJ Targets Baller Ape Rug Pull and Other Crypto Fraud - https://t.co/FLXFGUsWkF - #altcoin #altcoins #tokens… https://t.co/pTIPaLH3QT\n",
      "RT @MarlaPerreone: Which #altcoin will explode this week?\n",
      "RT @MrBigWhaleCEO: Shill me your next 1000x #AltCoin!\n",
      "RT @TheMoonCarl: Which underrated #altcoin 💎 would you put $1,000 into?\n",
      "RT @CryptoGemsWorld: Best #altcoin to buy right now is @_______??\n",
      "RT @GemKingdom1: I have $10.000 to invest. Shill me an #altcoin _________ ? 💵\n",
      "Whales are buying 140k #Bitcoin each month directly from exchanges - Glassnode\n",
      "\n",
      "#btc #Bitcoin #crypto… https://t.co/Y46CRwh1N7\n",
      "RT @WhaleMultiverse: Which #AltCoin will 100x next week?\n",
      "RT @YvonneBobby1: WAKE UP ‼️‼️‼️‼️ #SPORTOKEN FAM 🦊🦊🦊🦊🏈🏀⚽️LETS KILL ONE ZERO #crypto #kripto #BSC #bscgem #altcoin #bitcoin  #bnb #binan…\n",
      "RT @TheMoonCarl: Which underrated #altcoin 💎 would you put $1,000 into?\n",
      "RT @hernanlafalce: Which #altcoin you will never sell  in this bear market ? 🚀\n",
      "RT @HighBezogi: #LengendsOfBezogia by @BEZOGE is going to be one of the biggest #playtoearn #NFT games🚀🚀🚀 \n",
      " #PLAYTOEARNGAMES #Crypto #Playt…\n",
      "#LengendsOfBezogia by @BEZOGE is going to be one of the biggest #playtoearn #NFT games🚀🚀🚀 \n",
      " #PLAYTOEARNGAMES… https://t.co/cLSSLUzFZs\n"
     ]
    }
   ],
   "source": [
    "tweets_alt = api.home_timeline(count=100)\n",
    "\n",
    "search_words_alt = \"#Altcoin\"\n",
    "date_since = \"2022-06-25\"\n",
    "end_date = \"2022-07-02\"\n",
    "\n",
    "# Collect tweets with altcoin hashtag\n",
    "tweets_alt = tw.Cursor(api.search_tweets,\n",
    "              q=search_words_alt,\n",
    "              lang=\"en\",\n",
    "              since=date_since, until=end_date).items(100)\n",
    "\n",
    "tweets_alt \n",
    "\n",
    "# print tweets\n",
    "for tweet in tweets_alt:\n",
    "    print(tweet.text)"
   ]
  },
  {
   "cell_type": "code",
   "execution_count": 14,
   "id": "1d5dfddf",
   "metadata": {
    "scrolled": true
   },
   "outputs": [
    {
     "name": "stderr",
     "output_type": "stream",
     "text": [
      "Unexpected parameter: since\n",
      "Unexpected parameter: since\n",
      "Unexpected parameter: since\n",
      "Unexpected parameter: since\n",
      "Unexpected parameter: since\n",
      "Unexpected parameter: since\n",
      "Unexpected parameter: since\n",
      "Unexpected parameter: since\n",
      "Unexpected parameter: since\n"
     ]
    },
    {
     "data": {
      "text/html": [
       "<div>\n",
       "<style scoped>\n",
       "    .dataframe tbody tr th:only-of-type {\n",
       "        vertical-align: middle;\n",
       "    }\n",
       "\n",
       "    .dataframe tbody tr th {\n",
       "        vertical-align: top;\n",
       "    }\n",
       "\n",
       "    .dataframe thead th {\n",
       "        text-align: right;\n",
       "    }\n",
       "</style>\n",
       "<table border=\"1\" class=\"dataframe\">\n",
       "  <thead>\n",
       "    <tr style=\"text-align: right;\">\n",
       "      <th></th>\n",
       "      <th>time_of_tweet</th>\n",
       "      <th>user</th>\n",
       "      <th>tweet</th>\n",
       "      <th>user_id</th>\n",
       "    </tr>\n",
       "  </thead>\n",
       "  <tbody>\n",
       "    <tr>\n",
       "      <th>0</th>\n",
       "      <td>2022-07-01 23:59:57+00:00</td>\n",
       "      <td>hanseungja1</td>\n",
       "      <td>RT @hernanlafalce: Which #altcoin you will nev...</td>\n",
       "      <td>1536307780730388487</td>\n",
       "    </tr>\n",
       "    <tr>\n",
       "      <th>1</th>\n",
       "      <td>2022-07-01 23:59:57+00:00</td>\n",
       "      <td>tavalez74</td>\n",
       "      <td>RT @_Br41nf4r7_: What do you really know about...</td>\n",
       "      <td>1438877328231354368</td>\n",
       "    </tr>\n",
       "    <tr>\n",
       "      <th>2</th>\n",
       "      <td>2022-07-01 23:59:34+00:00</td>\n",
       "      <td>godstime20</td>\n",
       "      <td>RT @_Br41nf4r7_: What do you really know about...</td>\n",
       "      <td>300307298</td>\n",
       "    </tr>\n",
       "    <tr>\n",
       "      <th>3</th>\n",
       "      <td>2022-07-01 23:57:29+00:00</td>\n",
       "      <td>HumphreyMacaul6</td>\n",
       "      <td>RT @Taha86613152: @rovercrc Don’t missed #SHIN...</td>\n",
       "      <td>1532124686410100736</td>\n",
       "    </tr>\n",
       "    <tr>\n",
       "      <th>4</th>\n",
       "      <td>2022-07-01 23:57:27+00:00</td>\n",
       "      <td>ShanerPhoto</td>\n",
       "      <td>#altseason #RHOP #SIHBAINUTOKEN #coinbase #bin...</td>\n",
       "      <td>1651285824</td>\n",
       "    </tr>\n",
       "  </tbody>\n",
       "</table>\n",
       "</div>"
      ],
      "text/plain": [
       "              time_of_tweet             user  \\\n",
       "0 2022-07-01 23:59:57+00:00      hanseungja1   \n",
       "1 2022-07-01 23:59:57+00:00        tavalez74   \n",
       "2 2022-07-01 23:59:34+00:00       godstime20   \n",
       "3 2022-07-01 23:57:29+00:00  HumphreyMacaul6   \n",
       "4 2022-07-01 23:57:27+00:00      ShanerPhoto   \n",
       "\n",
       "                                               tweet              user_id  \n",
       "0  RT @hernanlafalce: Which #altcoin you will nev...  1536307780730388487  \n",
       "1  RT @_Br41nf4r7_: What do you really know about...  1438877328231354368  \n",
       "2  RT @_Br41nf4r7_: What do you really know about...            300307298  \n",
       "3  RT @Taha86613152: @rovercrc Don’t missed #SHIN...  1532124686410100736  \n",
       "4  #altseason #RHOP #SIHBAINUTOKEN #coinbase #bin...           1651285824  "
      ]
     },
     "execution_count": 14,
     "metadata": {},
     "output_type": "execute_result"
    }
   ],
   "source": [
    "tweets_alt = tw.Cursor(api.search_tweets,\n",
    "              q=search_words_alt,\n",
    "              lang=\"en\",\n",
    "              since=date_since, until=end_date).items(100)\n",
    "\n",
    "tweets_alt \n",
    "\n",
    "tweet_list_alt = [[tweet.created_at, tweet.user.screen_name, tweet.text,  tweet.user.id] for tweet in tweets_alt]\n",
    "\n",
    "df_tweets_list_alt = pd.DataFrame(tweet_list_alt, columns=['time_of_tweet', 'user', 'tweet', 'user_id'])\n",
    "df_tweets_list_alt.head()"
   ]
  },
  {
   "cell_type": "code",
   "execution_count": null,
   "id": "cba091e3",
   "metadata": {},
   "outputs": [],
   "source": []
  },
  {
   "cell_type": "markdown",
   "id": "9bc81d16",
   "metadata": {},
   "source": [
    "#### #Bitcoin"
   ]
  },
  {
   "cell_type": "code",
   "execution_count": 15,
   "id": "34032627",
   "metadata": {
    "scrolled": true
   },
   "outputs": [
    {
     "name": "stderr",
     "output_type": "stream",
     "text": [
      "Unexpected parameter: since\n",
      "Unexpected parameter: since\n"
     ]
    },
    {
     "name": "stdout",
     "output_type": "stream",
     "text": [
      "RT @BTCGandalf: Plebs when they look at the #Bitcoin price during a bear market. https://t.co/j6zFf3MzTh\n",
      "#Bitcoin Last Price $19257 #BTC 🚀\n",
      "Daily Indicators:\n",
      "•Variation since 00h00(UTC): -3.41%\n",
      "•MACD:\n",
      " -MACD Line: -2072… https://t.co/o3qAZ439LO\n",
      "RT @BTCismydrug: To Celebrate Reaching 1k Followers,\n",
      "Giving Away 100$#BNB to one Lucky Follower 🔥🤑\n",
      "\n",
      "To Participate:\n",
      "\n",
      "✅Follow @BTCismydrug…\n",
      "RT @TheCryptoLark: Many of the world's richest and most famous investors made their fortunes in bear markets! #bitcoin #crypto\n",
      "RT @BitcoinMagazine: \"Thank you for selling cheap.\" – El Salvador President on 80 #bitcoin purchase 🇸🇻 https://t.co/5jx7bhQ8jK\n",
      "RT @DocumentingBTC: How saving works:\n",
      "\n",
      "                                  your money\n",
      " everything  =        —————— \n",
      "      else…\n",
      "Mood Tesla, mood #Bitcoin #tesla 🔥 https://t.co/1wYN2wnk2d\n",
      "RT @saylor: My recent discussion with @MMCrypto on the state of the industry, #Bitcoin growth drivers &amp; models, benefits of proper regulati…\n",
      "RT @SocialGood_Inc: ✨Win $100 in $BTC✨\n",
      "Follow &amp; RT this for a chance to win $100 worth of #Bitcoin 💰We'll tag the 35th #Giveaway winner on…\n",
      "RT @LPNational: If you want to #EndTheFed and the inflation crisis as much as us, you don't want to miss this. #Bitcoin https://t.co/2xBA18…\n",
      "RT @OfficialTravlad: If #Bitcoin  hits $18,000 in the next 24hrs, I will send $1,000 to someone that has retweeted and is following! \n",
      "\n",
      "Let’…\n",
      "#ICP  #Bitcoin \n",
      "\n",
      "Look! into these 2things, something special.\n",
      "RT @rovercrc: #Bitcoin has not reached $50,000, so I will do my $2,500 giveaway like promised! \n",
      "\n",
      "How to join:\n",
      "- Like &amp; RT\n",
      "- Follow @rovercr…\n",
      "The American Dream is dead. it has been dead. \n",
      "\n",
      "#Bitcoin Fixes this\n",
      "RT @CryptoSavingExp: #Bitcoin has posted its largest quarterly loss (56.2%) in 11 years 😬\n"
     ]
    },
    {
     "name": "stderr",
     "output_type": "stream",
     "text": [
      "Unexpected parameter: since\n"
     ]
    },
    {
     "name": "stdout",
     "output_type": "stream",
     "text": [
      "RT @Man_Bear_Pleb: A great toss n catch by @nayibbukele and @LordFusitua #bitcoin https://t.co/c6ocwS8cAi\n",
      "RT @Layanan20: Bitcoin 1-day activity: \n",
      "Market cap: IDR 5492.2T -0.07%\n",
      "Market volume: IDR 958.4T +45.39%\n",
      "Price: IDR 287.82M -0.11%\n",
      "https://…\n",
      "RT @DeFiHedgehog: Honk, Honk, HODL: How Bitcoin Fueled The Freedom Convoy And Defied Government Crackdown https://t.co/T0OpWKM1IW #Bitcoin…\n",
      "RT @AurelienOhayon: #BITCOIN IS READY FOR A MASSIVE BULL RUN. https://t.co/PBGvGt84nA\n",
      "RT @OfficialTravlad: If #Bitcoin  hits $18,000 in the next 24hrs, I will send $1,000 to someone that has retweeted and is following! \n",
      "\n",
      "Let’…\n",
      "Buy YoStep Sneakers on YoBit and Earn $$$! Hurry to buy!\n",
      "#yostep #stepn #ton #bitcoin\n",
      "@AirdropStario This Project is a really great project. \n",
      "Hopefully one day it will be able to take their project to… https://t.co/ZA4dhoXjmn\n",
      "RT @TheCryptoLark: Breaking! Voyager has suspended withdrawals! #bitcoin #crypto\n",
      "RT @SJosephBurns: Major crypto broker Voyager Digital suspends all trading, deposits and withdrawals: CNBC #Bitcoin\n",
      "RT @mosh_nft: First Giveaway 🎉 - $1000 in #ETH #SOL or #bitcoin\n",
      "RT @BTC_Archive: “Thank you for selling cheap,” says President of El Salvador \n",
      "\n",
      "#Bitcoin https://t.co/2IVRU88CDc\n",
      "RT @EmmyMoonie: Damn people are scared!\n",
      "\n",
      "The 🐻 bottom will be horrid.\n",
      "\n",
      "It will *only* happen when 99% believe #Cryptocurrency is over and #…\n",
      "treydongui found #bitcoin in a Blue vault at this location! Join me playing #coinhuntworld, It's awesome!… https://t.co/47c7TgdmU3\n",
      "RT @davthewave: #Bitcoin  \n",
      "\n",
      "I guess we'll know one way or the other soon enough... https://t.co/liGLlX5lIw\n"
     ]
    },
    {
     "name": "stderr",
     "output_type": "stream",
     "text": [
      "Unexpected parameter: since\n"
     ]
    },
    {
     "name": "stdout",
     "output_type": "stream",
     "text": [
      "RT @DocumentingBTC: #bitcoin is here to stay, forever\n",
      "\n",
      "https://t.co/P3lVfqWyUo\n",
      "RT @gate_io: #Bitcoin briefly tumbled below $19K and is able to regain some of its losses today.\n",
      "\n",
      "And in the middle of some of the less pos…\n",
      "4 hour top movers report #blockchain #crypto #cryptocurrency #kripto #kriptopara #trading #rixx #binance #bnb… https://t.co/MllExMUx24\n",
      "RT @ODU_96: Message to open-minded Gold Bugs (not @PeterSchiff ) who continue to dismiss #Bitcoin, I like gold too! Gold is a great metal,…\n",
      "Happy 4th of July and Happy Canada Day! Hopefully the loving people of these two great countries adopt #Bitcoin so… https://t.co/Yt6RvEv49D\n",
      "RT @DocumentingBTC: #bitcoin is here to stay, forever\n",
      "\n",
      "https://t.co/P3lVfqWyUo\n",
      "RT @BTC_Archive: 💥 Whales are buying 140k #Bitcoin each month directly from exchanges - Glassnode\n",
      "RT @BTC_Archive: 💥JUST IN: New spot #Bitcoin ETF application filed by VanEck.\n",
      "@tom7471 @sco_bit @inlakech_74 @JamesMelville If you can't stand the volatility, you'll never see the gains.\n",
      "\n",
      "That… https://t.co/6yfZNoyU82\n",
      "RT @DocumentingBTC: Each of these 450 dots represents a headline that predicted the “death” of #bitcoin\n",
      "\n",
      "&gt; https://t.co/Sgz9orvOE8 https://…\n",
      "RT @deegydeegydoo: 👀 #BabyDoge \n",
      "Trending AGAIN! \n",
      "Australia loves @BabyDogeCoin \n",
      "Lfg 💥\n",
      "#BabyDogeCoin #BabyDogeArmy #Crypto #BNB  #Bitcoin  #…\n",
      "RT @Bitboy_Crypto: What do the Terra Luna, Celsius, and Voyager fiascos tell us?\n",
      "\n",
      "We are way earlier than you thought we are. This is a con…\n",
      "RT @DocumentingBTC: In 2011, #Bitcoin fell below $20\n",
      "In 2015, #bitcoin fell below $200\n",
      "In 2017, #bitcoin fell below $2,000\n",
      "In 2022, #bitcoi…\n"
     ]
    },
    {
     "name": "stderr",
     "output_type": "stream",
     "text": [
      "Unexpected parameter: since\n"
     ]
    },
    {
     "name": "stdout",
     "output_type": "stream",
     "text": [
      "Candle of day 01/07/2022 closed.\n",
      "\n",
      "Open: $ 19,897.39\n",
      "High: $ 20,800.30\n",
      "Low: $ 19,000.64\n",
      "Close: $ 19,206.18\n",
      "\n",
      "Change:… https://t.co/dD23T1UNQK\n",
      "#CryptoQuantumLeap. How to determine the best exchange to use to buy or sell any #crypto token so you can get the b… https://t.co/Au081hzZhv\n",
      "RT @BitcoinMagazine: BREAKING: El Salvador bought 80 more #bitcoin 🇸🇻\n",
      "RT @jr_sojka: Massive Crypto Crash incoming.  \n",
      "\n",
      "As soon as they let withdrawals happen… #Bitcoin backed by sadness…\n",
      "@APompliano #Bitcoin  is now lower than it was in Dec 2017. You’re not too late.\n",
      "Engagement on YouTube videos is at low levels I haven't seen in months.\n",
      "\n",
      "No one cares about #crypto right now, peop… https://t.co/LEb8wYtQwY\n",
      "RT @LayahHeilpern: Netflix is down 70% YTD\n",
      "Facebook is down 51% YTD\n",
      "Amazon is down 37% YTD\n",
      "Apple is down 24% YTD\n",
      "#Bitcoin is down 58% YTD…\n",
      "RT @BitcoinMagazine: MicroStrategy CEO: It is a mistake to sell #bitcoin https://t.co/Cjt0XomKRW\n",
      "RT @Stephan_barker: 75% of people never think. \n",
      "15% think they think. \n",
      "Only 5% actually think.\n",
      "\n",
      "I think those 5% are bitcoiners\n",
      "\n",
      "#Bitcoin\n",
      "RT @OfficialTravlad: If #Bitcoin  hits $18,000 in the next 24hrs, I will send $1,000 to someone that has retweeted and is following! \n",
      "\n",
      "Let’…\n",
      "RT @BtcChewy: It’s a Great #Bitcoin Thread- too bad hardly anyone has seen it\n",
      "\n",
      "Need Retweet help or his thread dies today-  Convincing the…\n"
     ]
    },
    {
     "name": "stderr",
     "output_type": "stream",
     "text": [
      "Unexpected parameter: since\n"
     ]
    },
    {
     "name": "stdout",
     "output_type": "stream",
     "text": [
      "RT @BitcoinMagazine: 🚨 JUST IN: Yet another exchange has halted withdrawals.\n",
      "\n",
      "Withdraw your #bitcoin from custodians!\n",
      "RT @Roman_Trading: The #Bitcoin bottom won’t come until index stocks crash another 30%+ from here.\n",
      "\n",
      "Stop trying to guess where it is with p…\n",
      "RT @CedYoungelman: #Bitcoin Facts https://t.co/9SZBeDqEzk\n",
      "🎼I found #bitcoin in a Blue vault at this location! Join me playing #coinhuntworld, It's awesome!… https://t.co/R5jO2EyJw0\n",
      "RT @WRContest: 🚨 $1,000 #GIVEAWAY 🚨\n",
      "\n",
      "TO ENTER:\n",
      "\n",
      "🎯 FOLLOW Me @CryptoBusy @altcryptomars\n",
      "🎯 LIKE, RT &amp; Tag 3\n",
      "\n",
      "To help buy up the #Bitcoin dip…\n",
      "The $BTC price is at $19,237.61 right now.\n",
      "🔴 Compared to the last tweet, the price has dropped by $185.87 (0.96%).… https://t.co/6fWIVkMiKr\n",
      "🧙‍♂️#Bitcoin Trade Setup\n",
      "\n",
      "• Heading for 1 Hour Support  - DM for early access to trades like this one\n",
      "\n",
      "#BTCUSDT… https://t.co/fADQF8EryQ\n",
      "The owner of @TraxNYC telling people #bitcoin is trash. Then saying he's going to give a lesson on stocks and inves… https://t.co/FnTj7qYFv9\n",
      "RT @BitcoinMagazine: 🚨 JUST IN: Yet another exchange has halted withdrawals.\n",
      "\n",
      "Withdraw your #bitcoin from custodians!\n",
      "RT @vampthepromoter: 🎁GIVEAWAY🎁 \n",
      "\n",
      "🏆0.5 #SOL \n",
      "🏆x5 WL Spots\n",
      "\n",
      "Rules: \n",
      "1⃣ Follow Me &amp; @YesBullsNFT \n",
      "2⃣ RT,❤️&amp; Tag 3 Friends \n",
      "\n",
      "🔥Discord: https:/…\n",
      "RT @Revolotto: 🐦 50K+ Twitter Followers\n",
      "💎 12K+ $RVL Holders\n",
      "\n",
      "♥ Thank you our community for your patience and trust.\n",
      "👑 Hold is Gold\n",
      "\n",
      "📊CMC: h…\n"
     ]
    },
    {
     "name": "stderr",
     "output_type": "stream",
     "text": [
      "Unexpected parameter: since\n"
     ]
    },
    {
     "name": "stdout",
     "output_type": "stream",
     "text": [
      "#Crypto exchanges are making Millions off consumer 💰 #Robinhood #Voyager #Coinbase etc have halted or denied access… https://t.co/6of7KQ2loI\n",
      "RT @RD_btc: This ain’t over yet MF’ers #Bitcoin https://t.co/A82N8fB4fU\n",
      "RT @Gus21MCalderon: 🚨BREAKING (since 1971):  \"Bills of Credit\" a.k.a. #fiat money is unconstitutional.  \n",
      "\n",
      "Read this succinct article (inclu…\n",
      "RT @OfficialTravlad: If #Bitcoin  hits $18,000 in the next 24hrs, I will send $1,000 to someone that has retweeted and is following! \n",
      "\n",
      "Let’…\n",
      "RT @OfficialTravlad: If #Bitcoin  hits $18,000 in the next 24hrs, I will send $1,000 to someone that has retweeted and is following! \n",
      "\n",
      "Let’…\n",
      "RT @davthewave: #Bitcoin  \n",
      "\n",
      "I guess we'll know one way or the other soon enough... https://t.co/liGLlX5lIw\n",
      "RT @BTC_Archive: 💥El Salvador bought another 80 #Bitcoin 🙌\n",
      "RT @JobPreference: #Hiring?\n",
      "Sign up now https://t.co/o7lVlsCHXv\n",
      "FREE. NO MIDDLEMAN\n",
      "#ArtificialIntelligence #MachineLearning #Python #DataSc…\n",
      "RT @mcshane_writes: buying $1 worth of #Bitcoin for every like on this tweet\n",
      "\n",
      "until I'm all-in again\n",
      "@ManuelPolavieja @jorgeangulo1 @progressivebtcr @WalkerAmerica @GaryGensler @SECGov &gt;&gt; politicians and government o… https://t.co/edWUHozail\n",
      "RT @saylor: If you love nothing, nothing will love you back. #Bitcoin\n",
      "RT @VinuSquad: These crypto drops are always an opportunity 🚨 Add $VINU to your bag to cut costs 👀\n",
      "\n",
      "Green days are not far away 🚀\n",
      "\n",
      "#BTC #ET…\n",
      "RT @frztoken: #FunFact \n",
      "DID YOU KNOW that there are several ways where we can provide users with green energy by joining FRZSS?\n",
      "YUP, here t…\n"
     ]
    },
    {
     "name": "stderr",
     "output_type": "stream",
     "text": [
      "Unexpected parameter: since\n"
     ]
    },
    {
     "name": "stdout",
     "output_type": "stream",
     "text": [
      "I'm using @lofty_ai to co-invest in real estate with as little as $50. If you invest too, we both get a $25 gift ce… https://t.co/aukCnKeI5L\n",
      "RT @OfficialTravlad: If #Bitcoin  hits $18,000 in the next 24hrs, I will send $1,000 to someone that has retweeted and is following! \n",
      "\n",
      "Let’…\n",
      "RT @Bitboy_Crypto: What do the Terra Luna, Celsius, and Voyager fiascos tell us?\n",
      "\n",
      "We are way earlier than you thought we are. This is a con…\n",
      "RT @TheCryptoLark: Many of the world's richest and most famous investors made their fortunes in bear markets! #bitcoin #crypto\n",
      "RT @BTC_Archive: 💥Take your #Bitcoin off exchanges!\n",
      "RT @harris_irfan: This does not meet the requirements of sound money.\n",
      "\n",
      "An Islamic coin already exists. #Bitcoin is the most Islamic form of…\n",
      "RT @OfficialTravlad: If #Bitcoin  hits $18,000 in the next 24hrs, I will send $1,000 to someone that has retweeted and is following! \n",
      "\n",
      "Let’…\n",
      "@SwingTrader1114 @jrob730 @CryptoFriday2 @saylor The #Bitcoin faithful should set up their own country to show thei… https://t.co/6Mx0nH93KL\n",
      "🇮🇳 बिटकॉइन(BTC) आर्बिट्रेज संभावना ‼\n",
      "  ✅BestAsk Exchange:Wazirx\n",
      "  ⬇Price (BUY): 1BTC = 1,600,540 INR\n",
      "  ✅BestBid Exc… https://t.co/NNlINxjDzA\n",
      "RT @BitcoinMagazine: 🚨 JUST IN: Yet another exchange has halted withdrawals.\n",
      "\n",
      "Withdraw your #bitcoin from custodians!\n",
      "RT @nio_teck: @VitalikButerin With @SphynxLabs Defi Mobile App release closer than ever, more buys keep coming into $Sphynx! \n",
      "Get good posi…\n",
      "RT @OfficialTravlad: If #Bitcoin  hits $18,000 in the next 24hrs, I will send $1,000 to someone that has retweeted and is following! \n",
      "\n",
      "Let’…\n",
      "RT @moon_dot_gov: I love seeing plebs hit their #bitcoin goals. Keep stacking frends!\n",
      "RT @therationalroot: I present a new perspective on #Bitcoin Cycles leveraging On-chain and Cycle theory. Aligned by ATH and scaled by Real…\n",
      "Prosp3r found #bitcoin in a User vault at this location! Join me playing #coinhuntworld, It's awesome!… https://t.co/wp6GUyvuNw\n",
      "#Bitcoin Last Price $19227 #BTC 🚀\n",
      "Daily Indicators:\n",
      "•Pivot Fibonacci:\n",
      " -Support 1: 17677\n",
      " -S2: 14285\n",
      " -S3: 8794\n",
      " -M… https://t.co/DK0zWxcmWp\n",
      "Snoop Dogg Still Bullish On Ethereum Despite NFT Trades Declining 70%.\n",
      "\n",
      "https://t.co/S2Kc6TIb8b\n",
      "\n",
      "#Bitcoin\n",
      "RT @BitcoinMagazine: JUST IN - Argentine fintech Lemon Cash enables #Bitcoin Lightning payments for its 1 MILLION+ customers 🇦🇷 🙌\n",
      "Come join us for #Guatemala #Bitcoin Happy Hour!\n",
      "\n",
      "We're talking about all things Bitcoin: #BitcoinLake, Voyager sus… https://t.co/piHe8M7o5o\n",
      "#Bitcoin has not changed.\n",
      "#Fiat money has not magically gotten better.\n",
      "Governments and central banks still run the… https://t.co/z2OK1J8HDs\n",
      "RT @Dennis_Porter_: We built a money that has perfect scarcity and is at least 10,000,000x better than any money in human history and yet s…\n",
      "RT @kingpriyom: #Bitcoin how can whales keep accumulating if #stablecoins are becoming unreliable? Where does their fiat come from?\n",
      "RT @TheCryptoLark: Breaking! Voyager has suspended withdrawals! #bitcoin #crypto\n"
     ]
    }
   ],
   "source": [
    "tweets_bit = api.home_timeline(count=100)\n",
    "\n",
    "search_words_bit = \"#Bitcoin\"\n",
    "date_since = \"2022-06-25\"\n",
    "end_date = \"2022-07-02\"\n",
    "\n",
    "# Collect tweets with bitcoin hashtag\n",
    "tweets_bit = tw.Cursor(api.search_tweets,\n",
    "              q=search_words_bit,\n",
    "              lang=\"en\",\n",
    "              since=date_since, until=end_date).items(100)\n",
    "\n",
    "tweets_bit \n",
    "\n",
    "# print tweets\n",
    "for tweet in tweets_bit:\n",
    "    print(tweet.text)"
   ]
  },
  {
   "cell_type": "code",
   "execution_count": null,
   "id": "72376d58",
   "metadata": {},
   "outputs": [],
   "source": []
  },
  {
   "cell_type": "code",
   "execution_count": 16,
   "id": "4dbd981c",
   "metadata": {
    "scrolled": true
   },
   "outputs": [
    {
     "name": "stderr",
     "output_type": "stream",
     "text": [
      "Unexpected parameter: since\n",
      "Unexpected parameter: since\n",
      "Unexpected parameter: since\n",
      "Unexpected parameter: since\n",
      "Unexpected parameter: since\n",
      "Unexpected parameter: since\n",
      "Unexpected parameter: since\n",
      "Unexpected parameter: since\n"
     ]
    },
    {
     "data": {
      "text/html": [
       "<div>\n",
       "<style scoped>\n",
       "    .dataframe tbody tr th:only-of-type {\n",
       "        vertical-align: middle;\n",
       "    }\n",
       "\n",
       "    .dataframe tbody tr th {\n",
       "        vertical-align: top;\n",
       "    }\n",
       "\n",
       "    .dataframe thead th {\n",
       "        text-align: right;\n",
       "    }\n",
       "</style>\n",
       "<table border=\"1\" class=\"dataframe\">\n",
       "  <thead>\n",
       "    <tr style=\"text-align: right;\">\n",
       "      <th></th>\n",
       "      <th>time_of_tweet</th>\n",
       "      <th>user</th>\n",
       "      <th>tweet</th>\n",
       "      <th>user_id</th>\n",
       "    </tr>\n",
       "  </thead>\n",
       "  <tbody>\n",
       "    <tr>\n",
       "      <th>0</th>\n",
       "      <td>2022-07-01 23:59:58+00:00</td>\n",
       "      <td>TheEnder0317</td>\n",
       "      <td>RT @BTCGandalf: Plebs when they look at the #B...</td>\n",
       "      <td>1457345789018181632</td>\n",
       "    </tr>\n",
       "    <tr>\n",
       "      <th>1</th>\n",
       "      <td>2022-07-01 23:59:58+00:00</td>\n",
       "      <td>LivePriceCrypto</td>\n",
       "      <td>#Bitcoin Last Price $19257 #BTC 🚀\\nDaily Indic...</td>\n",
       "      <td>1501922448324927500</td>\n",
       "    </tr>\n",
       "    <tr>\n",
       "      <th>2</th>\n",
       "      <td>2022-07-01 23:59:58+00:00</td>\n",
       "      <td>crypto_w1ens</td>\n",
       "      <td>RT @BTCismydrug: To Celebrate Reaching 1k Foll...</td>\n",
       "      <td>1534846051236331520</td>\n",
       "    </tr>\n",
       "    <tr>\n",
       "      <th>3</th>\n",
       "      <td>2022-07-01 23:59:56+00:00</td>\n",
       "      <td>spikes2021</td>\n",
       "      <td>RT @TheCryptoLark: Many of the world's richest...</td>\n",
       "      <td>1383027435374010368</td>\n",
       "    </tr>\n",
       "    <tr>\n",
       "      <th>4</th>\n",
       "      <td>2022-07-01 23:59:55+00:00</td>\n",
       "      <td>Wilfred48783293</td>\n",
       "      <td>RT @BitcoinMagazine: \"Thank you for selling ch...</td>\n",
       "      <td>1145182549192380417</td>\n",
       "    </tr>\n",
       "  </tbody>\n",
       "</table>\n",
       "</div>"
      ],
      "text/plain": [
       "              time_of_tweet             user  \\\n",
       "0 2022-07-01 23:59:58+00:00     TheEnder0317   \n",
       "1 2022-07-01 23:59:58+00:00  LivePriceCrypto   \n",
       "2 2022-07-01 23:59:58+00:00     crypto_w1ens   \n",
       "3 2022-07-01 23:59:56+00:00       spikes2021   \n",
       "4 2022-07-01 23:59:55+00:00  Wilfred48783293   \n",
       "\n",
       "                                               tweet              user_id  \n",
       "0  RT @BTCGandalf: Plebs when they look at the #B...  1457345789018181632  \n",
       "1  #Bitcoin Last Price $19257 #BTC 🚀\\nDaily Indic...  1501922448324927500  \n",
       "2  RT @BTCismydrug: To Celebrate Reaching 1k Foll...  1534846051236331520  \n",
       "3  RT @TheCryptoLark: Many of the world's richest...  1383027435374010368  \n",
       "4  RT @BitcoinMagazine: \"Thank you for selling ch...  1145182549192380417  "
      ]
     },
     "execution_count": 16,
     "metadata": {},
     "output_type": "execute_result"
    }
   ],
   "source": [
    "tweets_bit = tw.Cursor(api.search_tweets,\n",
    "              q=search_words_bit,\n",
    "              lang=\"en\",\n",
    "              since=date_since, until=end_date).items(100)\n",
    "\n",
    "tweets_bit\n",
    "\n",
    "tweet_list_bit = [[tweet.created_at, tweet.user.screen_name, tweet.text, tweet.user.id] for tweet in tweets_bit]\n",
    "\n",
    "df_tweets_list_bit = pd.DataFrame(tweet_list_bit, columns=['time_of_tweet', 'user', 'tweet', 'user_id'])\n",
    "df_tweets_list_bit.head()"
   ]
  },
  {
   "cell_type": "code",
   "execution_count": null,
   "id": "daecc716",
   "metadata": {},
   "outputs": [],
   "source": []
  },
  {
   "cell_type": "markdown",
   "id": "370ff70f",
   "metadata": {},
   "source": [
    "#### #Coindesk"
   ]
  },
  {
   "cell_type": "code",
   "execution_count": 17,
   "id": "884705ad",
   "metadata": {
    "scrolled": true
   },
   "outputs": [
    {
     "data": {
      "text/plain": [
       "<tweepy.cursor.ItemIterator at 0x14f2a9bf220>"
      ]
     },
     "execution_count": 17,
     "metadata": {},
     "output_type": "execute_result"
    }
   ],
   "source": [
    "tweets_coin = api.home_timeline(count=10)\n",
    "\n",
    "search_words_coin = \"#Coindesk\"\n",
    "date_since = \"2022-06-25\"\n",
    "end_date = \"2022-07-02\"\n",
    "\n",
    "# Collect tweets with coindesk hashtag\n",
    "tweets_coin = tw.Cursor(api.search_tweets,\n",
    "              q=search_words_coin,\n",
    "              lang=\"en\",\n",
    "              since=date_since, until=end_date).items(140)\n",
    "\n",
    "tweets_coin \n"
   ]
  },
  {
   "cell_type": "code",
   "execution_count": 18,
   "id": "05961a30",
   "metadata": {
    "scrolled": true
   },
   "outputs": [
    {
     "name": "stderr",
     "output_type": "stream",
     "text": [
      "Unexpected parameter: since\n",
      "Unexpected parameter: since\n",
      "Unexpected parameter: since\n",
      "Unexpected parameter: since\n",
      "Unexpected parameter: since\n",
      "Unexpected parameter: since\n",
      "Unexpected parameter: since\n",
      "Unexpected parameter: since\n"
     ]
    },
    {
     "data": {
      "text/html": [
       "<div>\n",
       "<style scoped>\n",
       "    .dataframe tbody tr th:only-of-type {\n",
       "        vertical-align: middle;\n",
       "    }\n",
       "\n",
       "    .dataframe tbody tr th {\n",
       "        vertical-align: top;\n",
       "    }\n",
       "\n",
       "    .dataframe thead th {\n",
       "        text-align: right;\n",
       "    }\n",
       "</style>\n",
       "<table border=\"1\" class=\"dataframe\">\n",
       "  <thead>\n",
       "    <tr style=\"text-align: right;\">\n",
       "      <th></th>\n",
       "      <th>time_of_tweet</th>\n",
       "      <th>user</th>\n",
       "      <th>tweet</th>\n",
       "      <th>user_id</th>\n",
       "    </tr>\n",
       "  </thead>\n",
       "  <tbody>\n",
       "    <tr>\n",
       "      <th>0</th>\n",
       "      <td>2022-07-01 23:04:01+00:00</td>\n",
       "      <td>Rohekbenitez20</td>\n",
       "      <td>RT @ShapeShift: In this recently published #Co...</td>\n",
       "      <td>1135219075548876801</td>\n",
       "    </tr>\n",
       "    <tr>\n",
       "      <th>1</th>\n",
       "      <td>2022-07-01 22:00:03+00:00</td>\n",
       "      <td>BTCticker</td>\n",
       "      <td>One Bitcoin now worth $19368.859. Market Cap $...</td>\n",
       "      <td>1323280062</td>\n",
       "    </tr>\n",
       "    <tr>\n",
       "      <th>2</th>\n",
       "      <td>2022-07-01 20:55:54+00:00</td>\n",
       "      <td>1NationUnderXRP</td>\n",
       "      <td>Don’t forget the companies who own #coindesk -</td>\n",
       "      <td>1453880435562348544</td>\n",
       "    </tr>\n",
       "    <tr>\n",
       "      <th>3</th>\n",
       "      <td>2022-07-01 20:14:16+00:00</td>\n",
       "      <td>x3tko</td>\n",
       "      <td>The Crypto CEO Who Doesn't Want the Job #coind...</td>\n",
       "      <td>340070780</td>\n",
       "    </tr>\n",
       "    <tr>\n",
       "      <th>4</th>\n",
       "      <td>2022-07-01 20:00:03+00:00</td>\n",
       "      <td>BTCticker</td>\n",
       "      <td>One Bitcoin now worth $19359.059. Market Cap $...</td>\n",
       "      <td>1323280062</td>\n",
       "    </tr>\n",
       "  </tbody>\n",
       "</table>\n",
       "</div>"
      ],
      "text/plain": [
       "              time_of_tweet             user  \\\n",
       "0 2022-07-01 23:04:01+00:00   Rohekbenitez20   \n",
       "1 2022-07-01 22:00:03+00:00        BTCticker   \n",
       "2 2022-07-01 20:55:54+00:00  1NationUnderXRP   \n",
       "3 2022-07-01 20:14:16+00:00            x3tko   \n",
       "4 2022-07-01 20:00:03+00:00        BTCticker   \n",
       "\n",
       "                                               tweet              user_id  \n",
       "0  RT @ShapeShift: In this recently published #Co...  1135219075548876801  \n",
       "1  One Bitcoin now worth $19368.859. Market Cap $...           1323280062  \n",
       "2     Don’t forget the companies who own #coindesk -  1453880435562348544  \n",
       "3  The Crypto CEO Who Doesn't Want the Job #coind...            340070780  \n",
       "4  One Bitcoin now worth $19359.059. Market Cap $...           1323280062  "
      ]
     },
     "execution_count": 18,
     "metadata": {},
     "output_type": "execute_result"
    }
   ],
   "source": [
    "tweets_coin = tw.Cursor(api.search_tweets,\n",
    "              q=search_words_coin,\n",
    "              lang=\"en\",\n",
    "              since=date_since, until=end_date).items(140)\n",
    "\n",
    "tweets_coin\n",
    "\n",
    "tweet_list_coin = [[tweet.created_at, tweet.user.screen_name, tweet.text, tweet.user.id] for tweet in tweets_coin]\n",
    "\n",
    "df_tweets_list_coin = pd.DataFrame(tweet_list_coin, columns=['time_of_tweet', 'user', 'tweet', 'user_id'])\n",
    "df_tweets_list_coin.head()"
   ]
  },
  {
   "cell_type": "code",
   "execution_count": null,
   "id": "3d07146e",
   "metadata": {},
   "outputs": [],
   "source": []
  },
  {
   "cell_type": "markdown",
   "id": "83bb0811",
   "metadata": {},
   "source": [
    "#### #Cryptocurrency"
   ]
  },
  {
   "cell_type": "code",
   "execution_count": 19,
   "id": "d52a28c4",
   "metadata": {},
   "outputs": [
    {
     "name": "stderr",
     "output_type": "stream",
     "text": [
      "Unexpected parameter: since\n",
      "Unexpected parameter: since\n"
     ]
    },
    {
     "name": "stdout",
     "output_type": "stream",
     "text": [
      "RT @_Br41nf4r7_: What do you really know about #FireANTS \n",
      "$ANTS $rANTS $wANTS \n",
      "You don't want to miss out on that, do you?\n",
      "Check out https:…\n",
      "RT @WRContest: 🔥USD150 Twitter Giveaway🔥\n",
      "\n",
      "We are giving a total prize of $150 to 3 lucky winners!\n",
      "\n",
      "To Enter:\n",
      "\n",
      "✅ Follow Me @RindNodes &amp; @alt…\n",
      "RT @0xHerrCooLes: 🎁 Mega Giveaway - Çekiliş 🎁\n",
      "\n",
      "🏆Prizes\n",
      "🏆1 x $50 $ETH / $USDT \n",
      "🏆5 x WL Spots\n",
      "\n",
      "📜 Rules\n",
      "1️⃣ ❤+♻️+ tag 3 active friends\n",
      "2️⃣ Fol…\n",
      "🚨🚨🚨 Crypto alert:\n",
      "\n",
      "• Bollinger Bands Breakout alert (15m)\n",
      "• Pair [#LTC-#USDT]\n",
      "\n",
      "#crypto #nft #cryptocurrency #defi… https://t.co/gXSJ6EFW9m\n",
      "RT @Ilovenft21: RT if you think #crypto is going to replace #Fiat. My fav #cryptocurrency is #RichQUACK\n",
      "RT @_Br41nf4r7_: What do you really know about #FireANTS \n",
      "$ANTS $rANTS $wANTS \n",
      "You don't want to miss out on that, do you?\n",
      "Check out https:…\n",
      "RT @Marvin_Inu: $MARVIN welcomes @KhabyLame to the world of #Cryptocurrency! 🐶 #MarvinInu #KhabyLame #Binance https://t.co/pgyP7tWQQB\n",
      "@AirdropStario This Project is a really great project. \n",
      "Hopefully one day it will be able to take their project to… https://t.co/ZA4dhoXjmn\n",
      "RT @EmmyMoonie: Damn people are scared!\n",
      "\n",
      "The 🐻 bottom will be horrid.\n",
      "\n",
      "It will *only* happen when 99% believe #Cryptocurrency is over and #…\n",
      "treydongui found #ethereum in a Blue vault at this location! Join me playing #coinhuntworld, It's awesome!… https://t.co/GJmb9H3kIM\n",
      "treydongui found #ethereum in a Blue vault at this location! Join me playing #coinhuntworld, It's awesome!… https://t.co/lyfAqx93XO\n",
      "treydongui found #ethereum in a User vault at Bike Trail behind Martins Grocer! 3 within short distance. Join me pl… https://t.co/A4AeHZYgSg\n",
      "treydongui found #bitcoin in a Blue vault at this location! Join me playing #coinhuntworld, It's awesome!… https://t.co/47c7TgdmU3\n",
      "4 hour top movers report #blockchain #crypto #cryptocurrency #kripto #kriptopara #trading #rixx #binance #bnb… https://t.co/MllExMUx24\n",
      "RT @CryptonicZeus: 📣📣\n",
      "\n",
      "Which community is more united,\n",
      "\n",
      "@BscPitbull @ShibArmyBsc @BabyDogeCoin \n",
      "\n",
      "#shib #SHIBARMY #PIT #BabyDoge #cryptocurr…\n"
     ]
    },
    {
     "name": "stderr",
     "output_type": "stream",
     "text": [
      "Unexpected parameter: since\n"
     ]
    },
    {
     "name": "stdout",
     "output_type": "stream",
     "text": [
      "RT @CryptoHayes: \"Number Three\" is a sad but predictable story of #cryptocurrency centralised trading and lending businesses blowing up due…\n",
      "#CryptoQuantumLeap. How to determine the best exchange to use to buy or sell any #crypto token so you can get the b… https://t.co/Au081hzZhv\n",
      "RT @CryptoKojima: Congrats #LINU for first listing on CEX, we are proud of the developer's very fast performance in just a month 🥳🥳\n",
      " \n",
      "$LINU…\n",
      "RT @Fatemeh_RBXS: Welcome to RBXS platform,giving you ample space to display your creativity and get rewarded\n",
      "Digital marketing \n",
      "⬇️⬇️⬇️\n",
      "htt…\n",
      "Engagement on YouTube videos is at low levels I haven't seen in months.\n",
      "\n",
      "No one cares about #crypto right now, peop… https://t.co/LEb8wYtQwY\n",
      "RT @WatcherGuru: JUST IN: Meta has announced that it will shut down its #cryptocurrency money-transfer service pilot, Novi on September 1.\n",
      "RT @GinoAssereto: 🔥 .@TokenHuntersApp AIRDROP HAS STARTED 🔥\n",
      "\n",
      "🪙 100,000 $HUNT Prize Pool ($ 1,000)\n",
      "🤩 20 Winners\n",
      "\n",
      "Join the airdrop campaign h…\n",
      "RT @zelcore_io: With #Zelcore, you can store your whole portfolio within a single app, thanks to our cross-chain connectivity that allows u…\n",
      "All Gladiators are Hexicans but not all Hexicans are Gladiators, yet. ⚔️\n",
      "\n",
      "￼ ￼#MAXI $MAXI ￼ $BASE ￼ $TEAM… https://t.co/TlKdPrAugz\n",
      "RT @Roman_Trading: The #Bitcoin bottom won’t come until index stocks crash another 30%+ from here.\n",
      "\n",
      "Stop trying to guess where it is with p…\n"
     ]
    },
    {
     "name": "stderr",
     "output_type": "stream",
     "text": [
      "Unexpected parameter: since\n"
     ]
    },
    {
     "name": "stdout",
     "output_type": "stream",
     "text": [
      "RT @koinswap_io: 🪂KOINSWAP AIRDROP🪂 \n",
      "\n",
      "👉Register with https://t.co/KKmPQklbM8 \n",
      "👉Get 1000 KST tokens in your dashboard. \n",
      "👉Copy your referral…\n",
      "🚨🚨🚨 Crypto alert:\n",
      "\n",
      "• Bollinger Bands Breakout alert (15m)\n",
      "• Pair [#VET-#USDT]\n",
      "\n",
      "#crypto #NFT #cryptocurrency #defi… https://t.co/PbgLBJEdwb\n",
      "🎼I found #bitcoin in a Blue vault at this location! Join me playing #coinhuntworld, It's awesome!… https://t.co/R5jO2EyJw0\n",
      "I bought $1k of the Top 10 Cryptos on January 1st, 2018 (MAY Update/Month 53 DOWN -32%) https://t.co/p8qqljiw6B… https://t.co/9euBRmCXn9\n",
      "I bought $1k of the Top 10 Cryptos on January 1st, 2018 (MAY Update/Month 53 DOWN -32%) https://t.co/JWCDApDAny #CryptoCurrency\n",
      "RT @AndieDog: Payments have already been completed! 🚀\n",
      "\n",
      "Would you like to be a VIP member and earn #USDT weekly? 💰\n",
      "\n",
      "Join and buy your pack h…\n",
      "RT @Fatemeh_RBXS: With us,your voice could be heard \n",
      "Be a VOICE not an ECHO 🟢@RBXSamurai \n",
      "\n",
      "https://t.co/A6Amj7HOmi\n",
      "💦💦💦💦💦💦💦\n",
      "#RBXSamurai #RBX…\n",
      "RT @phenixfinance: The Flaming Phenix Club #NFTs are sold out 🥳\n",
      "\n",
      "The re-sale is open on @EbisusBay\n",
      "💻 https://t.co/DVPnv51E7r\n",
      "\n",
      "Buy your #Phe…\n",
      "RT @Fatemeh_RBXS: We believe in you and letting your voice be heard that is why we are here to guide you into professionalism 🎯#RBXS💥\n",
      "\n",
      "http…\n",
      "RT @cryptowid: 📌@Orion_protocol has unlocked new opportunities for arbitrage trading in crypto\n",
      "\n",
      "📝#Orion’s ground-breaking technology aggreg…\n",
      "RT @nio_teck: @VitalikButerin With @SphynxLabs Defi Mobile App release closer than ever, more buys keep coming into $Sphynx! \n",
      "Get good posi…\n",
      "Prosp3r found #bitcoin in a User vault at this location! Join me playing #coinhuntworld, It's awesome!… https://t.co/wp6GUyvuNw\n",
      "RT @WRContest: 🔥USD150 Twitter Giveaway🔥\n",
      "\n",
      "We are giving a total prize of $150 to 3 lucky winners!\n",
      "\n",
      "To Enter:\n",
      "\n",
      "✅ Follow Me @RindNodes &amp; @alt…\n"
     ]
    },
    {
     "name": "stderr",
     "output_type": "stream",
     "text": [
      "Unexpected parameter: since\n"
     ]
    },
    {
     "name": "stdout",
     "output_type": "stream",
     "text": [
      "RT @RindNodes: 🔥USD150 Twitter Giveaway🔥\n",
      "\n",
      "We are giving a total prize of $150 to 3 lucky winners!\n",
      "\n",
      "To Enter:\n",
      "\n",
      "✅ Follow @RindNodes's Twitter…\n",
      "RT @OfficialMandox: 🚨 Banana Club Members there is another vote that is needed in Discord \n",
      "\n",
      "@BananaClubToken \n",
      "\n",
      "#dao #defi #crypto #cryptocu…\n",
      "RT @WRContest: 🔥USD150 Twitter Giveaway🔥\n",
      "\n",
      "We are giving a total prize of $150 to 3 lucky winners!\n",
      "\n",
      "To Enter:\n",
      "\n",
      "✅ Follow Me @RindNodes &amp; @alt…\n",
      "🚨🚨🚨 Crypto alert:\n",
      "\n",
      "• Bollinger Bands Breakout alert (15m)\n",
      "• Pair [#NULS-#USDT]\n",
      "\n",
      "#crypto #nft #cryptocurrency #defi… https://t.co/l6a49s46RX\n",
      "RT @Ilovenft21: RT if you think #crypto is going to replace #Fiat. My fav #cryptocurrency is #RichQUACK\n",
      "RT @CentricBunny: I like to follow all #CentricWarriors! Give me money emoji in comment or just hit like button, and follow me, and i will…\n",
      "RT @CentricBunny: Centric believe in financial freedom, if you believe too, check https://t.co/W5wq26Wydo #cns #CNR #crypto #cryptocurrency…\n",
      "RT @CentricBunny: Be part of #centricwarriors. Be part of change.  #CentricWarriors \n",
      "\n",
      "#cns #CNR #crypto #cryptocurrency #CentricWarriors #s…\n",
      "RT @CryptoKojima: Congrats #LINU for first listing on CEX, we are proud of the developer's very fast performance in just a month 🥳🥳\n",
      " \n",
      "$LINU…\n",
      "RT @KingCryptoMerc: Man of his word! #cryptocurrency #awrt\n",
      "RT @WatcherGuru: JUST IN: Meta has announced that it will shut down its #cryptocurrency money-transfer service pilot, Novi on September 1.\n"
     ]
    },
    {
     "name": "stderr",
     "output_type": "stream",
     "text": [
      "Unexpected parameter: since\n"
     ]
    },
    {
     "name": "stdout",
     "output_type": "stream",
     "text": [
      "RT @OfficialMandox: 🚨 Banana Club Members there is another vote that is needed in Discord \n",
      "\n",
      "@BananaClubToken \n",
      "\n",
      "#dao #defi #crypto #cryptocu…\n",
      "🚨🚨🚨 Crypto alert:\n",
      "\n",
      "• Bollinger Bands Breakout alert (15m)\n",
      "• Pair [#ETC-#USDT]\n",
      "\n",
      "#crypto #NFT #cryptocurrency #defi… https://t.co/MDw6ef9Ohb\n",
      "RT @JoeR_Mandala: Trade at Mandala Exchange with the comfort of knowing your crypto is always safe and always available for withdrawal.....…\n",
      "RT @CryptoKojima: Congrats #LINU for first listing on CEX, we are proud of the developer's very fast performance in just a month 🥳🥳\n",
      " \n",
      "$LINU…\n",
      "RT @BTCTN: #Coincoinx, a #cryptocurrency exchange in #Venezuela, has announced the launch of a service that will combine crypto and fiat to…\n",
      "RT @SeniorCryptos: What do you buy today? 🕵🏻‍♀️👀\n",
      "\n",
      "#BSC  #BSCGems #100xgem #BNB  #cryptocurrencies #BTC #ETH #SOL  #DeFi #NFT #Metaverse   #…\n",
      "RT @WRContest: 🔥USD150 Twitter Giveaway🔥\n",
      "\n",
      "We are giving a total prize of $150 to 3 lucky winners!\n",
      "\n",
      "To Enter:\n",
      "\n",
      "✅ Follow Me @RindNodes &amp; @alt…\n",
      "RT @Demonm2c: #LUNC $LUNC #cryptocurrency #CryptocurrencyNews #cryptocurrencies #Cryptos #cryptotrading #crypto #BinanceLUNCburn @cz_binanc…\n",
      "RT @analyticsinme: Ethereum (ETH) and Bitgert (BRISE) Are Preparing For A Bull Run This Month\n",
      "https://t.co/dEUNDzMitj\n",
      "#Ethereum #ETH #Bitge…\n"
     ]
    },
    {
     "name": "stderr",
     "output_type": "stream",
     "text": [
      "Unexpected parameter: since\n"
     ]
    },
    {
     "name": "stdout",
     "output_type": "stream",
     "text": [
      "Man of his word! #cryptocurrency #awrt https://t.co/sbjd53PdgS\n",
      "RT @AsimiToken: #ASIMI providing the best #Advertising platform especially #Crypto &amp; #NFT Projects. Pay per website view in lowest rate .…\n",
      "RT @ferkjerbiden: Not your keys, not your crypto - get a @Ledger 👏🏼 \n",
      "\n",
      "#GACC #MACC #NFTs #NFTCommunity #cryptocurrency #ETH #ETHNFTs #ColdSt…\n",
      "RT @ABiMH01: #Saitama #SaitamaWolfPack #SaitaPro $Saita\n",
      "#Crypto #CryptoCurrency #CryptoNews #Ethereum #Bitcoin #Eth #BTC\n",
      "#SaitamaToken\n",
      "#Lun…\n",
      "RT @AsimiToken: #ASIMI providing the best #Advertising platform especially #Crypto &amp; #NFT Projects. Pay per website view in lowest rate .…\n",
      "RT @ABiMH01: #Saitama #SaitamaWolfPack #SaitaPro $Saita\n",
      "#Crypto #CryptoCurrency #CryptoNews #Ethereum #Bitcoin #Eth #BTC\n",
      "#SaitamaToken\n",
      "#Lun…\n",
      "🚨🚨🚨 Crypto alert:\n",
      "\n",
      "• Bollinger Bands Breakout alert (15m)\n",
      "• Pair [#IOTA-#USDT]\n",
      "\n",
      "#crypto #nft #cryptocurrency #defi… https://t.co/YbtmROQRhU\n",
      "RT @ABiMH01: #Saitama #SaitamaWolfPack #SaitaPro $Saita\n",
      "#Crypto #CryptoCurrency #CryptoNews #Ethereum #Bitcoin #Eth #BTC\n",
      "#SaitamaToken\n",
      "#Lun…\n",
      "RT @OfficialMandox: 🚨 Banana Club Members there is another vote that is needed in Discord \n",
      "\n",
      "@BananaClubToken \n",
      "\n",
      "#dao #defi #crypto #cryptocu…\n",
      "RT @AsimiToken: #ASIMI providing the best #Advertising platform especially #Crypto &amp; #NFT Projects. Pay per website view in lowest rate .…\n",
      "RT @AsimiToken: #ASIMI providing the best #Advertising platform especially #Crypto &amp; #NFT Projects. Pay per website view in lowest rate .…\n"
     ]
    },
    {
     "name": "stderr",
     "output_type": "stream",
     "text": [
      "Unexpected parameter: since\n"
     ]
    },
    {
     "name": "stdout",
     "output_type": "stream",
     "text": [
      "RT @Roman_Trading: Why are you people shorting your brains out into demand.\n",
      "\n",
      "I told my students to close their shorts this morning near the…\n",
      "RT @RindNodes: 🔥USD150 Twitter Giveaway🔥\n",
      "\n",
      "We are giving a total prize of $150 to 3 lucky winners!\n",
      "\n",
      "To Enter:\n",
      "\n",
      "✅ Follow @RindNodes's Twitter…\n",
      "RT @AsimiToken: #ASIMI providing the best #Advertising platform especially #Crypto &amp; #NFT Projects. Pay per website view in lowest rate .…\n",
      "RT @RealShibaDoge: 4000+ new holders, was up over 75%, trended #1, #3 &amp; #4 on @CoinMarketCap &amp; @coingecko\n",
      "\n",
      "Get involved in our two giveaway…\n",
      "RT @Ilovenft21: RT if you think #crypto is going to replace #Fiat. My fav #cryptocurrency is #RichQUACK\n",
      "RT @metfxmetaverse: 📢ICYMI📢\n",
      "\n",
      "🔒We're locked and loaded🔒\n",
      "\n",
      "Get ready for METFX!\n",
      "\n",
      "#metfx #metfxwatchtoearn #watchtoearn #watch2earn #idolaunchp…\n",
      "Opened new short position worth 1500 usd @ 19216.5 with ID 491.\n",
      "\n",
      "Prediction value at time of opening was 0.92/1.\n",
      "\n",
      "O… https://t.co/PiUmkwXIVd\n",
      "RT @metfxmetaverse: Have you seen our last game? Don't miss out on WL spots!\n",
      "\n",
      "🥇🥈🥉 Top 3 winners = GUARANTEED WL SPOT! \n",
      "\n",
      "🎮🎮🎮\n",
      "\n",
      "More on TG:\n",
      "📱…\n",
      "RT @SeniorCryptos: What do you buy today? 🕵🏻‍♀️👀\n",
      "\n",
      "#BSC  #BSCGems #100xgem #BNB  #cryptocurrencies #BTC #ETH #SOL  #DeFi #NFT #Metaverse   #…\n",
      "RT @metfxmetaverse: 📢 Breaking News! 📢\n",
      "\n",
      "A new partnership has bloomed!\n",
      "\n",
      "MetFX🤝 Zelwin\n",
      "\n",
      "See you at launch! 🚀🚀🚀\n",
      "\n",
      "#LFG #metfx #metfxwatchtoear…\n",
      "RT @metfxmetaverse: Hello there. Did you miss us?\n",
      "Few days left before presale!🤑\n",
      "\n",
      "Visit TG: https://t.co/B8V5VEViFp\n",
      "\n",
      "#LFG #metfx #metfxwatc…\n",
      "#link    #4chan… https://t.co/0QfKTdGodu\n",
      "Congrats #LINU for first listing on CEX, we are proud of the developer's very fast performance in just a month 🥳🥳… https://t.co/n4FdChZL5p\n"
     ]
    },
    {
     "name": "stderr",
     "output_type": "stream",
     "text": [
      "Unexpected parameter: since\n"
     ]
    },
    {
     "name": "stdout",
     "output_type": "stream",
     "text": [
      "We need your help and support to get listed at @exbitron \n",
      "Please go ahead sign up and  #Vote \n",
      "Also use our referal… https://t.co/j7C1D9VKyX\n",
      "🚀 🚀 🚀 $1,196,868 BTCUSDT LONGED @$19,250.00 on #Binance (23:54:57 UTC) #BTC #cryptocurrency\n",
      "RT @OfficialMandox: 🚨 Banana Club Members there is another vote that is needed in Discord \n",
      "\n",
      "@BananaClubToken \n",
      "\n",
      "#dao #defi #crypto #cryptocu…\n",
      "RT @SyrioCrypto: 🥳BitMart's Trading Competition is Coming！\n",
      "\n",
      "🤩Have Fun and Share A $200,000 Prize Pool\n",
      "\n",
      "⏰Period: 07/01/2022 10:00 AM - 07/31…\n",
      "Luisesman found # in a Blue vault at this location! Join me playing #coinhuntworld, It's awesome!… https://t.co/PiLVWWLG5R\n",
      "$link No hopium here....just some based ass shit!!  Swift...swift...swift...swift... #cryptocurrency #Cryptos $btc https://…\n",
      "RT @ta64945087: Good move by the #Saitama development team, #SaitamaLLC now in the Emirates 💯. It's just good business, and we (🐺's) are pa…\n",
      "RT @Touraj_samurai: The only marketing that can make your projects very successful.\n",
      "#RBXS #RBXSamurai \n",
      "🔷️🔷️🔷️\n",
      "https://t.co/0wloZLmiI4\n",
      "🔶️🔶️…\n",
      "RT @NFTmarinebattle: #NFTGiveaway 10 x 2 Recruiter Promo Cards ⚓️\n",
      "\n",
      "⚓️4000+ players using the #mining feature! 🔥 Come and join our fleet! ⚓️…\n",
      "RT @johnkucoinpumps: On June 3rd 2022 we will pump again on #Kucoin . Our last pump has made our members over 50% easy gains, this one will…\n",
      "RT @Fatemeh_RBXS: #RBXS is the next big force in the crypto world giving your online business the exposure it needs to levitate\n",
      "\n",
      "https://t.…\n",
      "RT @WRContest: 🔥USD150 Twitter Giveaway🔥\n",
      "\n",
      "We are giving a total prize of $150 to 3 lucky winners!\n",
      "\n",
      "To Enter:\n",
      "\n",
      "✅ Follow Me @RindNodes &amp; @alt…\n",
      "RT @VABintel: Need help sorting through the new vocabulary of Web3? Download our new glossary with over 50 terms related to the #Metaverse,…\n",
      "RT @Rohit_BCI: Cats are better singers🐈♥️\n",
      "#catcoin  #catcoinarmy @Catcoinbsc #CatsOfTwitter #Memes #memecoin #Bitcoin #Binance #cryptocurre…\n",
      "RT @OfficialMandox: 🚨 Banana Club Members there is another vote that is needed in Discord \n",
      "\n",
      "@BananaClubToken \n",
      "\n",
      "#dao #defi #crypto #cryptocu…\n"
     ]
    },
    {
     "name": "stderr",
     "output_type": "stream",
     "text": [
      "Unexpected parameter: since\n"
     ]
    },
    {
     "name": "stdout",
     "output_type": "stream",
     "text": [
      "Luisesman found # in a Blue vault at this location! Join me playing #coinhuntworld, It's awesome!… https://t.co/RMAXRSHdPH\n",
      "Digital Currencys are unstopable !!!  #ripple #XRP #Bitcoin #btc #Ether #ethereum #crypto #cryptocurrency #money… https://t.co/YscDv7iWwm\n",
      "🚨🚨🚨 Crypto alert:\n",
      "\n",
      "• MACD Cross alert (15m)\n",
      "• Pair [#VET-#USDT]\n",
      "\n",
      "#crypto #Nft #cryptocurrency #defi #trading \n",
      "\n",
      "https://t.co/haM1U1vwCu\n",
      "$ARTNA https://t.co/Igan1bHmoQ Artesian Resources Corp. Our algorithm foretells that this companie s stock price va… https://t.co/vQJTG6FMCr\n",
      "RT @WatcherGuru: JUST IN: Meta has announced that it will shut down its #cryptocurrency money-transfer service pilot, Novi on September 1.\n",
      "RT @BananaClubToken: 🚨 Voting for the Banana Club Token Tokenomics is Live 🚨 \n",
      "\n",
      "🍌 The Banana Club Token is a true community #defi project gi…\n",
      "The idea is interesting. I carefully watch the news of the project. We can do this! I believe in the success of the… https://t.co/ZRRMzm0b2O\n",
      "JPMorgan said #Crypto has now replaced real estate as the \"alternative asset class of choice\", &amp; considers $50000 a… https://t.co/UlX0lBZVtk\n",
      "RT @WatcherGuru: JUST IN: Meta has announced that it will shut down its #cryptocurrency money-transfer service pilot, Novi on September 1.\n",
      "Crypto Exchange Coincoinx to Launch Crypto to Fiat Payments App in Venezuela #ico #cryptocurrency #token\n",
      "RT @adaswapapp: Hey AdaSwap Fam! \n",
      "\n",
      "33,000 transactions on testnet in just over 24 hours... probably nothing 🚀🤫👀\n",
      "\n",
      "#blockchain #cryptocurrenc…\n"
     ]
    },
    {
     "name": "stderr",
     "output_type": "stream",
     "text": [
      "Unexpected parameter: since\n"
     ]
    },
    {
     "name": "stdout",
     "output_type": "stream",
     "text": [
      "🚨🚨🚨 Crypto alert:\n",
      "\n",
      "• MACD Cross alert (1h)\n",
      "• Pair [#TRX-#USDT]\n",
      "\n",
      "#crypto #nft #cryptocurrency #defi #trading \n",
      "\n",
      "https://t.co/aUaWyjIuwA\n",
      "RT @analyticsinme: Ethereum (ETH) and Bitgert (BRISE) Are Preparing For A Bull Run This Month\n",
      "https://t.co/dEUNDzMitj\n",
      "#Ethereum #ETH #Bitge…\n",
      "Cryptocurrency and NFTs #CryptoCurrency via https://t.co/I1BzNsjq7S https://t.co/kisFmy8Zon\n",
      "RT @SteveAokid: Do you like Ape? \n",
      "Do you like humans? \n",
      "Do you like zombies? \n",
      "Do you like God?\n",
      ".\n",
      ".\n",
      ".\n",
      ".\n",
      ".\n",
      ".\n",
      "#NFTGiveaway \n",
      "#NFTs \n",
      "#nftcollecto…\n",
      "RT @OfficialMandox: 🚨 Banana Club Members there is another vote that is needed in Discord \n",
      "\n",
      "@BananaClubToken \n",
      "\n",
      "#dao #defi #crypto #cryptocu…\n",
      "RT @Crypto_Arturito: 🚨 50k $LKMEX #Giveaway🚨\n",
      "\n",
      "🥇 50k $LKMEX\n",
      "\n",
      "☑️Follow Me\n",
      "☑️❤️ &amp; RT\n",
      "☑️Tag 3 Friends\n",
      "\n",
      "⏰ 72 Hours\n",
      "\n",
      "Good Luck 🍀🤞🏼\n",
      "\n",
      "#ElrondNFT #N…\n",
      "RT @SaitamaUniverse: Having worked for a buy-side institutional investor for more than 13Y, looking at the fundamentals before investing in…\n",
      "RT @C3NTUR10N1NV3ST: CIX Token public sale is now live!\n",
      "Get CIX now: https://t.co/aCEPBC707t\n",
      "#cryptocurrency #crypto #cryptocurrencies #cry…\n",
      "RT @BlackMagicDAO: 📣 In case you missed it, here’s an updated look at the #BlackMagicNetwork roadmap! 🗺🧭\n",
      "\n",
      "For more info, head over to ⏭ htt…\n",
      "RT @catcoincash: Early investor always enjoy 100x return,don't miss your chance to become early investor\n",
      "\n",
      " ✅https://t.co/k6mjWuS11M\n",
      "\n",
      "#1000x…\n",
      "RT @OfficialMandox: 🚨 Banana Club Members there is another vote that is needed in Discord \n",
      "\n",
      "@BananaClubToken \n",
      "\n",
      "#dao #defi #crypto #cryptocu…\n"
     ]
    },
    {
     "name": "stderr",
     "output_type": "stream",
     "text": [
      "Unexpected parameter: since\n"
     ]
    },
    {
     "name": "stdout",
     "output_type": "stream",
     "text": [
      "Crypto crash threatens North Korea's stolen funds as it ramps up weapons tests https://t.co/r2A5MxI2lG by @Reuters… https://t.co/AtxFoLHukD\n",
      "RT @BTCTN: #Coincoinx, a #cryptocurrency exchange in #Venezuela, has announced the launch of a service that will combine crypto and fiat to…\n",
      "RT @0xLachain: LA staking program has increased earning interest 3x times only for a week! 💸\n",
      "Follow the link ▶️https://t.co/WttHoRkMNn and…\n",
      "RT @Behrang_RBXS: #NFT Collection That Gets #Rewarded from IRL Businesses🔥\n",
      "\n",
      "#DUMBLE #DumbleDAO #MagicalMutts \n",
      "\n",
      "@DumbleDAO \n",
      "\n",
      "#RBXS #RBXSamur…\n",
      "RT @CryptoReeko: A picture can tell a thousand words. In this one it's just VOLT ! @VoltInuOfficial \n",
      "\n",
      "#CryptoReeko #VOLTINU #CRYPTO #Dextoo…\n",
      "🚨🚨🚨 Crypto alert:\n",
      "\n",
      "• MACD Cross alert (15m)\n",
      "• Pair [#TRX-#USDT]\n",
      "\n",
      "#crypto #nft #cryptocurrency #defi #trading \n",
      "\n",
      "https://t.co/yobYDpgmvO\n",
      "RT @TokenJay: Data breach of NFT marketplace OpenSea may expose customers to phishing attacks https://t.co/66jzCelAx1 #CryptoCurrency (from…\n",
      "RT @btc4cia: @nibiruverseio My Entry \n",
      "#nibiruverse #KuCoin #Altcoins #cryptocurrency #Airdrop #MemeContest #NFTs #nftarti̇st https://t.co/O…\n",
      "RT @analyticsinme: Stock Market Experts: “Bitcoin is Dead” After Massive Meltdown. What Does That Mean to Gnox (GNOX) and Ethereum (ETH) Ho…\n",
      "RT @ArivaCoin: How to swap #ARIVA on @MetaMask without connecting any DApp\n",
      "\n",
      "$ARV #metamask #DeFi #cryptocurrency #crypto https://t.co/YLo7W…\n",
      "RT @Ilovenft21: RT if you think #crypto is going to replace #Fiat. My fav #cryptocurrency is #RichQUACK\n",
      "RT @Behrang_RBXS: We are professional marketing experts in crypto. \n",
      "\n",
      "#RBXS #RBXSamurai #RBXS_token #RBXStoken @RBXSamurai \n",
      "\n",
      "#BSC #BSCGems #…\n",
      "RT @ta64945087: Good move by the #Saitama development team, #SaitamaLLC now in the Emirates 💯. It's just good business, and we (🐺's) are pa…\n",
      "RT @lucasvelascook: 🚨 Good news!!🚨\n",
      "I've partnered with the @tygarare_nft teen!!\n",
      "🔥They've opened up100 X invites join now!!\n",
      "#NFTGiveaway soo…\n",
      "Luisesman found # in a Blue vault at this location! Join me playing #coinhuntworld, It's awesome!… https://t.co/OE99L4hhZh\n",
      "Prager Metis CPAs on LinkedIn: #yourworldworthmore #digitalassets #cryptocurrency https://t.co/Sf6iYZmUfF\n",
      "RT @alqsyy: 🚨GOBLINTOWN $12,000 GIVEAWAY🚨\n",
      "\n",
      "@troll_town_wtf mints in 24 hours &amp; is giving away 1 Goblintown NFT worth over $12,000\n",
      "\n",
      "To win…\n",
      "RT @Behrang_RBXS: Creative business agency \n",
      "Digital marketing services and solutions ✔\n",
      "\n",
      "@RBXSamurai\n",
      "\n",
      "#RBXS #RBXSamurai #RBXS_token #RBXStok…\n",
      "RT @XListCoin: 📺 Check out the new #XList video on @YubiwaChain #YouTube channel\n",
      "\n",
      "https://t.co/pt1w5vZAgG\n",
      "\n",
      "Big thanks to Yubiwa for the awe…\n",
      "RT @RindNodes: 🔥USD150 Twitter Giveaway🔥\n",
      "\n",
      "We are giving a total prize of $150 to 3 lucky winners!\n",
      "\n",
      "To Enter:\n",
      "\n",
      "✅ Follow @RindNodes's Twitter…\n",
      "RT @NFTmarinebattle: #NFTGiveaway 10 x 2 Recruiter Promo Cards ⚓️\n",
      "\n",
      "⚓️4000+ players using the #mining feature! 🔥 Come and join our fleet! ⚓️…\n"
     ]
    }
   ],
   "source": [
    "tweets_cry = api.home_timeline(count=140)\n",
    "\n",
    "search_words_cry = \"#Cryptocurrency\"\n",
    "date_since = \"2022-06-25\"\n",
    "end_date = \"2022-07-02\"\n",
    "\n",
    "# Collect tweets with cryptocurrency hashtag\n",
    "tweets_cry = tw.Cursor(api.search_tweets,\n",
    "              q=search_words_cry,\n",
    "              lang=\"en\",\n",
    "              since=date_since, until=end_date).items(140)\n",
    "\n",
    "tweets_cry \n",
    "\n",
    "# print tweets\n",
    "for tweet in tweets_cry:\n",
    "    print(tweet.text)"
   ]
  },
  {
   "cell_type": "code",
   "execution_count": 20,
   "id": "e767129e",
   "metadata": {
    "scrolled": true
   },
   "outputs": [
    {
     "name": "stderr",
     "output_type": "stream",
     "text": [
      "Unexpected parameter: since\n",
      "Unexpected parameter: since\n",
      "Unexpected parameter: since\n",
      "Unexpected parameter: since\n",
      "Unexpected parameter: since\n",
      "Unexpected parameter: since\n",
      "Unexpected parameter: since\n",
      "Unexpected parameter: since\n",
      "Unexpected parameter: since\n",
      "Unexpected parameter: since\n",
      "Unexpected parameter: since\n",
      "Unexpected parameter: since\n"
     ]
    },
    {
     "data": {
      "text/html": [
       "<div>\n",
       "<style scoped>\n",
       "    .dataframe tbody tr th:only-of-type {\n",
       "        vertical-align: middle;\n",
       "    }\n",
       "\n",
       "    .dataframe tbody tr th {\n",
       "        vertical-align: top;\n",
       "    }\n",
       "\n",
       "    .dataframe thead th {\n",
       "        text-align: right;\n",
       "    }\n",
       "</style>\n",
       "<table border=\"1\" class=\"dataframe\">\n",
       "  <thead>\n",
       "    <tr style=\"text-align: right;\">\n",
       "      <th></th>\n",
       "      <th>time_of_tweet</th>\n",
       "      <th>user</th>\n",
       "      <th>tweet</th>\n",
       "      <th>user_id</th>\n",
       "    </tr>\n",
       "  </thead>\n",
       "  <tbody>\n",
       "    <tr>\n",
       "      <th>0</th>\n",
       "      <td>2022-07-01 23:59:57+00:00</td>\n",
       "      <td>tavalez74</td>\n",
       "      <td>RT @_Br41nf4r7_: What do you really know about...</td>\n",
       "      <td>1438877328231354368</td>\n",
       "    </tr>\n",
       "    <tr>\n",
       "      <th>1</th>\n",
       "      <td>2022-07-01 23:59:52+00:00</td>\n",
       "      <td>rza13444772</td>\n",
       "      <td>RT @WRContest: 🔥USD150 Twitter Giveaway🔥\\n\\nWe...</td>\n",
       "      <td>861769458079150080</td>\n",
       "    </tr>\n",
       "    <tr>\n",
       "      <th>2</th>\n",
       "      <td>2022-07-01 23:59:44+00:00</td>\n",
       "      <td>0xHerrCooLes</td>\n",
       "      <td>RT @0xHerrCooLes: 🎁 Mega Giveaway - Çekiliş 🎁\\...</td>\n",
       "      <td>1454814469532569601</td>\n",
       "    </tr>\n",
       "    <tr>\n",
       "      <th>3</th>\n",
       "      <td>2022-07-01 23:59:43+00:00</td>\n",
       "      <td>_Crypto_Alerts</td>\n",
       "      <td>🚨🚨🚨 Crypto alert:\\n\\n• Bollinger Bands Breakou...</td>\n",
       "      <td>1382427530314022912</td>\n",
       "    </tr>\n",
       "    <tr>\n",
       "      <th>4</th>\n",
       "      <td>2022-07-01 23:59:35+00:00</td>\n",
       "      <td>bahar_manzoor</td>\n",
       "      <td>RT @Ilovenft21: RT if you think #crypto is goi...</td>\n",
       "      <td>771741164265476096</td>\n",
       "    </tr>\n",
       "  </tbody>\n",
       "</table>\n",
       "</div>"
      ],
      "text/plain": [
       "              time_of_tweet            user  \\\n",
       "0 2022-07-01 23:59:57+00:00       tavalez74   \n",
       "1 2022-07-01 23:59:52+00:00     rza13444772   \n",
       "2 2022-07-01 23:59:44+00:00    0xHerrCooLes   \n",
       "3 2022-07-01 23:59:43+00:00  _Crypto_Alerts   \n",
       "4 2022-07-01 23:59:35+00:00   bahar_manzoor   \n",
       "\n",
       "                                               tweet              user_id  \n",
       "0  RT @_Br41nf4r7_: What do you really know about...  1438877328231354368  \n",
       "1  RT @WRContest: 🔥USD150 Twitter Giveaway🔥\\n\\nWe...   861769458079150080  \n",
       "2  RT @0xHerrCooLes: 🎁 Mega Giveaway - Çekiliş 🎁\\...  1454814469532569601  \n",
       "3  🚨🚨🚨 Crypto alert:\\n\\n• Bollinger Bands Breakou...  1382427530314022912  \n",
       "4  RT @Ilovenft21: RT if you think #crypto is goi...   771741164265476096  "
      ]
     },
     "execution_count": 20,
     "metadata": {},
     "output_type": "execute_result"
    }
   ],
   "source": [
    "tweets_cry = tw.Cursor(api.search_tweets,\n",
    "              q=search_words_cry,\n",
    "              lang=\"en\",\n",
    "              since=date_since, until=end_date).items(140)\n",
    "\n",
    "tweets_cry\n",
    "\n",
    "tweet_list_cry = [[tweet.created_at, tweet.user.screen_name, tweet.text, tweet.user.id] for tweet in tweets_cry]\n",
    "\n",
    "df_tweets_list_cry = pd.DataFrame(tweet_list_cry, columns=['time_of_tweet', 'user', 'tweet', 'user_id'])\n",
    "df_tweets_list_cry.head()"
   ]
  },
  {
   "cell_type": "code",
   "execution_count": null,
   "id": "e843934c",
   "metadata": {},
   "outputs": [],
   "source": []
  },
  {
   "cell_type": "markdown",
   "id": "b5738cd0",
   "metadata": {},
   "source": [
    "#### #Gold"
   ]
  },
  {
   "cell_type": "code",
   "execution_count": 21,
   "id": "c231558d",
   "metadata": {},
   "outputs": [
    {
     "data": {
      "text/plain": [
       "<tweepy.cursor.ItemIterator at 0x14f2af5b880>"
      ]
     },
     "execution_count": 21,
     "metadata": {},
     "output_type": "execute_result"
    }
   ],
   "source": [
    "tweets_gol = api.home_timeline(count=140)\n",
    "\n",
    "search_words_gol = \"#Gold\"\n",
    "date_since = \"2022-06-25\"\n",
    "end_date = \"2022-07-02\"\n",
    "\n",
    "# Collect tweets with gold hashtag\n",
    "tweets_gol = tw.Cursor(api.search_tweets,\n",
    "              q=search_words_gol,\n",
    "              lang=\"en\",        \n",
    "              since=date_since, until=end_date).items(140)\n",
    "\n",
    "tweets_gol \n"
   ]
  },
  {
   "cell_type": "code",
   "execution_count": 22,
   "id": "b8e0b758",
   "metadata": {
    "scrolled": true
   },
   "outputs": [
    {
     "name": "stderr",
     "output_type": "stream",
     "text": [
      "Unexpected parameter: since\n",
      "Unexpected parameter: since\n",
      "Unexpected parameter: since\n",
      "Unexpected parameter: since\n",
      "Unexpected parameter: since\n",
      "Unexpected parameter: since\n",
      "Unexpected parameter: since\n",
      "Unexpected parameter: since\n",
      "Unexpected parameter: since\n",
      "Unexpected parameter: since\n"
     ]
    },
    {
     "data": {
      "text/html": [
       "<div>\n",
       "<style scoped>\n",
       "    .dataframe tbody tr th:only-of-type {\n",
       "        vertical-align: middle;\n",
       "    }\n",
       "\n",
       "    .dataframe tbody tr th {\n",
       "        vertical-align: top;\n",
       "    }\n",
       "\n",
       "    .dataframe thead th {\n",
       "        text-align: right;\n",
       "    }\n",
       "</style>\n",
       "<table border=\"1\" class=\"dataframe\">\n",
       "  <thead>\n",
       "    <tr style=\"text-align: right;\">\n",
       "      <th></th>\n",
       "      <th>time_of_tweet</th>\n",
       "      <th>user</th>\n",
       "      <th>tweet</th>\n",
       "      <th>user_id</th>\n",
       "    </tr>\n",
       "  </thead>\n",
       "  <tbody>\n",
       "    <tr>\n",
       "      <th>0</th>\n",
       "      <td>2022-07-01 23:59:31+00:00</td>\n",
       "      <td>LarsonMykel</td>\n",
       "      <td>#SurveillanceCapitalism is a virus that turns ...</td>\n",
       "      <td>1501049173390422018</td>\n",
       "    </tr>\n",
       "    <tr>\n",
       "      <th>1</th>\n",
       "      <td>2022-07-01 23:59:06+00:00</td>\n",
       "      <td>boylerpf</td>\n",
       "      <td>Art Deco #Vintage #Wedding Band Ring 14K #Gold...</td>\n",
       "      <td>49309789</td>\n",
       "    </tr>\n",
       "    <tr>\n",
       "      <th>2</th>\n",
       "      <td>2022-07-01 23:57:31+00:00</td>\n",
       "      <td>democrat_good</td>\n",
       "      <td>RT @badcharts1: Did you know #silver never fai...</td>\n",
       "      <td>1361088253986750466</td>\n",
       "    </tr>\n",
       "    <tr>\n",
       "      <th>3</th>\n",
       "      <td>2022-07-01 23:56:12+00:00</td>\n",
       "      <td>GermanyKrins</td>\n",
       "      <td>RT @VLRTRW: @HannesZipfel #Euro #USDollar #End...</td>\n",
       "      <td>1345130504199282695</td>\n",
       "    </tr>\n",
       "    <tr>\n",
       "      <th>4</th>\n",
       "      <td>2022-07-01 23:55:58+00:00</td>\n",
       "      <td>GermanyKrins</td>\n",
       "      <td>RT @VLRTRW: @PeterBorbe #Euro #USDollar #Endga...</td>\n",
       "      <td>1345130504199282695</td>\n",
       "    </tr>\n",
       "  </tbody>\n",
       "</table>\n",
       "</div>"
      ],
      "text/plain": [
       "              time_of_tweet           user  \\\n",
       "0 2022-07-01 23:59:31+00:00    LarsonMykel   \n",
       "1 2022-07-01 23:59:06+00:00       boylerpf   \n",
       "2 2022-07-01 23:57:31+00:00  democrat_good   \n",
       "3 2022-07-01 23:56:12+00:00   GermanyKrins   \n",
       "4 2022-07-01 23:55:58+00:00   GermanyKrins   \n",
       "\n",
       "                                               tweet              user_id  \n",
       "0  #SurveillanceCapitalism is a virus that turns ...  1501049173390422018  \n",
       "1  Art Deco #Vintage #Wedding Band Ring 14K #Gold...             49309789  \n",
       "2  RT @badcharts1: Did you know #silver never fai...  1361088253986750466  \n",
       "3  RT @VLRTRW: @HannesZipfel #Euro #USDollar #End...  1345130504199282695  \n",
       "4  RT @VLRTRW: @PeterBorbe #Euro #USDollar #Endga...  1345130504199282695  "
      ]
     },
     "execution_count": 22,
     "metadata": {},
     "output_type": "execute_result"
    }
   ],
   "source": [
    "tweets_gol = tw.Cursor(api.search_tweets,\n",
    "              q=search_words_gol,\n",
    "              lang=\"en\",\n",
    "              since=date_since, until=end_date).items(140)\n",
    "\n",
    "tweets_gol \n",
    "\n",
    "tweet_list_gol = [[tweet.created_at, tweet.user.screen_name, tweet.text, tweet.user.id] for tweet in tweets_gol]\n",
    "\n",
    "df_tweets_list_gol = pd.DataFrame(tweet_list_gol, columns=['time_of_tweet', 'user', 'tweet', 'user_id'])\n",
    "df_tweets_list_gol.head()"
   ]
  },
  {
   "cell_type": "code",
   "execution_count": null,
   "id": "3872b586",
   "metadata": {},
   "outputs": [],
   "source": []
  },
  {
   "cell_type": "markdown",
   "id": "1d0a16e2",
   "metadata": {},
   "source": [
    "#### #Apple"
   ]
  },
  {
   "cell_type": "code",
   "execution_count": 23,
   "id": "33fd3563",
   "metadata": {},
   "outputs": [
    {
     "data": {
      "text/plain": [
       "<tweepy.cursor.ItemIterator at 0x14f2ac22790>"
      ]
     },
     "execution_count": 23,
     "metadata": {},
     "output_type": "execute_result"
    }
   ],
   "source": [
    "tweets_app = api.home_timeline(count=140)\n",
    "\n",
    "search_words_app = \"#Apple\"\n",
    "date_since = \"2022-06-25\"\n",
    "end_date = \"2022-07-02\"\n",
    "\n",
    "# Collect tweets with apple hashtags\n",
    "tweets_app = tw.Cursor(api.search_tweets,\n",
    "              q=search_words_app,\n",
    "              lang=\"en\",\n",
    "              since=date_since, until=end_date).items(140)\n",
    "\n",
    "tweets_app \n"
   ]
  },
  {
   "cell_type": "code",
   "execution_count": 24,
   "id": "f6111924",
   "metadata": {
    "scrolled": true
   },
   "outputs": [
    {
     "name": "stderr",
     "output_type": "stream",
     "text": [
      "Unexpected parameter: since\n",
      "Unexpected parameter: since\n",
      "Unexpected parameter: since\n",
      "Unexpected parameter: since\n",
      "Unexpected parameter: since\n",
      "Unexpected parameter: since\n",
      "Unexpected parameter: since\n",
      "Unexpected parameter: since\n",
      "Unexpected parameter: since\n",
      "Unexpected parameter: since\n",
      "Unexpected parameter: since\n",
      "Unexpected parameter: since\n"
     ]
    },
    {
     "data": {
      "text/html": [
       "<div>\n",
       "<style scoped>\n",
       "    .dataframe tbody tr th:only-of-type {\n",
       "        vertical-align: middle;\n",
       "    }\n",
       "\n",
       "    .dataframe tbody tr th {\n",
       "        vertical-align: top;\n",
       "    }\n",
       "\n",
       "    .dataframe thead th {\n",
       "        text-align: right;\n",
       "    }\n",
       "</style>\n",
       "<table border=\"1\" class=\"dataframe\">\n",
       "  <thead>\n",
       "    <tr style=\"text-align: right;\">\n",
       "      <th></th>\n",
       "      <th>time_of_tweet</th>\n",
       "      <th>user</th>\n",
       "      <th>tweet</th>\n",
       "      <th>user_id</th>\n",
       "    </tr>\n",
       "  </thead>\n",
       "  <tbody>\n",
       "    <tr>\n",
       "      <th>0</th>\n",
       "      <td>2022-07-01 23:59:51+00:00</td>\n",
       "      <td>BigguyStore</td>\n",
       "      <td>Are you looking for a new accessory for your p...</td>\n",
       "      <td>1283164155243986944</td>\n",
       "    </tr>\n",
       "    <tr>\n",
       "      <th>1</th>\n",
       "      <td>2022-07-01 23:59:01+00:00</td>\n",
       "      <td>marce_170018</td>\n",
       "      <td>RT @AdamJMatlock: Me trying to relax…\\n\\n#appl...</td>\n",
       "      <td>1314681725134438402</td>\n",
       "    </tr>\n",
       "    <tr>\n",
       "      <th>2</th>\n",
       "      <td>2022-07-01 23:58:02+00:00</td>\n",
       "      <td>theloganstark</td>\n",
       "      <td>RT @appleinsider: Late #Apple co-founder #Stev...</td>\n",
       "      <td>1087546006902779904</td>\n",
       "    </tr>\n",
       "    <tr>\n",
       "      <th>3</th>\n",
       "      <td>2022-07-01 23:56:52+00:00</td>\n",
       "      <td>WesWookBeats</td>\n",
       "      <td>Who do I need to call at @Ableton &amp;amp; #Apple...</td>\n",
       "      <td>47697132</td>\n",
       "    </tr>\n",
       "    <tr>\n",
       "      <th>4</th>\n",
       "      <td>2022-07-01 23:56:35+00:00</td>\n",
       "      <td>NYMetsChief</td>\n",
       "      <td>15 minutes on Lindor’s hair everyone!  #lgm @A...</td>\n",
       "      <td>835526448173756416</td>\n",
       "    </tr>\n",
       "  </tbody>\n",
       "</table>\n",
       "</div>"
      ],
      "text/plain": [
       "              time_of_tweet           user  \\\n",
       "0 2022-07-01 23:59:51+00:00    BigguyStore   \n",
       "1 2022-07-01 23:59:01+00:00   marce_170018   \n",
       "2 2022-07-01 23:58:02+00:00  theloganstark   \n",
       "3 2022-07-01 23:56:52+00:00   WesWookBeats   \n",
       "4 2022-07-01 23:56:35+00:00    NYMetsChief   \n",
       "\n",
       "                                               tweet              user_id  \n",
       "0  Are you looking for a new accessory for your p...  1283164155243986944  \n",
       "1  RT @AdamJMatlock: Me trying to relax…\\n\\n#appl...  1314681725134438402  \n",
       "2  RT @appleinsider: Late #Apple co-founder #Stev...  1087546006902779904  \n",
       "3  Who do I need to call at @Ableton &amp; #Apple...             47697132  \n",
       "4  15 minutes on Lindor’s hair everyone!  #lgm @A...   835526448173756416  "
      ]
     },
     "execution_count": 24,
     "metadata": {},
     "output_type": "execute_result"
    }
   ],
   "source": [
    "tweets_app = tw.Cursor(api.search_tweets,\n",
    "              q=search_words_app,\n",
    "              lang=\"en\",\n",
    "              since=date_since, until=end_date).items(140)\n",
    "\n",
    "tweets_app\n",
    "\n",
    "tweet_list_app = [[tweet.created_at, tweet.user.screen_name, tweet.text, tweet.user.id] for tweet in tweets_app]\n",
    "\n",
    "df_tweets_list_app = pd.DataFrame(tweet_list_app, columns=['time_of_tweet', 'user', 'tweet', 'user_id'])\n",
    "df_tweets_list_app.head()"
   ]
  },
  {
   "cell_type": "code",
   "execution_count": null,
   "id": "55acbce2",
   "metadata": {},
   "outputs": [],
   "source": []
  },
  {
   "cell_type": "markdown",
   "id": "172dedb4",
   "metadata": {},
   "source": [
    "#### #Google"
   ]
  },
  {
   "cell_type": "code",
   "execution_count": 25,
   "id": "b2b1d479",
   "metadata": {
    "scrolled": true
   },
   "outputs": [
    {
     "data": {
      "text/plain": [
       "<tweepy.cursor.ItemIterator at 0x14f2b2cefa0>"
      ]
     },
     "execution_count": 25,
     "metadata": {},
     "output_type": "execute_result"
    }
   ],
   "source": [
    "tweets_goo = api.home_timeline(count=140)\n",
    "\n",
    "search_words_goo = \"#Google\"\n",
    "date_since = \"2022-06-25\"\n",
    "end_date = \"2022-07-02\"\n",
    "\n",
    "# Collect tweets with google hashtags\n",
    "tweets_goo = tw.Cursor(api.search_tweets,\n",
    "              q=search_words_goo,\n",
    "              lang=\"en\",\n",
    "              since=date_since, until=end_date).items(140)\n",
    "\n",
    "tweets_goo \n"
   ]
  },
  {
   "cell_type": "code",
   "execution_count": 26,
   "id": "1b23d80d",
   "metadata": {
    "scrolled": true
   },
   "outputs": [
    {
     "name": "stderr",
     "output_type": "stream",
     "text": [
      "Unexpected parameter: since\n",
      "Unexpected parameter: since\n",
      "Unexpected parameter: since\n",
      "Unexpected parameter: since\n",
      "Unexpected parameter: since\n",
      "Unexpected parameter: since\n",
      "Unexpected parameter: since\n",
      "Unexpected parameter: since\n",
      "Unexpected parameter: since\n",
      "Unexpected parameter: since\n",
      "Unexpected parameter: since\n",
      "Unexpected parameter: since\n",
      "Unexpected parameter: since\n"
     ]
    },
    {
     "data": {
      "text/html": [
       "<div>\n",
       "<style scoped>\n",
       "    .dataframe tbody tr th:only-of-type {\n",
       "        vertical-align: middle;\n",
       "    }\n",
       "\n",
       "    .dataframe tbody tr th {\n",
       "        vertical-align: top;\n",
       "    }\n",
       "\n",
       "    .dataframe thead th {\n",
       "        text-align: right;\n",
       "    }\n",
       "</style>\n",
       "<table border=\"1\" class=\"dataframe\">\n",
       "  <thead>\n",
       "    <tr style=\"text-align: right;\">\n",
       "      <th></th>\n",
       "      <th>time_of_tweet</th>\n",
       "      <th>user</th>\n",
       "      <th>tweet</th>\n",
       "      <th>user_id</th>\n",
       "    </tr>\n",
       "  </thead>\n",
       "  <tbody>\n",
       "    <tr>\n",
       "      <th>0</th>\n",
       "      <td>2022-07-01 23:59:15+00:00</td>\n",
       "      <td>LIVINGTheNewSt1</td>\n",
       "      <td>Technical point, #Rose. I haven't finished rea...</td>\n",
       "      <td>1253132880684990467</td>\n",
       "    </tr>\n",
       "    <tr>\n",
       "      <th>1</th>\n",
       "      <td>2022-07-01 23:58:03+00:00</td>\n",
       "      <td>NicoConlin</td>\n",
       "      <td>Chrome/Youtube is so busted. Usually I can hav...</td>\n",
       "      <td>1416894920</td>\n",
       "    </tr>\n",
       "    <tr>\n",
       "      <th>2</th>\n",
       "      <td>2022-07-01 23:52:37+00:00</td>\n",
       "      <td>mrboult</td>\n",
       "      <td>RT @SaltSecurity: The entire industry benefits...</td>\n",
       "      <td>3385946008</td>\n",
       "    </tr>\n",
       "    <tr>\n",
       "      <th>3</th>\n",
       "      <td>2022-07-01 23:51:02+00:00</td>\n",
       "      <td>VikingIrishGod</td>\n",
       "      <td>@Google @madebygoogle @googlemaps #Google #map...</td>\n",
       "      <td>1082202837407416321</td>\n",
       "    </tr>\n",
       "    <tr>\n",
       "      <th>4</th>\n",
       "      <td>2022-07-01 23:50:39+00:00</td>\n",
       "      <td>imlikhita</td>\n",
       "      <td>RT @timesofindia: 15 ‘dangerous’ India-linked ...</td>\n",
       "      <td>307446352</td>\n",
       "    </tr>\n",
       "  </tbody>\n",
       "</table>\n",
       "</div>"
      ],
      "text/plain": [
       "              time_of_tweet             user  \\\n",
       "0 2022-07-01 23:59:15+00:00  LIVINGTheNewSt1   \n",
       "1 2022-07-01 23:58:03+00:00       NicoConlin   \n",
       "2 2022-07-01 23:52:37+00:00          mrboult   \n",
       "3 2022-07-01 23:51:02+00:00   VikingIrishGod   \n",
       "4 2022-07-01 23:50:39+00:00        imlikhita   \n",
       "\n",
       "                                               tweet              user_id  \n",
       "0  Technical point, #Rose. I haven't finished rea...  1253132880684990467  \n",
       "1  Chrome/Youtube is so busted. Usually I can hav...           1416894920  \n",
       "2  RT @SaltSecurity: The entire industry benefits...           3385946008  \n",
       "3  @Google @madebygoogle @googlemaps #Google #map...  1082202837407416321  \n",
       "4  RT @timesofindia: 15 ‘dangerous’ India-linked ...            307446352  "
      ]
     },
     "execution_count": 26,
     "metadata": {},
     "output_type": "execute_result"
    }
   ],
   "source": [
    "tweets_goo = tw.Cursor(api.search_tweets,\n",
    "              q=search_words_goo,\n",
    "              lang=\"en\",\n",
    "              since=date_since, until=end_date).items(140)\n",
    "\n",
    "tweets_goo\n",
    "\n",
    "tweet_list_goo = [[tweet.created_at, tweet.user.screen_name, tweet.text, tweet.user.id] for tweet in tweets_goo]\n",
    "\n",
    "df_tweets_list_goo = pd.DataFrame(tweet_list_goo, columns=['time_of_tweet', 'user', 'tweet', 'user_id'])\n",
    "df_tweets_list_goo.head()"
   ]
  },
  {
   "cell_type": "code",
   "execution_count": null,
   "id": "4d596830",
   "metadata": {},
   "outputs": [],
   "source": []
  },
  {
   "cell_type": "markdown",
   "id": "fd3718d7",
   "metadata": {},
   "source": [
    "#### #Yahoo"
   ]
  },
  {
   "cell_type": "code",
   "execution_count": 27,
   "id": "80f7802c",
   "metadata": {},
   "outputs": [
    {
     "data": {
      "text/plain": [
       "<tweepy.cursor.ItemIterator at 0x14f2b2ceb80>"
      ]
     },
     "execution_count": 27,
     "metadata": {},
     "output_type": "execute_result"
    }
   ],
   "source": [
    "tweets_yah = api.home_timeline(count=100)\n",
    "\n",
    "search_words_yah = \"#Yahoo\"\n",
    "date_since = \"2022-06-25\"\n",
    "end_date = \"2022-07-02\"\n",
    "\n",
    "# Collect tweets with yahoo hashtags\n",
    "tweets_yah = tw.Cursor(api.search_tweets,\n",
    "              q=search_words_yah,\n",
    "              lang=\"en\",\n",
    "              since=date_since, until=end_date).items(100)\n",
    "\n",
    "tweets_yah \n"
   ]
  },
  {
   "cell_type": "code",
   "execution_count": 28,
   "id": "7c298dc8",
   "metadata": {
    "scrolled": true
   },
   "outputs": [
    {
     "name": "stderr",
     "output_type": "stream",
     "text": [
      "Unexpected parameter: since\n",
      "Unexpected parameter: since\n",
      "Unexpected parameter: since\n",
      "Unexpected parameter: since\n",
      "Unexpected parameter: since\n",
      "Unexpected parameter: since\n",
      "Unexpected parameter: since\n"
     ]
    },
    {
     "data": {
      "text/html": [
       "<div>\n",
       "<style scoped>\n",
       "    .dataframe tbody tr th:only-of-type {\n",
       "        vertical-align: middle;\n",
       "    }\n",
       "\n",
       "    .dataframe tbody tr th {\n",
       "        vertical-align: top;\n",
       "    }\n",
       "\n",
       "    .dataframe thead th {\n",
       "        text-align: right;\n",
       "    }\n",
       "</style>\n",
       "<table border=\"1\" class=\"dataframe\">\n",
       "  <thead>\n",
       "    <tr style=\"text-align: right;\">\n",
       "      <th></th>\n",
       "      <th>time_of_tweet</th>\n",
       "      <th>user</th>\n",
       "      <th>tweet</th>\n",
       "      <th>user_id</th>\n",
       "    </tr>\n",
       "  </thead>\n",
       "  <tbody>\n",
       "    <tr>\n",
       "      <th>0</th>\n",
       "      <td>2022-07-01 23:08:11+00:00</td>\n",
       "      <td>majonwuatuegwu</td>\n",
       "      <td>RT @OmoBalogunn: Ona  king down ...he say him ...</td>\n",
       "      <td>275810878</td>\n",
       "    </tr>\n",
       "    <tr>\n",
       "      <th>1</th>\n",
       "      <td>2022-07-01 23:04:56+00:00</td>\n",
       "      <td>doyourememberwh</td>\n",
       "      <td>1991 Bells &amp;amp; Horns Arthur Court Green Marb...</td>\n",
       "      <td>203070054</td>\n",
       "    </tr>\n",
       "    <tr>\n",
       "      <th>2</th>\n",
       "      <td>2022-07-01 22:56:32+00:00</td>\n",
       "      <td>VictorUgooNjoku</td>\n",
       "      <td>RT @ebukadgod: They say @Yahooplus_Movie is TH...</td>\n",
       "      <td>1651977379</td>\n",
       "    </tr>\n",
       "    <tr>\n",
       "      <th>3</th>\n",
       "      <td>2022-07-01 22:25:03+00:00</td>\n",
       "      <td>TheGlobalHerald</td>\n",
       "      <td>Biden says he backs filibuster changes to codi...</td>\n",
       "      <td>96718576</td>\n",
       "    </tr>\n",
       "    <tr>\n",
       "      <th>4</th>\n",
       "      <td>2022-07-01 22:06:05+00:00</td>\n",
       "      <td>Nzekell</td>\n",
       "      <td>RT @ebukadgod: They say @Yahooplus_Movie is TH...</td>\n",
       "      <td>3307373758</td>\n",
       "    </tr>\n",
       "  </tbody>\n",
       "</table>\n",
       "</div>"
      ],
      "text/plain": [
       "              time_of_tweet             user  \\\n",
       "0 2022-07-01 23:08:11+00:00   majonwuatuegwu   \n",
       "1 2022-07-01 23:04:56+00:00  doyourememberwh   \n",
       "2 2022-07-01 22:56:32+00:00  VictorUgooNjoku   \n",
       "3 2022-07-01 22:25:03+00:00  TheGlobalHerald   \n",
       "4 2022-07-01 22:06:05+00:00          Nzekell   \n",
       "\n",
       "                                               tweet     user_id  \n",
       "0  RT @OmoBalogunn: Ona  king down ...he say him ...   275810878  \n",
       "1  1991 Bells &amp; Horns Arthur Court Green Marb...   203070054  \n",
       "2  RT @ebukadgod: They say @Yahooplus_Movie is TH...  1651977379  \n",
       "3  Biden says he backs filibuster changes to codi...    96718576  \n",
       "4  RT @ebukadgod: They say @Yahooplus_Movie is TH...  3307373758  "
      ]
     },
     "execution_count": 28,
     "metadata": {},
     "output_type": "execute_result"
    }
   ],
   "source": [
    "tweets_yah = tw.Cursor(api.search_tweets,\n",
    "              q=search_words_yah,\n",
    "              lang=\"en\",\n",
    "              since=date_since, until=end_date).items(100)\n",
    "\n",
    "tweets_yah\n",
    "\n",
    "tweet_list_yah = [[tweet.created_at, tweet.user.screen_name, tweet.text, tweet.user.id] for tweet in tweets_yah]\n",
    "\n",
    "df_tweets_list_yah = pd.DataFrame(tweet_list_yah, columns=['time_of_tweet', 'user', 'tweet', 'user_id'])\n",
    "df_tweets_list_yah.head()"
   ]
  },
  {
   "cell_type": "code",
   "execution_count": null,
   "id": "fc029f96",
   "metadata": {},
   "outputs": [],
   "source": []
  },
  {
   "cell_type": "markdown",
   "id": "e4cd4f04",
   "metadata": {},
   "source": [
    "### 2. Saving data with respective csv files"
   ]
  },
  {
   "cell_type": "code",
   "execution_count": 29,
   "id": "ff03fadf",
   "metadata": {},
   "outputs": [],
   "source": [
    "df_tweets_list_alt.to_csv('Altcoin.csv')"
   ]
  },
  {
   "cell_type": "code",
   "execution_count": 30,
   "id": "50571aa6",
   "metadata": {},
   "outputs": [],
   "source": [
    "df_tweets_list_bit.to_csv('Bitcoin.csv')"
   ]
  },
  {
   "cell_type": "code",
   "execution_count": 31,
   "id": "d6d86bb1",
   "metadata": {},
   "outputs": [],
   "source": [
    "df_tweets_list_coin.to_csv('Coindesk.csv')"
   ]
  },
  {
   "cell_type": "code",
   "execution_count": 32,
   "id": "ccb5becc",
   "metadata": {},
   "outputs": [],
   "source": [
    "df_tweets_list_cry.to_csv('Cryptocurrency.csv')"
   ]
  },
  {
   "cell_type": "code",
   "execution_count": 33,
   "id": "9ec41c64",
   "metadata": {},
   "outputs": [],
   "source": [
    "df_tweets_list_gol.to_csv('Gold.csv') "
   ]
  },
  {
   "cell_type": "code",
   "execution_count": 34,
   "id": "605eb755",
   "metadata": {},
   "outputs": [],
   "source": [
    "df_tweets_list_app.to_csv('Apple.csv')"
   ]
  },
  {
   "cell_type": "code",
   "execution_count": 35,
   "id": "cbf7ff90",
   "metadata": {},
   "outputs": [],
   "source": [
    "df_tweets_list_goo.to_csv('Google.csv')"
   ]
  },
  {
   "cell_type": "code",
   "execution_count": 36,
   "id": "e997efff",
   "metadata": {},
   "outputs": [],
   "source": [
    "df_tweets_list_yah.to_csv('Yahoo.csv')"
   ]
  },
  {
   "cell_type": "markdown",
   "id": "3ad1cce1",
   "metadata": {},
   "source": [
    "### 3. Cleaning data"
   ]
  },
  {
   "cell_type": "code",
   "execution_count": 37,
   "id": "01a4aee0",
   "metadata": {},
   "outputs": [],
   "source": [
    "tweet_data = pd.concat([df_tweets_list_alt, \n",
    "                        df_tweets_list_bit, \n",
    "                        df_tweets_list_coin, \n",
    "                        df_tweets_list_cry, \n",
    "                        df_tweets_list_gol, \n",
    "                        df_tweets_list_app, \n",
    "                        df_tweets_list_goo, \n",
    "                        df_tweets_list_yah], \n",
    "                       keys=[\"Altcoin\",\"Bitcoin\",\"Coindesk\",\"Cryptocurrency\", \"Gold\",\"Apple\",\"Google\",\"Yahoo\"], \n",
    "                     )"
   ]
  },
  {
   "cell_type": "code",
   "execution_count": 38,
   "id": "57ae14f8",
   "metadata": {
    "scrolled": true
   },
   "outputs": [
    {
     "data": {
      "text/html": [
       "<div>\n",
       "<style scoped>\n",
       "    .dataframe tbody tr th:only-of-type {\n",
       "        vertical-align: middle;\n",
       "    }\n",
       "\n",
       "    .dataframe tbody tr th {\n",
       "        vertical-align: top;\n",
       "    }\n",
       "\n",
       "    .dataframe thead th {\n",
       "        text-align: right;\n",
       "    }\n",
       "</style>\n",
       "<table border=\"1\" class=\"dataframe\">\n",
       "  <thead>\n",
       "    <tr style=\"text-align: right;\">\n",
       "      <th></th>\n",
       "      <th></th>\n",
       "      <th>time_of_tweet</th>\n",
       "      <th>user</th>\n",
       "      <th>tweet</th>\n",
       "      <th>user_id</th>\n",
       "    </tr>\n",
       "  </thead>\n",
       "  <tbody>\n",
       "    <tr>\n",
       "      <th rowspan=\"5\" valign=\"top\">Altcoin</th>\n",
       "      <th>0</th>\n",
       "      <td>2022-07-01 23:59:57+00:00</td>\n",
       "      <td>hanseungja1</td>\n",
       "      <td>RT @hernanlafalce: Which #altcoin you will nev...</td>\n",
       "      <td>1536307780730388487</td>\n",
       "    </tr>\n",
       "    <tr>\n",
       "      <th>1</th>\n",
       "      <td>2022-07-01 23:59:57+00:00</td>\n",
       "      <td>tavalez74</td>\n",
       "      <td>RT @_Br41nf4r7_: What do you really know about...</td>\n",
       "      <td>1438877328231354368</td>\n",
       "    </tr>\n",
       "    <tr>\n",
       "      <th>2</th>\n",
       "      <td>2022-07-01 23:59:34+00:00</td>\n",
       "      <td>godstime20</td>\n",
       "      <td>RT @_Br41nf4r7_: What do you really know about...</td>\n",
       "      <td>300307298</td>\n",
       "    </tr>\n",
       "    <tr>\n",
       "      <th>3</th>\n",
       "      <td>2022-07-01 23:57:29+00:00</td>\n",
       "      <td>HumphreyMacaul6</td>\n",
       "      <td>RT @Taha86613152: @rovercrc Don’t missed #SHIN...</td>\n",
       "      <td>1532124686410100736</td>\n",
       "    </tr>\n",
       "    <tr>\n",
       "      <th>4</th>\n",
       "      <td>2022-07-01 23:57:27+00:00</td>\n",
       "      <td>ShanerPhoto</td>\n",
       "      <td>#altseason #RHOP #SIHBAINUTOKEN #coinbase #bin...</td>\n",
       "      <td>1651285824</td>\n",
       "    </tr>\n",
       "    <tr>\n",
       "      <th>...</th>\n",
       "      <th>...</th>\n",
       "      <td>...</td>\n",
       "      <td>...</td>\n",
       "      <td>...</td>\n",
       "      <td>...</td>\n",
       "    </tr>\n",
       "    <tr>\n",
       "      <th rowspan=\"5\" valign=\"top\">Yahoo</th>\n",
       "      <th>95</th>\n",
       "      <td>2022-07-01 11:12:51+00:00</td>\n",
       "      <td>Richixzy</td>\n",
       "      <td>RT @AlhajiEmzo27: Never Forget, this happened ...</td>\n",
       "      <td>1539321574737776640</td>\n",
       "    </tr>\n",
       "    <tr>\n",
       "      <th>96</th>\n",
       "      <td>2022-07-01 11:07:55+00:00</td>\n",
       "      <td>Odogwuhennessy</td>\n",
       "      <td>RT @AlhajiEmzo27: Never Forget, this happened ...</td>\n",
       "      <td>316331597</td>\n",
       "    </tr>\n",
       "    <tr>\n",
       "      <th>97</th>\n",
       "      <td>2022-07-01 11:06:15+00:00</td>\n",
       "      <td>SrdjanArsic2</td>\n",
       "      <td>RT @MetaZilliqa: 75% voted bullish on Yahoo Fi...</td>\n",
       "      <td>1113509508272328704</td>\n",
       "    </tr>\n",
       "    <tr>\n",
       "      <th>98</th>\n",
       "      <td>2022-07-01 11:03:43+00:00</td>\n",
       "      <td>VictorUgooNjoku</td>\n",
       "      <td>RT @ebukadgod: Enugu, are you ready?\\n\\nCome a...</td>\n",
       "      <td>1651977379</td>\n",
       "    </tr>\n",
       "    <tr>\n",
       "      <th>99</th>\n",
       "      <td>2022-07-01 11:03:38+00:00</td>\n",
       "      <td>VictorUgooNjoku</td>\n",
       "      <td>RT @ebukadgod: Yahoo + is coming with the bigg...</td>\n",
       "      <td>1651977379</td>\n",
       "    </tr>\n",
       "  </tbody>\n",
       "</table>\n",
       "<p>963 rows × 4 columns</p>\n",
       "</div>"
      ],
      "text/plain": [
       "                       time_of_tweet             user  \\\n",
       "Altcoin 0  2022-07-01 23:59:57+00:00      hanseungja1   \n",
       "        1  2022-07-01 23:59:57+00:00        tavalez74   \n",
       "        2  2022-07-01 23:59:34+00:00       godstime20   \n",
       "        3  2022-07-01 23:57:29+00:00  HumphreyMacaul6   \n",
       "        4  2022-07-01 23:57:27+00:00      ShanerPhoto   \n",
       "...                              ...              ...   \n",
       "Yahoo   95 2022-07-01 11:12:51+00:00         Richixzy   \n",
       "        96 2022-07-01 11:07:55+00:00   Odogwuhennessy   \n",
       "        97 2022-07-01 11:06:15+00:00     SrdjanArsic2   \n",
       "        98 2022-07-01 11:03:43+00:00  VictorUgooNjoku   \n",
       "        99 2022-07-01 11:03:38+00:00  VictorUgooNjoku   \n",
       "\n",
       "                                                        tweet  \\\n",
       "Altcoin 0   RT @hernanlafalce: Which #altcoin you will nev...   \n",
       "        1   RT @_Br41nf4r7_: What do you really know about...   \n",
       "        2   RT @_Br41nf4r7_: What do you really know about...   \n",
       "        3   RT @Taha86613152: @rovercrc Don’t missed #SHIN...   \n",
       "        4   #altseason #RHOP #SIHBAINUTOKEN #coinbase #bin...   \n",
       "...                                                       ...   \n",
       "Yahoo   95  RT @AlhajiEmzo27: Never Forget, this happened ...   \n",
       "        96  RT @AlhajiEmzo27: Never Forget, this happened ...   \n",
       "        97  RT @MetaZilliqa: 75% voted bullish on Yahoo Fi...   \n",
       "        98  RT @ebukadgod: Enugu, are you ready?\\n\\nCome a...   \n",
       "        99  RT @ebukadgod: Yahoo + is coming with the bigg...   \n",
       "\n",
       "                        user_id  \n",
       "Altcoin 0   1536307780730388487  \n",
       "        1   1438877328231354368  \n",
       "        2             300307298  \n",
       "        3   1532124686410100736  \n",
       "        4            1651285824  \n",
       "...                         ...  \n",
       "Yahoo   95  1539321574737776640  \n",
       "        96            316331597  \n",
       "        97  1113509508272328704  \n",
       "        98           1651977379  \n",
       "        99           1651977379  \n",
       "\n",
       "[963 rows x 4 columns]"
      ]
     },
     "execution_count": 38,
     "metadata": {},
     "output_type": "execute_result"
    }
   ],
   "source": [
    "tweet_data"
   ]
  },
  {
   "cell_type": "code",
   "execution_count": 39,
   "id": "339135e4",
   "metadata": {},
   "outputs": [],
   "source": [
    "import nltk\n",
    "from nltk.tokenize import word_tokenize as wt"
   ]
  },
  {
   "cell_type": "code",
   "execution_count": 40,
   "id": "4d142f50",
   "metadata": {},
   "outputs": [],
   "source": [
    "# drop duplicate values\n",
    "tweet_data.drop_duplicates(subset=['tweet'], inplace=True)"
   ]
  },
  {
   "cell_type": "code",
   "execution_count": 41,
   "id": "0f085486",
   "metadata": {},
   "outputs": [],
   "source": [
    "# create text tweet df\n",
    "text_tokens = pd.DataFrame(tweet_data['tweet'])"
   ]
  },
  {
   "cell_type": "code",
   "execution_count": 42,
   "id": "cb4ec2cd",
   "metadata": {},
   "outputs": [
    {
     "name": "stdout",
     "output_type": "stream",
     "text": [
      "                                                        tweet\n",
      "Altcoin 0   RT @hernanlafalce: Which #altcoin you will nev...\n",
      "        1   RT @_Br41nf4r7_: What do you really know about...\n",
      "        3   RT @Taha86613152: @rovercrc Don’t missed #SHIN...\n",
      "        4   #altseason #RHOP #SIHBAINUTOKEN #coinbase #bin...\n",
      "        5   *THIS* Is Why Bitcoin, Ethereum, Solana, &amp;...\n",
      "        6   RT @MonstersCoins: What #Gem are you buying mo...\n",
      "        7   #altseason #RHOP #SIHBAINUTOKEN #coinbase #bin...\n",
      "        8   RT @AltGemHunter: Which #altcoin would you buy...\n",
      "        9   RT @Laura__crypto: Which #altcoin are you most...\n",
      "        10  RT @SeniorCryptos: What do you buy today? 🕵🏻‍♀...\n",
      "        11  RT @SHILLBILLGEMS: Shill me your 1000x gems! 👀...\n",
      "        12  RT @SharksCoins: Which #Altcoin will make 500x...\n",
      "        13  RT @MonstersCoins: Shill me the next 100x gem!...\n",
      "        15  RT @Crypto__emily: I am going to put $10,000 i...\n",
      "        16  RT @SharksCoins: Shill me your next 100x #altc...\n"
     ]
    },
    {
     "data": {
      "text/plain": [
       "(693, 1)"
      ]
     },
     "execution_count": 42,
     "metadata": {},
     "output_type": "execute_result"
    }
   ],
   "source": [
    "print(text_tokens.head(15))\n",
    "text_tokens.shape"
   ]
  },
  {
   "cell_type": "code",
   "execution_count": 43,
   "id": "f022d381",
   "metadata": {},
   "outputs": [
    {
     "data": {
      "text/plain": [
       "(693, 1)"
      ]
     },
     "execution_count": 43,
     "metadata": {},
     "output_type": "execute_result"
    }
   ],
   "source": [
    "# drop null values\n",
    "text_tokens.dropna(inplace=True)\n",
    "text_tokens.shape"
   ]
  },
  {
   "cell_type": "code",
   "execution_count": 44,
   "id": "b2a3c77f",
   "metadata": {},
   "outputs": [],
   "source": [
    "# resetting index\n",
    "text_tokens.reset_index(inplace=True, drop=True)"
   ]
  },
  {
   "cell_type": "code",
   "execution_count": 45,
   "id": "050869a1",
   "metadata": {
    "scrolled": true
   },
   "outputs": [
    {
     "data": {
      "text/plain": [
       "'!\"#$%&\\'()*+,-./:;<=>?@[\\\\]^_`{|}~'"
      ]
     },
     "execution_count": 45,
     "metadata": {},
     "output_type": "execute_result"
    }
   ],
   "source": [
    "# remove punctuations\n",
    "import string\n",
    "string.punctuation"
   ]
  },
  {
   "cell_type": "code",
   "execution_count": 46,
   "id": "f3738839",
   "metadata": {},
   "outputs": [],
   "source": [
    "def remove_punctuation(txt):\n",
    "    txt_nopunct = \"\".join([c for c in txt if c not in string.punctuation])\n",
    "    return txt_nopunct"
   ]
  },
  {
   "cell_type": "code",
   "execution_count": 47,
   "id": "65d19192",
   "metadata": {
    "scrolled": false
   },
   "outputs": [
    {
     "data": {
      "text/html": [
       "<div>\n",
       "<style scoped>\n",
       "    .dataframe tbody tr th:only-of-type {\n",
       "        vertical-align: middle;\n",
       "    }\n",
       "\n",
       "    .dataframe tbody tr th {\n",
       "        vertical-align: top;\n",
       "    }\n",
       "\n",
       "    .dataframe thead th {\n",
       "        text-align: right;\n",
       "    }\n",
       "</style>\n",
       "<table border=\"1\" class=\"dataframe\">\n",
       "  <thead>\n",
       "    <tr style=\"text-align: right;\">\n",
       "      <th></th>\n",
       "      <th>tweet</th>\n",
       "      <th>tweets_clean</th>\n",
       "    </tr>\n",
       "  </thead>\n",
       "  <tbody>\n",
       "    <tr>\n",
       "      <th>0</th>\n",
       "      <td>RT @hernanlafalce: Which #altcoin you will nev...</td>\n",
       "      <td>RT hernanlafalce Which altcoin you will never ...</td>\n",
       "    </tr>\n",
       "    <tr>\n",
       "      <th>1</th>\n",
       "      <td>RT @_Br41nf4r7_: What do you really know about...</td>\n",
       "      <td>RT Br41nf4r7 What do you really know about Fir...</td>\n",
       "    </tr>\n",
       "    <tr>\n",
       "      <th>2</th>\n",
       "      <td>RT @Taha86613152: @rovercrc Don’t missed #SHIN...</td>\n",
       "      <td>RT Taha86613152 rovercrc Don’t missed SHINJA 🥷...</td>\n",
       "    </tr>\n",
       "    <tr>\n",
       "      <th>3</th>\n",
       "      <td>#altseason #RHOP #SIHBAINUTOKEN #coinbase #bin...</td>\n",
       "      <td>altseason RHOP SIHBAINUTOKEN coinbase binaryop...</td>\n",
       "    </tr>\n",
       "    <tr>\n",
       "      <th>4</th>\n",
       "      <td>*THIS* Is Why Bitcoin, Ethereum, Solana, &amp;amp;...</td>\n",
       "      <td>THIS Is Why Bitcoin Ethereum Solana amp Crypto...</td>\n",
       "    </tr>\n",
       "    <tr>\n",
       "      <th>5</th>\n",
       "      <td>RT @MonstersCoins: What #Gem are you buying mo...</td>\n",
       "      <td>RT MonstersCoins What Gem are you buying more ...</td>\n",
       "    </tr>\n",
       "    <tr>\n",
       "      <th>6</th>\n",
       "      <td>#altseason #RHOP #SIHBAINUTOKEN #coinbase #bin...</td>\n",
       "      <td>altseason RHOP SIHBAINUTOKEN coinbase binaryop...</td>\n",
       "    </tr>\n",
       "    <tr>\n",
       "      <th>7</th>\n",
       "      <td>RT @AltGemHunter: Which #altcoin would you buy...</td>\n",
       "      <td>RT AltGemHunter Which altcoin would you buy no...</td>\n",
       "    </tr>\n",
       "    <tr>\n",
       "      <th>8</th>\n",
       "      <td>RT @Laura__crypto: Which #altcoin are you most...</td>\n",
       "      <td>RT Lauracrypto Which altcoin are you most exci...</td>\n",
       "    </tr>\n",
       "    <tr>\n",
       "      <th>9</th>\n",
       "      <td>RT @SeniorCryptos: What do you buy today? 🕵🏻‍♀...</td>\n",
       "      <td>RT SeniorCryptos What do you buy today 🕵🏻‍♀️👀\\...</td>\n",
       "    </tr>\n",
       "    <tr>\n",
       "      <th>10</th>\n",
       "      <td>RT @SHILLBILLGEMS: Shill me your 1000x gems! 👀...</td>\n",
       "      <td>RT SHILLBILLGEMS Shill me your 1000x gems 👀💎\\n...</td>\n",
       "    </tr>\n",
       "    <tr>\n",
       "      <th>11</th>\n",
       "      <td>RT @SharksCoins: Which #Altcoin will make 500x...</td>\n",
       "      <td>RT SharksCoins Which Altcoin will make 500x in...</td>\n",
       "    </tr>\n",
       "    <tr>\n",
       "      <th>12</th>\n",
       "      <td>RT @MonstersCoins: Shill me the next 100x gem!...</td>\n",
       "      <td>RT MonstersCoins Shill me the next 100x gem 💎👀...</td>\n",
       "    </tr>\n",
       "    <tr>\n",
       "      <th>13</th>\n",
       "      <td>RT @Crypto__emily: I am going to put $10,000 i...</td>\n",
       "      <td>RT Cryptoemily I am going to put 10000 into yo...</td>\n",
       "    </tr>\n",
       "    <tr>\n",
       "      <th>14</th>\n",
       "      <td>RT @SharksCoins: Shill me your next 100x #altc...</td>\n",
       "      <td>RT SharksCoins Shill me your next 100x altcoin...</td>\n",
       "    </tr>\n",
       "  </tbody>\n",
       "</table>\n",
       "</div>"
      ],
      "text/plain": [
       "                                                tweet  \\\n",
       "0   RT @hernanlafalce: Which #altcoin you will nev...   \n",
       "1   RT @_Br41nf4r7_: What do you really know about...   \n",
       "2   RT @Taha86613152: @rovercrc Don’t missed #SHIN...   \n",
       "3   #altseason #RHOP #SIHBAINUTOKEN #coinbase #bin...   \n",
       "4   *THIS* Is Why Bitcoin, Ethereum, Solana, &amp;...   \n",
       "5   RT @MonstersCoins: What #Gem are you buying mo...   \n",
       "6   #altseason #RHOP #SIHBAINUTOKEN #coinbase #bin...   \n",
       "7   RT @AltGemHunter: Which #altcoin would you buy...   \n",
       "8   RT @Laura__crypto: Which #altcoin are you most...   \n",
       "9   RT @SeniorCryptos: What do you buy today? 🕵🏻‍♀...   \n",
       "10  RT @SHILLBILLGEMS: Shill me your 1000x gems! 👀...   \n",
       "11  RT @SharksCoins: Which #Altcoin will make 500x...   \n",
       "12  RT @MonstersCoins: Shill me the next 100x gem!...   \n",
       "13  RT @Crypto__emily: I am going to put $10,000 i...   \n",
       "14  RT @SharksCoins: Shill me your next 100x #altc...   \n",
       "\n",
       "                                         tweets_clean  \n",
       "0   RT hernanlafalce Which altcoin you will never ...  \n",
       "1   RT Br41nf4r7 What do you really know about Fir...  \n",
       "2   RT Taha86613152 rovercrc Don’t missed SHINJA 🥷...  \n",
       "3   altseason RHOP SIHBAINUTOKEN coinbase binaryop...  \n",
       "4   THIS Is Why Bitcoin Ethereum Solana amp Crypto...  \n",
       "5   RT MonstersCoins What Gem are you buying more ...  \n",
       "6   altseason RHOP SIHBAINUTOKEN coinbase binaryop...  \n",
       "7   RT AltGemHunter Which altcoin would you buy no...  \n",
       "8   RT Lauracrypto Which altcoin are you most exci...  \n",
       "9   RT SeniorCryptos What do you buy today 🕵🏻‍♀️👀\\...  \n",
       "10  RT SHILLBILLGEMS Shill me your 1000x gems 👀💎\\n...  \n",
       "11  RT SharksCoins Which Altcoin will make 500x in...  \n",
       "12  RT MonstersCoins Shill me the next 100x gem 💎👀...  \n",
       "13  RT Cryptoemily I am going to put 10000 into yo...  \n",
       "14  RT SharksCoins Shill me your next 100x altcoin...  "
      ]
     },
     "execution_count": 47,
     "metadata": {},
     "output_type": "execute_result"
    }
   ],
   "source": [
    "text_tokens['tweets_clean'] = text_tokens['tweet'].apply(lambda x: remove_punctuation(x))\n",
    "text_tokens.head(15)"
   ]
  },
  {
   "cell_type": "code",
   "execution_count": 48,
   "id": "1be6021a",
   "metadata": {},
   "outputs": [
    {
     "data": {
      "text/html": [
       "<div>\n",
       "<style scoped>\n",
       "    .dataframe tbody tr th:only-of-type {\n",
       "        vertical-align: middle;\n",
       "    }\n",
       "\n",
       "    .dataframe tbody tr th {\n",
       "        vertical-align: top;\n",
       "    }\n",
       "\n",
       "    .dataframe thead th {\n",
       "        text-align: right;\n",
       "    }\n",
       "</style>\n",
       "<table border=\"1\" class=\"dataframe\">\n",
       "  <thead>\n",
       "    <tr style=\"text-align: right;\">\n",
       "      <th></th>\n",
       "      <th>tweet</th>\n",
       "      <th>tweets_clean</th>\n",
       "    </tr>\n",
       "  </thead>\n",
       "  <tbody>\n",
       "    <tr>\n",
       "      <th>0</th>\n",
       "      <td>RT @hernanlafalce: Which #altcoin you will nev...</td>\n",
       "      <td>RT hernanlafalce Which altcoin you will never ...</td>\n",
       "    </tr>\n",
       "    <tr>\n",
       "      <th>1</th>\n",
       "      <td>RT @_Br41nf4r7_: What do you really know about...</td>\n",
       "      <td>RT Brnfr What do you really know about FireANT...</td>\n",
       "    </tr>\n",
       "    <tr>\n",
       "      <th>2</th>\n",
       "      <td>RT @Taha86613152: @rovercrc Don’t missed #SHIN...</td>\n",
       "      <td>RT Taha rovercrc Don’t missed SHINJA 🥷🏿🔥\\nBuy ...</td>\n",
       "    </tr>\n",
       "    <tr>\n",
       "      <th>3</th>\n",
       "      <td>#altseason #RHOP #SIHBAINUTOKEN #coinbase #bin...</td>\n",
       "      <td>altseason RHOP SIHBAINUTOKEN coinbase binaryop...</td>\n",
       "    </tr>\n",
       "    <tr>\n",
       "      <th>4</th>\n",
       "      <td>*THIS* Is Why Bitcoin, Ethereum, Solana, &amp;amp;...</td>\n",
       "      <td>THIS Is Why Bitcoin Ethereum Solana amp Crypto...</td>\n",
       "    </tr>\n",
       "    <tr>\n",
       "      <th>5</th>\n",
       "      <td>RT @MonstersCoins: What #Gem are you buying mo...</td>\n",
       "      <td>RT MonstersCoins What Gem are you buying more ...</td>\n",
       "    </tr>\n",
       "    <tr>\n",
       "      <th>6</th>\n",
       "      <td>#altseason #RHOP #SIHBAINUTOKEN #coinbase #bin...</td>\n",
       "      <td>altseason RHOP SIHBAINUTOKEN coinbase binaryop...</td>\n",
       "    </tr>\n",
       "    <tr>\n",
       "      <th>7</th>\n",
       "      <td>RT @AltGemHunter: Which #altcoin would you buy...</td>\n",
       "      <td>RT AltGemHunter Which altcoin would you buy no...</td>\n",
       "    </tr>\n",
       "    <tr>\n",
       "      <th>8</th>\n",
       "      <td>RT @Laura__crypto: Which #altcoin are you most...</td>\n",
       "      <td>RT Lauracrypto Which altcoin are you most exci...</td>\n",
       "    </tr>\n",
       "    <tr>\n",
       "      <th>9</th>\n",
       "      <td>RT @SeniorCryptos: What do you buy today? 🕵🏻‍♀...</td>\n",
       "      <td>RT SeniorCryptos What do you buy today 🕵🏻‍♀️👀\\...</td>\n",
       "    </tr>\n",
       "    <tr>\n",
       "      <th>10</th>\n",
       "      <td>RT @SHILLBILLGEMS: Shill me your 1000x gems! 👀...</td>\n",
       "      <td>RT SHILLBILLGEMS Shill me your x gems 👀💎\\n\\nBS...</td>\n",
       "    </tr>\n",
       "    <tr>\n",
       "      <th>11</th>\n",
       "      <td>RT @SharksCoins: Which #Altcoin will make 500x...</td>\n",
       "      <td>RT SharksCoins Which Altcoin will make x in 💥🚀...</td>\n",
       "    </tr>\n",
       "    <tr>\n",
       "      <th>12</th>\n",
       "      <td>RT @MonstersCoins: Shill me the next 100x gem!...</td>\n",
       "      <td>RT MonstersCoins Shill me the next x gem 💎👀\\n\\...</td>\n",
       "    </tr>\n",
       "    <tr>\n",
       "      <th>13</th>\n",
       "      <td>RT @Crypto__emily: I am going to put $10,000 i...</td>\n",
       "      <td>RT Cryptoemily I am going to put  into your fa...</td>\n",
       "    </tr>\n",
       "    <tr>\n",
       "      <th>14</th>\n",
       "      <td>RT @SharksCoins: Shill me your next 100x #altc...</td>\n",
       "      <td>RT SharksCoins Shill me your next x altcoin 💎\\...</td>\n",
       "    </tr>\n",
       "  </tbody>\n",
       "</table>\n",
       "</div>"
      ],
      "text/plain": [
       "                                                tweet  \\\n",
       "0   RT @hernanlafalce: Which #altcoin you will nev...   \n",
       "1   RT @_Br41nf4r7_: What do you really know about...   \n",
       "2   RT @Taha86613152: @rovercrc Don’t missed #SHIN...   \n",
       "3   #altseason #RHOP #SIHBAINUTOKEN #coinbase #bin...   \n",
       "4   *THIS* Is Why Bitcoin, Ethereum, Solana, &amp;...   \n",
       "5   RT @MonstersCoins: What #Gem are you buying mo...   \n",
       "6   #altseason #RHOP #SIHBAINUTOKEN #coinbase #bin...   \n",
       "7   RT @AltGemHunter: Which #altcoin would you buy...   \n",
       "8   RT @Laura__crypto: Which #altcoin are you most...   \n",
       "9   RT @SeniorCryptos: What do you buy today? 🕵🏻‍♀...   \n",
       "10  RT @SHILLBILLGEMS: Shill me your 1000x gems! 👀...   \n",
       "11  RT @SharksCoins: Which #Altcoin will make 500x...   \n",
       "12  RT @MonstersCoins: Shill me the next 100x gem!...   \n",
       "13  RT @Crypto__emily: I am going to put $10,000 i...   \n",
       "14  RT @SharksCoins: Shill me your next 100x #altc...   \n",
       "\n",
       "                                         tweets_clean  \n",
       "0   RT hernanlafalce Which altcoin you will never ...  \n",
       "1   RT Brnfr What do you really know about FireANT...  \n",
       "2   RT Taha rovercrc Don’t missed SHINJA 🥷🏿🔥\\nBuy ...  \n",
       "3   altseason RHOP SIHBAINUTOKEN coinbase binaryop...  \n",
       "4   THIS Is Why Bitcoin Ethereum Solana amp Crypto...  \n",
       "5   RT MonstersCoins What Gem are you buying more ...  \n",
       "6   altseason RHOP SIHBAINUTOKEN coinbase binaryop...  \n",
       "7   RT AltGemHunter Which altcoin would you buy no...  \n",
       "8   RT Lauracrypto Which altcoin are you most exci...  \n",
       "9   RT SeniorCryptos What do you buy today 🕵🏻‍♀️👀\\...  \n",
       "10  RT SHILLBILLGEMS Shill me your x gems 👀💎\\n\\nBS...  \n",
       "11  RT SharksCoins Which Altcoin will make x in 💥🚀...  \n",
       "12  RT MonstersCoins Shill me the next x gem 💎👀\\n\\...  \n",
       "13  RT Cryptoemily I am going to put  into your fa...  \n",
       "14  RT SharksCoins Shill me your next x altcoin 💎\\...  "
      ]
     },
     "execution_count": 48,
     "metadata": {},
     "output_type": "execute_result"
    }
   ],
   "source": [
    "# removing numbers\n",
    "text_tokens['tweets_clean'] = text_tokens['tweets_clean'].str.replace('\\d+', '', regex=True)\n",
    "text_tokens.head(15)"
   ]
  },
  {
   "cell_type": "code",
   "execution_count": 49,
   "id": "dca3dfee",
   "metadata": {},
   "outputs": [],
   "source": [
    "# Tokenizing with Regex"
   ]
  },
  {
   "cell_type": "code",
   "execution_count": 50,
   "id": "7d1dfef7",
   "metadata": {},
   "outputs": [],
   "source": [
    "import re"
   ]
  },
  {
   "cell_type": "code",
   "execution_count": 51,
   "id": "94dd8216",
   "metadata": {},
   "outputs": [],
   "source": [
    "def tokenize(txt):\n",
    "    tokens = re.split('\\W+', txt)\n",
    "    return tokens"
   ]
  },
  {
   "cell_type": "code",
   "execution_count": 52,
   "id": "f07f42ad",
   "metadata": {},
   "outputs": [
    {
     "data": {
      "text/html": [
       "<div>\n",
       "<style scoped>\n",
       "    .dataframe tbody tr th:only-of-type {\n",
       "        vertical-align: middle;\n",
       "    }\n",
       "\n",
       "    .dataframe tbody tr th {\n",
       "        vertical-align: top;\n",
       "    }\n",
       "\n",
       "    .dataframe thead th {\n",
       "        text-align: right;\n",
       "    }\n",
       "</style>\n",
       "<table border=\"1\" class=\"dataframe\">\n",
       "  <thead>\n",
       "    <tr style=\"text-align: right;\">\n",
       "      <th></th>\n",
       "      <th>tweet</th>\n",
       "      <th>tweets_clean</th>\n",
       "      <th>tweets_clean_tokenized</th>\n",
       "    </tr>\n",
       "  </thead>\n",
       "  <tbody>\n",
       "    <tr>\n",
       "      <th>0</th>\n",
       "      <td>RT @hernanlafalce: Which #altcoin you will nev...</td>\n",
       "      <td>RT hernanlafalce Which altcoin you will never ...</td>\n",
       "      <td>[rt, hernanlafalce, which, altcoin, you, will,...</td>\n",
       "    </tr>\n",
       "    <tr>\n",
       "      <th>1</th>\n",
       "      <td>RT @_Br41nf4r7_: What do you really know about...</td>\n",
       "      <td>RT Brnfr What do you really know about FireANT...</td>\n",
       "      <td>[rt, brnfr, what, do, you, really, know, about...</td>\n",
       "    </tr>\n",
       "    <tr>\n",
       "      <th>2</th>\n",
       "      <td>RT @Taha86613152: @rovercrc Don’t missed #SHIN...</td>\n",
       "      <td>RT Taha rovercrc Don’t missed SHINJA 🥷🏿🔥\\nBuy ...</td>\n",
       "      <td>[rt, taha, rovercrc, don, t, missed, shinja, b...</td>\n",
       "    </tr>\n",
       "    <tr>\n",
       "      <th>3</th>\n",
       "      <td>#altseason #RHOP #SIHBAINUTOKEN #coinbase #bin...</td>\n",
       "      <td>altseason RHOP SIHBAINUTOKEN coinbase binaryop...</td>\n",
       "      <td>[altseason, rhop, sihbainutoken, coinbase, bin...</td>\n",
       "    </tr>\n",
       "    <tr>\n",
       "      <th>4</th>\n",
       "      <td>*THIS* Is Why Bitcoin, Ethereum, Solana, &amp;amp;...</td>\n",
       "      <td>THIS Is Why Bitcoin Ethereum Solana amp Crypto...</td>\n",
       "      <td>[this, is, why, bitcoin, ethereum, solana, amp...</td>\n",
       "    </tr>\n",
       "    <tr>\n",
       "      <th>5</th>\n",
       "      <td>RT @MonstersCoins: What #Gem are you buying mo...</td>\n",
       "      <td>RT MonstersCoins What Gem are you buying more ...</td>\n",
       "      <td>[rt, monsterscoins, what, gem, are, you, buyin...</td>\n",
       "    </tr>\n",
       "    <tr>\n",
       "      <th>6</th>\n",
       "      <td>#altseason #RHOP #SIHBAINUTOKEN #coinbase #bin...</td>\n",
       "      <td>altseason RHOP SIHBAINUTOKEN coinbase binaryop...</td>\n",
       "      <td>[altseason, rhop, sihbainutoken, coinbase, bin...</td>\n",
       "    </tr>\n",
       "    <tr>\n",
       "      <th>7</th>\n",
       "      <td>RT @AltGemHunter: Which #altcoin would you buy...</td>\n",
       "      <td>RT AltGemHunter Which altcoin would you buy no...</td>\n",
       "      <td>[rt, altgemhunter, which, altcoin, would, you,...</td>\n",
       "    </tr>\n",
       "    <tr>\n",
       "      <th>8</th>\n",
       "      <td>RT @Laura__crypto: Which #altcoin are you most...</td>\n",
       "      <td>RT Lauracrypto Which altcoin are you most exci...</td>\n",
       "      <td>[rt, lauracrypto, which, altcoin, are, you, mo...</td>\n",
       "    </tr>\n",
       "    <tr>\n",
       "      <th>9</th>\n",
       "      <td>RT @SeniorCryptos: What do you buy today? 🕵🏻‍♀...</td>\n",
       "      <td>RT SeniorCryptos What do you buy today 🕵🏻‍♀️👀\\...</td>\n",
       "      <td>[rt, seniorcryptos, what, do, you, buy, today,...</td>\n",
       "    </tr>\n",
       "    <tr>\n",
       "      <th>10</th>\n",
       "      <td>RT @SHILLBILLGEMS: Shill me your 1000x gems! 👀...</td>\n",
       "      <td>RT SHILLBILLGEMS Shill me your x gems 👀💎\\n\\nBS...</td>\n",
       "      <td>[rt, shillbillgems, shill, me, your, x, gems, ...</td>\n",
       "    </tr>\n",
       "    <tr>\n",
       "      <th>11</th>\n",
       "      <td>RT @SharksCoins: Which #Altcoin will make 500x...</td>\n",
       "      <td>RT SharksCoins Which Altcoin will make x in 💥🚀...</td>\n",
       "      <td>[rt, sharkscoins, which, altcoin, will, make, ...</td>\n",
       "    </tr>\n",
       "    <tr>\n",
       "      <th>12</th>\n",
       "      <td>RT @MonstersCoins: Shill me the next 100x gem!...</td>\n",
       "      <td>RT MonstersCoins Shill me the next x gem 💎👀\\n\\...</td>\n",
       "      <td>[rt, monsterscoins, shill, me, the, next, x, g...</td>\n",
       "    </tr>\n",
       "    <tr>\n",
       "      <th>13</th>\n",
       "      <td>RT @Crypto__emily: I am going to put $10,000 i...</td>\n",
       "      <td>RT Cryptoemily I am going to put  into your fa...</td>\n",
       "      <td>[rt, cryptoemily, i, am, going, to, put, into,...</td>\n",
       "    </tr>\n",
       "    <tr>\n",
       "      <th>14</th>\n",
       "      <td>RT @SharksCoins: Shill me your next 100x #altc...</td>\n",
       "      <td>RT SharksCoins Shill me your next x altcoin 💎\\...</td>\n",
       "      <td>[rt, sharkscoins, shill, me, your, next, x, al...</td>\n",
       "    </tr>\n",
       "  </tbody>\n",
       "</table>\n",
       "</div>"
      ],
      "text/plain": [
       "                                                tweet  \\\n",
       "0   RT @hernanlafalce: Which #altcoin you will nev...   \n",
       "1   RT @_Br41nf4r7_: What do you really know about...   \n",
       "2   RT @Taha86613152: @rovercrc Don’t missed #SHIN...   \n",
       "3   #altseason #RHOP #SIHBAINUTOKEN #coinbase #bin...   \n",
       "4   *THIS* Is Why Bitcoin, Ethereum, Solana, &amp;...   \n",
       "5   RT @MonstersCoins: What #Gem are you buying mo...   \n",
       "6   #altseason #RHOP #SIHBAINUTOKEN #coinbase #bin...   \n",
       "7   RT @AltGemHunter: Which #altcoin would you buy...   \n",
       "8   RT @Laura__crypto: Which #altcoin are you most...   \n",
       "9   RT @SeniorCryptos: What do you buy today? 🕵🏻‍♀...   \n",
       "10  RT @SHILLBILLGEMS: Shill me your 1000x gems! 👀...   \n",
       "11  RT @SharksCoins: Which #Altcoin will make 500x...   \n",
       "12  RT @MonstersCoins: Shill me the next 100x gem!...   \n",
       "13  RT @Crypto__emily: I am going to put $10,000 i...   \n",
       "14  RT @SharksCoins: Shill me your next 100x #altc...   \n",
       "\n",
       "                                         tweets_clean  \\\n",
       "0   RT hernanlafalce Which altcoin you will never ...   \n",
       "1   RT Brnfr What do you really know about FireANT...   \n",
       "2   RT Taha rovercrc Don’t missed SHINJA 🥷🏿🔥\\nBuy ...   \n",
       "3   altseason RHOP SIHBAINUTOKEN coinbase binaryop...   \n",
       "4   THIS Is Why Bitcoin Ethereum Solana amp Crypto...   \n",
       "5   RT MonstersCoins What Gem are you buying more ...   \n",
       "6   altseason RHOP SIHBAINUTOKEN coinbase binaryop...   \n",
       "7   RT AltGemHunter Which altcoin would you buy no...   \n",
       "8   RT Lauracrypto Which altcoin are you most exci...   \n",
       "9   RT SeniorCryptos What do you buy today 🕵🏻‍♀️👀\\...   \n",
       "10  RT SHILLBILLGEMS Shill me your x gems 👀💎\\n\\nBS...   \n",
       "11  RT SharksCoins Which Altcoin will make x in 💥🚀...   \n",
       "12  RT MonstersCoins Shill me the next x gem 💎👀\\n\\...   \n",
       "13  RT Cryptoemily I am going to put  into your fa...   \n",
       "14  RT SharksCoins Shill me your next x altcoin 💎\\...   \n",
       "\n",
       "                               tweets_clean_tokenized  \n",
       "0   [rt, hernanlafalce, which, altcoin, you, will,...  \n",
       "1   [rt, brnfr, what, do, you, really, know, about...  \n",
       "2   [rt, taha, rovercrc, don, t, missed, shinja, b...  \n",
       "3   [altseason, rhop, sihbainutoken, coinbase, bin...  \n",
       "4   [this, is, why, bitcoin, ethereum, solana, amp...  \n",
       "5   [rt, monsterscoins, what, gem, are, you, buyin...  \n",
       "6   [altseason, rhop, sihbainutoken, coinbase, bin...  \n",
       "7   [rt, altgemhunter, which, altcoin, would, you,...  \n",
       "8   [rt, lauracrypto, which, altcoin, are, you, mo...  \n",
       "9   [rt, seniorcryptos, what, do, you, buy, today,...  \n",
       "10  [rt, shillbillgems, shill, me, your, x, gems, ...  \n",
       "11  [rt, sharkscoins, which, altcoin, will, make, ...  \n",
       "12  [rt, monsterscoins, shill, me, the, next, x, g...  \n",
       "13  [rt, cryptoemily, i, am, going, to, put, into,...  \n",
       "14  [rt, sharkscoins, shill, me, your, next, x, al...  "
      ]
     },
     "execution_count": 52,
     "metadata": {},
     "output_type": "execute_result"
    }
   ],
   "source": [
    "text_tokens['tweets_clean_tokenized'] = text_tokens['tweets_clean'].apply(lambda x: tokenize(x.lower()))\n",
    "text_tokens.head(15)"
   ]
  },
  {
   "cell_type": "code",
   "execution_count": 53,
   "id": "691a6733",
   "metadata": {},
   "outputs": [],
   "source": [
    "# Removing less than 2 words in text"
   ]
  },
  {
   "cell_type": "code",
   "execution_count": 54,
   "id": "e17afdc3",
   "metadata": {
    "scrolled": true
   },
   "outputs": [
    {
     "data": {
      "text/html": [
       "<div>\n",
       "<style scoped>\n",
       "    .dataframe tbody tr th:only-of-type {\n",
       "        vertical-align: middle;\n",
       "    }\n",
       "\n",
       "    .dataframe tbody tr th {\n",
       "        vertical-align: top;\n",
       "    }\n",
       "\n",
       "    .dataframe thead th {\n",
       "        text-align: right;\n",
       "    }\n",
       "</style>\n",
       "<table border=\"1\" class=\"dataframe\">\n",
       "  <thead>\n",
       "    <tr style=\"text-align: right;\">\n",
       "      <th></th>\n",
       "      <th>tweets_clean_tokenized</th>\n",
       "    </tr>\n",
       "  </thead>\n",
       "  <tbody>\n",
       "    <tr>\n",
       "      <th>0</th>\n",
       "      <td>13</td>\n",
       "    </tr>\n",
       "    <tr>\n",
       "      <th>1</th>\n",
       "      <td>26</td>\n",
       "    </tr>\n",
       "    <tr>\n",
       "      <th>2</th>\n",
       "      <td>22</td>\n",
       "    </tr>\n",
       "    <tr>\n",
       "      <th>3</th>\n",
       "      <td>13</td>\n",
       "    </tr>\n",
       "    <tr>\n",
       "      <th>4</th>\n",
       "      <td>16</td>\n",
       "    </tr>\n",
       "    <tr>\n",
       "      <th>...</th>\n",
       "      <td>...</td>\n",
       "    </tr>\n",
       "    <tr>\n",
       "      <th>688</th>\n",
       "      <td>16</td>\n",
       "    </tr>\n",
       "    <tr>\n",
       "      <th>689</th>\n",
       "      <td>24</td>\n",
       "    </tr>\n",
       "    <tr>\n",
       "      <th>690</th>\n",
       "      <td>18</td>\n",
       "    </tr>\n",
       "    <tr>\n",
       "      <th>691</th>\n",
       "      <td>16</td>\n",
       "    </tr>\n",
       "    <tr>\n",
       "      <th>692</th>\n",
       "      <td>26</td>\n",
       "    </tr>\n",
       "  </tbody>\n",
       "</table>\n",
       "<p>693 rows × 1 columns</p>\n",
       "</div>"
      ],
      "text/plain": [
       "     tweets_clean_tokenized\n",
       "0                        13\n",
       "1                        26\n",
       "2                        22\n",
       "3                        13\n",
       "4                        16\n",
       "..                      ...\n",
       "688                      16\n",
       "689                      24\n",
       "690                      18\n",
       "691                      16\n",
       "692                      26\n",
       "\n",
       "[693 rows x 1 columns]"
      ]
     },
     "execution_count": 54,
     "metadata": {},
     "output_type": "execute_result"
    }
   ],
   "source": [
    "tweets_count = text_tokens['tweets_clean_tokenized'].str.len()\n",
    "tweet_len = pd.DataFrame(tweets_count)\n",
    "tweet_len"
   ]
  },
  {
   "cell_type": "code",
   "execution_count": 55,
   "id": "352e22af",
   "metadata": {},
   "outputs": [
    {
     "data": {
      "text/html": [
       "<div>\n",
       "<style scoped>\n",
       "    .dataframe tbody tr th:only-of-type {\n",
       "        vertical-align: middle;\n",
       "    }\n",
       "\n",
       "    .dataframe tbody tr th {\n",
       "        vertical-align: top;\n",
       "    }\n",
       "\n",
       "    .dataframe thead th {\n",
       "        text-align: right;\n",
       "    }\n",
       "</style>\n",
       "<table border=\"1\" class=\"dataframe\">\n",
       "  <thead>\n",
       "    <tr style=\"text-align: right;\">\n",
       "      <th></th>\n",
       "      <th>tweets_clean_tokenized</th>\n",
       "    </tr>\n",
       "  </thead>\n",
       "  <tbody>\n",
       "  </tbody>\n",
       "</table>\n",
       "</div>"
      ],
      "text/plain": [
       "Empty DataFrame\n",
       "Columns: [tweets_clean_tokenized]\n",
       "Index: []"
      ]
     },
     "execution_count": 55,
     "metadata": {},
     "output_type": "execute_result"
    }
   ],
   "source": [
    "# there are no tweets which has less than 2 words\n",
    "tweet_len[tweet_len['tweets_clean_tokenized'] <= 2]"
   ]
  },
  {
   "cell_type": "code",
   "execution_count": null,
   "id": "79da36e6",
   "metadata": {},
   "outputs": [],
   "source": []
  },
  {
   "cell_type": "markdown",
   "id": "e7fe45f0",
   "metadata": {},
   "source": [
    "### 4. Visualizing data"
   ]
  },
  {
   "cell_type": "code",
   "execution_count": 56,
   "id": "ad1a93a8",
   "metadata": {},
   "outputs": [],
   "source": [
    "import matplotlib.pyplot as plt"
   ]
  },
  {
   "cell_type": "code",
   "execution_count": 57,
   "id": "a3e7043f",
   "metadata": {},
   "outputs": [
    {
     "data": {
      "text/plain": [
       "Index(['time_of_tweet', 'user', 'tweet', 'user_id'], dtype='object')"
      ]
     },
     "execution_count": 57,
     "metadata": {},
     "output_type": "execute_result"
    }
   ],
   "source": [
    "tweet_data.columns"
   ]
  },
  {
   "cell_type": "code",
   "execution_count": 58,
   "id": "f557cb06",
   "metadata": {},
   "outputs": [
    {
     "name": "stderr",
     "output_type": "stream",
     "text": [
      "C:\\Users\\gruha\\AppData\\Local\\Temp/ipykernel_10836/1926518429.py:2: SettingWithCopyWarning: \n",
      "A value is trying to be set on a copy of a slice from a DataFrame.\n",
      "Try using .loc[row_indexer,col_indexer] = value instead\n",
      "\n",
      "See the caveats in the documentation: https://pandas.pydata.org/pandas-docs/stable/user_guide/indexing.html#returning-a-view-versus-a-copy\n",
      "  df['date']= [d.date() for d in df['time_of_tweet']]\n"
     ]
    }
   ],
   "source": [
    "df=tweet_data[['time_of_tweet', 'tweet']]\n",
    "df['date']= [d.date() for d in df['time_of_tweet']]"
   ]
  },
  {
   "cell_type": "code",
   "execution_count": 59,
   "id": "8021f892",
   "metadata": {},
   "outputs": [
    {
     "name": "stdout",
     "output_type": "stream",
     "text": [
      "Altcoin  0     2022-07-01\n",
      "         1     2022-07-01\n",
      "         3     2022-07-01\n",
      "         4     2022-07-01\n",
      "         5     2022-07-01\n",
      "                  ...    \n",
      "Yahoo    79    2022-07-01\n",
      "         83    2022-07-01\n",
      "         90    2022-07-01\n",
      "         91    2022-07-01\n",
      "         99    2022-07-01\n",
      "Name: date, Length: 693, dtype: object\n",
      "Index(['time_of_tweet', 'tweet', 'date'], dtype='object')\n"
     ]
    }
   ],
   "source": [
    "print(df['date'])\n",
    "print(df.columns)"
   ]
  },
  {
   "cell_type": "code",
   "execution_count": 60,
   "id": "b584b994",
   "metadata": {},
   "outputs": [],
   "source": [
    "new_df=df.groupby('date')['tweet'].count()"
   ]
  },
  {
   "cell_type": "code",
   "execution_count": 61,
   "id": "ecc4d463",
   "metadata": {},
   "outputs": [
    {
     "name": "stdout",
     "output_type": "stream",
     "text": [
      "<class 'pandas.core.series.Series'>\n"
     ]
    }
   ],
   "source": [
    "print(type(new_df))"
   ]
  },
  {
   "cell_type": "code",
   "execution_count": 62,
   "id": "311577dd",
   "metadata": {},
   "outputs": [
    {
     "data": {
      "text/plain": [
       "date\n",
       "2022-06-29     16\n",
       "2022-06-30     34\n",
       "2022-07-01    643\n",
       "Name: tweet, dtype: int64"
      ]
     },
     "execution_count": 62,
     "metadata": {},
     "output_type": "execute_result"
    }
   ],
   "source": [
    "new_df"
   ]
  },
  {
   "cell_type": "code",
   "execution_count": 63,
   "id": "5a4490fc",
   "metadata": {},
   "outputs": [
    {
     "name": "stdout",
     "output_type": "stream",
     "text": [
      "         date  count of tweets\n",
      "0  2022-06-29               16\n",
      "1  2022-06-30               34\n",
      "2  2022-07-01              643\n"
     ]
    },
    {
     "data": {
      "image/png": "[encoded data removed]",
      "text/plain": [
       "<Figure size 432x288 with 1 Axes>"
      ]
     },
     "metadata": {
      "needs_background": "light"
     },
     "output_type": "display_data"
    }
   ],
   "source": [
    "df1=pd.DataFrame({'date':new_df.index, 'count of tweets':new_df.values})\n",
    "\n",
    "print(df1)\n",
    "\n",
    "x=df1['date']\n",
    "y=df1['count of tweets']\n",
    "\n",
    "plt.plot(x, y)  \n",
    "plt.xlabel('date') \n",
    "plt.ylabel('count of tweets') \n",
    "plt.title('Number of tweets per day')  \n",
    "\n",
    "plt.show() "
   ]
  },
  {
   "cell_type": "code",
   "execution_count": 64,
   "id": "dd2a003e",
   "metadata": {},
   "outputs": [
    {
     "name": "stdout",
     "output_type": "stream",
     "text": [
      "[67, 86, 82, 96, 106, 99, 98, 59]\n"
     ]
    }
   ],
   "source": [
    "altcoin_tweet_count=df.loc[\"Altcoin\"]['tweet'].count()\n",
    "bitcoin_tweet_count=df.loc[\"Bitcoin\"]['tweet'].count()\n",
    "coindesk_tweet_count=df.loc[\"Coindesk\"]['tweet'].count()\n",
    "crypto_tweet_count=df.loc[\"Cryptocurrency\"]['tweet'].count()\n",
    "gold_tweet_count=df.loc[\"Gold\"]['tweet'].count()\n",
    "apple_tweet_count=df.loc[\"Apple\"]['tweet'].count()\n",
    "google_tweet_count=df.loc[\"Google\"]['tweet'].count()\n",
    "yahoo_tweet_count=df.loc[\"Yahoo\"]['tweet'].count()\n",
    "\n",
    "\n",
    "tweet_counts_by_keyword=[altcoin_tweet_count,\n",
    "                         bitcoin_tweet_count,\n",
    "                         coindesk_tweet_count,\n",
    "                         crypto_tweet_count,\n",
    "                         gold_tweet_count,\n",
    "                         apple_tweet_count,\n",
    "                         google_tweet_count,\n",
    "                         yahoo_tweet_count]\n",
    "\n",
    "print(tweet_counts_by_keyword)"
   ]
  },
  {
   "cell_type": "code",
   "execution_count": 65,
   "id": "c3ec76ef",
   "metadata": {},
   "outputs": [
    {
     "data": {
      "image/png": "[encoded data removed]",
      "text/plain": [
       "<Figure size 432x288 with 1 Axes>"
      ]
     },
     "metadata": {
      "needs_background": "light"
     },
     "output_type": "display_data"
    }
   ],
   "source": [
    "fig = plt.figure()\n",
    "ax = fig.add_axes([0,0,1,1])\n",
    "\n",
    "x=df1['date']\n",
    "y=df1['count of tweets']\n",
    "\n",
    "ax.bar(x,y)\n",
    "\n",
    "plt.show()"
   ]
  },
  {
   "cell_type": "code",
   "execution_count": 66,
   "id": "08f55f55",
   "metadata": {},
   "outputs": [
    {
     "data": {
      "text/plain": [
       "[67, 86, 82, 96, 106, 99, 98, 59]"
      ]
     },
     "execution_count": 66,
     "metadata": {},
     "output_type": "execute_result"
    }
   ],
   "source": [
    "tweet_counts_by_keyword"
   ]
  },
  {
   "cell_type": "code",
   "execution_count": 67,
   "id": "a876459f",
   "metadata": {},
   "outputs": [],
   "source": [
    "labels = ['Altcoin','Bitcoin','Coindesk','Cryptocurrency','Gold','Apple','Google','Yahoo']"
   ]
  },
  {
   "cell_type": "code",
   "execution_count": 68,
   "id": "50d91050",
   "metadata": {},
   "outputs": [
    {
     "data": {
      "image/png": "[encoded data removed]",
      "text/plain": [
       "<Figure size 432x288 with 1 Axes>"
      ]
     },
     "metadata": {
      "needs_background": "light"
     },
     "output_type": "display_data"
    }
   ],
   "source": [
    "fig = plt.figure()\n",
    "ax = fig.add_axes([0,0,1,1])\n",
    "\n",
    "ax.bar(labels,tweet_counts_by_keyword)\n",
    "plt.show()"
   ]
  },
  {
   "cell_type": "code",
   "execution_count": null,
   "id": "1936abf9",
   "metadata": {},
   "outputs": [],
   "source": []
  }
 ],
 "metadata": {
  "kernelspec": {
   "display_name": "Python 3 (ipykernel)",
   "language": "python",
   "name": "python3"
  },
  "language_info": {
   "codemirror_mode": {
    "name": "ipython",
    "version": 3
   },
   "file_extension": ".py",
   "mimetype": "text/x-python",
   "name": "python",
   "nbconvert_exporter": "python",
   "pygments_lexer": "ipython3",
   "version": "3.9.7"
  }
 },
 "nbformat": 4,
 "nbformat_minor": 5
}
