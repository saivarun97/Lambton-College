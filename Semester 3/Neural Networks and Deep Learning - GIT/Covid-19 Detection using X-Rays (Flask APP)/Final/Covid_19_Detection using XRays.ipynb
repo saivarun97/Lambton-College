{
 "cells": [
  {
   "cell_type": "markdown",
   "metadata": {},
   "source": [
    "# AML 3104 Neural Networks and Deep Learning - Final Project "
   ]
  },
  {
   "cell_type": "markdown",
   "metadata": {},
   "source": [
    "## COVID - 19 Detection for using CNNs"
   ]
  },
  {
   "cell_type": "markdown",
   "metadata": {},
   "source": [
    "### Group Members\n",
    "\n",
    "- SAI VARUN KOLLIPARA - C0828403\n",
    "- PRAMOD REDDY GURRALA – C0850493\n",
    "- DEEKSHA NAIKAP – C0835440\n",
    "- BHANU PRAKASH MAHADEVUNI – C0850515"
   ]
  },
  {
   "cell_type": "markdown",
   "metadata": {},
   "source": [
    "### 1. Package Importing"
   ]
  },
  {
   "cell_type": "code",
   "execution_count": 1,
   "metadata": {},
   "outputs": [],
   "source": [
    "import pandas as pd\n",
    "import os\n",
    "import shutil"
   ]
  },
  {
   "cell_type": "markdown",
   "metadata": {},
   "source": [
    "## 2. Data Collection"
   ]
  },
  {
   "cell_type": "code",
   "execution_count": 2,
   "metadata": {},
   "outputs": [],
   "source": [
    "#Create the data for positive samples \n",
    "\n",
    "FILE_PATH = \".\\metadata.csv\"\n",
    "IMAGE_PATH = \".\\images\""
   ]
  },
  {
   "cell_type": "code",
   "execution_count": 3,
   "metadata": {},
   "outputs": [
    {
     "name": "stdout",
     "output_type": "stream",
     "text": [
      "(950, 30)\n"
     ]
    }
   ],
   "source": [
    "df = pd.read_csv(FILE_PATH)\n",
    "print(df.shape)"
   ]
  },
  {
   "cell_type": "code",
   "execution_count": 4,
   "metadata": {},
   "outputs": [
    {
     "data": {
      "text/html": [
       "<div>\n",
       "<style scoped>\n",
       "    .dataframe tbody tr th:only-of-type {\n",
       "        vertical-align: middle;\n",
       "    }\n",
       "\n",
       "    .dataframe tbody tr th {\n",
       "        vertical-align: top;\n",
       "    }\n",
       "\n",
       "    .dataframe thead th {\n",
       "        text-align: right;\n",
       "    }\n",
       "</style>\n",
       "<table border=\"1\" class=\"dataframe\">\n",
       "  <thead>\n",
       "    <tr style=\"text-align: right;\">\n",
       "      <th></th>\n",
       "      <th>patientid</th>\n",
       "      <th>offset</th>\n",
       "      <th>sex</th>\n",
       "      <th>age</th>\n",
       "      <th>finding</th>\n",
       "      <th>RT_PCR_positive</th>\n",
       "      <th>survival</th>\n",
       "      <th>intubated</th>\n",
       "      <th>intubation_present</th>\n",
       "      <th>went_icu</th>\n",
       "      <th>...</th>\n",
       "      <th>date</th>\n",
       "      <th>location</th>\n",
       "      <th>folder</th>\n",
       "      <th>filename</th>\n",
       "      <th>doi</th>\n",
       "      <th>url</th>\n",
       "      <th>license</th>\n",
       "      <th>clinical_notes</th>\n",
       "      <th>other_notes</th>\n",
       "      <th>Unnamed: 29</th>\n",
       "    </tr>\n",
       "  </thead>\n",
       "  <tbody>\n",
       "    <tr>\n",
       "      <th>0</th>\n",
       "      <td>2</td>\n",
       "      <td>0.0</td>\n",
       "      <td>M</td>\n",
       "      <td>65.0</td>\n",
       "      <td>Pneumonia/Viral/COVID-19</td>\n",
       "      <td>Y</td>\n",
       "      <td>Y</td>\n",
       "      <td>N</td>\n",
       "      <td>N</td>\n",
       "      <td>N</td>\n",
       "      <td>...</td>\n",
       "      <td>January 22, 2020</td>\n",
       "      <td>Cho Ray Hospital, Ho Chi Minh City, Vietnam</td>\n",
       "      <td>images</td>\n",
       "      <td>auntminnie-a-2020_01_28_23_51_6665_2020_01_28_...</td>\n",
       "      <td>10.1056/nejmc2001272</td>\n",
       "      <td>https://www.nejm.org/doi/full/10.1056/NEJMc200...</td>\n",
       "      <td>NaN</td>\n",
       "      <td>On January 22, 2020, a 65-year-old man with a ...</td>\n",
       "      <td>NaN</td>\n",
       "      <td>NaN</td>\n",
       "    </tr>\n",
       "    <tr>\n",
       "      <th>1</th>\n",
       "      <td>2</td>\n",
       "      <td>3.0</td>\n",
       "      <td>M</td>\n",
       "      <td>65.0</td>\n",
       "      <td>Pneumonia/Viral/COVID-19</td>\n",
       "      <td>Y</td>\n",
       "      <td>Y</td>\n",
       "      <td>N</td>\n",
       "      <td>N</td>\n",
       "      <td>N</td>\n",
       "      <td>...</td>\n",
       "      <td>January 25, 2020</td>\n",
       "      <td>Cho Ray Hospital, Ho Chi Minh City, Vietnam</td>\n",
       "      <td>images</td>\n",
       "      <td>auntminnie-b-2020_01_28_23_51_6665_2020_01_28_...</td>\n",
       "      <td>10.1056/nejmc2001272</td>\n",
       "      <td>https://www.nejm.org/doi/full/10.1056/NEJMc200...</td>\n",
       "      <td>NaN</td>\n",
       "      <td>On January 22, 2020, a 65-year-old man with a ...</td>\n",
       "      <td>NaN</td>\n",
       "      <td>NaN</td>\n",
       "    </tr>\n",
       "    <tr>\n",
       "      <th>2</th>\n",
       "      <td>2</td>\n",
       "      <td>5.0</td>\n",
       "      <td>M</td>\n",
       "      <td>65.0</td>\n",
       "      <td>Pneumonia/Viral/COVID-19</td>\n",
       "      <td>Y</td>\n",
       "      <td>Y</td>\n",
       "      <td>N</td>\n",
       "      <td>N</td>\n",
       "      <td>N</td>\n",
       "      <td>...</td>\n",
       "      <td>January 27, 2020</td>\n",
       "      <td>Cho Ray Hospital, Ho Chi Minh City, Vietnam</td>\n",
       "      <td>images</td>\n",
       "      <td>auntminnie-c-2020_01_28_23_51_6665_2020_01_28_...</td>\n",
       "      <td>10.1056/nejmc2001272</td>\n",
       "      <td>https://www.nejm.org/doi/full/10.1056/NEJMc200...</td>\n",
       "      <td>NaN</td>\n",
       "      <td>On January 22, 2020, a 65-year-old man with a ...</td>\n",
       "      <td>NaN</td>\n",
       "      <td>NaN</td>\n",
       "    </tr>\n",
       "    <tr>\n",
       "      <th>3</th>\n",
       "      <td>2</td>\n",
       "      <td>6.0</td>\n",
       "      <td>M</td>\n",
       "      <td>65.0</td>\n",
       "      <td>Pneumonia/Viral/COVID-19</td>\n",
       "      <td>Y</td>\n",
       "      <td>Y</td>\n",
       "      <td>N</td>\n",
       "      <td>N</td>\n",
       "      <td>N</td>\n",
       "      <td>...</td>\n",
       "      <td>January 28, 2020</td>\n",
       "      <td>Cho Ray Hospital, Ho Chi Minh City, Vietnam</td>\n",
       "      <td>images</td>\n",
       "      <td>auntminnie-d-2020_01_28_23_51_6665_2020_01_28_...</td>\n",
       "      <td>10.1056/nejmc2001272</td>\n",
       "      <td>https://www.nejm.org/doi/full/10.1056/NEJMc200...</td>\n",
       "      <td>NaN</td>\n",
       "      <td>On January 22, 2020, a 65-year-old man with a ...</td>\n",
       "      <td>NaN</td>\n",
       "      <td>NaN</td>\n",
       "    </tr>\n",
       "    <tr>\n",
       "      <th>4</th>\n",
       "      <td>4</td>\n",
       "      <td>0.0</td>\n",
       "      <td>F</td>\n",
       "      <td>52.0</td>\n",
       "      <td>Pneumonia/Viral/COVID-19</td>\n",
       "      <td>Y</td>\n",
       "      <td>NaN</td>\n",
       "      <td>N</td>\n",
       "      <td>N</td>\n",
       "      <td>N</td>\n",
       "      <td>...</td>\n",
       "      <td>January 25, 2020</td>\n",
       "      <td>Changhua Christian Hospital, Changhua City, Ta...</td>\n",
       "      <td>images</td>\n",
       "      <td>nejmc2001573_f1a.jpeg</td>\n",
       "      <td>10.1056/NEJMc2001573</td>\n",
       "      <td>https://www.nejm.org/doi/full/10.1056/NEJMc200...</td>\n",
       "      <td>NaN</td>\n",
       "      <td>diffuse infiltrates in the bilateral lower lungs</td>\n",
       "      <td>NaN</td>\n",
       "      <td>NaN</td>\n",
       "    </tr>\n",
       "    <tr>\n",
       "      <th>...</th>\n",
       "      <td>...</td>\n",
       "      <td>...</td>\n",
       "      <td>...</td>\n",
       "      <td>...</td>\n",
       "      <td>...</td>\n",
       "      <td>...</td>\n",
       "      <td>...</td>\n",
       "      <td>...</td>\n",
       "      <td>...</td>\n",
       "      <td>...</td>\n",
       "      <td>...</td>\n",
       "      <td>...</td>\n",
       "      <td>...</td>\n",
       "      <td>...</td>\n",
       "      <td>...</td>\n",
       "      <td>...</td>\n",
       "      <td>...</td>\n",
       "      <td>...</td>\n",
       "      <td>...</td>\n",
       "      <td>...</td>\n",
       "      <td>...</td>\n",
       "    </tr>\n",
       "    <tr>\n",
       "      <th>945</th>\n",
       "      <td>479</td>\n",
       "      <td>0.0</td>\n",
       "      <td>F</td>\n",
       "      <td>40.0</td>\n",
       "      <td>Pneumonia</td>\n",
       "      <td>NaN</td>\n",
       "      <td>NaN</td>\n",
       "      <td>NaN</td>\n",
       "      <td>NaN</td>\n",
       "      <td>NaN</td>\n",
       "      <td>...</td>\n",
       "      <td>NaN</td>\n",
       "      <td>United Kingdom</td>\n",
       "      <td>images</td>\n",
       "      <td>072ecaf8c60a81980abb57150a8016_jumbo-9.jpeg</td>\n",
       "      <td>NaN</td>\n",
       "      <td>https://radiopaedia.org/cases/multifocal-round...</td>\n",
       "      <td>CC BY-NC-SA</td>\n",
       "      <td>Asthmatic. Shortness of breath and wheeze. Rou...</td>\n",
       "      <td>Case courtesy of Dr Ian Bickle, Radiopaedia.or...</td>\n",
       "      <td>NaN</td>\n",
       "    </tr>\n",
       "    <tr>\n",
       "      <th>946</th>\n",
       "      <td>479</td>\n",
       "      <td>70.0</td>\n",
       "      <td>F</td>\n",
       "      <td>40.0</td>\n",
       "      <td>Pneumonia</td>\n",
       "      <td>NaN</td>\n",
       "      <td>NaN</td>\n",
       "      <td>NaN</td>\n",
       "      <td>NaN</td>\n",
       "      <td>NaN</td>\n",
       "      <td>...</td>\n",
       "      <td>NaN</td>\n",
       "      <td>United Kingdom</td>\n",
       "      <td>images</td>\n",
       "      <td>ff33c406392b968d483174c97eb857_jumbo-9.jpeg</td>\n",
       "      <td>NaN</td>\n",
       "      <td>https://radiopaedia.org/cases/multifocal-round...</td>\n",
       "      <td>CC BY-NC-SA</td>\n",
       "      <td>Asthmatic. Shortness of breath and wheeze. The...</td>\n",
       "      <td>Case courtesy of Dr Ian Bickle, Radiopaedia.or...</td>\n",
       "      <td>NaN</td>\n",
       "    </tr>\n",
       "    <tr>\n",
       "      <th>947</th>\n",
       "      <td>480</td>\n",
       "      <td>NaN</td>\n",
       "      <td>M</td>\n",
       "      <td>26.0</td>\n",
       "      <td>Pneumonia</td>\n",
       "      <td>NaN</td>\n",
       "      <td>NaN</td>\n",
       "      <td>NaN</td>\n",
       "      <td>NaN</td>\n",
       "      <td>NaN</td>\n",
       "      <td>...</td>\n",
       "      <td>NaN</td>\n",
       "      <td>NaN</td>\n",
       "      <td>images</td>\n",
       "      <td>000001-266.jpg</td>\n",
       "      <td>NaN</td>\n",
       "      <td>https://www.eurorad.org/case/947</td>\n",
       "      <td>CC BY-NC-SA 4.0</td>\n",
       "      <td>fire-eater accidentally ingested a paraffin mi...</td>\n",
       "      <td>NaN</td>\n",
       "      <td>NaN</td>\n",
       "    </tr>\n",
       "    <tr>\n",
       "      <th>948</th>\n",
       "      <td>481</td>\n",
       "      <td>NaN</td>\n",
       "      <td>M</td>\n",
       "      <td>50.0</td>\n",
       "      <td>Pneumonia</td>\n",
       "      <td>NaN</td>\n",
       "      <td>NaN</td>\n",
       "      <td>NaN</td>\n",
       "      <td>NaN</td>\n",
       "      <td>NaN</td>\n",
       "      <td>...</td>\n",
       "      <td>NaN</td>\n",
       "      <td>NaN</td>\n",
       "      <td>images</td>\n",
       "      <td>000001-272.jpg</td>\n",
       "      <td>NaN</td>\n",
       "      <td>https://www.eurorad.org/case/934</td>\n",
       "      <td>CC BY-NC-SA 4.0</td>\n",
       "      <td>The patient, a heavy smoker, was referred to t...</td>\n",
       "      <td>NaN</td>\n",
       "      <td>NaN</td>\n",
       "    </tr>\n",
       "    <tr>\n",
       "      <th>949</th>\n",
       "      <td>481</td>\n",
       "      <td>NaN</td>\n",
       "      <td>M</td>\n",
       "      <td>50.0</td>\n",
       "      <td>Pneumonia</td>\n",
       "      <td>NaN</td>\n",
       "      <td>NaN</td>\n",
       "      <td>NaN</td>\n",
       "      <td>NaN</td>\n",
       "      <td>NaN</td>\n",
       "      <td>...</td>\n",
       "      <td>NaN</td>\n",
       "      <td>NaN</td>\n",
       "      <td>images</td>\n",
       "      <td>000002-268.jpg</td>\n",
       "      <td>NaN</td>\n",
       "      <td>https://www.eurorad.org/case/934</td>\n",
       "      <td>CC BY-NC-SA 4.0</td>\n",
       "      <td>The patient, a heavy smoker, was referred to t...</td>\n",
       "      <td>NaN</td>\n",
       "      <td>NaN</td>\n",
       "    </tr>\n",
       "  </tbody>\n",
       "</table>\n",
       "<p>950 rows × 30 columns</p>\n",
       "</div>"
      ],
      "text/plain": [
       "    patientid  offset sex   age                   finding RT_PCR_positive  \\\n",
       "0           2     0.0   M  65.0  Pneumonia/Viral/COVID-19               Y   \n",
       "1           2     3.0   M  65.0  Pneumonia/Viral/COVID-19               Y   \n",
       "2           2     5.0   M  65.0  Pneumonia/Viral/COVID-19               Y   \n",
       "3           2     6.0   M  65.0  Pneumonia/Viral/COVID-19               Y   \n",
       "4           4     0.0   F  52.0  Pneumonia/Viral/COVID-19               Y   \n",
       "..        ...     ...  ..   ...                       ...             ...   \n",
       "945       479     0.0   F  40.0                 Pneumonia             NaN   \n",
       "946       479    70.0   F  40.0                 Pneumonia             NaN   \n",
       "947       480     NaN   M  26.0                 Pneumonia             NaN   \n",
       "948       481     NaN   M  50.0                 Pneumonia             NaN   \n",
       "949       481     NaN   M  50.0                 Pneumonia             NaN   \n",
       "\n",
       "    survival intubated intubation_present went_icu  ...              date  \\\n",
       "0          Y         N                  N        N  ...  January 22, 2020   \n",
       "1          Y         N                  N        N  ...  January 25, 2020   \n",
       "2          Y         N                  N        N  ...  January 27, 2020   \n",
       "3          Y         N                  N        N  ...  January 28, 2020   \n",
       "4        NaN         N                  N        N  ...  January 25, 2020   \n",
       "..       ...       ...                ...      ...  ...               ...   \n",
       "945      NaN       NaN                NaN      NaN  ...               NaN   \n",
       "946      NaN       NaN                NaN      NaN  ...               NaN   \n",
       "947      NaN       NaN                NaN      NaN  ...               NaN   \n",
       "948      NaN       NaN                NaN      NaN  ...               NaN   \n",
       "949      NaN       NaN                NaN      NaN  ...               NaN   \n",
       "\n",
       "                                              location  folder  \\\n",
       "0          Cho Ray Hospital, Ho Chi Minh City, Vietnam  images   \n",
       "1          Cho Ray Hospital, Ho Chi Minh City, Vietnam  images   \n",
       "2          Cho Ray Hospital, Ho Chi Minh City, Vietnam  images   \n",
       "3          Cho Ray Hospital, Ho Chi Minh City, Vietnam  images   \n",
       "4    Changhua Christian Hospital, Changhua City, Ta...  images   \n",
       "..                                                 ...     ...   \n",
       "945                                     United Kingdom  images   \n",
       "946                                     United Kingdom  images   \n",
       "947                                                NaN  images   \n",
       "948                                                NaN  images   \n",
       "949                                                NaN  images   \n",
       "\n",
       "                                              filename                   doi  \\\n",
       "0    auntminnie-a-2020_01_28_23_51_6665_2020_01_28_...  10.1056/nejmc2001272   \n",
       "1    auntminnie-b-2020_01_28_23_51_6665_2020_01_28_...  10.1056/nejmc2001272   \n",
       "2    auntminnie-c-2020_01_28_23_51_6665_2020_01_28_...  10.1056/nejmc2001272   \n",
       "3    auntminnie-d-2020_01_28_23_51_6665_2020_01_28_...  10.1056/nejmc2001272   \n",
       "4                                nejmc2001573_f1a.jpeg  10.1056/NEJMc2001573   \n",
       "..                                                 ...                   ...   \n",
       "945        072ecaf8c60a81980abb57150a8016_jumbo-9.jpeg                   NaN   \n",
       "946        ff33c406392b968d483174c97eb857_jumbo-9.jpeg                   NaN   \n",
       "947                                     000001-266.jpg                   NaN   \n",
       "948                                     000001-272.jpg                   NaN   \n",
       "949                                     000002-268.jpg                   NaN   \n",
       "\n",
       "                                                   url          license  \\\n",
       "0    https://www.nejm.org/doi/full/10.1056/NEJMc200...              NaN   \n",
       "1    https://www.nejm.org/doi/full/10.1056/NEJMc200...              NaN   \n",
       "2    https://www.nejm.org/doi/full/10.1056/NEJMc200...              NaN   \n",
       "3    https://www.nejm.org/doi/full/10.1056/NEJMc200...              NaN   \n",
       "4    https://www.nejm.org/doi/full/10.1056/NEJMc200...              NaN   \n",
       "..                                                 ...              ...   \n",
       "945  https://radiopaedia.org/cases/multifocal-round...      CC BY-NC-SA   \n",
       "946  https://radiopaedia.org/cases/multifocal-round...      CC BY-NC-SA   \n",
       "947                   https://www.eurorad.org/case/947  CC BY-NC-SA 4.0   \n",
       "948                   https://www.eurorad.org/case/934  CC BY-NC-SA 4.0   \n",
       "949                   https://www.eurorad.org/case/934  CC BY-NC-SA 4.0   \n",
       "\n",
       "                                        clinical_notes  \\\n",
       "0    On January 22, 2020, a 65-year-old man with a ...   \n",
       "1    On January 22, 2020, a 65-year-old man with a ...   \n",
       "2    On January 22, 2020, a 65-year-old man with a ...   \n",
       "3    On January 22, 2020, a 65-year-old man with a ...   \n",
       "4     diffuse infiltrates in the bilateral lower lungs   \n",
       "..                                                 ...   \n",
       "945  Asthmatic. Shortness of breath and wheeze. Rou...   \n",
       "946  Asthmatic. Shortness of breath and wheeze. The...   \n",
       "947  fire-eater accidentally ingested a paraffin mi...   \n",
       "948  The patient, a heavy smoker, was referred to t...   \n",
       "949  The patient, a heavy smoker, was referred to t...   \n",
       "\n",
       "                                           other_notes Unnamed: 29  \n",
       "0                                                  NaN         NaN  \n",
       "1                                                  NaN         NaN  \n",
       "2                                                  NaN         NaN  \n",
       "3                                                  NaN         NaN  \n",
       "4                                                  NaN         NaN  \n",
       "..                                                 ...         ...  \n",
       "945  Case courtesy of Dr Ian Bickle, Radiopaedia.or...         NaN  \n",
       "946  Case courtesy of Dr Ian Bickle, Radiopaedia.or...         NaN  \n",
       "947                                                NaN         NaN  \n",
       "948                                                NaN         NaN  \n",
       "949                                                NaN         NaN  \n",
       "\n",
       "[950 rows x 30 columns]"
      ]
     },
     "execution_count": 4,
     "metadata": {},
     "output_type": "execute_result"
    }
   ],
   "source": [
    "df"
   ]
  },
  {
   "cell_type": "code",
   "execution_count": 5,
   "metadata": {
    "scrolled": true
   },
   "outputs": [
    {
     "data": {
      "text/html": [
       "<div>\n",
       "<style scoped>\n",
       "    .dataframe tbody tr th:only-of-type {\n",
       "        vertical-align: middle;\n",
       "    }\n",
       "\n",
       "    .dataframe tbody tr th {\n",
       "        vertical-align: top;\n",
       "    }\n",
       "\n",
       "    .dataframe thead th {\n",
       "        text-align: right;\n",
       "    }\n",
       "</style>\n",
       "<table border=\"1\" class=\"dataframe\">\n",
       "  <thead>\n",
       "    <tr style=\"text-align: right;\">\n",
       "      <th></th>\n",
       "      <th>patientid</th>\n",
       "      <th>offset</th>\n",
       "      <th>sex</th>\n",
       "      <th>age</th>\n",
       "      <th>finding</th>\n",
       "      <th>RT_PCR_positive</th>\n",
       "      <th>survival</th>\n",
       "      <th>intubated</th>\n",
       "      <th>intubation_present</th>\n",
       "      <th>went_icu</th>\n",
       "      <th>...</th>\n",
       "      <th>date</th>\n",
       "      <th>location</th>\n",
       "      <th>folder</th>\n",
       "      <th>filename</th>\n",
       "      <th>doi</th>\n",
       "      <th>url</th>\n",
       "      <th>license</th>\n",
       "      <th>clinical_notes</th>\n",
       "      <th>other_notes</th>\n",
       "      <th>Unnamed: 29</th>\n",
       "    </tr>\n",
       "  </thead>\n",
       "  <tbody>\n",
       "    <tr>\n",
       "      <th>0</th>\n",
       "      <td>2</td>\n",
       "      <td>0.0</td>\n",
       "      <td>M</td>\n",
       "      <td>65.0</td>\n",
       "      <td>Pneumonia/Viral/COVID-19</td>\n",
       "      <td>Y</td>\n",
       "      <td>Y</td>\n",
       "      <td>N</td>\n",
       "      <td>N</td>\n",
       "      <td>N</td>\n",
       "      <td>...</td>\n",
       "      <td>January 22, 2020</td>\n",
       "      <td>Cho Ray Hospital, Ho Chi Minh City, Vietnam</td>\n",
       "      <td>images</td>\n",
       "      <td>auntminnie-a-2020_01_28_23_51_6665_2020_01_28_...</td>\n",
       "      <td>10.1056/nejmc2001272</td>\n",
       "      <td>https://www.nejm.org/doi/full/10.1056/NEJMc200...</td>\n",
       "      <td>NaN</td>\n",
       "      <td>On January 22, 2020, a 65-year-old man with a ...</td>\n",
       "      <td>NaN</td>\n",
       "      <td>NaN</td>\n",
       "    </tr>\n",
       "    <tr>\n",
       "      <th>1</th>\n",
       "      <td>2</td>\n",
       "      <td>3.0</td>\n",
       "      <td>M</td>\n",
       "      <td>65.0</td>\n",
       "      <td>Pneumonia/Viral/COVID-19</td>\n",
       "      <td>Y</td>\n",
       "      <td>Y</td>\n",
       "      <td>N</td>\n",
       "      <td>N</td>\n",
       "      <td>N</td>\n",
       "      <td>...</td>\n",
       "      <td>January 25, 2020</td>\n",
       "      <td>Cho Ray Hospital, Ho Chi Minh City, Vietnam</td>\n",
       "      <td>images</td>\n",
       "      <td>auntminnie-b-2020_01_28_23_51_6665_2020_01_28_...</td>\n",
       "      <td>10.1056/nejmc2001272</td>\n",
       "      <td>https://www.nejm.org/doi/full/10.1056/NEJMc200...</td>\n",
       "      <td>NaN</td>\n",
       "      <td>On January 22, 2020, a 65-year-old man with a ...</td>\n",
       "      <td>NaN</td>\n",
       "      <td>NaN</td>\n",
       "    </tr>\n",
       "    <tr>\n",
       "      <th>2</th>\n",
       "      <td>2</td>\n",
       "      <td>5.0</td>\n",
       "      <td>M</td>\n",
       "      <td>65.0</td>\n",
       "      <td>Pneumonia/Viral/COVID-19</td>\n",
       "      <td>Y</td>\n",
       "      <td>Y</td>\n",
       "      <td>N</td>\n",
       "      <td>N</td>\n",
       "      <td>N</td>\n",
       "      <td>...</td>\n",
       "      <td>January 27, 2020</td>\n",
       "      <td>Cho Ray Hospital, Ho Chi Minh City, Vietnam</td>\n",
       "      <td>images</td>\n",
       "      <td>auntminnie-c-2020_01_28_23_51_6665_2020_01_28_...</td>\n",
       "      <td>10.1056/nejmc2001272</td>\n",
       "      <td>https://www.nejm.org/doi/full/10.1056/NEJMc200...</td>\n",
       "      <td>NaN</td>\n",
       "      <td>On January 22, 2020, a 65-year-old man with a ...</td>\n",
       "      <td>NaN</td>\n",
       "      <td>NaN</td>\n",
       "    </tr>\n",
       "    <tr>\n",
       "      <th>3</th>\n",
       "      <td>2</td>\n",
       "      <td>6.0</td>\n",
       "      <td>M</td>\n",
       "      <td>65.0</td>\n",
       "      <td>Pneumonia/Viral/COVID-19</td>\n",
       "      <td>Y</td>\n",
       "      <td>Y</td>\n",
       "      <td>N</td>\n",
       "      <td>N</td>\n",
       "      <td>N</td>\n",
       "      <td>...</td>\n",
       "      <td>January 28, 2020</td>\n",
       "      <td>Cho Ray Hospital, Ho Chi Minh City, Vietnam</td>\n",
       "      <td>images</td>\n",
       "      <td>auntminnie-d-2020_01_28_23_51_6665_2020_01_28_...</td>\n",
       "      <td>10.1056/nejmc2001272</td>\n",
       "      <td>https://www.nejm.org/doi/full/10.1056/NEJMc200...</td>\n",
       "      <td>NaN</td>\n",
       "      <td>On January 22, 2020, a 65-year-old man with a ...</td>\n",
       "      <td>NaN</td>\n",
       "      <td>NaN</td>\n",
       "    </tr>\n",
       "    <tr>\n",
       "      <th>4</th>\n",
       "      <td>4</td>\n",
       "      <td>0.0</td>\n",
       "      <td>F</td>\n",
       "      <td>52.0</td>\n",
       "      <td>Pneumonia/Viral/COVID-19</td>\n",
       "      <td>Y</td>\n",
       "      <td>NaN</td>\n",
       "      <td>N</td>\n",
       "      <td>N</td>\n",
       "      <td>N</td>\n",
       "      <td>...</td>\n",
       "      <td>January 25, 2020</td>\n",
       "      <td>Changhua Christian Hospital, Changhua City, Ta...</td>\n",
       "      <td>images</td>\n",
       "      <td>nejmc2001573_f1a.jpeg</td>\n",
       "      <td>10.1056/NEJMc2001573</td>\n",
       "      <td>https://www.nejm.org/doi/full/10.1056/NEJMc200...</td>\n",
       "      <td>NaN</td>\n",
       "      <td>diffuse infiltrates in the bilateral lower lungs</td>\n",
       "      <td>NaN</td>\n",
       "      <td>NaN</td>\n",
       "    </tr>\n",
       "  </tbody>\n",
       "</table>\n",
       "<p>5 rows × 30 columns</p>\n",
       "</div>"
      ],
      "text/plain": [
       "  patientid  offset sex   age                   finding RT_PCR_positive  \\\n",
       "0         2     0.0   M  65.0  Pneumonia/Viral/COVID-19               Y   \n",
       "1         2     3.0   M  65.0  Pneumonia/Viral/COVID-19               Y   \n",
       "2         2     5.0   M  65.0  Pneumonia/Viral/COVID-19               Y   \n",
       "3         2     6.0   M  65.0  Pneumonia/Viral/COVID-19               Y   \n",
       "4         4     0.0   F  52.0  Pneumonia/Viral/COVID-19               Y   \n",
       "\n",
       "  survival intubated intubation_present went_icu  ...              date  \\\n",
       "0        Y         N                  N        N  ...  January 22, 2020   \n",
       "1        Y         N                  N        N  ...  January 25, 2020   \n",
       "2        Y         N                  N        N  ...  January 27, 2020   \n",
       "3        Y         N                  N        N  ...  January 28, 2020   \n",
       "4      NaN         N                  N        N  ...  January 25, 2020   \n",
       "\n",
       "                                            location  folder  \\\n",
       "0        Cho Ray Hospital, Ho Chi Minh City, Vietnam  images   \n",
       "1        Cho Ray Hospital, Ho Chi Minh City, Vietnam  images   \n",
       "2        Cho Ray Hospital, Ho Chi Minh City, Vietnam  images   \n",
       "3        Cho Ray Hospital, Ho Chi Minh City, Vietnam  images   \n",
       "4  Changhua Christian Hospital, Changhua City, Ta...  images   \n",
       "\n",
       "                                            filename                   doi  \\\n",
       "0  auntminnie-a-2020_01_28_23_51_6665_2020_01_28_...  10.1056/nejmc2001272   \n",
       "1  auntminnie-b-2020_01_28_23_51_6665_2020_01_28_...  10.1056/nejmc2001272   \n",
       "2  auntminnie-c-2020_01_28_23_51_6665_2020_01_28_...  10.1056/nejmc2001272   \n",
       "3  auntminnie-d-2020_01_28_23_51_6665_2020_01_28_...  10.1056/nejmc2001272   \n",
       "4                              nejmc2001573_f1a.jpeg  10.1056/NEJMc2001573   \n",
       "\n",
       "                                                 url  license  \\\n",
       "0  https://www.nejm.org/doi/full/10.1056/NEJMc200...      NaN   \n",
       "1  https://www.nejm.org/doi/full/10.1056/NEJMc200...      NaN   \n",
       "2  https://www.nejm.org/doi/full/10.1056/NEJMc200...      NaN   \n",
       "3  https://www.nejm.org/doi/full/10.1056/NEJMc200...      NaN   \n",
       "4  https://www.nejm.org/doi/full/10.1056/NEJMc200...      NaN   \n",
       "\n",
       "                                      clinical_notes other_notes Unnamed: 29  \n",
       "0  On January 22, 2020, a 65-year-old man with a ...         NaN         NaN  \n",
       "1  On January 22, 2020, a 65-year-old man with a ...         NaN         NaN  \n",
       "2  On January 22, 2020, a 65-year-old man with a ...         NaN         NaN  \n",
       "3  On January 22, 2020, a 65-year-old man with a ...         NaN         NaN  \n",
       "4   diffuse infiltrates in the bilateral lower lungs         NaN         NaN  \n",
       "\n",
       "[5 rows x 30 columns]"
      ]
     },
     "execution_count": 5,
     "metadata": {},
     "output_type": "execute_result"
    }
   ],
   "source": [
    "df.head()"
   ]
  },
  {
   "cell_type": "code",
   "execution_count": 6,
   "metadata": {},
   "outputs": [
    {
     "data": {
      "text/plain": [
       "Index(['patientid', 'offset', 'sex', 'age', 'finding', 'RT_PCR_positive',\n",
       "       'survival', 'intubated', 'intubation_present', 'went_icu', 'in_icu',\n",
       "       'needed_supplemental_O2', 'extubated', 'temperature', 'pO2_saturation',\n",
       "       'leukocyte_count', 'neutrophil_count', 'lymphocyte_count', 'view',\n",
       "       'modality', 'date', 'location', 'folder', 'filename', 'doi', 'url',\n",
       "       'license', 'clinical_notes', 'other_notes', 'Unnamed: 29'],\n",
       "      dtype='object')"
      ]
     },
     "execution_count": 6,
     "metadata": {},
     "output_type": "execute_result"
    }
   ],
   "source": [
    "df.columns"
   ]
  },
  {
   "cell_type": "markdown",
   "metadata": {},
   "source": [
    "## 2.1 Loading Datasets"
   ]
  },
  {
   "cell_type": "code",
   "execution_count": 7,
   "metadata": {},
   "outputs": [],
   "source": [
    "TARGET_DIR = \"Dataset/Train/Covid\""
   ]
  },
  {
   "cell_type": "code",
   "execution_count": 8,
   "metadata": {},
   "outputs": [],
   "source": [
    "if not os.path.exists(TARGET_DIR):\n",
    "    os.mkdir(TARGET_DIR)\n",
    "    print(\"Covid FOlder Created\")"
   ]
  },
  {
   "cell_type": "code",
   "execution_count": 9,
   "metadata": {},
   "outputs": [],
   "source": [
    "#Copy COVID-19 images with view point PA from Downloaded directory to Target Directory\n",
    "cnt = 0"
   ]
  },
  {
   "cell_type": "code",
   "execution_count": 10,
   "metadata": {},
   "outputs": [
    {
     "name": "stdout",
     "output_type": "stream",
     "text": [
      "Moving Image 0\n",
      "Moving Image 1\n",
      "Moving Image 2\n",
      "Moving Image 3\n",
      "Moving Image 4\n",
      "Moving Image 5\n",
      "Moving Image 6\n",
      "Moving Image 7\n",
      "Moving Image 8\n",
      "Moving Image 9\n",
      "Moving Image 10\n",
      "Moving Image 11\n",
      "Moving Image 12\n",
      "Moving Image 13\n",
      "Moving Image 14\n",
      "Moving Image 15\n",
      "Moving Image 16\n",
      "Moving Image 17\n",
      "Moving Image 18\n",
      "Moving Image 19\n",
      "Moving Image 20\n",
      "Moving Image 21\n",
      "Moving Image 22\n",
      "Moving Image 23\n",
      "Moving Image 24\n",
      "Moving Image 25\n",
      "Moving Image 26\n",
      "Moving Image 27\n",
      "Moving Image 28\n",
      "Moving Image 29\n",
      "Moving Image 30\n",
      "Moving Image 31\n",
      "Moving Image 32\n",
      "Moving Image 33\n",
      "Moving Image 34\n",
      "Moving Image 35\n",
      "Moving Image 36\n",
      "Moving Image 37\n",
      "Moving Image 38\n",
      "Moving Image 39\n",
      "Moving Image 40\n",
      "Moving Image 41\n",
      "Moving Image 42\n",
      "Moving Image 43\n",
      "Moving Image 44\n",
      "Moving Image 45\n",
      "Moving Image 46\n",
      "Moving Image 47\n",
      "Moving Image 48\n",
      "Moving Image 49\n",
      "Moving Image 50\n",
      "Moving Image 51\n",
      "Moving Image 52\n",
      "Moving Image 53\n",
      "Moving Image 54\n",
      "Moving Image 55\n",
      "Moving Image 56\n",
      "Moving Image 57\n",
      "Moving Image 58\n",
      "Moving Image 59\n",
      "Moving Image 60\n",
      "Moving Image 61\n",
      "Moving Image 62\n",
      "Moving Image 63\n",
      "Moving Image 64\n",
      "Moving Image 65\n",
      "Moving Image 66\n",
      "Moving Image 67\n",
      "Moving Image 68\n",
      "Moving Image 69\n",
      "Moving Image 70\n",
      "Moving Image 71\n",
      "Moving Image 72\n",
      "Moving Image 73\n",
      "Moving Image 74\n",
      "Moving Image 75\n",
      "Moving Image 76\n",
      "Moving Image 77\n",
      "Moving Image 78\n",
      "Moving Image 79\n",
      "Moving Image 80\n",
      "Moving Image 81\n",
      "Moving Image 82\n",
      "Moving Image 83\n",
      "Moving Image 84\n",
      "Moving Image 85\n",
      "Moving Image 86\n",
      "Moving Image 87\n",
      "Moving Image 88\n",
      "Moving Image 89\n",
      "Moving Image 90\n",
      "Moving Image 91\n",
      "Moving Image 92\n",
      "Moving Image 93\n",
      "Moving Image 94\n",
      "Moving Image 95\n",
      "Moving Image 96\n",
      "Moving Image 97\n",
      "Moving Image 98\n",
      "Moving Image 99\n",
      "Moving Image 100\n",
      "Moving Image 101\n",
      "Moving Image 102\n",
      "Moving Image 103\n",
      "Moving Image 104\n",
      "Moving Image 105\n",
      "Moving Image 106\n",
      "Moving Image 107\n",
      "Moving Image 108\n",
      "Moving Image 109\n",
      "Moving Image 110\n",
      "Moving Image 111\n",
      "Moving Image 112\n",
      "Moving Image 113\n",
      "Moving Image 114\n",
      "Moving Image 115\n",
      "Moving Image 116\n",
      "Moving Image 117\n",
      "Moving Image 118\n",
      "Moving Image 119\n",
      "Moving Image 120\n",
      "Moving Image 121\n",
      "Moving Image 122\n",
      "Moving Image 123\n",
      "Moving Image 124\n",
      "Moving Image 125\n",
      "Moving Image 126\n",
      "Moving Image 127\n",
      "Moving Image 128\n",
      "Moving Image 129\n",
      "Moving Image 130\n",
      "Moving Image 131\n",
      "Moving Image 132\n",
      "Moving Image 133\n",
      "Moving Image 134\n",
      "Moving Image 135\n",
      "Moving Image 136\n",
      "Moving Image 137\n",
      "Moving Image 138\n",
      "Moving Image 139\n",
      "Moving Image 140\n",
      "Moving Image 141\n",
      "Moving Image 142\n",
      "Moving Image 143\n",
      "Moving Image 144\n",
      "Moving Image 145\n",
      "Moving Image 146\n",
      "Moving Image 147\n",
      "Moving Image 148\n",
      "Moving Image 149\n",
      "Moving Image 150\n",
      "Moving Image 151\n",
      "Moving Image 152\n",
      "Moving Image 153\n",
      "Moving Image 154\n",
      "Moving Image 155\n",
      "Moving Image 156\n",
      "Moving Image 157\n",
      "Moving Image 158\n",
      "Moving Image 159\n",
      "Moving Image 160\n",
      "Moving Image 161\n",
      "Moving Image 162\n",
      "Moving Image 163\n",
      "Moving Image 164\n",
      "Moving Image 165\n",
      "Moving Image 166\n",
      "Moving Image 167\n",
      "Moving Image 168\n",
      "Moving Image 169\n",
      "Moving Image 170\n",
      "Moving Image 171\n",
      "Moving Image 172\n",
      "Moving Image 173\n",
      "Moving Image 174\n",
      "Moving Image 175\n",
      "Moving Image 176\n",
      "Moving Image 177\n",
      "Moving Image 178\n",
      "Moving Image 179\n",
      "Moving Image 180\n",
      "Moving Image 181\n",
      "Moving Image 182\n",
      "Moving Image 183\n",
      "Moving Image 184\n",
      "Moving Image 185\n",
      "Moving Image 186\n",
      "Moving Image 187\n",
      "Moving Image 188\n",
      "Moving Image 189\n",
      "Moving Image 190\n",
      "Moving Image 191\n",
      "Moving Image 192\n",
      "Moving Image 193\n",
      "Moving Image 194\n",
      "Moving Image 195\n"
     ]
    }
   ],
   "source": [
    "for(i,row) in df.iterrows():\n",
    "    if row[\"finding\"] == \"Pneumonia/Viral/COVID-19\" and row[\"view\"] ==\"PA\":\n",
    "        filename = row[\"filename\"]\n",
    "        image_path = os.path.join(IMAGE_PATH,filename) #IMAGE_PATH + filename\n",
    "        image_copy_path = os.path.join(TARGET_DIR,filename) #TARGET_DIR + filename\n",
    "        shutil.copy2(image_path,image_copy_path) #Copy From IMAGE_PATH to TARGET_DIrectory\n",
    "        print(\"Moving Image\",cnt)\n",
    "        cnt+=1"
   ]
  },
  {
   "cell_type": "code",
   "execution_count": 11,
   "metadata": {},
   "outputs": [
    {
     "name": "stdout",
     "output_type": "stream",
     "text": [
      "196\n"
     ]
    }
   ],
   "source": [
    "print(cnt)"
   ]
  },
  {
   "cell_type": "code",
   "execution_count": 12,
   "metadata": {},
   "outputs": [
    {
     "name": "stdout",
     "output_type": "stream",
     "text": [
      "Moved 0\n",
      "Moved 1\n",
      "Moved 2\n",
      "Moved 3\n",
      "Moved 4\n",
      "Moved 5\n",
      "Moved 6\n",
      "Moved 7\n",
      "Moved 8\n",
      "Moved 9\n",
      "Moved 10\n",
      "Moved 11\n",
      "Moved 12\n",
      "Moved 13\n",
      "Moved 14\n",
      "Moved 15\n",
      "Moved 16\n",
      "Moved 17\n",
      "Moved 18\n",
      "Moved 19\n",
      "Moved 20\n",
      "Moved 21\n",
      "Moved 22\n",
      "Moved 23\n",
      "Moved 24\n",
      "Moved 25\n",
      "Moved 26\n",
      "Moved 27\n",
      "Moved 28\n",
      "Moved 29\n",
      "Moved 30\n",
      "Moved 31\n",
      "Moved 32\n",
      "Moved 33\n",
      "Moved 34\n",
      "Moved 35\n",
      "Moved 36\n",
      "Moved 37\n",
      "Moved 38\n",
      "Moved 39\n",
      "Moved 40\n",
      "Moved 41\n",
      "Moved 42\n",
      "Moved 43\n",
      "Moved 44\n",
      "Moved 45\n",
      "Moved 46\n",
      "Moved 47\n",
      "Moved 48\n",
      "Moved 49\n",
      "Moved 50\n",
      "Moved 51\n",
      "Moved 52\n",
      "Moved 53\n",
      "Moved 54\n",
      "Moved 55\n",
      "Moved 56\n",
      "Moved 57\n",
      "Moved 58\n",
      "Moved 59\n",
      "Moved 60\n",
      "Moved 61\n",
      "Moved 62\n",
      "Moved 63\n",
      "Moved 64\n",
      "Moved 65\n",
      "Moved 66\n",
      "Moved 67\n",
      "Moved 68\n",
      "Moved 69\n",
      "Moved 70\n",
      "Moved 71\n",
      "Moved 72\n",
      "Moved 73\n",
      "Moved 74\n",
      "Moved 75\n",
      "Moved 76\n",
      "Moved 77\n",
      "Moved 78\n",
      "Moved 79\n",
      "Moved 80\n",
      "Moved 81\n",
      "Moved 82\n",
      "Moved 83\n",
      "Moved 84\n",
      "Moved 85\n",
      "Moved 86\n",
      "Moved 87\n",
      "Moved 88\n",
      "Moved 89\n",
      "Moved 90\n",
      "Moved 91\n",
      "Moved 92\n",
      "Moved 93\n",
      "Moved 94\n",
      "Moved 95\n",
      "Moved 96\n",
      "Moved 97\n",
      "Moved 98\n",
      "Moved 99\n",
      "Moved 100\n",
      "Moved 101\n",
      "Moved 102\n",
      "Moved 103\n",
      "Moved 104\n",
      "Moved 105\n",
      "Moved 106\n",
      "Moved 107\n",
      "Moved 108\n",
      "Moved 109\n",
      "Moved 110\n",
      "Moved 111\n",
      "Moved 112\n",
      "Moved 113\n",
      "Moved 114\n",
      "Moved 115\n",
      "Moved 116\n",
      "Moved 117\n",
      "Moved 118\n",
      "Moved 119\n",
      "Moved 120\n",
      "Moved 121\n",
      "Moved 122\n",
      "Moved 123\n",
      "Moved 124\n",
      "Moved 125\n",
      "Moved 126\n",
      "Moved 127\n",
      "Moved 128\n",
      "Moved 129\n",
      "Moved 130\n",
      "Moved 131\n",
      "Moved 132\n",
      "Moved 133\n",
      "Moved 134\n",
      "Moved 135\n",
      "Moved 136\n",
      "Moved 137\n",
      "Moved 138\n",
      "Moved 139\n",
      "Moved 140\n",
      "Moved 141\n",
      "Moved 142\n",
      "Moved 143\n",
      "Moved 144\n",
      "Moved 145\n",
      "Moved 146\n",
      "Moved 147\n",
      "Moved 148\n",
      "Moved 149\n",
      "Moved 150\n",
      "Moved 151\n",
      "Moved 152\n",
      "Moved 153\n",
      "Moved 154\n",
      "Moved 155\n",
      "Moved 156\n",
      "Moved 157\n",
      "Moved 158\n",
      "Moved 159\n",
      "Moved 160\n",
      "Moved 161\n",
      "Moved 162\n",
      "Moved 163\n",
      "Moved 164\n",
      "Moved 165\n",
      "Moved 166\n",
      "Moved 167\n",
      "Moved 168\n",
      "Moved 169\n",
      "Moved 170\n",
      "Moved 171\n",
      "Moved 172\n",
      "Moved 173\n",
      "Moved 174\n",
      "Moved 175\n",
      "Moved 176\n",
      "Moved 177\n",
      "Moved 178\n",
      "Moved 179\n",
      "Moved 180\n",
      "Moved 181\n",
      "Moved 182\n",
      "Moved 183\n",
      "Moved 184\n",
      "Moved 185\n",
      "Moved 186\n",
      "Moved 187\n",
      "Moved 188\n",
      "Moved 189\n",
      "Moved 190\n",
      "Moved 191\n",
      "Moved 192\n",
      "Moved 193\n",
      "Moved 194\n",
      "Moved 195\n"
     ]
    }
   ],
   "source": [
    "# Sampling of Images from Kaggle Data,As we have 143 around covid images so we will have 143 around normal images of xray\n",
    "\n",
    "import random\n",
    "KAGGLE_FILE_PATH = \"inp\\\\train\\\\NORMAL\"\n",
    "TARGET_NORMAL_DIR = \"Dataset\\\\Train\\\\Normal\"\n",
    "if not os.path.exists(TARGET_NORMAL_DIR):\n",
    "    os.mkdir(TARGET_NORMAL_DIR)\n",
    "    print(\"Normal Folder Created\")\n",
    "    \n",
    "image_names = os.listdir(KAGGLE_FILE_PATH) #COntains list of all image names\n",
    "# images_names\n",
    "random.shuffle(image_names) #it will randomly shuffle names in list\n",
    "\n",
    "for i in range(196):\n",
    "    image_name = image_names[i]\n",
    "    image_path = os.path.join(KAGGLE_FILE_PATH,image_name)\n",
    "    \n",
    "    target_path = os.path.join(TARGET_NORMAL_DIR,image_name)\n",
    "    shutil.copy2(image_path,target_path)\n",
    "    print(\"Moved\",i)"
   ]
  },
  {
   "cell_type": "code",
   "execution_count": 13,
   "metadata": {
    "colab": {},
    "colab_type": "code",
    "id": "8F7z14PADOiw"
   },
   "outputs": [],
   "source": [
    "TRAIN_PATH = \"Dataset/Train\"\n",
    "VAL_PATH = \"Dataset/Val\""
   ]
  },
  {
   "cell_type": "markdown",
   "metadata": {
    "colab_type": "text",
    "id": "zFsK_XFhEZwP"
   },
   "source": [
    "## 3. Model Building Architecture\n"
   ]
  },
  {
   "cell_type": "markdown",
   "metadata": {},
   "source": [
    "## Pre Trained Model"
   ]
  },
  {
   "cell_type": "code",
   "execution_count": 14,
   "metadata": {},
   "outputs": [
    {
     "name": "stdout",
     "output_type": "stream",
     "text": [
      "Downloading data from https://storage.googleapis.com/tensorflow/keras-applications/resnet/resnet50_weights_tf_dim_ordering_tf_kernels_notop.h5\n",
      "94773248/94765736 [==============================] - 36s 0us/step\n",
      "94781440/94765736 [==============================] - 36s 0us/step\n"
     ]
    }
   ],
   "source": [
    "from tensorflow.keras.applications.resnet50 import ResNet50\n",
    "from tensorflow.keras.layers import Dense, GlobalAveragePooling2D\n",
    "from tensorflow.keras.models import Model\n",
    "\n",
    "base_model = ResNet50(weights='imagenet', include_top=False)"
   ]
  },
  {
   "cell_type": "code",
   "execution_count": 18,
   "metadata": {},
   "outputs": [],
   "source": [
    "from keras.preprocessing.image import ImageDataGenerator\n",
    "#from keras.applications import ResNet50\n",
    "from keras.models import Model\n",
    "from keras.layers import Dense, GlobalAveragePooling2D"
   ]
  },
  {
   "cell_type": "code",
   "execution_count": 19,
   "metadata": {},
   "outputs": [],
   "source": [
    "# Define the path to your dataset\n",
    "train_data_dir = \"Dataset/Train\"\n",
    "validation_data_dir = \"Dataset/Val\""
   ]
  },
  {
   "cell_type": "code",
   "execution_count": 20,
   "metadata": {},
   "outputs": [],
   "source": [
    "# Define the number of classes in your dataset\n",
    "num_classes = 2\n",
    "\n",
    "# Define the input size of your images\n",
    "input_size = (224, 224)"
   ]
  },
  {
   "cell_type": "code",
   "execution_count": 21,
   "metadata": {},
   "outputs": [],
   "source": [
    "# Instantiate the ResNet50 model with pre-trained weights\n",
    "base_model = ResNet50(weights='imagenet', include_top=False, input_shape=(input_size[0], input_size[1], 3))"
   ]
  },
  {
   "cell_type": "code",
   "execution_count": 22,
   "metadata": {},
   "outputs": [],
   "source": [
    "# Add a global average pooling layer and a fully connected output layer\n",
    "x = base_model.output\n",
    "x = GlobalAveragePooling2D()(x)\n",
    "x = Dense(1024, activation='relu')(x)\n",
    "predictions = Dense(num_classes, activation='softmax')(x)"
   ]
  },
  {
   "cell_type": "code",
   "execution_count": 23,
   "metadata": {},
   "outputs": [],
   "source": [
    "# Define the model to be trained\n",
    "model = Model(inputs=base_model.input, outputs=predictions)"
   ]
  },
  {
   "cell_type": "code",
   "execution_count": 24,
   "metadata": {},
   "outputs": [],
   "source": [
    "# Freeze the weights of the pre-trained layers to prevent them from being updated during training\n",
    "for layer in base_model.layers:\n",
    "    layer.trainable = False"
   ]
  },
  {
   "cell_type": "code",
   "execution_count": 25,
   "metadata": {},
   "outputs": [],
   "source": [
    "# Define the loss function, optimizer, and evaluation metric\n",
    "model.compile(loss='categorical_crossentropy', optimizer='adam', metrics=['accuracy'])"
   ]
  },
  {
   "cell_type": "code",
   "execution_count": 26,
   "metadata": {},
   "outputs": [],
   "source": [
    "# Define data generators for data augmentation and image preprocessing\n",
    "train_datagen = ImageDataGenerator(\n",
    "    rescale=1./255,\n",
    "    shear_range=0.2,\n",
    "    zoom_range=0.2,\n",
    "    horizontal_flip=True)\n",
    "\n",
    "validation_datagen = ImageDataGenerator(rescale=1./255)"
   ]
  },
  {
   "cell_type": "code",
   "execution_count": 27,
   "metadata": {},
   "outputs": [],
   "source": [
    "# Define the batch size and number of epochs for training\n",
    "batch_size = 32\n",
    "epochs = 10"
   ]
  },
  {
   "cell_type": "code",
   "execution_count": 28,
   "metadata": {},
   "outputs": [
    {
     "name": "stdout",
     "output_type": "stream",
     "text": [
      "Found 1537 images belonging to 2 classes.\n",
      "Found 60 images belonging to 2 classes.\n"
     ]
    }
   ],
   "source": [
    "# Generate batches of augmented training data and validation data\n",
    "train_generator = train_datagen.flow_from_directory(\n",
    "    train_data_dir,\n",
    "    target_size=input_size,\n",
    "    batch_size=batch_size,\n",
    "    class_mode='categorical')\n",
    "\n",
    "validation_generator = validation_datagen.flow_from_directory(\n",
    "    validation_data_dir,\n",
    "    target_size=input_size,\n",
    "    batch_size=batch_size,\n",
    "    class_mode='categorical')"
   ]
  },
  {
   "cell_type": "code",
   "execution_count": 29,
   "metadata": {},
   "outputs": [
    {
     "name": "stderr",
     "output_type": "stream",
     "text": [
      "C:\\Users\\gruha\\AppData\\Local\\Temp/ipykernel_12136/1175499621.py:2: UserWarning: `Model.fit_generator` is deprecated and will be removed in a future version. Please use `Model.fit`, which supports generators.\n",
      "  model.fit_generator(\n"
     ]
    },
    {
     "name": "stdout",
     "output_type": "stream",
     "text": [
      "Epoch 1/10\n",
      "48/48 [==============================] - 80s 2s/step - loss: 0.5283 - accuracy: 0.8126 - val_loss: 1.0093 - val_accuracy: 0.5000\n",
      "Epoch 2/10\n",
      "48/48 [==============================] - 79s 2s/step - loss: 0.3228 - accuracy: 0.8738 - val_loss: 0.9210 - val_accuracy: 0.5000\n",
      "Epoch 3/10\n",
      "48/48 [==============================] - 79s 2s/step - loss: 0.2825 - accuracy: 0.8804 - val_loss: 0.6378 - val_accuracy: 0.4688\n",
      "Epoch 4/10\n",
      "48/48 [==============================] - 89s 2s/step - loss: 0.2354 - accuracy: 0.9043 - val_loss: 0.6006 - val_accuracy: 0.6875\n",
      "Epoch 5/10\n",
      "48/48 [==============================] - 76s 2s/step - loss: 0.2345 - accuracy: 0.9010 - val_loss: 0.8728 - val_accuracy: 0.5000\n",
      "Epoch 6/10\n",
      "48/48 [==============================] - 109s 2s/step - loss: 0.2051 - accuracy: 0.9232 - val_loss: 0.5121 - val_accuracy: 0.7188\n",
      "Epoch 7/10\n",
      "48/48 [==============================] - 109s 2s/step - loss: 0.1746 - accuracy: 0.9402 - val_loss: 0.3656 - val_accuracy: 0.8125\n",
      "Epoch 8/10\n",
      "48/48 [==============================] - 98s 2s/step - loss: 0.1812 - accuracy: 0.9389 - val_loss: 0.2397 - val_accuracy: 0.9062\n",
      "Epoch 9/10\n",
      "48/48 [==============================] - 89s 2s/step - loss: 0.1524 - accuracy: 0.9542 - val_loss: 0.3592 - val_accuracy: 0.8438\n",
      "Epoch 10/10\n",
      "48/48 [==============================] - 75s 2s/step - loss: 0.1639 - accuracy: 0.9449 - val_loss: 0.6186 - val_accuracy: 0.7188\n"
     ]
    },
    {
     "data": {
      "text/plain": [
       "<keras.callbacks.History at 0x1e48e0a7dc0>"
      ]
     },
     "execution_count": 29,
     "metadata": {},
     "output_type": "execute_result"
    }
   ],
   "source": [
    "# Train the model using the generated data\n",
    "model.fit_generator(\n",
    "    train_generator,\n",
    "    steps_per_epoch=train_generator.samples // batch_size,\n",
    "    epochs=epochs,\n",
    "    validation_data=validation_generator,\n",
    "    validation_steps=validation_generator.samples // batch_size)"
   ]
  },
  {
   "cell_type": "markdown",
   "metadata": {},
   "source": [
    "## Saving Pre Trained Model"
   ]
  },
  {
   "cell_type": "code",
   "execution_count": 31,
   "metadata": {},
   "outputs": [
    {
     "name": "stderr",
     "output_type": "stream",
     "text": [
      "C:\\Users\\gruha\\miniconda3\\envs\\ash_off\\lib\\site-packages\\keras\\engine\\functional.py:1410: CustomMaskWarning: Custom mask layers require a config and must override get_config. When loading, the custom mask layer must be passed to the custom_objects argument.\n",
      "  layer_config = serialize_layer_fn(layer)\n"
     ]
    }
   ],
   "source": [
    "model.save('pre_model.h5')"
   ]
  },
  {
   "cell_type": "markdown",
   "metadata": {},
   "source": [
    "## Visualizing Pre Trained Model"
   ]
  },
  {
   "cell_type": "code",
   "execution_count": 38,
   "metadata": {},
   "outputs": [],
   "source": [
    "img_size = (224, 224)\n",
    "batch_size = 32"
   ]
  },
  {
   "cell_type": "code",
   "execution_count": 39,
   "metadata": {},
   "outputs": [
    {
     "name": "stdout",
     "output_type": "stream",
     "text": [
      "Found 1537 images belonging to 2 classes.\n",
      "Found 60 images belonging to 2 classes.\n"
     ]
    }
   ],
   "source": [
    "# Create the train and validation data generators\n",
    "train_datagen = ImageDataGenerator(rescale=1./255)\n",
    "train_data = train_datagen.flow_from_directory(\n",
    "    train_data_dir,\n",
    "    target_size=img_size,\n",
    "    batch_size=batch_size,\n",
    "    class_mode='categorical'\n",
    ")\n",
    "\n",
    "validation_datagen = ImageDataGenerator(rescale=1./255)\n",
    "validation_data = validation_datagen.flow_from_directory(\n",
    "    validation_data_dir,\n",
    "    target_size=img_size,\n",
    "    batch_size=batch_size,\n",
    "    class_mode='categorical',\n",
    "    shuffle=False\n",
    ")"
   ]
  },
  {
   "cell_type": "code",
   "execution_count": 40,
   "metadata": {},
   "outputs": [
    {
     "name": "stdout",
     "output_type": "stream",
     "text": [
      "Epoch 1/10\n",
      "49/49 [==============================] - 67s 1s/step - loss: 0.2172 - accuracy: 0.9297 - val_loss: 0.2669 - val_accuracy: 0.9000\n",
      "Epoch 2/10\n",
      "49/49 [==============================] - 69s 1s/step - loss: 0.1404 - accuracy: 0.9512 - val_loss: 0.2929 - val_accuracy: 0.8500\n",
      "Epoch 3/10\n",
      "49/49 [==============================] - 65s 1s/step - loss: 0.1377 - accuracy: 0.9473 - val_loss: 0.1932 - val_accuracy: 0.9000\n",
      "Epoch 4/10\n",
      "49/49 [==============================] - 65s 1s/step - loss: 0.1123 - accuracy: 0.9636 - val_loss: 0.1620 - val_accuracy: 0.9833\n",
      "Epoch 5/10\n",
      "49/49 [==============================] - 65s 1s/step - loss: 0.1088 - accuracy: 0.9649 - val_loss: 0.1514 - val_accuracy: 0.9833\n",
      "Epoch 6/10\n",
      "49/49 [==============================] - 65s 1s/step - loss: 0.1055 - accuracy: 0.9642 - val_loss: 0.2584 - val_accuracy: 0.8667\n",
      "Epoch 7/10\n",
      "49/49 [==============================] - 66s 1s/step - loss: 0.0938 - accuracy: 0.9727 - val_loss: 0.2417 - val_accuracy: 0.8667\n",
      "Epoch 8/10\n",
      "49/49 [==============================] - 81s 2s/step - loss: 0.0919 - accuracy: 0.9701 - val_loss: 0.2315 - val_accuracy: 0.8667\n",
      "Epoch 9/10\n",
      "49/49 [==============================] - 94s 2s/step - loss: 0.0978 - accuracy: 0.9694 - val_loss: 0.2066 - val_accuracy: 0.8833\n",
      "Epoch 10/10\n",
      "49/49 [==============================] - 95s 2s/step - loss: 0.0863 - accuracy: 0.9707 - val_loss: 0.5413 - val_accuracy: 0.7500\n"
     ]
    }
   ],
   "source": [
    "import matplotlib.pyplot as plt\n",
    "\n",
    "# Define the training history\n",
    "history = model.fit(train_data, epochs=10, validation_data=validation_data)\n",
    "\n",
    "# Extract the training and validation accuracy and loss values\n",
    "if 'accuracy' in history.history and 'val_accuracy' in history.history:\n",
    "    train_acc = history.history['accuracy']\n",
    "    val_acc = history.history['val_accuracy']\n",
    "else:\n",
    "    print(\"Error: Accuracy values not found in history\")\n",
    "    train_acc = []\n",
    "    val_acc = []\n",
    "\n",
    "if 'loss' in history.history and 'val_loss' in history.history:\n",
    "    train_loss = history.history['loss']\n",
    "    val_loss = history.history['val_loss']\n",
    "else:\n",
    "    print(\"Error: Loss values not found in history\")\n",
    "    train_loss = []\n",
    "    val_loss = []\n"
   ]
  },
  {
   "cell_type": "code",
   "execution_count": 42,
   "metadata": {},
   "outputs": [
    {
     "data": {
      "image/png": "[encoded data removed]",
      "text/plain": [
       "<Figure size 432x288 with 1 Axes>"
      ]
     },
     "metadata": {
      "needs_background": "light"
     },
     "output_type": "display_data"
    }
   ],
   "source": [
    "# Plot the training and validation accuracy\n",
    "plt.plot(train_acc, label='Training Accuracy')\n",
    "plt.plot(val_acc, label='Validation Accuracy')\n",
    "plt.legend()\n",
    "plt.title('Training and Validation Accuracy')\n",
    "plt.xlabel('Epoch')\n",
    "plt.ylabel('Accuracy')\n",
    "plt.show()"
   ]
  },
  {
   "cell_type": "code",
   "execution_count": 43,
   "metadata": {},
   "outputs": [
    {
     "data": {
      "image/png": "[encoded data removed]",
      "text/plain": [
       "<Figure size 432x288 with 1 Axes>"
      ]
     },
     "metadata": {
      "needs_background": "light"
     },
     "output_type": "display_data"
    }
   ],
   "source": [
    "# Plot the training and validation loss\n",
    "plt.plot(train_loss, label='Training Loss')\n",
    "plt.plot(val_loss, label='Validation Loss')\n",
    "plt.legend()\n",
    "plt.title('Training and Validation Loss')\n",
    "plt.xlabel('Epoch')\n",
    "plt.ylabel('Loss')\n",
    "plt.show()"
   ]
  },
  {
   "cell_type": "code",
   "execution_count": 44,
   "metadata": {},
   "outputs": [
    {
     "data": {
      "image/png": "[encoded data removed]",
      "text/plain": [
       "<Figure size 432x288 with 1 Axes>"
      ]
     },
     "metadata": {
      "needs_background": "light"
     },
     "output_type": "display_data"
    }
   ],
   "source": [
    "# Plot both accuracy and loss on the same graph\n",
    "plt.plot(train_acc, label='Training Accuracy')\n",
    "plt.plot(val_acc, label='Validation Accuracy')\n",
    "plt.plot(train_loss, label='Training Loss')\n",
    "plt.plot(val_loss, label='Validation Loss')\n",
    "plt.legend()\n",
    "plt.title('Training and Validation Metrics')\n",
    "plt.xlabel('Epoch')\n",
    "plt.ylabel('Accuracy/Loss')\n",
    "plt.show()"
   ]
  },
  {
   "cell_type": "markdown",
   "metadata": {},
   "source": [
    "## User Defined Model"
   ]
  },
  {
   "cell_type": "code",
   "execution_count": 14,
   "metadata": {
    "colab": {
     "base_uri": "https://localhost:8080/",
     "height": 34
    },
    "colab_type": "code",
    "id": "kLbMjKaGEDSX",
    "outputId": "960a05c1-13f1-44d1-c41b-4f37e6798160"
   },
   "outputs": [],
   "source": [
    "import numpy as np\n",
    "import matplotlib.pyplot as plt\n",
    "import keras\n",
    "from keras.layers import *\n",
    "from keras.models import *\n",
    "from keras.preprocessing import image"
   ]
  },
  {
   "cell_type": "code",
   "execution_count": 15,
   "metadata": {
    "colab": {},
    "colab_type": "code",
    "id": "nMcRnjckES5E"
   },
   "outputs": [],
   "source": [
    "model = Sequential()\n",
    "model.add(Conv2D(32,kernel_size=(3,3),activation=\"relu\",input_shape=(224,224,3)))\n",
    "\n",
    "model.add(Conv2D(64,(3,3),activation=\"relu\"))\n",
    "model.add(MaxPooling2D(pool_size = (2,2)))\n",
    "model.add(Dropout(0.25))\n",
    "\n",
    "model.add(Conv2D(64,(3,3),activation=\"relu\"))\n",
    "model.add(MaxPooling2D(pool_size=(2,2)))\n",
    "model.add(Dropout(0.25))\n",
    "\n",
    "model.add(Conv2D(128,(3,3),activation=\"relu\"))\n",
    "model.add(MaxPooling2D(pool_size=(2,2)))\n",
    "model.add(Dropout(0.25))\n",
    "\n",
    "model.add(Conv2D(128,(3,3),activation=\"relu\"))\n",
    "model.add(MaxPooling2D(pool_size=(2,2)))\n",
    "model.add(Dropout(0.25))\n",
    "\n",
    "model.add(Flatten())\n",
    "model.add(Dense(64,activation=\"relu\"))\n",
    "model.add(Dropout(0.5))\n",
    "\n",
    "model.add(Dense(1,activation=\"sigmoid\"))\n",
    "\n",
    "model.compile(loss=keras.losses.binary_crossentropy,optimizer = \"adam\",metrics=[\"accuracy\"])\n"
   ]
  },
  {
   "cell_type": "code",
   "execution_count": 16,
   "metadata": {
    "colab": {
     "base_uri": "https://localhost:8080/",
     "height": 756
    },
    "colab_type": "code",
    "id": "k81GqhjJIDnE",
    "outputId": "13d932ee-48e9-46c5-abd0-1b340797c2f6",
    "scrolled": false
   },
   "outputs": [
    {
     "name": "stdout",
     "output_type": "stream",
     "text": [
      "Model: \"sequential\"\n",
      "_________________________________________________________________\n",
      " Layer (type)                Output Shape              Param #   \n",
      "=================================================================\n",
      " conv2d (Conv2D)             (None, 222, 222, 32)      896       \n",
      "                                                                 \n",
      " conv2d_1 (Conv2D)           (None, 220, 220, 64)      18496     \n",
      "                                                                 \n",
      " max_pooling2d (MaxPooling2D  (None, 110, 110, 64)     0         \n",
      " )                                                               \n",
      "                                                                 \n",
      " dropout (Dropout)           (None, 110, 110, 64)      0         \n",
      "                                                                 \n",
      " conv2d_2 (Conv2D)           (None, 108, 108, 64)      36928     \n",
      "                                                                 \n",
      " max_pooling2d_1 (MaxPooling  (None, 54, 54, 64)       0         \n",
      " 2D)                                                             \n",
      "                                                                 \n",
      " dropout_1 (Dropout)         (None, 54, 54, 64)        0         \n",
      "                                                                 \n",
      " conv2d_3 (Conv2D)           (None, 52, 52, 128)       73856     \n",
      "                                                                 \n",
      " max_pooling2d_2 (MaxPooling  (None, 26, 26, 128)      0         \n",
      " 2D)                                                             \n",
      "                                                                 \n",
      " dropout_2 (Dropout)         (None, 26, 26, 128)       0         \n",
      "                                                                 \n",
      " conv2d_4 (Conv2D)           (None, 24, 24, 128)       147584    \n",
      "                                                                 \n",
      " max_pooling2d_3 (MaxPooling  (None, 12, 12, 128)      0         \n",
      " 2D)                                                             \n",
      "                                                                 \n",
      " dropout_3 (Dropout)         (None, 12, 12, 128)       0         \n",
      "                                                                 \n",
      " flatten (Flatten)           (None, 18432)             0         \n",
      "                                                                 \n",
      " dense (Dense)               (None, 64)                1179712   \n",
      "                                                                 \n",
      " dropout_4 (Dropout)         (None, 64)                0         \n",
      "                                                                 \n",
      " dense_1 (Dense)             (None, 1)                 65        \n",
      "                                                                 \n",
      "=================================================================\n",
      "Total params: 1,457,537\n",
      "Trainable params: 1,457,537\n",
      "Non-trainable params: 0\n",
      "_________________________________________________________________\n"
     ]
    }
   ],
   "source": [
    "model.summary()"
   ]
  },
  {
   "cell_type": "markdown",
   "metadata": {
    "colab_type": "text",
    "id": "1UIwIT95JKDU"
   },
   "source": [
    "## 3.1 Train From Scratch"
   ]
  },
  {
   "cell_type": "code",
   "execution_count": 17,
   "metadata": {
    "colab": {},
    "colab_type": "code",
    "id": "lt8si8MKIaUM"
   },
   "outputs": [],
   "source": [
    "train_datagen = image.ImageDataGenerator(\n",
    "    rescale = 1./255,\n",
    "    shear_range = 0.2,\n",
    "    zoom_range = 0.2,\n",
    "    horizontal_flip = True,\n",
    ")\n",
    "test_dataset = image.ImageDataGenerator(rescale = 1./255)\n"
   ]
  },
  {
   "cell_type": "code",
   "execution_count": 18,
   "metadata": {
    "colab": {
     "base_uri": "https://localhost:8080/",
     "height": 34
    },
    "colab_type": "code",
    "id": "ikdogu6GJ06S",
    "outputId": "beb15015-2377-49a9-ac80-fbb371215754"
   },
   "outputs": [
    {
     "name": "stdout",
     "output_type": "stream",
     "text": [
      "Found 559 images belonging to 2 classes.\n"
     ]
    }
   ],
   "source": [
    "train_generator = train_datagen.flow_from_directory(\n",
    "    'Dataset/Train',\n",
    "    target_size = (224,224),\n",
    "    batch_size = 32,\n",
    "    class_mode = 'binary'\n",
    ")"
   ]
  },
  {
   "cell_type": "code",
   "execution_count": 19,
   "metadata": {
    "colab": {
     "base_uri": "https://localhost:8080/",
     "height": 34
    },
    "colab_type": "code",
    "id": "j37uuWU3KPM4",
    "outputId": "b804a6d6-6107-4cd2-e3cf-6a43787f2649"
   },
   "outputs": [
    {
     "data": {
      "text/plain": [
       "{'Covid': 0, 'Normal': 1}"
      ]
     },
     "execution_count": 19,
     "metadata": {},
     "output_type": "execute_result"
    }
   ],
   "source": [
    "train_generator.class_indices"
   ]
  },
  {
   "cell_type": "code",
   "execution_count": 20,
   "metadata": {
    "colab": {
     "base_uri": "https://localhost:8080/",
     "height": 34
    },
    "colab_type": "code",
    "id": "eln76WRWKYvB",
    "outputId": "4c782a1d-25af-4b55-b235-464b65b2b4a8"
   },
   "outputs": [
    {
     "name": "stdout",
     "output_type": "stream",
     "text": [
      "Found 60 images belonging to 2 classes.\n"
     ]
    }
   ],
   "source": [
    "validation_generator = test_dataset.flow_from_directory(\n",
    "    'Dataset/Val',\n",
    "    target_size = (224,224),\n",
    "    batch_size = 32,\n",
    "    class_mode = 'binary'\n",
    ")"
   ]
  },
  {
   "cell_type": "markdown",
   "metadata": {},
   "source": [
    "## 3.2 Fit The Model"
   ]
  },
  {
   "cell_type": "code",
   "execution_count": 21,
   "metadata": {
    "colab": {
     "base_uri": "https://localhost:8080/",
     "height": 369
    },
    "colab_type": "code",
    "id": "bJD_HDI3LOML",
    "outputId": "5d2a1fb5-aa88-44ca-ca27-bda380cf421e"
   },
   "outputs": [
    {
     "name": "stderr",
     "output_type": "stream",
     "text": [
      "C:\\Users\\gruha\\AppData\\Local\\Temp/ipykernel_21184/430255416.py:1: UserWarning: `Model.fit_generator` is deprecated and will be removed in a future version. Please use `Model.fit`, which supports generators.\n",
      "  hist = model.fit_generator(\n"
     ]
    },
    {
     "name": "stdout",
     "output_type": "stream",
     "text": [
      "Epoch 1/10\n",
      "8/8 [==============================] - 29s 2s/step - loss: 0.6749 - accuracy: 0.6109 - val_loss: 0.6956 - val_accuracy: 0.5000\n",
      "Epoch 2/10\n",
      "8/8 [==============================] - 20s 2s/step - loss: 0.6132 - accuracy: 0.6445 - val_loss: 0.6763 - val_accuracy: 0.5000\n",
      "Epoch 3/10\n",
      "8/8 [==============================] - 19s 2s/step - loss: 0.5747 - accuracy: 0.6289 - val_loss: 0.6094 - val_accuracy: 0.5000\n",
      "Epoch 4/10\n",
      "8/8 [==============================] - 18s 2s/step - loss: 0.4704 - accuracy: 0.6946 - val_loss: 0.5771 - val_accuracy: 0.5000\n",
      "Epoch 5/10\n",
      "8/8 [==============================] - 20s 2s/step - loss: 0.3967 - accuracy: 0.7734 - val_loss: 0.4343 - val_accuracy: 0.6833\n",
      "Epoch 6/10\n",
      "8/8 [==============================] - 19s 2s/step - loss: 0.4044 - accuracy: 0.8398 - val_loss: 0.4089 - val_accuracy: 0.7333\n",
      "Epoch 7/10\n",
      "8/8 [==============================] - 19s 2s/step - loss: 0.3552 - accuracy: 0.8516 - val_loss: 0.4089 - val_accuracy: 0.7333\n",
      "Epoch 8/10\n",
      "8/8 [==============================] - 20s 2s/step - loss: 0.3520 - accuracy: 0.8633 - val_loss: 0.3791 - val_accuracy: 0.9000\n",
      "Epoch 9/10\n",
      "8/8 [==============================] - 20s 2s/step - loss: 0.3344 - accuracy: 0.9247 - val_loss: 0.3889 - val_accuracy: 0.8500\n",
      "Epoch 10/10\n",
      "8/8 [==============================] - 21s 3s/step - loss: 0.2846 - accuracy: 0.9414 - val_loss: 0.2805 - val_accuracy: 0.9833\n"
     ]
    }
   ],
   "source": [
    "hist = model.fit_generator(\n",
    "    train_generator,\n",
    "    steps_per_epoch = 8,\n",
    "    epochs = 10,\n",
    "    validation_data = validation_generator,\n",
    "    validation_steps = 2\n",
    ")"
   ]
  },
  {
   "cell_type": "markdown",
   "metadata": {
    "colab_type": "text",
    "id": "F109fnZmV42P"
   },
   "source": [
    "#### *Loss is very less and accuracy is on point*"
   ]
  },
  {
   "cell_type": "code",
   "execution_count": 22,
   "metadata": {
    "colab": {},
    "colab_type": "code",
    "id": "xGcBDThIL-p8"
   },
   "outputs": [],
   "source": [
    "model.save(\"Detection_Covid_19.h5\")"
   ]
  },
  {
   "cell_type": "code",
   "execution_count": 23,
   "metadata": {
    "colab": {
     "base_uri": "https://localhost:8080/",
     "height": 34
    },
    "colab_type": "code",
    "id": "qEfEw0JgVhyB",
    "outputId": "0d119926-68d5-4a20-acee-71d06dcdffa4"
   },
   "outputs": [
    {
     "name": "stderr",
     "output_type": "stream",
     "text": [
      "C:\\Users\\gruha\\AppData\\Local\\Temp/ipykernel_21184/326654268.py:1: UserWarning: `Model.evaluate_generator` is deprecated and will be removed in a future version. Please use `Model.evaluate`, which supports generators.\n",
      "  model.evaluate_generator(train_generator)\n"
     ]
    },
    {
     "data": {
      "text/plain": [
       "[0.2597852349281311, 0.9534883499145508]"
      ]
     },
     "execution_count": 23,
     "metadata": {},
     "output_type": "execute_result"
    }
   ],
   "source": [
    "model.evaluate_generator(train_generator)"
   ]
  },
  {
   "cell_type": "code",
   "execution_count": 24,
   "metadata": {
    "colab": {
     "base_uri": "https://localhost:8080/",
     "height": 34
    },
    "colab_type": "code",
    "id": "i5l_dGt6VmzI",
    "outputId": "e3d0412e-c528-4395-ed92-589289a73445"
   },
   "outputs": [
    {
     "name": "stderr",
     "output_type": "stream",
     "text": [
      "C:\\Users\\gruha\\AppData\\Local\\Temp/ipykernel_21184/3378472596.py:1: UserWarning: `Model.evaluate_generator` is deprecated and will be removed in a future version. Please use `Model.evaluate`, which supports generators.\n",
      "  model.evaluate_generator(validation_generator)\n"
     ]
    },
    {
     "data": {
      "text/plain": [
       "[0.28046825528144836, 0.9833333492279053]"
      ]
     },
     "execution_count": 24,
     "metadata": {},
     "output_type": "execute_result"
    }
   ],
   "source": [
    "model.evaluate_generator(validation_generator)"
   ]
  },
  {
   "cell_type": "markdown",
   "metadata": {
    "colab_type": "text",
    "id": "BPVdV0CGV_Tp"
   },
   "source": [
    "## 3.3 Test Images"
   ]
  },
  {
   "cell_type": "code",
   "execution_count": 25,
   "metadata": {
    "colab": {},
    "colab_type": "code",
    "id": "WpINfswbVyM_"
   },
   "outputs": [],
   "source": [
    "model = load_model(\"Detection_Covid_19.h5\")"
   ]
  },
  {
   "cell_type": "code",
   "execution_count": 26,
   "metadata": {
    "colab": {},
    "colab_type": "code",
    "id": "EqZ6D07_WRNE"
   },
   "outputs": [],
   "source": [
    "import os"
   ]
  },
  {
   "cell_type": "code",
   "execution_count": 27,
   "metadata": {
    "colab": {
     "base_uri": "https://localhost:8080/",
     "height": 34
    },
    "colab_type": "code",
    "id": "RgtgamSQWUZj",
    "outputId": "a644c086-0ba5-4ee5-f38d-c85341a05bfa"
   },
   "outputs": [
    {
     "data": {
      "text/plain": [
       "{'Covid': 0, 'Normal': 1}"
      ]
     },
     "execution_count": 27,
     "metadata": {},
     "output_type": "execute_result"
    }
   ],
   "source": [
    "train_generator.class_indices"
   ]
  },
  {
   "cell_type": "markdown",
   "metadata": {},
   "source": [
    "#### Confusion Matrix"
   ]
  },
  {
   "cell_type": "code",
   "execution_count": 28,
   "metadata": {
    "colab": {},
    "colab_type": "code",
    "id": "8WtXLdRLWXed"
   },
   "outputs": [],
   "source": [
    "y_actual = []\n",
    "y_test = []"
   ]
  },
  {
   "cell_type": "code",
   "execution_count": 30,
   "metadata": {
    "colab": {},
    "colab_type": "code",
    "id": "WW1UC4qrWacp"
   },
   "outputs": [],
   "source": [
    "for i in os.listdir(\"./Dataset/Val/Normal\"):\n",
    "    img = image.load_img(\"./Dataset/Val/Normal/\"+i,target_size=(224,224))\n",
    "    img = image.img_to_array(img)\n",
    "    img = np.expand_dims(img,axis=0)\n",
    "    \n",
    "    # p = model.predict_classes(img)\n",
    "    predict_x=model.predict(img) \n",
    "    classes_x=np.argmax(predict_x,axis=1)\n",
    "    \n",
    "    y_test.append(predict_x[0,0])\n",
    "    y_actual.append(1)"
   ]
  },
  {
   "cell_type": "code",
   "execution_count": 33,
   "metadata": {
    "colab": {},
    "colab_type": "code",
    "id": "XwqD0RAKW5ck"
   },
   "outputs": [],
   "source": [
    "for i in os.listdir(\"./Dataset/Val/Covid\"):\n",
    "    img = image.load_img(\"./Dataset/Val/Covid/\"+i,target_size=(224,224))\n",
    "    img = image.img_to_array(img)\n",
    "    img = np.expand_dims(img,axis=0)\n",
    "\n",
    "    # p = model.predict_classes(img)\n",
    "    predict_x=model.predict(img) \n",
    "    classes_x=np.argmax(predict_x,axis=1)\n",
    "    \n",
    "    y_test.append(predict_x[0,0])\n",
    "    y_actual.append(0)"
   ]
  },
  {
   "cell_type": "code",
   "execution_count": 42,
   "metadata": {
    "colab": {},
    "colab_type": "code",
    "id": "5NuoneYpXEd7"
   },
   "outputs": [],
   "source": [
    "y_actual = np.array(y_actual)\n",
    "y_test = np.array(y_test.round())"
   ]
  },
  {
   "cell_type": "code",
   "execution_count": 43,
   "metadata": {
    "colab": {},
    "colab_type": "code",
    "id": "nv58xeJfXKq9"
   },
   "outputs": [],
   "source": [
    "from sklearn.metrics import confusion_matrix"
   ]
  },
  {
   "cell_type": "code",
   "execution_count": 44,
   "metadata": {
    "colab": {},
    "colab_type": "code",
    "id": "BlRsMa76XQkh"
   },
   "outputs": [],
   "source": [
    "cm = confusion_matrix(y_actual,y_test)"
   ]
  },
  {
   "cell_type": "code",
   "execution_count": 45,
   "metadata": {
    "colab": {},
    "colab_type": "code",
    "id": "FliAEEsVXWac"
   },
   "outputs": [],
   "source": [
    "import seaborn as sns"
   ]
  },
  {
   "cell_type": "code",
   "execution_count": 46,
   "metadata": {
    "colab": {
     "base_uri": "https://localhost:8080/",
     "height": 286
    },
    "colab_type": "code",
    "id": "Ww0pt8kKXaCE",
    "outputId": "3ad9e00d-8810-47cc-bf93-749710ab8851",
    "scrolled": true
   },
   "outputs": [
    {
     "data": {
      "text/plain": [
       "<AxesSubplot:>"
      ]
     },
     "execution_count": 46,
     "metadata": {},
     "output_type": "execute_result"
    },
    {
     "data": {
      "image/png": "[encoded data removed]",
      "text/plain": [
       "<Figure size 432x288 with 2 Axes>"
      ]
     },
     "metadata": {
      "needs_background": "light"
     },
     "output_type": "display_data"
    }
   ],
   "source": [
    "sns.heatmap(cm,cmap = \"plasma\" , annot=True)"
   ]
  },
  {
   "cell_type": "code",
   "execution_count": 48,
   "metadata": {},
   "outputs": [],
   "source": [
    "import itertools\n",
    "import numpy as np\n",
    "import matplotlib.pyplot as plt\n",
    "from sklearn.metrics import confusion_matrix\n",
    "class_names = [\"Covid-19\",\"Normal\"]\n",
    "\n",
    "def plot_confusion_matrix(cm, classes,\n",
    "                          normalize=False,\n",
    "                          title='Confusion matrix',\n",
    "                          cmap=\"plasma\"):\n",
    "    \"\"\"\n",
    "    This function prints and plots the confusion matrix.\n",
    "    Normalization can be applied by setting `normalize=True`.\n",
    "    \"\"\"\n",
    "    plt.imshow(cm, interpolation='nearest', cmap=cmap)\n",
    "    plt.title(title)\n",
    "    plt.colorbar()\n",
    "    tick_marks = np.arange(len(classes))\n",
    "    plt.xticks(tick_marks, classes, rotation=45)\n",
    "    plt.yticks(tick_marks, classes)\n",
    "\n",
    "    if normalize:\n",
    "        cm = cm.astype('float') / cm.sum(axis=1)[:, np.newaxis]\n",
    "        print(\"Normalized confusion matrix\")\n",
    "    else:\n",
    "        print('Confusion matrix, without normalization')\n",
    "\n",
    "    print(cm)\n",
    "\n",
    "    thresh = cm.max() / 2.\n",
    "    for i, j in itertools.product(range(cm.shape[0]), range(cm.shape[1])):\n",
    "        plt.text(j, i, cm[i, j],\n",
    "                 horizontalalignment=\"center\",\n",
    "                 color=\"white\" if cm[i, j] > thresh else \"black\")\n",
    "\n",
    "    plt.tight_layout()\n",
    "    plt.ylabel('True label')\n",
    "    plt.xlabel('Predicted label')"
   ]
  },
  {
   "cell_type": "code",
   "execution_count": 49,
   "metadata": {},
   "outputs": [
    {
     "name": "stdout",
     "output_type": "stream",
     "text": [
      "Confusion matrix, without normalization\n",
      "[[20 10]\n",
      " [ 0 30]]\n"
     ]
    },
    {
     "data": {
      "image/png": "[encoded data removed]",
      "text/plain": [
       "<Figure size 432x288 with 2 Axes>"
      ]
     },
     "metadata": {
      "needs_background": "light"
     },
     "output_type": "display_data"
    }
   ],
   "source": [
    "plt.figure()\n",
    "plot_confusion_matrix(cm, classes=class_names,\n",
    "                      title='Confusion matrix for Covid-19 Detection',cmap=\"plasma\")\n"
   ]
  },
  {
   "cell_type": "markdown",
   "metadata": {},
   "source": [
    "## 4. Model Evaluation"
   ]
  },
  {
   "cell_type": "code",
   "execution_count": 50,
   "metadata": {},
   "outputs": [
    {
     "name": "stdout",
     "output_type": "stream",
     "text": [
      "dict_keys(['loss', 'accuracy', 'val_loss', 'val_accuracy'])\n"
     ]
    }
   ],
   "source": [
    "history = hist\n",
    "print(history.history.keys())"
   ]
  },
  {
   "cell_type": "markdown",
   "metadata": {},
   "source": [
    "### **Summarize history for accuracy**"
   ]
  },
  {
   "cell_type": "code",
   "execution_count": 52,
   "metadata": {},
   "outputs": [
    {
     "data": {
      "image/png": "[encoded data removed]",
      "text/plain": [
       "<Figure size 432x288 with 1 Axes>"
      ]
     },
     "metadata": {
      "needs_background": "light"
     },
     "output_type": "display_data"
    }
   ],
   "source": [
    "plt.plot(history.history['accuracy'])\n",
    "plt.plot(history.history['val_accuracy'])\n",
    "plt.title('model accuracy')\n",
    "plt.ylabel('accuracy')\n",
    "plt.xlabel('epoch')\n",
    "plt.legend(['train', 'test'], loc='upper left')\n",
    "plt.show()"
   ]
  },
  {
   "cell_type": "markdown",
   "metadata": {},
   "source": [
    "### **Summarize history for loss**"
   ]
  },
  {
   "cell_type": "code",
   "execution_count": 53,
   "metadata": {},
   "outputs": [
    {
     "data": {
      "image/png": "[encoded data removed]",
      "text/plain": [
       "<Figure size 432x288 with 1 Axes>"
      ]
     },
     "metadata": {
      "needs_background": "light"
     },
     "output_type": "display_data"
    }
   ],
   "source": [
    "plt.plot(history.history['loss'])\n",
    "plt.plot(history.history['val_loss'])\n",
    "plt.title('model loss')\n",
    "plt.ylabel('loss')\n",
    "plt.xlabel('epoch')\n",
    "plt.legend(['train', 'test'], loc='upper left')\n",
    "plt.show()"
   ]
  },
  {
   "cell_type": "markdown",
   "metadata": {
    "colab_type": "text",
    "id": "9jXc3qtyc-iv"
   },
   "source": [
    "## 4.1 Predictions from X-Ray Images"
   ]
  },
  {
   "cell_type": "code",
   "execution_count": 55,
   "metadata": {
    "colab": {
     "base_uri": "https://localhost:8080/",
     "height": 452
    },
    "colab_type": "code",
    "id": "nnRGu4QHXhSZ",
    "outputId": "8d19ae21-ad78-4e33-d777-d8868d5d738b"
   },
   "outputs": [],
   "source": [
    "import cv2\n",
    "from keras.preprocessing import image"
   ]
  },
  {
   "cell_type": "code",
   "execution_count": 57,
   "metadata": {},
   "outputs": [],
   "source": [
    "xtest_image = image.load_img('Dataset/Prediction/ryct.2020200034.fig5-day7.jpeg', target_size = (224, 224))\n",
    "xtest_image = image.img_to_array(xtest_image)\n",
    "xtest_image = np.expand_dims(xtest_image, axis = 0)\n",
    "\n",
    "results=model.predict(xtest_image) "
   ]
  },
  {
   "cell_type": "code",
   "execution_count": 60,
   "metadata": {},
   "outputs": [
    {
     "data": {
      "text/plain": [
       "array([[0.]], dtype=float32)"
      ]
     },
     "execution_count": 60,
     "metadata": {},
     "output_type": "execute_result"
    }
   ],
   "source": [
    "results"
   ]
  },
  {
   "cell_type": "code",
   "execution_count": 58,
   "metadata": {
    "scrolled": true
   },
   "outputs": [
    {
     "name": "stdout",
     "output_type": "stream",
     "text": [
      "This Xray Image is of positive covid-19 patient\n"
     ]
    },
    {
     "data": {
      "text/plain": [
       "<matplotlib.image.AxesImage at 0x1ad9507a580>"
      ]
     },
     "execution_count": 58,
     "metadata": {},
     "output_type": "execute_result"
    },
    {
     "data": {
      "image/png": "[encoded data removed]",
      "text/plain": [
       "<Figure size 432x288 with 1 Axes>"
      ]
     },
     "metadata": {
      "needs_background": "light"
     },
     "output_type": "display_data"
    }
   ],
   "source": [
    "# training_set.class_indices\n",
    "imggg = cv2.imread('Dataset/Prediction/ryct.2020200034.fig5-day7.jpeg')\n",
    "print(\"This Xray Image is of positive covid-19 patient\")\n",
    "imggg = np.array(imggg)\n",
    "imggg = cv2.resize(imggg,(400,400))\n",
    "plt.imshow(imggg)"
   ]
  },
  {
   "cell_type": "code",
   "execution_count": 59,
   "metadata": {},
   "outputs": [
    {
     "name": "stdout",
     "output_type": "stream",
     "text": [
      "Prediction Of Our Model :  Positive For Covid-19\n"
     ]
    }
   ],
   "source": [
    "if results[0][0] == 0:\n",
    "    prediction = 'Positive For Covid-19'\n",
    "else:\n",
    "    prediction = 'Negative for Covid-19'\n",
    "print(\"Prediction Of Our Model : \",prediction)"
   ]
  },
  {
   "cell_type": "code",
   "execution_count": null,
   "metadata": {},
   "outputs": [],
   "source": []
  },
  {
   "cell_type": "code",
   "execution_count": 62,
   "metadata": {
    "colab": {
     "base_uri": "https://localhost:8080/",
     "height": 452
    },
    "colab_type": "code",
    "id": "NWXNaZpWZue6",
    "outputId": "a04a473a-1553-48d6-c301-1f1c1477647f"
   },
   "outputs": [],
   "source": [
    "xtest_image = image.load_img('Dataset/Prediction/NORMAL2-IM-0354-0001.jpeg', target_size = (224, 224))\n",
    "xtest_image = image.img_to_array(xtest_image)\n",
    "xtest_image = np.expand_dims(xtest_image, axis = 0)\n",
    "results=model.predict(xtest_image) "
   ]
  },
  {
   "cell_type": "code",
   "execution_count": 66,
   "metadata": {},
   "outputs": [
    {
     "data": {
      "text/plain": [
       "array([[1.]], dtype=float32)"
      ]
     },
     "execution_count": 66,
     "metadata": {},
     "output_type": "execute_result"
    }
   ],
   "source": [
    "results"
   ]
  },
  {
   "cell_type": "code",
   "execution_count": 63,
   "metadata": {},
   "outputs": [
    {
     "name": "stdout",
     "output_type": "stream",
     "text": [
      "This Xray Image is of Negative covid-19 patient\n"
     ]
    }
   ],
   "source": [
    "# training_set.class_indices\n",
    "\n",
    "imggg = cv2.imread('Dataset/Prediction/NORMAL2-IM-0354-0001.jpeg')\n",
    "print(\"This Xray Image is of Negative covid-19 patient\")\n",
    "imggg = np.array(imggg)\n",
    "imggg = cv2.resize(imggg,(400,400))"
   ]
  },
  {
   "cell_type": "code",
   "execution_count": 64,
   "metadata": {},
   "outputs": [
    {
     "data": {
      "text/plain": [
       "<matplotlib.image.AxesImage at 0x1ad950e4790>"
      ]
     },
     "execution_count": 64,
     "metadata": {},
     "output_type": "execute_result"
    },
    {
     "data": {
      "image/png": "[encoded data removed]",
      "text/plain": [
       "<Figure size 432x288 with 1 Axes>"
      ]
     },
     "metadata": {
      "needs_background": "light"
     },
     "output_type": "display_data"
    }
   ],
   "source": [
    "plt.imshow(imggg)"
   ]
  },
  {
   "cell_type": "code",
   "execution_count": 65,
   "metadata": {},
   "outputs": [
    {
     "name": "stdout",
     "output_type": "stream",
     "text": [
      "Prediction Of Our Model :  Negative for Covid-19\n"
     ]
    }
   ],
   "source": [
    "if results[0][0] == 0:\n",
    "    prediction = 'Positive For Covid-19'\n",
    "else:\n",
    "    prediction = 'Negative for Covid-19'\n",
    "print(\"Prediction Of Our Model : \",prediction)"
   ]
  },
  {
   "cell_type": "code",
   "execution_count": null,
   "metadata": {},
   "outputs": [],
   "source": []
  }
 ],
 "metadata": {
  "accelerator": "GPU",
  "colab": {
   "collapsed_sections": [],
   "name": "Covid-19_Detection_on_XRAYimages.ipynb",
   "provenance": []
  },
  "kernelspec": {
   "display_name": "Python 3 (ipykernel)",
   "language": "python",
   "name": "python3"
  },
  "language_info": {
   "codemirror_mode": {
    "name": "ipython",
    "version": 3
   },
   "file_extension": ".py",
   "mimetype": "text/x-python",
   "name": "python",
   "nbconvert_exporter": "python",
   "pygments_lexer": "ipython3",
   "version": "3.9.7"
  }
 },
 "nbformat": 4,
 "nbformat_minor": 1
}
